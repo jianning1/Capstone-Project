{
 "cells": [
  {
   "cell_type": "code",
   "execution_count": null,
   "metadata": {},
   "outputs": [],
   "source": [
    "#conda install -c conda-forge spacy"
   ]
  },
  {
   "cell_type": "markdown",
   "metadata": {},
   "source": [
    "# Import and subset data"
   ]
  },
  {
   "cell_type": "code",
   "execution_count": 1,
   "metadata": {},
   "outputs": [],
   "source": [
    "import pandas as pd\n",
    "import matplotlib.pyplot as plt\n",
    "import seaborn as sns\n",
    "%matplotlib inline"
   ]
  },
  {
   "cell_type": "code",
   "execution_count": 2,
   "metadata": {},
   "outputs": [],
   "source": [
    "mydata = pd.read_csv('C:/Users/Janin/Downloads/CKME136/Full-Economic-News-DFE.csv', encoding = \"ISO-8859-1\")"
   ]
  },
  {
   "cell_type": "code",
   "execution_count": 3,
   "metadata": {},
   "outputs": [
    {
     "data": {
      "text/html": [
       "<div>\n",
       "<style scoped>\n",
       "    .dataframe tbody tr th:only-of-type {\n",
       "        vertical-align: middle;\n",
       "    }\n",
       "\n",
       "    .dataframe tbody tr th {\n",
       "        vertical-align: top;\n",
       "    }\n",
       "\n",
       "    .dataframe thead th {\n",
       "        text-align: right;\n",
       "    }\n",
       "</style>\n",
       "<table border=\"1\" class=\"dataframe\">\n",
       "  <thead>\n",
       "    <tr style=\"text-align: right;\">\n",
       "      <th></th>\n",
       "      <th>_unit_id</th>\n",
       "      <th>_golden</th>\n",
       "      <th>_unit_state</th>\n",
       "      <th>_trusted_judgments</th>\n",
       "      <th>_last_judgment_at</th>\n",
       "      <th>positivity</th>\n",
       "      <th>positivity:confidence</th>\n",
       "      <th>relevance</th>\n",
       "      <th>relevance:confidence</th>\n",
       "      <th>articleid</th>\n",
       "      <th>date</th>\n",
       "      <th>headline</th>\n",
       "      <th>positivity_gold</th>\n",
       "      <th>relevance_gold</th>\n",
       "      <th>text</th>\n",
       "    </tr>\n",
       "  </thead>\n",
       "  <tbody>\n",
       "    <tr>\n",
       "      <td>0</td>\n",
       "      <td>842613455</td>\n",
       "      <td>False</td>\n",
       "      <td>finalized</td>\n",
       "      <td>3</td>\n",
       "      <td>12/5/15 17:48</td>\n",
       "      <td>3.0</td>\n",
       "      <td>0.6400</td>\n",
       "      <td>yes</td>\n",
       "      <td>0.640</td>\n",
       "      <td>wsj_398217788</td>\n",
       "      <td>8/14/91</td>\n",
       "      <td>Yields on CDs Fell in the Latest Week</td>\n",
       "      <td>NaN</td>\n",
       "      <td>NaN</td>\n",
       "      <td>NEW YORK -- Yields on most certificates of dep...</td>\n",
       "    </tr>\n",
       "    <tr>\n",
       "      <td>1</td>\n",
       "      <td>842613456</td>\n",
       "      <td>False</td>\n",
       "      <td>finalized</td>\n",
       "      <td>3</td>\n",
       "      <td>12/5/15 16:54</td>\n",
       "      <td>NaN</td>\n",
       "      <td>NaN</td>\n",
       "      <td>no</td>\n",
       "      <td>1.000</td>\n",
       "      <td>wsj_399019502</td>\n",
       "      <td>8/21/07</td>\n",
       "      <td>The Morning Brief: White House Seeks to Limit ...</td>\n",
       "      <td>NaN</td>\n",
       "      <td>NaN</td>\n",
       "      <td>The Wall Street Journal Online&lt;/br&gt;&lt;/br&gt;The Mo...</td>\n",
       "    </tr>\n",
       "    <tr>\n",
       "      <td>2</td>\n",
       "      <td>842613457</td>\n",
       "      <td>False</td>\n",
       "      <td>finalized</td>\n",
       "      <td>3</td>\n",
       "      <td>12/5/15 1:59</td>\n",
       "      <td>NaN</td>\n",
       "      <td>NaN</td>\n",
       "      <td>no</td>\n",
       "      <td>1.000</td>\n",
       "      <td>wsj_398284048</td>\n",
       "      <td>11/14/91</td>\n",
       "      <td>Banking Bill Negotiators Set Compromise --- Pl...</td>\n",
       "      <td>NaN</td>\n",
       "      <td>NaN</td>\n",
       "      <td>WASHINGTON -- In an effort to achieve banking ...</td>\n",
       "    </tr>\n",
       "    <tr>\n",
       "      <td>3</td>\n",
       "      <td>842613458</td>\n",
       "      <td>False</td>\n",
       "      <td>finalized</td>\n",
       "      <td>3</td>\n",
       "      <td>12/5/15 2:19</td>\n",
       "      <td>NaN</td>\n",
       "      <td>0.0000</td>\n",
       "      <td>no</td>\n",
       "      <td>0.675</td>\n",
       "      <td>wsj_397959018</td>\n",
       "      <td>6/16/86</td>\n",
       "      <td>Manager's Journal: Sniffing Out Drug Abusers I...</td>\n",
       "      <td>NaN</td>\n",
       "      <td>NaN</td>\n",
       "      <td>The statistics on the enormous costs of employ...</td>\n",
       "    </tr>\n",
       "    <tr>\n",
       "      <td>4</td>\n",
       "      <td>842613459</td>\n",
       "      <td>False</td>\n",
       "      <td>finalized</td>\n",
       "      <td>3</td>\n",
       "      <td>12/5/15 17:48</td>\n",
       "      <td>3.0</td>\n",
       "      <td>0.3257</td>\n",
       "      <td>yes</td>\n",
       "      <td>0.640</td>\n",
       "      <td>wsj_398838054</td>\n",
       "      <td>10/4/02</td>\n",
       "      <td>Currency Trading: Dollar Remains in Tight Rang...</td>\n",
       "      <td>NaN</td>\n",
       "      <td>NaN</td>\n",
       "      <td>NEW YORK -- Indecision marked the dollar's ton...</td>\n",
       "    </tr>\n",
       "  </tbody>\n",
       "</table>\n",
       "</div>"
      ],
      "text/plain": [
       "    _unit_id  _golden _unit_state  _trusted_judgments _last_judgment_at  \\\n",
       "0  842613455    False   finalized                   3     12/5/15 17:48   \n",
       "1  842613456    False   finalized                   3     12/5/15 16:54   \n",
       "2  842613457    False   finalized                   3      12/5/15 1:59   \n",
       "3  842613458    False   finalized                   3      12/5/15 2:19   \n",
       "4  842613459    False   finalized                   3     12/5/15 17:48   \n",
       "\n",
       "   positivity  positivity:confidence relevance  relevance:confidence  \\\n",
       "0         3.0                 0.6400       yes                 0.640   \n",
       "1         NaN                    NaN        no                 1.000   \n",
       "2         NaN                    NaN        no                 1.000   \n",
       "3         NaN                 0.0000        no                 0.675   \n",
       "4         3.0                 0.3257       yes                 0.640   \n",
       "\n",
       "       articleid      date                                           headline  \\\n",
       "0  wsj_398217788   8/14/91              Yields on CDs Fell in the Latest Week   \n",
       "1  wsj_399019502   8/21/07  The Morning Brief: White House Seeks to Limit ...   \n",
       "2  wsj_398284048  11/14/91  Banking Bill Negotiators Set Compromise --- Pl...   \n",
       "3  wsj_397959018   6/16/86  Manager's Journal: Sniffing Out Drug Abusers I...   \n",
       "4  wsj_398838054   10/4/02  Currency Trading: Dollar Remains in Tight Rang...   \n",
       "\n",
       "   positivity_gold  relevance_gold  \\\n",
       "0              NaN             NaN   \n",
       "1              NaN             NaN   \n",
       "2              NaN             NaN   \n",
       "3              NaN             NaN   \n",
       "4              NaN             NaN   \n",
       "\n",
       "                                                text  \n",
       "0  NEW YORK -- Yields on most certificates of dep...  \n",
       "1  The Wall Street Journal Online</br></br>The Mo...  \n",
       "2  WASHINGTON -- In an effort to achieve banking ...  \n",
       "3  The statistics on the enormous costs of employ...  \n",
       "4  NEW YORK -- Indecision marked the dollar's ton...  "
      ]
     },
     "execution_count": 3,
     "metadata": {},
     "output_type": "execute_result"
    }
   ],
   "source": [
    "mydata.head()"
   ]
  },
  {
   "cell_type": "code",
   "execution_count": 4,
   "metadata": {},
   "outputs": [
    {
     "data": {
      "text/html": [
       "<div>\n",
       "<style scoped>\n",
       "    .dataframe tbody tr th:only-of-type {\n",
       "        vertical-align: middle;\n",
       "    }\n",
       "\n",
       "    .dataframe tbody tr th {\n",
       "        vertical-align: top;\n",
       "    }\n",
       "\n",
       "    .dataframe thead th {\n",
       "        text-align: right;\n",
       "    }\n",
       "</style>\n",
       "<table border=\"1\" class=\"dataframe\">\n",
       "  <thead>\n",
       "    <tr style=\"text-align: right;\">\n",
       "      <th></th>\n",
       "      <th>_unit_id</th>\n",
       "      <th>positivity</th>\n",
       "      <th>relevance</th>\n",
       "      <th>date</th>\n",
       "      <th>headline</th>\n",
       "      <th>text</th>\n",
       "    </tr>\n",
       "  </thead>\n",
       "  <tbody>\n",
       "    <tr>\n",
       "      <td>0</td>\n",
       "      <td>842613455</td>\n",
       "      <td>3.0</td>\n",
       "      <td>yes</td>\n",
       "      <td>8/14/91</td>\n",
       "      <td>Yields on CDs Fell in the Latest Week</td>\n",
       "      <td>NEW YORK -- Yields on most certificates of dep...</td>\n",
       "    </tr>\n",
       "    <tr>\n",
       "      <td>1</td>\n",
       "      <td>842613456</td>\n",
       "      <td>NaN</td>\n",
       "      <td>no</td>\n",
       "      <td>8/21/07</td>\n",
       "      <td>The Morning Brief: White House Seeks to Limit ...</td>\n",
       "      <td>The Wall Street Journal Online&lt;/br&gt;&lt;/br&gt;The Mo...</td>\n",
       "    </tr>\n",
       "    <tr>\n",
       "      <td>2</td>\n",
       "      <td>842613457</td>\n",
       "      <td>NaN</td>\n",
       "      <td>no</td>\n",
       "      <td>11/14/91</td>\n",
       "      <td>Banking Bill Negotiators Set Compromise --- Pl...</td>\n",
       "      <td>WASHINGTON -- In an effort to achieve banking ...</td>\n",
       "    </tr>\n",
       "    <tr>\n",
       "      <td>3</td>\n",
       "      <td>842613458</td>\n",
       "      <td>NaN</td>\n",
       "      <td>no</td>\n",
       "      <td>6/16/86</td>\n",
       "      <td>Manager's Journal: Sniffing Out Drug Abusers I...</td>\n",
       "      <td>The statistics on the enormous costs of employ...</td>\n",
       "    </tr>\n",
       "    <tr>\n",
       "      <td>4</td>\n",
       "      <td>842613459</td>\n",
       "      <td>3.0</td>\n",
       "      <td>yes</td>\n",
       "      <td>10/4/02</td>\n",
       "      <td>Currency Trading: Dollar Remains in Tight Rang...</td>\n",
       "      <td>NEW YORK -- Indecision marked the dollar's ton...</td>\n",
       "    </tr>\n",
       "  </tbody>\n",
       "</table>\n",
       "</div>"
      ],
      "text/plain": [
       "    _unit_id  positivity relevance      date  \\\n",
       "0  842613455         3.0       yes   8/14/91   \n",
       "1  842613456         NaN        no   8/21/07   \n",
       "2  842613457         NaN        no  11/14/91   \n",
       "3  842613458         NaN        no   6/16/86   \n",
       "4  842613459         3.0       yes   10/4/02   \n",
       "\n",
       "                                            headline  \\\n",
       "0              Yields on CDs Fell in the Latest Week   \n",
       "1  The Morning Brief: White House Seeks to Limit ...   \n",
       "2  Banking Bill Negotiators Set Compromise --- Pl...   \n",
       "3  Manager's Journal: Sniffing Out Drug Abusers I...   \n",
       "4  Currency Trading: Dollar Remains in Tight Rang...   \n",
       "\n",
       "                                                text  \n",
       "0  NEW YORK -- Yields on most certificates of dep...  \n",
       "1  The Wall Street Journal Online</br></br>The Mo...  \n",
       "2  WASHINGTON -- In an effort to achieve banking ...  \n",
       "3  The statistics on the enormous costs of employ...  \n",
       "4  NEW YORK -- Indecision marked the dollar's ton...  "
      ]
     },
     "execution_count": 4,
     "metadata": {},
     "output_type": "execute_result"
    }
   ],
   "source": [
    "data = mydata[['_unit_id','positivity', 'relevance', 'date','headline', 'text']]\n",
    "\n",
    "data.head()"
   ]
  },
  {
   "cell_type": "markdown",
   "metadata": {},
   "source": [
    "# Exploratory Data Analysis"
   ]
  },
  {
   "cell_type": "code",
   "execution_count": 5,
   "metadata": {},
   "outputs": [
    {
     "data": {
      "text/html": [
       "<div>\n",
       "<style scoped>\n",
       "    .dataframe tbody tr th:only-of-type {\n",
       "        vertical-align: middle;\n",
       "    }\n",
       "\n",
       "    .dataframe tbody tr th {\n",
       "        vertical-align: top;\n",
       "    }\n",
       "\n",
       "    .dataframe thead th {\n",
       "        text-align: right;\n",
       "    }\n",
       "</style>\n",
       "<table border=\"1\" class=\"dataframe\">\n",
       "  <thead>\n",
       "    <tr style=\"text-align: right;\">\n",
       "      <th></th>\n",
       "      <th>_unit_id</th>\n",
       "      <th>positivity</th>\n",
       "      <th>date</th>\n",
       "      <th>headline</th>\n",
       "      <th>text</th>\n",
       "    </tr>\n",
       "    <tr>\n",
       "      <th>relevance</th>\n",
       "      <th></th>\n",
       "      <th></th>\n",
       "      <th></th>\n",
       "      <th></th>\n",
       "      <th></th>\n",
       "    </tr>\n",
       "  </thead>\n",
       "  <tbody>\n",
       "    <tr>\n",
       "      <td>no</td>\n",
       "      <td>6571</td>\n",
       "      <td>0</td>\n",
       "      <td>6571</td>\n",
       "      <td>6571</td>\n",
       "      <td>6571</td>\n",
       "    </tr>\n",
       "    <tr>\n",
       "      <td>not sure</td>\n",
       "      <td>9</td>\n",
       "      <td>0</td>\n",
       "      <td>9</td>\n",
       "      <td>9</td>\n",
       "      <td>9</td>\n",
       "    </tr>\n",
       "    <tr>\n",
       "      <td>yes</td>\n",
       "      <td>1420</td>\n",
       "      <td>1420</td>\n",
       "      <td>1420</td>\n",
       "      <td>1420</td>\n",
       "      <td>1420</td>\n",
       "    </tr>\n",
       "  </tbody>\n",
       "</table>\n",
       "</div>"
      ],
      "text/plain": [
       "           _unit_id  positivity  date  headline  text\n",
       "relevance                                            \n",
       "no             6571           0  6571      6571  6571\n",
       "not sure          9           0     9         9     9\n",
       "yes            1420        1420  1420      1420  1420"
      ]
     },
     "execution_count": 5,
     "metadata": {},
     "output_type": "execute_result"
    }
   ],
   "source": [
    "data.groupby('relevance').count()"
   ]
  },
  {
   "cell_type": "code",
   "execution_count": 6,
   "metadata": {},
   "outputs": [
    {
     "data": {
      "text/html": [
       "<div>\n",
       "<style scoped>\n",
       "    .dataframe tbody tr th:only-of-type {\n",
       "        vertical-align: middle;\n",
       "    }\n",
       "\n",
       "    .dataframe tbody tr th {\n",
       "        vertical-align: top;\n",
       "    }\n",
       "\n",
       "    .dataframe thead th {\n",
       "        text-align: right;\n",
       "    }\n",
       "</style>\n",
       "<table border=\"1\" class=\"dataframe\">\n",
       "  <thead>\n",
       "    <tr style=\"text-align: right;\">\n",
       "      <th></th>\n",
       "      <th>_unit_id</th>\n",
       "      <th>relevance</th>\n",
       "      <th>date</th>\n",
       "      <th>headline</th>\n",
       "      <th>text</th>\n",
       "    </tr>\n",
       "    <tr>\n",
       "      <th>positivity</th>\n",
       "      <th></th>\n",
       "      <th></th>\n",
       "      <th></th>\n",
       "      <th></th>\n",
       "      <th></th>\n",
       "    </tr>\n",
       "  </thead>\n",
       "  <tbody>\n",
       "    <tr>\n",
       "      <td>2.0</td>\n",
       "      <td>35</td>\n",
       "      <td>35</td>\n",
       "      <td>35</td>\n",
       "      <td>35</td>\n",
       "      <td>35</td>\n",
       "    </tr>\n",
       "    <tr>\n",
       "      <td>3.0</td>\n",
       "      <td>343</td>\n",
       "      <td>343</td>\n",
       "      <td>343</td>\n",
       "      <td>343</td>\n",
       "      <td>343</td>\n",
       "    </tr>\n",
       "    <tr>\n",
       "      <td>4.0</td>\n",
       "      <td>255</td>\n",
       "      <td>255</td>\n",
       "      <td>255</td>\n",
       "      <td>255</td>\n",
       "      <td>255</td>\n",
       "    </tr>\n",
       "    <tr>\n",
       "      <td>5.0</td>\n",
       "      <td>205</td>\n",
       "      <td>205</td>\n",
       "      <td>205</td>\n",
       "      <td>205</td>\n",
       "      <td>205</td>\n",
       "    </tr>\n",
       "    <tr>\n",
       "      <td>6.0</td>\n",
       "      <td>214</td>\n",
       "      <td>214</td>\n",
       "      <td>214</td>\n",
       "      <td>214</td>\n",
       "      <td>214</td>\n",
       "    </tr>\n",
       "    <tr>\n",
       "      <td>7.0</td>\n",
       "      <td>295</td>\n",
       "      <td>295</td>\n",
       "      <td>295</td>\n",
       "      <td>295</td>\n",
       "      <td>295</td>\n",
       "    </tr>\n",
       "    <tr>\n",
       "      <td>8.0</td>\n",
       "      <td>71</td>\n",
       "      <td>71</td>\n",
       "      <td>71</td>\n",
       "      <td>71</td>\n",
       "      <td>71</td>\n",
       "    </tr>\n",
       "    <tr>\n",
       "      <td>9.0</td>\n",
       "      <td>2</td>\n",
       "      <td>2</td>\n",
       "      <td>2</td>\n",
       "      <td>2</td>\n",
       "      <td>2</td>\n",
       "    </tr>\n",
       "  </tbody>\n",
       "</table>\n",
       "</div>"
      ],
      "text/plain": [
       "            _unit_id  relevance  date  headline  text\n",
       "positivity                                           \n",
       "2.0               35         35    35        35    35\n",
       "3.0              343        343   343       343   343\n",
       "4.0              255        255   255       255   255\n",
       "5.0              205        205   205       205   205\n",
       "6.0              214        214   214       214   214\n",
       "7.0              295        295   295       295   295\n",
       "8.0               71         71    71        71    71\n",
       "9.0                2          2     2         2     2"
      ]
     },
     "execution_count": 6,
     "metadata": {},
     "output_type": "execute_result"
    }
   ],
   "source": [
    "data.groupby('positivity').count()"
   ]
  },
  {
   "cell_type": "code",
   "execution_count": 7,
   "metadata": {},
   "outputs": [
    {
     "data": {
      "text/plain": [
       "no          6571\n",
       "yes         1420\n",
       "not sure       9\n",
       "Name: relevance, dtype: int64"
      ]
     },
     "execution_count": 7,
     "metadata": {},
     "output_type": "execute_result"
    }
   ],
   "source": [
    "relevance = data['relevance'].value_counts()\n",
    "relevance\n",
    "# 6571 of news are irrelevant to US economy\n",
    "# 1420 of news are relevant to US economy\n",
    "# 9 of news are ambiguious data\n",
    "# imbalanced data"
   ]
  },
  {
   "cell_type": "markdown",
   "metadata": {},
   "source": [
    "# Pre-processing"
   ]
  },
  {
   "cell_type": "markdown",
   "metadata": {},
   "source": [
    "Remove ambiguious and irrelevant data"
   ]
  },
  {
   "cell_type": "code",
   "execution_count": 8,
   "metadata": {},
   "outputs": [],
   "source": [
    "data = data[data.relevance == 'yes']"
   ]
  },
  {
   "cell_type": "code",
   "execution_count": 9,
   "metadata": {},
   "outputs": [
    {
     "data": {
      "text/plain": [
       "3.0    343\n",
       "7.0    295\n",
       "4.0    255\n",
       "6.0    214\n",
       "5.0    205\n",
       "8.0     71\n",
       "2.0     35\n",
       "9.0      2\n",
       "Name: positivity, dtype: int64"
      ]
     },
     "execution_count": 9,
     "metadata": {},
     "output_type": "execute_result"
    }
   ],
   "source": [
    "positivity = data['positivity'].value_counts()\n",
    "positivity\n",
    "# positivity range from 1 to 9, with neutral represents that this article is not relevant to US economy"
   ]
  },
  {
   "cell_type": "code",
   "execution_count": 10,
   "metadata": {},
   "outputs": [
    {
     "name": "stdout",
     "output_type": "stream",
     "text": [
      "Headline of relevant news has 6 to 251 characters, 1 to 38 words.\n"
     ]
    }
   ],
   "source": [
    "# length of headline for relevant news\n",
    "headline_len_r = data[data['relevance']=='yes']['headline'].str.len()\n",
    "# number of words in headline for relevant news\n",
    "headline_word_counts_r = data[data['relevance']=='yes']['headline'].str.split().str.len()\n",
    "\n",
    "\n",
    "print('Headline of relevant news has {} to {} characters, {} to {} words.'.format(headline_len_r.min(),\n",
    "                                                                          headline_len_r.max(),\n",
    "                                                                          headline_word_counts_r.min(),\n",
    "                                                                          headline_word_counts_r.max()))\n"
   ]
  },
  {
   "cell_type": "code",
   "execution_count": 11,
   "metadata": {},
   "outputs": [
    {
     "data": {
      "text/plain": [
       "count    1420.000000\n",
       "mean       66.289437\n",
       "std        36.568721\n",
       "min         6.000000\n",
       "25%        38.000000\n",
       "50%        61.000000\n",
       "75%        89.000000\n",
       "max       251.000000\n",
       "Name: headline, dtype: float64"
      ]
     },
     "execution_count": 11,
     "metadata": {},
     "output_type": "execute_result"
    }
   ],
   "source": [
    "headline_len_r.describe()"
   ]
  },
  {
   "cell_type": "code",
   "execution_count": 12,
   "metadata": {},
   "outputs": [
    {
     "data": {
      "text/plain": [
       "count    1420.000000\n",
       "mean       10.791549\n",
       "std         5.991908\n",
       "min         1.000000\n",
       "25%         6.000000\n",
       "50%        10.000000\n",
       "75%        14.000000\n",
       "max        38.000000\n",
       "Name: headline, dtype: float64"
      ]
     },
     "execution_count": 12,
     "metadata": {},
     "output_type": "execute_result"
    }
   ],
   "source": [
    "headline_word_counts_r.describe()"
   ]
  },
  {
   "cell_type": "code",
   "execution_count": 15,
   "metadata": {},
   "outputs": [
    {
     "data": {
      "text/plain": [
       "Text(0.5, 1.0, 'number of words in headline for relevant news')"
      ]
     },
     "execution_count": 15,
     "metadata": {},
     "output_type": "execute_result"
    },
    {
     "data": {
      "image/png": "[encoded data removed]",
      "text/plain": [
       "<Figure size 864x360 with 2 Axes>"
      ]
     },
     "metadata": {
      "needs_background": "light"
     },
     "output_type": "display_data"
    }
   ],
   "source": [
    "fig, axes = plt.subplots(1, 2, figsize=(12, 5))\n",
    "sns.distplot(headline_len_r, ax = axes[0])\n",
    "axes[0].set_title('length of headline for relevant news')\n",
    "sns.distplot(headline_word_counts_r, ax = axes[1])\n",
    "axes[1].set_title('number of words in headline for relevant news')\n"
   ]
  },
  {
   "cell_type": "code",
   "execution_count": 16,
   "metadata": {},
   "outputs": [
    {
     "name": "stdout",
     "output_type": "stream",
     "text": [
      "Text of relevant news has 203 to 3987 characters, 20 to 615 words.\n"
     ]
    }
   ],
   "source": [
    "# length of text for relevant news\n",
    "text_len_r = data[data['relevance']=='yes']['text'].str.len()\n",
    "# number of words in text for relevant news\n",
    "text_word_counts_r = data[data['relevance']=='yes']['text'].str.split().str.len()\n",
    "\n",
    "\n",
    "print('Text of relevant news has {} to {} characters, {} to {} words.'.format(text_len_r.min(),\n",
    "                                                                          text_len_r.max(),\n",
    "                                                                          text_word_counts_r.min(),\n",
    "                                                                          text_word_counts_r.max()))\n"
   ]
  },
  {
   "cell_type": "code",
   "execution_count": 17,
   "metadata": {},
   "outputs": [
    {
     "data": {
      "text/plain": [
       "Text(0.5, 1.0, 'number of words in text for relevant news')"
      ]
     },
     "execution_count": 17,
     "metadata": {},
     "output_type": "execute_result"
    },
    {
     "data": {
      "image/png": "[encoded data removed]",
      "text/plain": [
       "<Figure size 1080x360 with 2 Axes>"
      ]
     },
     "metadata": {
      "needs_background": "light"
     },
     "output_type": "display_data"
    }
   ],
   "source": [
    "fig, axes = plt.subplots(1, 2, figsize=(15, 5))\n",
    "sns.distplot(text_len_r, ax = axes[0])\n",
    "axes[0].set_title('length of text for relevant news')\n",
    "sns.distplot(text_word_counts_r, ax = axes[1])\n",
    "axes[1].set_title('number of words in text for relevant news')\n"
   ]
  },
  {
   "cell_type": "markdown",
   "metadata": {},
   "source": [
    "## Normalization"
   ]
  },
  {
   "cell_type": "markdown",
   "metadata": {},
   "source": [
    "Using String library"
   ]
  },
  {
   "cell_type": "code",
   "execution_count": 18,
   "metadata": {},
   "outputs": [],
   "source": [
    "import string"
   ]
  },
  {
   "cell_type": "markdown",
   "metadata": {},
   "source": [
    "list of punctuation"
   ]
  },
  {
   "cell_type": "code",
   "execution_count": 19,
   "metadata": {},
   "outputs": [
    {
     "data": {
      "text/plain": [
       "'!\"#$%&\\'()*+,-./:;<=>?@[\\\\]^_`{|}~'"
      ]
     },
     "execution_count": 19,
     "metadata": {},
     "output_type": "execute_result"
    }
   ],
   "source": [
    "string.punctuation"
   ]
  },
  {
   "cell_type": "code",
   "execution_count": 20,
   "metadata": {},
   "outputs": [],
   "source": [
    "def rm_punc(contents):\n",
    "    no_punc = ''.join([x.lower() for x in contents if x not in string.punctuation])\n",
    "    return no_punc"
   ]
  },
  {
   "cell_type": "markdown",
   "metadata": {},
   "source": [
    "### Remove punctuation in headline"
   ]
  },
  {
   "cell_type": "code",
   "execution_count": 21,
   "metadata": {},
   "outputs": [],
   "source": [
    "data['headline_new'] = data['headline'].apply(rm_punc)"
   ]
  },
  {
   "cell_type": "markdown",
   "metadata": {},
   "source": [
    "### Remove </br> tags and punctuation in text "
   ]
  },
  {
   "cell_type": "code",
   "execution_count": 22,
   "metadata": {},
   "outputs": [],
   "source": [
    "data['text_new'] = [word.replace('</br>', '') for word in data['text']]\n",
    "data['text_new'] = data['text_new'].apply(rm_punc)\n"
   ]
  },
  {
   "cell_type": "code",
   "execution_count": 23,
   "metadata": {},
   "outputs": [
    {
     "data": {
      "text/html": [
       "<div>\n",
       "<style scoped>\n",
       "    .dataframe tbody tr th:only-of-type {\n",
       "        vertical-align: middle;\n",
       "    }\n",
       "\n",
       "    .dataframe tbody tr th {\n",
       "        vertical-align: top;\n",
       "    }\n",
       "\n",
       "    .dataframe thead th {\n",
       "        text-align: right;\n",
       "    }\n",
       "</style>\n",
       "<table border=\"1\" class=\"dataframe\">\n",
       "  <thead>\n",
       "    <tr style=\"text-align: right;\">\n",
       "      <th></th>\n",
       "      <th>_unit_id</th>\n",
       "      <th>positivity</th>\n",
       "      <th>relevance</th>\n",
       "      <th>date</th>\n",
       "      <th>headline</th>\n",
       "      <th>text</th>\n",
       "      <th>headline_new</th>\n",
       "      <th>text_new</th>\n",
       "    </tr>\n",
       "  </thead>\n",
       "  <tbody>\n",
       "    <tr>\n",
       "      <td>0</td>\n",
       "      <td>842613455</td>\n",
       "      <td>3.0</td>\n",
       "      <td>yes</td>\n",
       "      <td>8/14/91</td>\n",
       "      <td>Yields on CDs Fell in the Latest Week</td>\n",
       "      <td>NEW YORK -- Yields on most certificates of dep...</td>\n",
       "      <td>yields on cds fell in the latest week</td>\n",
       "      <td>new york  yields on most certificates of depos...</td>\n",
       "    </tr>\n",
       "    <tr>\n",
       "      <td>4</td>\n",
       "      <td>842613459</td>\n",
       "      <td>3.0</td>\n",
       "      <td>yes</td>\n",
       "      <td>10/4/02</td>\n",
       "      <td>Currency Trading: Dollar Remains in Tight Rang...</td>\n",
       "      <td>NEW YORK -- Indecision marked the dollar's ton...</td>\n",
       "      <td>currency trading dollar remains in tight range...</td>\n",
       "      <td>new york  indecision marked the dollars tone a...</td>\n",
       "    </tr>\n",
       "    <tr>\n",
       "      <td>5</td>\n",
       "      <td>842613460</td>\n",
       "      <td>3.0</td>\n",
       "      <td>yes</td>\n",
       "      <td>11/23/11</td>\n",
       "      <td>Stocks Fall Again; BofA, Alcoa Slide</td>\n",
       "      <td>Stocks declined, as investors weighed slower-t...</td>\n",
       "      <td>stocks fall again bofa alcoa slide</td>\n",
       "      <td>stocks declined as investors weighed slowertha...</td>\n",
       "    </tr>\n",
       "    <tr>\n",
       "      <td>9</td>\n",
       "      <td>842613464</td>\n",
       "      <td>4.0</td>\n",
       "      <td>yes</td>\n",
       "      <td>11/1/84</td>\n",
       "      <td>U.S. Dollar Falls Against Most Currencies; Dec...</td>\n",
       "      <td>The U.S. dollar declined against most major fo...</td>\n",
       "      <td>us dollar falls against most currencies declin...</td>\n",
       "      <td>the us dollar declined against most major fore...</td>\n",
       "    </tr>\n",
       "    <tr>\n",
       "      <td>12</td>\n",
       "      <td>842613467</td>\n",
       "      <td>4.0</td>\n",
       "      <td>yes</td>\n",
       "      <td>8/3/10</td>\n",
       "      <td>Defending Yourself Against Deflation</td>\n",
       "      <td>Author: James B. Stewart&lt;/br&gt;&lt;/br&gt;The dreaded ...</td>\n",
       "      <td>defending yourself against deflation</td>\n",
       "      <td>author james b stewartthe dreaded d word is ba...</td>\n",
       "    </tr>\n",
       "  </tbody>\n",
       "</table>\n",
       "</div>"
      ],
      "text/plain": [
       "     _unit_id  positivity relevance      date  \\\n",
       "0   842613455         3.0       yes   8/14/91   \n",
       "4   842613459         3.0       yes   10/4/02   \n",
       "5   842613460         3.0       yes  11/23/11   \n",
       "9   842613464         4.0       yes   11/1/84   \n",
       "12  842613467         4.0       yes    8/3/10   \n",
       "\n",
       "                                             headline  \\\n",
       "0               Yields on CDs Fell in the Latest Week   \n",
       "4   Currency Trading: Dollar Remains in Tight Rang...   \n",
       "5                Stocks Fall Again; BofA, Alcoa Slide   \n",
       "9   U.S. Dollar Falls Against Most Currencies; Dec...   \n",
       "12               Defending Yourself Against Deflation   \n",
       "\n",
       "                                                 text  \\\n",
       "0   NEW YORK -- Yields on most certificates of dep...   \n",
       "4   NEW YORK -- Indecision marked the dollar's ton...   \n",
       "5   Stocks declined, as investors weighed slower-t...   \n",
       "9   The U.S. dollar declined against most major fo...   \n",
       "12  Author: James B. Stewart</br></br>The dreaded ...   \n",
       "\n",
       "                                         headline_new  \\\n",
       "0               yields on cds fell in the latest week   \n",
       "4   currency trading dollar remains in tight range...   \n",
       "5                  stocks fall again bofa alcoa slide   \n",
       "9   us dollar falls against most currencies declin...   \n",
       "12               defending yourself against deflation   \n",
       "\n",
       "                                             text_new  \n",
       "0   new york  yields on most certificates of depos...  \n",
       "4   new york  indecision marked the dollars tone a...  \n",
       "5   stocks declined as investors weighed slowertha...  \n",
       "9   the us dollar declined against most major fore...  \n",
       "12  author james b stewartthe dreaded d word is ba...  "
      ]
     },
     "execution_count": 23,
     "metadata": {},
     "output_type": "execute_result"
    }
   ],
   "source": [
    "data.head(5)"
   ]
  },
  {
   "cell_type": "markdown",
   "metadata": {},
   "source": [
    "## Tokenization"
   ]
  },
  {
   "cell_type": "code",
   "execution_count": 24,
   "metadata": {},
   "outputs": [],
   "source": [
    "import spacy \n",
    "nlp = spacy.load('en_core_web_sm')"
   ]
  },
  {
   "cell_type": "code",
   "execution_count": 25,
   "metadata": {},
   "outputs": [],
   "source": [
    "data['headline_new'] = [nlp(x) for x in data['headline_new']]\n",
    "data['text_new'] = [nlp(x) for x in data['text_new']]"
   ]
  },
  {
   "cell_type": "code",
   "execution_count": 26,
   "metadata": {},
   "outputs": [
    {
     "data": {
      "text/html": [
       "<div>\n",
       "<style scoped>\n",
       "    .dataframe tbody tr th:only-of-type {\n",
       "        vertical-align: middle;\n",
       "    }\n",
       "\n",
       "    .dataframe tbody tr th {\n",
       "        vertical-align: top;\n",
       "    }\n",
       "\n",
       "    .dataframe thead th {\n",
       "        text-align: right;\n",
       "    }\n",
       "</style>\n",
       "<table border=\"1\" class=\"dataframe\">\n",
       "  <thead>\n",
       "    <tr style=\"text-align: right;\">\n",
       "      <th></th>\n",
       "      <th>_unit_id</th>\n",
       "      <th>positivity</th>\n",
       "      <th>relevance</th>\n",
       "      <th>date</th>\n",
       "      <th>headline</th>\n",
       "      <th>text</th>\n",
       "      <th>headline_new</th>\n",
       "      <th>text_new</th>\n",
       "    </tr>\n",
       "  </thead>\n",
       "  <tbody>\n",
       "    <tr>\n",
       "      <td>0</td>\n",
       "      <td>842613455</td>\n",
       "      <td>3.0</td>\n",
       "      <td>yes</td>\n",
       "      <td>8/14/91</td>\n",
       "      <td>Yields on CDs Fell in the Latest Week</td>\n",
       "      <td>NEW YORK -- Yields on most certificates of dep...</td>\n",
       "      <td>(yields, on, cds, fell, in, the, latest, week)</td>\n",
       "      <td>(new, york,  , yields, on, most, certificates,...</td>\n",
       "    </tr>\n",
       "    <tr>\n",
       "      <td>4</td>\n",
       "      <td>842613459</td>\n",
       "      <td>3.0</td>\n",
       "      <td>yes</td>\n",
       "      <td>10/4/02</td>\n",
       "      <td>Currency Trading: Dollar Remains in Tight Rang...</td>\n",
       "      <td>NEW YORK -- Indecision marked the dollar's ton...</td>\n",
       "      <td>(currency, trading, dollar, remains, in, tight...</td>\n",
       "      <td>(new, york,  , indecision, marked, the, dollar...</td>\n",
       "    </tr>\n",
       "    <tr>\n",
       "      <td>5</td>\n",
       "      <td>842613460</td>\n",
       "      <td>3.0</td>\n",
       "      <td>yes</td>\n",
       "      <td>11/23/11</td>\n",
       "      <td>Stocks Fall Again; BofA, Alcoa Slide</td>\n",
       "      <td>Stocks declined, as investors weighed slower-t...</td>\n",
       "      <td>(stocks, fall, again, bofa, alcoa, slide)</td>\n",
       "      <td>(stocks, declined, as, investors, weighed, slo...</td>\n",
       "    </tr>\n",
       "    <tr>\n",
       "      <td>9</td>\n",
       "      <td>842613464</td>\n",
       "      <td>4.0</td>\n",
       "      <td>yes</td>\n",
       "      <td>11/1/84</td>\n",
       "      <td>U.S. Dollar Falls Against Most Currencies; Dec...</td>\n",
       "      <td>The U.S. dollar declined against most major fo...</td>\n",
       "      <td>(us, dollar, falls, against, most, currencies,...</td>\n",
       "      <td>(the, us, dollar, declined, against, most, maj...</td>\n",
       "    </tr>\n",
       "    <tr>\n",
       "      <td>12</td>\n",
       "      <td>842613467</td>\n",
       "      <td>4.0</td>\n",
       "      <td>yes</td>\n",
       "      <td>8/3/10</td>\n",
       "      <td>Defending Yourself Against Deflation</td>\n",
       "      <td>Author: James B. Stewart&lt;/br&gt;&lt;/br&gt;The dreaded ...</td>\n",
       "      <td>(defending, yourself, against, deflation)</td>\n",
       "      <td>(author, james, b, stewartthe, dreaded, d, wor...</td>\n",
       "    </tr>\n",
       "  </tbody>\n",
       "</table>\n",
       "</div>"
      ],
      "text/plain": [
       "     _unit_id  positivity relevance      date  \\\n",
       "0   842613455         3.0       yes   8/14/91   \n",
       "4   842613459         3.0       yes   10/4/02   \n",
       "5   842613460         3.0       yes  11/23/11   \n",
       "9   842613464         4.0       yes   11/1/84   \n",
       "12  842613467         4.0       yes    8/3/10   \n",
       "\n",
       "                                             headline  \\\n",
       "0               Yields on CDs Fell in the Latest Week   \n",
       "4   Currency Trading: Dollar Remains in Tight Rang...   \n",
       "5                Stocks Fall Again; BofA, Alcoa Slide   \n",
       "9   U.S. Dollar Falls Against Most Currencies; Dec...   \n",
       "12               Defending Yourself Against Deflation   \n",
       "\n",
       "                                                 text  \\\n",
       "0   NEW YORK -- Yields on most certificates of dep...   \n",
       "4   NEW YORK -- Indecision marked the dollar's ton...   \n",
       "5   Stocks declined, as investors weighed slower-t...   \n",
       "9   The U.S. dollar declined against most major fo...   \n",
       "12  Author: James B. Stewart</br></br>The dreaded ...   \n",
       "\n",
       "                                         headline_new  \\\n",
       "0      (yields, on, cds, fell, in, the, latest, week)   \n",
       "4   (currency, trading, dollar, remains, in, tight...   \n",
       "5           (stocks, fall, again, bofa, alcoa, slide)   \n",
       "9   (us, dollar, falls, against, most, currencies,...   \n",
       "12          (defending, yourself, against, deflation)   \n",
       "\n",
       "                                             text_new  \n",
       "0   (new, york,  , yields, on, most, certificates,...  \n",
       "4   (new, york,  , indecision, marked, the, dollar...  \n",
       "5   (stocks, declined, as, investors, weighed, slo...  \n",
       "9   (the, us, dollar, declined, against, most, maj...  \n",
       "12  (author, james, b, stewartthe, dreaded, d, wor...  "
      ]
     },
     "execution_count": 26,
     "metadata": {},
     "output_type": "execute_result"
    }
   ],
   "source": [
    "data.head(5)"
   ]
  },
  {
   "cell_type": "markdown",
   "metadata": {},
   "source": [
    "## Stemming"
   ]
  },
  {
   "cell_type": "code",
   "execution_count": 27,
   "metadata": {},
   "outputs": [
    {
     "name": "stdout",
     "output_type": "stream",
     "text": [
      "Collecting package metadata (current_repodata.json): ...working... done\n",
      "Solving environment: ...working... done\n",
      "\n",
      "# All requested packages already installed.\n",
      "\n",
      "\n",
      "Note: you may need to restart the kernel to use updated packages.\n"
     ]
    }
   ],
   "source": [
    "conda install nltk"
   ]
  },
  {
   "cell_type": "code",
   "execution_count": 28,
   "metadata": {},
   "outputs": [],
   "source": [
    "import nltk"
   ]
  },
  {
   "cell_type": "code",
   "execution_count": 29,
   "metadata": {},
   "outputs": [],
   "source": [
    "from nltk.stem.snowball import SnowballStemmer"
   ]
  },
  {
   "cell_type": "code",
   "execution_count": 30,
   "metadata": {},
   "outputs": [],
   "source": [
    "stemmer = SnowballStemmer(language='english')"
   ]
  },
  {
   "cell_type": "code",
   "execution_count": 31,
   "metadata": {},
   "outputs": [],
   "source": [
    "data['headline_new'] = [[stemmer.stem(x.text) for x in line] for line in data['headline_new']]\n",
    "data['text_new'] = [[stemmer.stem(x.text) for x in line] for line in data['text_new']]"
   ]
  },
  {
   "cell_type": "code",
   "execution_count": 32,
   "metadata": {},
   "outputs": [
    {
     "data": {
      "text/html": [
       "<div>\n",
       "<style scoped>\n",
       "    .dataframe tbody tr th:only-of-type {\n",
       "        vertical-align: middle;\n",
       "    }\n",
       "\n",
       "    .dataframe tbody tr th {\n",
       "        vertical-align: top;\n",
       "    }\n",
       "\n",
       "    .dataframe thead th {\n",
       "        text-align: right;\n",
       "    }\n",
       "</style>\n",
       "<table border=\"1\" class=\"dataframe\">\n",
       "  <thead>\n",
       "    <tr style=\"text-align: right;\">\n",
       "      <th></th>\n",
       "      <th>_unit_id</th>\n",
       "      <th>positivity</th>\n",
       "      <th>relevance</th>\n",
       "      <th>date</th>\n",
       "      <th>headline</th>\n",
       "      <th>text</th>\n",
       "      <th>headline_new</th>\n",
       "      <th>text_new</th>\n",
       "    </tr>\n",
       "  </thead>\n",
       "  <tbody>\n",
       "    <tr>\n",
       "      <td>0</td>\n",
       "      <td>842613455</td>\n",
       "      <td>3.0</td>\n",
       "      <td>yes</td>\n",
       "      <td>8/14/91</td>\n",
       "      <td>Yields on CDs Fell in the Latest Week</td>\n",
       "      <td>NEW YORK -- Yields on most certificates of dep...</td>\n",
       "      <td>[yield, on, cds, fell, in, the, latest, week]</td>\n",
       "      <td>[new, york,  , yield, on, most, certif, of, de...</td>\n",
       "    </tr>\n",
       "    <tr>\n",
       "      <td>4</td>\n",
       "      <td>842613459</td>\n",
       "      <td>3.0</td>\n",
       "      <td>yes</td>\n",
       "      <td>10/4/02</td>\n",
       "      <td>Currency Trading: Dollar Remains in Tight Rang...</td>\n",
       "      <td>NEW YORK -- Indecision marked the dollar's ton...</td>\n",
       "      <td>[currenc, trade, dollar, remain, in, tight, ra...</td>\n",
       "      <td>[new, york,  , indecis, mark, the, dollar, ton...</td>\n",
       "    </tr>\n",
       "    <tr>\n",
       "      <td>5</td>\n",
       "      <td>842613460</td>\n",
       "      <td>3.0</td>\n",
       "      <td>yes</td>\n",
       "      <td>11/23/11</td>\n",
       "      <td>Stocks Fall Again; BofA, Alcoa Slide</td>\n",
       "      <td>Stocks declined, as investors weighed slower-t...</td>\n",
       "      <td>[stock, fall, again, bofa, alcoa, slide]</td>\n",
       "      <td>[stock, declin, as, investor, weigh, slowertha...</td>\n",
       "    </tr>\n",
       "    <tr>\n",
       "      <td>9</td>\n",
       "      <td>842613464</td>\n",
       "      <td>4.0</td>\n",
       "      <td>yes</td>\n",
       "      <td>11/1/84</td>\n",
       "      <td>U.S. Dollar Falls Against Most Currencies; Dec...</td>\n",
       "      <td>The U.S. dollar declined against most major fo...</td>\n",
       "      <td>[us, dollar, fall, against, most, currenc, dec...</td>\n",
       "      <td>[the, us, dollar, declin, against, most, major...</td>\n",
       "    </tr>\n",
       "    <tr>\n",
       "      <td>12</td>\n",
       "      <td>842613467</td>\n",
       "      <td>4.0</td>\n",
       "      <td>yes</td>\n",
       "      <td>8/3/10</td>\n",
       "      <td>Defending Yourself Against Deflation</td>\n",
       "      <td>Author: James B. Stewart&lt;/br&gt;&lt;/br&gt;The dreaded ...</td>\n",
       "      <td>[defend, yourself, against, deflat]</td>\n",
       "      <td>[author, jame, b, stewartth, dread, d, word, i...</td>\n",
       "    </tr>\n",
       "  </tbody>\n",
       "</table>\n",
       "</div>"
      ],
      "text/plain": [
       "     _unit_id  positivity relevance      date  \\\n",
       "0   842613455         3.0       yes   8/14/91   \n",
       "4   842613459         3.0       yes   10/4/02   \n",
       "5   842613460         3.0       yes  11/23/11   \n",
       "9   842613464         4.0       yes   11/1/84   \n",
       "12  842613467         4.0       yes    8/3/10   \n",
       "\n",
       "                                             headline  \\\n",
       "0               Yields on CDs Fell in the Latest Week   \n",
       "4   Currency Trading: Dollar Remains in Tight Rang...   \n",
       "5                Stocks Fall Again; BofA, Alcoa Slide   \n",
       "9   U.S. Dollar Falls Against Most Currencies; Dec...   \n",
       "12               Defending Yourself Against Deflation   \n",
       "\n",
       "                                                 text  \\\n",
       "0   NEW YORK -- Yields on most certificates of dep...   \n",
       "4   NEW YORK -- Indecision marked the dollar's ton...   \n",
       "5   Stocks declined, as investors weighed slower-t...   \n",
       "9   The U.S. dollar declined against most major fo...   \n",
       "12  Author: James B. Stewart</br></br>The dreaded ...   \n",
       "\n",
       "                                         headline_new  \\\n",
       "0       [yield, on, cds, fell, in, the, latest, week]   \n",
       "4   [currenc, trade, dollar, remain, in, tight, ra...   \n",
       "5            [stock, fall, again, bofa, alcoa, slide]   \n",
       "9   [us, dollar, fall, against, most, currenc, dec...   \n",
       "12                [defend, yourself, against, deflat]   \n",
       "\n",
       "                                             text_new  \n",
       "0   [new, york,  , yield, on, most, certif, of, de...  \n",
       "4   [new, york,  , indecis, mark, the, dollar, ton...  \n",
       "5   [stock, declin, as, investor, weigh, slowertha...  \n",
       "9   [the, us, dollar, declin, against, most, major...  \n",
       "12  [author, jame, b, stewartth, dread, d, word, i...  "
      ]
     },
     "execution_count": 32,
     "metadata": {},
     "output_type": "execute_result"
    }
   ],
   "source": [
    "data.head()"
   ]
  },
  {
   "cell_type": "markdown",
   "metadata": {},
   "source": [
    "## Stop-word Removal "
   ]
  },
  {
   "cell_type": "code",
   "execution_count": 33,
   "metadata": {},
   "outputs": [
    {
     "name": "stdout",
     "output_type": "stream",
     "text": [
      "{'four', 'beyond', 'if', 'from', 'then', 'onto', 'on', 'he', 'everyone', 'namely', 'does', 'our', 'always', 'whose', 'keep', 'a', 'next', 'yourself', 'several', 'fifty', 'were', 'about', 'upon', 'each', 'seeming', 'ourselves', 'see', 'five', 'its', 'further', 'against', 'hereupon', 'am', 'the', 'eleven', 'above', 'along', 'fifteen', 'toward', 'since', 'yourselves', 'it', 'whereafter', 'hereby', 'did', 'hers', 'sixty', 'both', 'is', 'where', 'front', 'we', 'using', 'side', 'are', 'somehow', 'amount', 'itself', 'so', 'that', 'one', 'first', 'had', 'whence', 'thus', 'either', 'whereas', 'somewhere', 'few', 'nowhere', 'ever', 'nevertheless', 'myself', 'although', 'doing', 'whoever', 'eight', '‘re', 'former', 'this', 'besides', 'out', 'those', 'every', 'wherein', 'make', 'neither', '’d', 'has', 'was', 'must', 'mine', 'been', 'herein', 'your', '’re', 'how', 'behind', 'rather', 'due', 'nor', 'done', 'meanwhile', 'ours', 'last', 'anywhere', 'go', 'everywhere', 'own', 'forty', 'third', 'empty', 'thereby', 'afterwards', 'there', 'cannot', 'most', 'became', 'however', 'name', 'may', 'an', 'something', 'please', 'yours', 'until', 'even', 'too', 'therein', 'more', 'two', 'give', 'very', 'below', 'i', 'twelve', 'otherwise', 'thereafter', 'throughout', 'being', 'again', 'another', 'would', 'in', 'also', 'whither', '’s', 'they', 'seem', 'for', 'wherever', 'show', 'quite', 'beforehand', 'other', 'put', 'do', 're', 'whole', 'yet', 'down', '‘ll', 'my', \"'m\", 'these', 'whenever', 'across', 'what', 'all', 'under', 'amongst', 'now', 'anything', 'and', 'around', 'ten', 'hereafter', 'none', 'move', 'not', 'once', 'latter', 'same', 'twenty', 'at', 'say', 'than', 'can', 'will', 'she', 'whereupon', 'sometime', 'made', 'never', 'himself', 'mostly', 'as', 'just', 'seems', '’ve', '‘d', 'already', 'you', \"'ve\", 'still', 'during', 'through', 'beside', 'themselves', 'only', 'have', 'less', 'alone', 'anyhow', 'between', \"'re\", 'while', 'could', 'us', 'any', \"n't\", 'no', 'indeed', 'up', 'might', 'but', 'within', 'over', 'thru', 'almost', 'why', 'anyone', 'latterly', 'off', 'herself', 'elsewhere', 'except', 'his', 'anyway', 'or', 'him', 'them', 'someone', 'unless', 'else', 'used', 'become', 'therefore', 'many', 'into', 'me', '‘ve', 'take', 'moreover', 'well', 'sometimes', 'together', '‘s', 'whom', 'before', \"'s\", 'via', 'top', 'without', 'back', '’m', 'part', 'often', 'hence', 'n’t', 'perhaps', 'their', 'thereupon', 'though', 'when', '’ll', 'becoming', 'here', 'enough', 'per', 'which', 'n‘t', 'various', 'full', 'after', 'to', \"'ll\", 'ca', 'nine', 'whether', 'really', 'thence', 'because', 'others', 'serious', 'least', 'bottom', 'some', 'becomes', 'get', 'call', 'among', 'six', 'hundred', 'nobody', 'whatever', 'formerly', 'whereby', 'seemed', 'who', 'such', 'everything', 'towards', 'of', 'regarding', 'with', 'be', 'by', 'three', 'nothing', 'noone', \"'d\", 'should', 'much', 'her', '‘m'}\n"
     ]
    }
   ],
   "source": [
    "print(nlp.Defaults.stop_words)"
   ]
  },
  {
   "cell_type": "code",
   "execution_count": 34,
   "metadata": {},
   "outputs": [],
   "source": [
    "def rm_stop(contents):\n",
    "    no_stop = [x for x in contents if x not in nlp.Defaults.stop_words]\n",
    "    return no_stop"
   ]
  },
  {
   "cell_type": "code",
   "execution_count": 35,
   "metadata": {},
   "outputs": [
    {
     "data": {
      "text/html": [
       "<div>\n",
       "<style scoped>\n",
       "    .dataframe tbody tr th:only-of-type {\n",
       "        vertical-align: middle;\n",
       "    }\n",
       "\n",
       "    .dataframe tbody tr th {\n",
       "        vertical-align: top;\n",
       "    }\n",
       "\n",
       "    .dataframe thead th {\n",
       "        text-align: right;\n",
       "    }\n",
       "</style>\n",
       "<table border=\"1\" class=\"dataframe\">\n",
       "  <thead>\n",
       "    <tr style=\"text-align: right;\">\n",
       "      <th></th>\n",
       "      <th>_unit_id</th>\n",
       "      <th>positivity</th>\n",
       "      <th>relevance</th>\n",
       "      <th>date</th>\n",
       "      <th>headline</th>\n",
       "      <th>text</th>\n",
       "      <th>headline_new</th>\n",
       "      <th>text_new</th>\n",
       "    </tr>\n",
       "  </thead>\n",
       "  <tbody>\n",
       "    <tr>\n",
       "      <td>0</td>\n",
       "      <td>842613455</td>\n",
       "      <td>3.0</td>\n",
       "      <td>yes</td>\n",
       "      <td>8/14/91</td>\n",
       "      <td>Yields on CDs Fell in the Latest Week</td>\n",
       "      <td>NEW YORK -- Yields on most certificates of dep...</td>\n",
       "      <td>[yield, cds, fell, latest, week]</td>\n",
       "      <td>[new, york,  , yield, certif, deposit, offer, ...</td>\n",
       "    </tr>\n",
       "    <tr>\n",
       "      <td>4</td>\n",
       "      <td>842613459</td>\n",
       "      <td>3.0</td>\n",
       "      <td>yes</td>\n",
       "      <td>10/4/02</td>\n",
       "      <td>Currency Trading: Dollar Remains in Tight Rang...</td>\n",
       "      <td>NEW YORK -- Indecision marked the dollar's ton...</td>\n",
       "      <td>[currenc, trade, dollar, remain, tight, rang, ...</td>\n",
       "      <td>[new, york,  , indecis, mark, dollar, tone, tr...</td>\n",
       "    </tr>\n",
       "    <tr>\n",
       "      <td>5</td>\n",
       "      <td>842613460</td>\n",
       "      <td>3.0</td>\n",
       "      <td>yes</td>\n",
       "      <td>11/23/11</td>\n",
       "      <td>Stocks Fall Again; BofA, Alcoa Slide</td>\n",
       "      <td>Stocks declined, as investors weighed slower-t...</td>\n",
       "      <td>[stock, fall, bofa, alcoa, slide]</td>\n",
       "      <td>[stock, declin, investor, weigh, slowerthanexp...</td>\n",
       "    </tr>\n",
       "    <tr>\n",
       "      <td>9</td>\n",
       "      <td>842613464</td>\n",
       "      <td>4.0</td>\n",
       "      <td>yes</td>\n",
       "      <td>11/1/84</td>\n",
       "      <td>U.S. Dollar Falls Against Most Currencies; Dec...</td>\n",
       "      <td>The U.S. dollar declined against most major fo...</td>\n",
       "      <td>[dollar, fall, currenc, declin, soften, bond, ...</td>\n",
       "      <td>[dollar, declin, major, foreign, currenc, yest...</td>\n",
       "    </tr>\n",
       "    <tr>\n",
       "      <td>12</td>\n",
       "      <td>842613467</td>\n",
       "      <td>4.0</td>\n",
       "      <td>yes</td>\n",
       "      <td>8/3/10</td>\n",
       "      <td>Defending Yourself Against Deflation</td>\n",
       "      <td>Author: James B. Stewart&lt;/br&gt;&lt;/br&gt;The dreaded ...</td>\n",
       "      <td>[defend, deflat]</td>\n",
       "      <td>[author, jame, b, stewartth, dread, d, word, c...</td>\n",
       "    </tr>\n",
       "  </tbody>\n",
       "</table>\n",
       "</div>"
      ],
      "text/plain": [
       "     _unit_id  positivity relevance      date  \\\n",
       "0   842613455         3.0       yes   8/14/91   \n",
       "4   842613459         3.0       yes   10/4/02   \n",
       "5   842613460         3.0       yes  11/23/11   \n",
       "9   842613464         4.0       yes   11/1/84   \n",
       "12  842613467         4.0       yes    8/3/10   \n",
       "\n",
       "                                             headline  \\\n",
       "0               Yields on CDs Fell in the Latest Week   \n",
       "4   Currency Trading: Dollar Remains in Tight Rang...   \n",
       "5                Stocks Fall Again; BofA, Alcoa Slide   \n",
       "9   U.S. Dollar Falls Against Most Currencies; Dec...   \n",
       "12               Defending Yourself Against Deflation   \n",
       "\n",
       "                                                 text  \\\n",
       "0   NEW YORK -- Yields on most certificates of dep...   \n",
       "4   NEW YORK -- Indecision marked the dollar's ton...   \n",
       "5   Stocks declined, as investors weighed slower-t...   \n",
       "9   The U.S. dollar declined against most major fo...   \n",
       "12  Author: James B. Stewart</br></br>The dreaded ...   \n",
       "\n",
       "                                         headline_new  \\\n",
       "0                    [yield, cds, fell, latest, week]   \n",
       "4   [currenc, trade, dollar, remain, tight, rang, ...   \n",
       "5                   [stock, fall, bofa, alcoa, slide]   \n",
       "9   [dollar, fall, currenc, declin, soften, bond, ...   \n",
       "12                                   [defend, deflat]   \n",
       "\n",
       "                                             text_new  \n",
       "0   [new, york,  , yield, certif, deposit, offer, ...  \n",
       "4   [new, york,  , indecis, mark, dollar, tone, tr...  \n",
       "5   [stock, declin, investor, weigh, slowerthanexp...  \n",
       "9   [dollar, declin, major, foreign, currenc, yest...  \n",
       "12  [author, jame, b, stewartth, dread, d, word, c...  "
      ]
     },
     "execution_count": 35,
     "metadata": {},
     "output_type": "execute_result"
    }
   ],
   "source": [
    "data['headline_new'] = data['headline_new'].apply(rm_stop)\n",
    "data['text_new'] = data['text_new'].apply(rm_stop)\n",
    "data.head(5)"
   ]
  }
 ],
 "metadata": {
  "kernelspec": {
   "display_name": "Python 3",
   "language": "python",
   "name": "python3"
  },
  "language_info": {
   "codemirror_mode": {
    "name": "ipython",
    "version": 3
   },
   "file_extension": ".py",
   "mimetype": "text/x-python",
   "name": "python",
   "nbconvert_exporter": "python",
   "pygments_lexer": "ipython3",
   "version": "3.7.4"
  }
 },
 "nbformat": 4,
 "nbformat_minor": 2
}
