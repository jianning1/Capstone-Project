{
  "nbformat": 4,
  "nbformat_minor": 0,
  "metadata": {
    "kernelspec": {
      "name": "python3",
      "display_name": "Python 3"
    },
    "language_info": {
      "codemirror_mode": {
        "name": "ipython",
        "version": 3
      },
      "file_extension": ".py",
      "mimetype": "text/x-python",
      "name": "python",
      "nbconvert_exporter": "python",
      "pygments_lexer": "ipython3",
      "version": "3.7.6"
    },
    "colab": {
      "name": "Text Classification_Baselines.ipynb",
      "provenance": [],
      "collapsed_sections": [],
      "toc_visible": true,
      "machine_shape": "hm"
    },
    "accelerator": "GPU"
  },
  "cells": [
    {
      "cell_type": "markdown",
      "metadata": {
        "id": "iSn7U3RK0P_J",
        "colab_type": "text"
      },
      "source": [
        "# Import Python Libaries"
      ]
    },
    {
      "cell_type": "code",
      "metadata": {
        "id": "2roAI7G-lI-o",
        "colab_type": "code",
        "outputId": "1ed047c3-c130-4f48-95e4-6676aa05fe73",
        "colab": {
          "base_uri": "https://localhost:8080/",
          "height": 1000
        }
      },
      "source": [
        "import pandas as pd\n",
        "import matplotlib.pyplot as plt\n",
        "from matplotlib.pyplot import figure\n",
        "\n",
        "plt.rcParams.update({'font.size':20})\n",
        "import seaborn as sns\n",
        "%matplotlib inline\n",
        "import re\n",
        "import string\n",
        "import spacy \n",
        "import os\n",
        "import sys\n",
        "import numpy as np\n",
        "\n",
        "nlp = spacy.load('en', disable=['ner', 'parser'])\n",
        "import nltk\n",
        "from nltk.stem.snowball import SnowballStemmer\n",
        "from scipy import stats\n",
        "\n",
        "from time import time\n",
        "from collections import defaultdict\n",
        "import gc\n",
        "import io\n",
        "import random\n",
        "\n",
        "from __future__ import print_function, division\n",
        "from builtins import range\n",
        "import os\n",
        "import sys\n",
        "import numpy as np\n",
        "import operator\n",
        "\n",
        "import nltk\n",
        "nltk.download('all')\n",
        "from nltk.corpus import wordnet\n",
        "from nltk.tokenize import word_tokenize\n",
        "\n",
        "\n",
        "import keras\n",
        "from keras.models import Model, Sequential\n",
        "from keras.layers import *\n",
        "from keras.layers import Dense, Embedding, Input\n",
        "from keras.layers import LSTM, Bidirectional, GlobalAveragePooling1D, Dropout, Conv1D, GRU, Layer\n",
        "from keras.preprocessing.text import Tokenizer\n",
        "from keras.preprocessing.sequence import pad_sequences\n",
        "from keras.optimizers import Adam, SGD\n",
        "from sklearn.metrics import roc_auc_score\n",
        "import keras.backend as K\n",
        "from keras.layers import CuDNNLSTM as LSTM\n",
        "from keras.models import load_model\n",
        "from keras.callbacks import EarlyStopping\n",
        "from keras.callbacks import ModelCheckpoint\n",
        "\n",
        "from keras import metrics\n",
        "from tensorflow.python.keras.metrics import Metric\n",
        "from tensorflow.keras.utils import plot_model\n",
        "\n",
        "from sklearn.feature_extraction.text import TfidfVectorizer\n",
        "from sklearn.naive_bayes import MultinomialNB\n",
        "from sklearn.svm import LinearSVC\n",
        "from sklearn import metrics\n",
        "from sklearn.model_selection import train_test_split, StratifiedKFold, KFold\n",
        "from sklearn.utils import shuffle, class_weight\n",
        "from xgboost import XGBClassifier\n",
        "from sklearn.linear_model import LogisticRegression\n",
        "from sklearn.metrics import cohen_kappa_score, roc_auc_score, f1_score\n",
        "\n",
        "#from imblearn.over_sampling import RandomOverSampler\n",
        "#from imblearn.pipeline import Pipeline\n",
        "\n",
        "from sklearn.pipeline import Pipeline"
      ],
      "execution_count": 0,
      "outputs": [
        {
          "output_type": "stream",
          "text": [
            "/usr/local/lib/python3.6/dist-packages/statsmodels/tools/_testing.py:19: FutureWarning: pandas.util.testing is deprecated. Use the functions in the public API at pandas.testing instead.\n",
            "  import pandas.util.testing as tm\n"
          ],
          "name": "stderr"
        },
        {
          "output_type": "stream",
          "text": [
            "[nltk_data] Downloading collection 'all'\n",
            "[nltk_data]    | \n",
            "[nltk_data]    | Downloading package abc to /root/nltk_data...\n",
            "[nltk_data]    |   Package abc is already up-to-date!\n",
            "[nltk_data]    | Downloading package alpino to /root/nltk_data...\n",
            "[nltk_data]    |   Package alpino is already up-to-date!\n",
            "[nltk_data]    | Downloading package biocreative_ppi to\n",
            "[nltk_data]    |     /root/nltk_data...\n",
            "[nltk_data]    |   Package biocreative_ppi is already up-to-date!\n",
            "[nltk_data]    | Downloading package brown to /root/nltk_data...\n",
            "[nltk_data]    |   Package brown is already up-to-date!\n",
            "[nltk_data]    | Downloading package brown_tei to /root/nltk_data...\n",
            "[nltk_data]    |   Package brown_tei is already up-to-date!\n",
            "[nltk_data]    | Downloading package cess_cat to /root/nltk_data...\n",
            "[nltk_data]    |   Package cess_cat is already up-to-date!\n",
            "[nltk_data]    | Downloading package cess_esp to /root/nltk_data...\n",
            "[nltk_data]    |   Package cess_esp is already up-to-date!\n",
            "[nltk_data]    | Downloading package chat80 to /root/nltk_data...\n",
            "[nltk_data]    |   Package chat80 is already up-to-date!\n",
            "[nltk_data]    | Downloading package city_database to\n",
            "[nltk_data]    |     /root/nltk_data...\n",
            "[nltk_data]    |   Package city_database is already up-to-date!\n",
            "[nltk_data]    | Downloading package cmudict to /root/nltk_data...\n",
            "[nltk_data]    |   Package cmudict is already up-to-date!\n",
            "[nltk_data]    | Downloading package comparative_sentences to\n",
            "[nltk_data]    |     /root/nltk_data...\n",
            "[nltk_data]    |   Package comparative_sentences is already up-to-\n",
            "[nltk_data]    |       date!\n",
            "[nltk_data]    | Downloading package comtrans to /root/nltk_data...\n",
            "[nltk_data]    |   Package comtrans is already up-to-date!\n",
            "[nltk_data]    | Downloading package conll2000 to /root/nltk_data...\n",
            "[nltk_data]    |   Package conll2000 is already up-to-date!\n",
            "[nltk_data]    | Downloading package conll2002 to /root/nltk_data...\n",
            "[nltk_data]    |   Package conll2002 is already up-to-date!\n",
            "[nltk_data]    | Downloading package conll2007 to /root/nltk_data...\n",
            "[nltk_data]    |   Package conll2007 is already up-to-date!\n",
            "[nltk_data]    | Downloading package crubadan to /root/nltk_data...\n",
            "[nltk_data]    |   Package crubadan is already up-to-date!\n",
            "[nltk_data]    | Downloading package dependency_treebank to\n",
            "[nltk_data]    |     /root/nltk_data...\n",
            "[nltk_data]    |   Package dependency_treebank is already up-to-date!\n",
            "[nltk_data]    | Downloading package dolch to /root/nltk_data...\n",
            "[nltk_data]    |   Package dolch is already up-to-date!\n",
            "[nltk_data]    | Downloading package europarl_raw to\n",
            "[nltk_data]    |     /root/nltk_data...\n",
            "[nltk_data]    |   Package europarl_raw is already up-to-date!\n",
            "[nltk_data]    | Downloading package floresta to /root/nltk_data...\n",
            "[nltk_data]    |   Package floresta is already up-to-date!\n",
            "[nltk_data]    | Downloading package framenet_v15 to\n",
            "[nltk_data]    |     /root/nltk_data...\n",
            "[nltk_data]    |   Package framenet_v15 is already up-to-date!\n",
            "[nltk_data]    | Downloading package framenet_v17 to\n",
            "[nltk_data]    |     /root/nltk_data...\n",
            "[nltk_data]    |   Package framenet_v17 is already up-to-date!\n",
            "[nltk_data]    | Downloading package gazetteers to /root/nltk_data...\n",
            "[nltk_data]    |   Package gazetteers is already up-to-date!\n",
            "[nltk_data]    | Downloading package genesis to /root/nltk_data...\n",
            "[nltk_data]    |   Package genesis is already up-to-date!\n",
            "[nltk_data]    | Downloading package gutenberg to /root/nltk_data...\n",
            "[nltk_data]    |   Package gutenberg is already up-to-date!\n",
            "[nltk_data]    | Downloading package ieer to /root/nltk_data...\n",
            "[nltk_data]    |   Package ieer is already up-to-date!\n",
            "[nltk_data]    | Downloading package inaugural to /root/nltk_data...\n",
            "[nltk_data]    |   Package inaugural is already up-to-date!\n",
            "[nltk_data]    | Downloading package indian to /root/nltk_data...\n",
            "[nltk_data]    |   Package indian is already up-to-date!\n",
            "[nltk_data]    | Downloading package jeita to /root/nltk_data...\n",
            "[nltk_data]    |   Package jeita is already up-to-date!\n",
            "[nltk_data]    | Downloading package kimmo to /root/nltk_data...\n",
            "[nltk_data]    |   Package kimmo is already up-to-date!\n",
            "[nltk_data]    | Downloading package knbc to /root/nltk_data...\n",
            "[nltk_data]    |   Package knbc is already up-to-date!\n",
            "[nltk_data]    | Downloading package lin_thesaurus to\n",
            "[nltk_data]    |     /root/nltk_data...\n",
            "[nltk_data]    |   Package lin_thesaurus is already up-to-date!\n",
            "[nltk_data]    | Downloading package mac_morpho to /root/nltk_data...\n",
            "[nltk_data]    |   Package mac_morpho is already up-to-date!\n",
            "[nltk_data]    | Downloading package machado to /root/nltk_data...\n",
            "[nltk_data]    |   Package machado is already up-to-date!\n",
            "[nltk_data]    | Downloading package masc_tagged to /root/nltk_data...\n",
            "[nltk_data]    |   Package masc_tagged is already up-to-date!\n",
            "[nltk_data]    | Downloading package moses_sample to\n",
            "[nltk_data]    |     /root/nltk_data...\n",
            "[nltk_data]    |   Package moses_sample is already up-to-date!\n",
            "[nltk_data]    | Downloading package movie_reviews to\n",
            "[nltk_data]    |     /root/nltk_data...\n",
            "[nltk_data]    |   Package movie_reviews is already up-to-date!\n",
            "[nltk_data]    | Downloading package names to /root/nltk_data...\n",
            "[nltk_data]    |   Package names is already up-to-date!\n",
            "[nltk_data]    | Downloading package nombank.1.0 to /root/nltk_data...\n",
            "[nltk_data]    |   Package nombank.1.0 is already up-to-date!\n",
            "[nltk_data]    | Downloading package nps_chat to /root/nltk_data...\n",
            "[nltk_data]    |   Package nps_chat is already up-to-date!\n",
            "[nltk_data]    | Downloading package omw to /root/nltk_data...\n",
            "[nltk_data]    |   Package omw is already up-to-date!\n",
            "[nltk_data]    | Downloading package opinion_lexicon to\n",
            "[nltk_data]    |     /root/nltk_data...\n",
            "[nltk_data]    |   Package opinion_lexicon is already up-to-date!\n",
            "[nltk_data]    | Downloading package paradigms to /root/nltk_data...\n",
            "[nltk_data]    |   Package paradigms is already up-to-date!\n",
            "[nltk_data]    | Downloading package pil to /root/nltk_data...\n",
            "[nltk_data]    |   Package pil is already up-to-date!\n",
            "[nltk_data]    | Downloading package pl196x to /root/nltk_data...\n",
            "[nltk_data]    |   Package pl196x is already up-to-date!\n",
            "[nltk_data]    | Downloading package ppattach to /root/nltk_data...\n",
            "[nltk_data]    |   Package ppattach is already up-to-date!\n",
            "[nltk_data]    | Downloading package problem_reports to\n",
            "[nltk_data]    |     /root/nltk_data...\n",
            "[nltk_data]    |   Package problem_reports is already up-to-date!\n",
            "[nltk_data]    | Downloading package propbank to /root/nltk_data...\n",
            "[nltk_data]    |   Package propbank is already up-to-date!\n",
            "[nltk_data]    | Downloading package ptb to /root/nltk_data...\n",
            "[nltk_data]    |   Package ptb is already up-to-date!\n",
            "[nltk_data]    | Downloading package product_reviews_1 to\n",
            "[nltk_data]    |     /root/nltk_data...\n",
            "[nltk_data]    |   Package product_reviews_1 is already up-to-date!\n",
            "[nltk_data]    | Downloading package product_reviews_2 to\n",
            "[nltk_data]    |     /root/nltk_data...\n",
            "[nltk_data]    |   Package product_reviews_2 is already up-to-date!\n",
            "[nltk_data]    | Downloading package pros_cons to /root/nltk_data...\n",
            "[nltk_data]    |   Package pros_cons is already up-to-date!\n",
            "[nltk_data]    | Downloading package qc to /root/nltk_data...\n",
            "[nltk_data]    |   Package qc is already up-to-date!\n",
            "[nltk_data]    | Downloading package reuters to /root/nltk_data...\n",
            "[nltk_data]    |   Package reuters is already up-to-date!\n",
            "[nltk_data]    | Downloading package rte to /root/nltk_data...\n",
            "[nltk_data]    |   Package rte is already up-to-date!\n",
            "[nltk_data]    | Downloading package semcor to /root/nltk_data...\n",
            "[nltk_data]    |   Package semcor is already up-to-date!\n",
            "[nltk_data]    | Downloading package senseval to /root/nltk_data...\n",
            "[nltk_data]    |   Package senseval is already up-to-date!\n",
            "[nltk_data]    | Downloading package sentiwordnet to\n",
            "[nltk_data]    |     /root/nltk_data...\n",
            "[nltk_data]    |   Package sentiwordnet is already up-to-date!\n",
            "[nltk_data]    | Downloading package sentence_polarity to\n",
            "[nltk_data]    |     /root/nltk_data...\n",
            "[nltk_data]    |   Package sentence_polarity is already up-to-date!\n",
            "[nltk_data]    | Downloading package shakespeare to /root/nltk_data...\n",
            "[nltk_data]    |   Package shakespeare is already up-to-date!\n",
            "[nltk_data]    | Downloading package sinica_treebank to\n",
            "[nltk_data]    |     /root/nltk_data...\n",
            "[nltk_data]    |   Package sinica_treebank is already up-to-date!\n",
            "[nltk_data]    | Downloading package smultron to /root/nltk_data...\n",
            "[nltk_data]    |   Package smultron is already up-to-date!\n",
            "[nltk_data]    | Downloading package state_union to /root/nltk_data...\n",
            "[nltk_data]    |   Package state_union is already up-to-date!\n",
            "[nltk_data]    | Downloading package stopwords to /root/nltk_data...\n",
            "[nltk_data]    |   Package stopwords is already up-to-date!\n",
            "[nltk_data]    | Downloading package subjectivity to\n",
            "[nltk_data]    |     /root/nltk_data...\n",
            "[nltk_data]    |   Package subjectivity is already up-to-date!\n",
            "[nltk_data]    | Downloading package swadesh to /root/nltk_data...\n",
            "[nltk_data]    |   Package swadesh is already up-to-date!\n",
            "[nltk_data]    | Downloading package switchboard to /root/nltk_data...\n",
            "[nltk_data]    |   Package switchboard is already up-to-date!\n",
            "[nltk_data]    | Downloading package timit to /root/nltk_data...\n",
            "[nltk_data]    |   Package timit is already up-to-date!\n",
            "[nltk_data]    | Downloading package toolbox to /root/nltk_data...\n",
            "[nltk_data]    |   Package toolbox is already up-to-date!\n",
            "[nltk_data]    | Downloading package treebank to /root/nltk_data...\n",
            "[nltk_data]    |   Package treebank is already up-to-date!\n",
            "[nltk_data]    | Downloading package twitter_samples to\n",
            "[nltk_data]    |     /root/nltk_data...\n",
            "[nltk_data]    |   Package twitter_samples is already up-to-date!\n",
            "[nltk_data]    | Downloading package udhr to /root/nltk_data...\n",
            "[nltk_data]    |   Package udhr is already up-to-date!\n",
            "[nltk_data]    | Downloading package udhr2 to /root/nltk_data...\n",
            "[nltk_data]    |   Package udhr2 is already up-to-date!\n",
            "[nltk_data]    | Downloading package unicode_samples to\n",
            "[nltk_data]    |     /root/nltk_data...\n",
            "[nltk_data]    |   Package unicode_samples is already up-to-date!\n",
            "[nltk_data]    | Downloading package universal_treebanks_v20 to\n",
            "[nltk_data]    |     /root/nltk_data...\n",
            "[nltk_data]    |   Package universal_treebanks_v20 is already up-to-\n",
            "[nltk_data]    |       date!\n",
            "[nltk_data]    | Downloading package verbnet to /root/nltk_data...\n",
            "[nltk_data]    |   Package verbnet is already up-to-date!\n",
            "[nltk_data]    | Downloading package verbnet3 to /root/nltk_data...\n",
            "[nltk_data]    |   Package verbnet3 is already up-to-date!\n",
            "[nltk_data]    | Downloading package webtext to /root/nltk_data...\n",
            "[nltk_data]    |   Package webtext is already up-to-date!\n",
            "[nltk_data]    | Downloading package wordnet to /root/nltk_data...\n",
            "[nltk_data]    |   Package wordnet is already up-to-date!\n",
            "[nltk_data]    | Downloading package wordnet_ic to /root/nltk_data...\n",
            "[nltk_data]    |   Package wordnet_ic is already up-to-date!\n",
            "[nltk_data]    | Downloading package words to /root/nltk_data...\n",
            "[nltk_data]    |   Package words is already up-to-date!\n",
            "[nltk_data]    | Downloading package ycoe to /root/nltk_data...\n",
            "[nltk_data]    |   Package ycoe is already up-to-date!\n",
            "[nltk_data]    | Downloading package rslp to /root/nltk_data...\n",
            "[nltk_data]    |   Package rslp is already up-to-date!\n",
            "[nltk_data]    | Downloading package maxent_treebank_pos_tagger to\n",
            "[nltk_data]    |     /root/nltk_data...\n",
            "[nltk_data]    |   Package maxent_treebank_pos_tagger is already up-\n",
            "[nltk_data]    |       to-date!\n",
            "[nltk_data]    | Downloading package universal_tagset to\n",
            "[nltk_data]    |     /root/nltk_data...\n",
            "[nltk_data]    |   Package universal_tagset is already up-to-date!\n",
            "[nltk_data]    | Downloading package maxent_ne_chunker to\n",
            "[nltk_data]    |     /root/nltk_data...\n",
            "[nltk_data]    |   Package maxent_ne_chunker is already up-to-date!\n",
            "[nltk_data]    | Downloading package punkt to /root/nltk_data...\n",
            "[nltk_data]    |   Package punkt is already up-to-date!\n",
            "[nltk_data]    | Downloading package book_grammars to\n",
            "[nltk_data]    |     /root/nltk_data...\n",
            "[nltk_data]    |   Package book_grammars is already up-to-date!\n",
            "[nltk_data]    | Downloading package sample_grammars to\n",
            "[nltk_data]    |     /root/nltk_data...\n",
            "[nltk_data]    |   Package sample_grammars is already up-to-date!\n",
            "[nltk_data]    | Downloading package spanish_grammars to\n",
            "[nltk_data]    |     /root/nltk_data...\n",
            "[nltk_data]    |   Package spanish_grammars is already up-to-date!\n",
            "[nltk_data]    | Downloading package basque_grammars to\n",
            "[nltk_data]    |     /root/nltk_data...\n",
            "[nltk_data]    |   Package basque_grammars is already up-to-date!\n",
            "[nltk_data]    | Downloading package large_grammars to\n",
            "[nltk_data]    |     /root/nltk_data...\n",
            "[nltk_data]    |   Package large_grammars is already up-to-date!\n",
            "[nltk_data]    | Downloading package tagsets to /root/nltk_data...\n",
            "[nltk_data]    |   Package tagsets is already up-to-date!\n",
            "[nltk_data]    | Downloading package snowball_data to\n",
            "[nltk_data]    |     /root/nltk_data...\n",
            "[nltk_data]    |   Package snowball_data is already up-to-date!\n",
            "[nltk_data]    | Downloading package bllip_wsj_no_aux to\n",
            "[nltk_data]    |     /root/nltk_data...\n",
            "[nltk_data]    |   Package bllip_wsj_no_aux is already up-to-date!\n",
            "[nltk_data]    | Downloading package word2vec_sample to\n",
            "[nltk_data]    |     /root/nltk_data...\n",
            "[nltk_data]    |   Package word2vec_sample is already up-to-date!\n",
            "[nltk_data]    | Downloading package panlex_swadesh to\n",
            "[nltk_data]    |     /root/nltk_data...\n",
            "[nltk_data]    |   Package panlex_swadesh is already up-to-date!\n",
            "[nltk_data]    | Downloading package mte_teip5 to /root/nltk_data...\n",
            "[nltk_data]    |   Package mte_teip5 is already up-to-date!\n",
            "[nltk_data]    | Downloading package averaged_perceptron_tagger to\n",
            "[nltk_data]    |     /root/nltk_data...\n",
            "[nltk_data]    |   Package averaged_perceptron_tagger is already up-\n",
            "[nltk_data]    |       to-date!\n",
            "[nltk_data]    | Downloading package averaged_perceptron_tagger_ru to\n",
            "[nltk_data]    |     /root/nltk_data...\n",
            "[nltk_data]    |   Package averaged_perceptron_tagger_ru is already\n",
            "[nltk_data]    |       up-to-date!\n",
            "[nltk_data]    | Downloading package perluniprops to\n",
            "[nltk_data]    |     /root/nltk_data...\n",
            "[nltk_data]    |   Package perluniprops is already up-to-date!\n",
            "[nltk_data]    | Downloading package nonbreaking_prefixes to\n",
            "[nltk_data]    |     /root/nltk_data...\n",
            "[nltk_data]    |   Package nonbreaking_prefixes is already up-to-date!\n",
            "[nltk_data]    | Downloading package vader_lexicon to\n",
            "[nltk_data]    |     /root/nltk_data...\n",
            "[nltk_data]    |   Package vader_lexicon is already up-to-date!\n",
            "[nltk_data]    | Downloading package porter_test to /root/nltk_data...\n",
            "[nltk_data]    |   Package porter_test is already up-to-date!\n",
            "[nltk_data]    | Downloading package wmt15_eval to /root/nltk_data...\n",
            "[nltk_data]    |   Package wmt15_eval is already up-to-date!\n",
            "[nltk_data]    | Downloading package mwa_ppdb to /root/nltk_data...\n",
            "[nltk_data]    |   Package mwa_ppdb is already up-to-date!\n",
            "[nltk_data]    | \n",
            "[nltk_data]  Done downloading collection all\n"
          ],
          "name": "stdout"
        },
        {
          "output_type": "stream",
          "text": [
            "Using TensorFlow backend.\n"
          ],
          "name": "stderr"
        }
      ]
    },
    {
      "cell_type": "code",
      "metadata": {
        "id": "4dU6hNcHmjBE",
        "colab_type": "code",
        "colab": {}
      },
      "source": [
        "# install tensorflow 2.0\n",
        "#!pip uninstall tensorflow\n",
        "#!pip install tensorflow-gpu==2.1.0"
      ],
      "execution_count": 0,
      "outputs": []
    },
    {
      "cell_type": "code",
      "metadata": {
        "id": "bIycjFHvlI-r",
        "colab_type": "code",
        "outputId": "30ab9f52-046e-4434-faf9-e7119ca98102",
        "colab": {
          "base_uri": "https://localhost:8080/",
          "height": 34
        }
      },
      "source": [
        "import tensorflow as tf\n",
        "print(tf.__version__)"
      ],
      "execution_count": 0,
      "outputs": [
        {
          "output_type": "stream",
          "text": [
            "2.1.0\n"
          ],
          "name": "stdout"
        }
      ]
    },
    {
      "cell_type": "code",
      "metadata": {
        "id": "qWB0eDS_nXLq",
        "colab_type": "code",
        "outputId": "ed8af527-4870-4d0d-de60-15a26b408701",
        "colab": {
          "base_uri": "https://localhost:8080/",
          "height": 34
        }
      },
      "source": [
        "# check the availability of GPU\n",
        "%tensorflow_version 2.x\n",
        "device_name = tf.test.gpu_device_name()\n",
        "if device_name != '/device:GPU:0':\n",
        "  raise SystemError('GPU device not found')\n",
        "print('Found GPU at: {}'.format(device_name))\n"
      ],
      "execution_count": 0,
      "outputs": [
        {
          "output_type": "stream",
          "text": [
            "Found GPU at: /device:GPU:0\n"
          ],
          "name": "stdout"
        }
      ]
    },
    {
      "cell_type": "code",
      "metadata": {
        "colab_type": "code",
        "outputId": "90a53e5b-8429-4f2b-e979-bd8d982f7120",
        "id": "1fDe2PWlhFZV",
        "colab": {
          "base_uri": "https://localhost:8080/",
          "height": 34
        }
      },
      "source": [
        "# Mount Google Drive (to save the downloaded files)\n",
        "from google.colab import drive\n",
        "drive.mount('/gdrive')"
      ],
      "execution_count": 0,
      "outputs": [
        {
          "output_type": "stream",
          "text": [
            "Drive already mounted at /gdrive; to attempt to forcibly remount, call drive.mount(\"/gdrive\", force_remount=True).\n"
          ],
          "name": "stdout"
        }
      ]
    },
    {
      "cell_type": "markdown",
      "metadata": {
        "id": "vdJvVvxoof-Z",
        "colab_type": "text"
      },
      "source": [
        "### GloVe Pretrained Word Embedding loading"
      ]
    },
    {
      "cell_type": "code",
      "metadata": {
        "id": "6M8v__OplI_g",
        "colab_type": "code",
        "outputId": "ac0ce1e5-84d2-47dc-9fb6-d2830dd6337b",
        "colab": {
          "base_uri": "https://localhost:8080/",
          "height": 51
        }
      },
      "source": [
        "# Load GloVe Embeddings\n",
        "print('Loading GloVe Embeddings.')\n",
        "\n",
        "glove_embeddings = {}\n",
        "f = open('/gdrive/My Drive/glove.42B.300d.txt', encoding='utf-8')\n",
        "for line in f:\n",
        "    values = line.split()\n",
        "    word = values[0]\n",
        "    coefs = np.asarray(values[1:], dtype='float32')\n",
        "    glove_embeddings[word] = coefs\n",
        "f.close()\n",
        "\n",
        "print('Found %s word vectors.' % len(glove_embeddings))\n"
      ],
      "execution_count": 0,
      "outputs": [
        {
          "output_type": "stream",
          "text": [
            "Loading GloVe Embeddings.\n",
            "Found 1917495 word vectors.\n"
          ],
          "name": "stdout"
        }
      ]
    },
    {
      "cell_type": "markdown",
      "metadata": {
        "id": "jrCQCmCnZVJN",
        "colab_type": "text"
      },
      "source": [
        "# Import cleaned data"
      ]
    },
    {
      "cell_type": "code",
      "metadata": {
        "id": "sJ2ZfYH80r3t",
        "colab_type": "code",
        "colab": {}
      },
      "source": [
        "data = pd.read_csv('/gdrive/My Drive/cleaned_data.csv', encoding = \"ISO-8859-1\")"
      ],
      "execution_count": 0,
      "outputs": []
    },
    {
      "cell_type": "code",
      "metadata": {
        "id": "5aoqEWVq01Yx",
        "colab_type": "code",
        "outputId": "63e88dd2-e42e-482c-b175-a851edcf3213",
        "colab": {
          "base_uri": "https://localhost:8080/",
          "height": 204
        }
      },
      "source": [
        "data.head(5)"
      ],
      "execution_count": 0,
      "outputs": [
        {
          "output_type": "execute_result",
          "data": {
            "text/html": [
              "<div>\n",
              "<style scoped>\n",
              "    .dataframe tbody tr th:only-of-type {\n",
              "        vertical-align: middle;\n",
              "    }\n",
              "\n",
              "    .dataframe tbody tr th {\n",
              "        vertical-align: top;\n",
              "    }\n",
              "\n",
              "    .dataframe thead th {\n",
              "        text-align: right;\n",
              "    }\n",
              "</style>\n",
              "<table border=\"1\" class=\"dataframe\">\n",
              "  <thead>\n",
              "    <tr style=\"text-align: right;\">\n",
              "      <th></th>\n",
              "      <th>Unnamed: 0</th>\n",
              "      <th>_unit_id</th>\n",
              "      <th>positivity</th>\n",
              "      <th>relevance</th>\n",
              "      <th>date</th>\n",
              "      <th>texts</th>\n",
              "    </tr>\n",
              "  </thead>\n",
              "  <tbody>\n",
              "    <tr>\n",
              "      <th>0</th>\n",
              "      <td>0</td>\n",
              "      <td>842613455</td>\n",
              "      <td>3.0</td>\n",
              "      <td>1</td>\n",
              "      <td>8/14/91</td>\n",
              "      <td>yield cd fall late week new york    yield cert...</td>\n",
              "    </tr>\n",
              "    <tr>\n",
              "      <th>1</th>\n",
              "      <td>1</td>\n",
              "      <td>842613456</td>\n",
              "      <td>NaN</td>\n",
              "      <td>0</td>\n",
              "      <td>8/21/07</td>\n",
              "      <td>morning brief   white house seek limit child i...</td>\n",
              "    </tr>\n",
              "    <tr>\n",
              "      <th>2</th>\n",
              "      <td>2</td>\n",
              "      <td>842613457</td>\n",
              "      <td>NaN</td>\n",
              "      <td>0</td>\n",
              "      <td>11/14/91</td>\n",
              "      <td>banking bill negotiator set compromise    plan...</td>\n",
              "    </tr>\n",
              "    <tr>\n",
              "      <th>3</th>\n",
              "      <td>3</td>\n",
              "      <td>842613458</td>\n",
              "      <td>NaN</td>\n",
              "      <td>0</td>\n",
              "      <td>6/16/86</td>\n",
              "      <td>manager journal   sniff drug abuser quick fix ...</td>\n",
              "    </tr>\n",
              "    <tr>\n",
              "      <th>4</th>\n",
              "      <td>4</td>\n",
              "      <td>842613459</td>\n",
              "      <td>3.0</td>\n",
              "      <td>1</td>\n",
              "      <td>10/4/02</td>\n",
              "      <td>currency trading   dollar remain tight range a...</td>\n",
              "    </tr>\n",
              "  </tbody>\n",
              "</table>\n",
              "</div>"
            ],
            "text/plain": [
              "   Unnamed: 0  ...                                              texts\n",
              "0           0  ...  yield cd fall late week new york    yield cert...\n",
              "1           1  ...  morning brief   white house seek limit child i...\n",
              "2           2  ...  banking bill negotiator set compromise    plan...\n",
              "3           3  ...  manager journal   sniff drug abuser quick fix ...\n",
              "4           4  ...  currency trading   dollar remain tight range a...\n",
              "\n",
              "[5 rows x 6 columns]"
            ]
          },
          "metadata": {
            "tags": []
          },
          "execution_count": 9
        }
      ]
    },
    {
      "cell_type": "markdown",
      "metadata": {
        "id": "97k9voeMpTkc",
        "colab_type": "text"
      },
      "source": [
        "# Text Classification"
      ]
    },
    {
      "cell_type": "code",
      "metadata": {
        "id": "kImcdTm0xDDG",
        "colab_type": "code",
        "colab": {}
      },
      "source": [
        "data = data[['texts','relevance']]"
      ],
      "execution_count": 0,
      "outputs": []
    },
    {
      "cell_type": "markdown",
      "metadata": {
        "id": "g5EU2yk2Wn7m",
        "colab_type": "text"
      },
      "source": [
        "## Oversampling\n",
        "Oversampling the minority by looking for the synonyms of each word in minor class"
      ]
    },
    {
      "cell_type": "code",
      "metadata": {
        "id": "X3bMiTsXW0VL",
        "colab_type": "code",
        "colab": {}
      },
      "source": [
        "# use WordNet to find synonyms of each word and oversample the minor class\n",
        "from nltk.corpus import wordnet \n",
        "\n",
        "def get_synonyms(word):\n",
        "\tsynonyms = set()\n",
        "\tfor syn in wordnet.synsets(word): \n",
        "\t\tfor l in syn.lemmas(): \n",
        "\t\t\tsynonym = l.name()\n",
        "\t\t\tsynonym = \"\".join([char for char in synonym if char in ' qwertyuiopasdfghjklzxcvbnm'])\n",
        "\t\t\tsynonyms.add(synonym) \n",
        "\tif word in synonyms:\n",
        "\t\tsynonyms.remove(word)\n",
        "\treturn list(synonyms)"
      ],
      "execution_count": 0,
      "outputs": []
    },
    {
      "cell_type": "code",
      "metadata": {
        "id": "r5BJ1rfnW3kO",
        "colab_type": "code",
        "colab": {}
      },
      "source": [
        "# minor class data set\n",
        "df = data[data['relevance']==1]"
      ],
      "execution_count": 0,
      "outputs": []
    },
    {
      "cell_type": "code",
      "metadata": {
        "id": "uspKEO4cW5Vn",
        "colab_type": "code",
        "colab": {}
      },
      "source": [
        "# function to oversample data\n",
        "def oversample(wordlist): \n",
        "  new_words = wordlist\n",
        "  for i in range(len(wordlist)):\n",
        "    for random_word in wordlist[wordlist.index[i]]:\n",
        "      try:\n",
        "        synonyms = get_synonyms(random_word)  # find synonyms list of each word\n",
        "        synonym = random.choice(list(synonyms))  # random select one sysnonym to replace the original word\n",
        "        new_words[new_words.index[i]] = [synonym if word == random_word else word for word in new_words[new_words.index[i]]]\n",
        "      except:\n",
        "        pass\n",
        "    s = ' '.join(new_words[new_words.index[i]]) # join the list of synonyms to a new sentence\n",
        "    new_words[new_words.index[i]] = s\n",
        "  augmented_sentences = pd.DataFrame(columns=['texts','relevance'])\n",
        "  augmented_sentences['texts'] = new_words\n",
        "  augmented_sentences['relevance']  = df['relevance']\n",
        "  return augmented_sentences"
      ],
      "execution_count": 0,
      "outputs": []
    },
    {
      "cell_type": "code",
      "metadata": {
        "id": "_camKX_221oI",
        "colab_type": "code",
        "colab": {}
      },
      "source": [
        "# oversample the minor class data twice\n",
        "sentence = df['texts']\n",
        "word_list = sentence.str.split()\n",
        "data_cleaned = data[['texts','relevance']]\n",
        "\n",
        "random.seed(45)\n",
        "data_cleaned = data_cleaned.append(oversample(word_list))\n",
        "\n",
        "random.seed(98)\n",
        "data_cleaned = data_cleaned.append(oversample(word_list))"
      ],
      "execution_count": 0,
      "outputs": []
    },
    {
      "cell_type": "code",
      "metadata": {
        "id": "c8X1UZl0hMv4",
        "colab_type": "code",
        "outputId": "ba9dc7b6-39fa-47e9-d458-29b398c298b1",
        "colab": {
          "base_uri": "https://localhost:8080/",
          "height": 142
        }
      },
      "source": [
        "dist = data_cleaned.groupby('relevance').count()\n",
        "dist"
      ],
      "execution_count": 0,
      "outputs": [
        {
          "output_type": "execute_result",
          "data": {
            "text/html": [
              "<div>\n",
              "<style scoped>\n",
              "    .dataframe tbody tr th:only-of-type {\n",
              "        vertical-align: middle;\n",
              "    }\n",
              "\n",
              "    .dataframe tbody tr th {\n",
              "        vertical-align: top;\n",
              "    }\n",
              "\n",
              "    .dataframe thead th {\n",
              "        text-align: right;\n",
              "    }\n",
              "</style>\n",
              "<table border=\"1\" class=\"dataframe\">\n",
              "  <thead>\n",
              "    <tr style=\"text-align: right;\">\n",
              "      <th></th>\n",
              "      <th>texts</th>\n",
              "    </tr>\n",
              "    <tr>\n",
              "      <th>relevance</th>\n",
              "      <th></th>\n",
              "    </tr>\n",
              "  </thead>\n",
              "  <tbody>\n",
              "    <tr>\n",
              "      <th>0</th>\n",
              "      <td>6571</td>\n",
              "    </tr>\n",
              "    <tr>\n",
              "      <th>1</th>\n",
              "      <td>4260</td>\n",
              "    </tr>\n",
              "  </tbody>\n",
              "</table>\n",
              "</div>"
            ],
            "text/plain": [
              "           texts\n",
              "relevance       \n",
              "0           6571\n",
              "1           4260"
            ]
          },
          "metadata": {
            "tags": []
          },
          "execution_count": 15
        }
      ]
    },
    {
      "cell_type": "code",
      "metadata": {
        "id": "1KtfQJuiuXS2",
        "colab_type": "code",
        "outputId": "f5f6529c-4c76-4699-d48b-feab753e35f0",
        "colab": {
          "base_uri": "https://localhost:8080/",
          "height": 302
        }
      },
      "source": [
        "# pie chart of distribution of news relevance\n",
        "fig1, ax1 = plt.subplots()\n",
        "sizes = dist.values\n",
        "label = ['no', 'yes']\n",
        "plt.rcParams.update({'font.size':20})\n",
        "ax1.pie(sizes, labels=label, autopct='%1.1f%%',\n",
        "        shadow=True, startangle=90)\n",
        "#ax1.set_title('relevance to US economy')\n",
        "ax1.axis('equal')    \n",
        "plt.show()"
      ],
      "execution_count": 0,
      "outputs": [
        {
          "output_type": "stream",
          "text": [
            "/usr/local/lib/python3.6/dist-packages/ipykernel_launcher.py:7: MatplotlibDeprecationWarning: Non-1D inputs to pie() are currently squeeze()d, but this behavior is deprecated since 3.1 and will be removed in 3.3; pass a 1D array instead.\n",
            "  import sys\n"
          ],
          "name": "stderr"
        },
        {
          "output_type": "display_data",
          "data": {
            "image/png": "[encoded data removed]",
            "text/plain": [
              "<Figure size 432x288 with 1 Axes>"
            ]
          },
          "metadata": {
            "tags": []
          }
        }
      ]
    },
    {
      "cell_type": "code",
      "metadata": {
        "id": "IATNGDhruT1b",
        "colab_type": "code",
        "colab": {}
      },
      "source": [
        "# to ramdom shuffle data\n",
        "data_cleaned = shuffle(data_cleaned)"
      ],
      "execution_count": 0,
      "outputs": []
    },
    {
      "cell_type": "code",
      "metadata": {
        "id": "JRCoRNXyuYpv",
        "colab_type": "code",
        "colab": {}
      },
      "source": [
        "# reset data index\n",
        "data_cleaned = data_cleaned.reset_index()"
      ],
      "execution_count": 0,
      "outputs": []
    },
    {
      "cell_type": "code",
      "metadata": {
        "id": "nbg2pmX2xZ_E",
        "colab_type": "code",
        "outputId": "59705086-7ad1-4488-9fef-f83e5627cc37",
        "colab": {
          "base_uri": "https://localhost:8080/",
          "height": 204
        }
      },
      "source": [
        "data_cleaned.head(5)"
      ],
      "execution_count": 0,
      "outputs": [
        {
          "output_type": "execute_result",
          "data": {
            "text/html": [
              "<div>\n",
              "<style scoped>\n",
              "    .dataframe tbody tr th:only-of-type {\n",
              "        vertical-align: middle;\n",
              "    }\n",
              "\n",
              "    .dataframe tbody tr th {\n",
              "        vertical-align: top;\n",
              "    }\n",
              "\n",
              "    .dataframe thead th {\n",
              "        text-align: right;\n",
              "    }\n",
              "</style>\n",
              "<table border=\"1\" class=\"dataframe\">\n",
              "  <thead>\n",
              "    <tr style=\"text-align: right;\">\n",
              "      <th></th>\n",
              "      <th>index</th>\n",
              "      <th>texts</th>\n",
              "      <th>relevance</th>\n",
              "    </tr>\n",
              "  </thead>\n",
              "  <tbody>\n",
              "    <tr>\n",
              "      <th>0</th>\n",
              "      <td>4728</td>\n",
              "      <td>d    washington post    consumer product safet...</td>\n",
              "      <td>0</td>\n",
              "    </tr>\n",
              "    <tr>\n",
              "      <th>1</th>\n",
              "      <td>6950</td>\n",
              "      <td>fed report disparity area lend   black   hispa...</td>\n",
              "      <td>1</td>\n",
              "    </tr>\n",
              "    <tr>\n",
              "      <th>2</th>\n",
              "      <td>4442</td>\n",
              "      <td>dow rise    loss row blue chip stock close mod...</td>\n",
              "      <td>1</td>\n",
              "    </tr>\n",
              "    <tr>\n",
              "      <th>3</th>\n",
              "      <td>5034</td>\n",
              "      <td>build freeze lift criticize see today   d annu...</td>\n",
              "      <td>0</td>\n",
              "    </tr>\n",
              "    <tr>\n",
              "      <th>4</th>\n",
              "      <td>1635</td>\n",
              "      <td>evening wrap   supersize vote dozen super tues...</td>\n",
              "      <td>0</td>\n",
              "    </tr>\n",
              "  </tbody>\n",
              "</table>\n",
              "</div>"
            ],
            "text/plain": [
              "   index                                              texts  relevance\n",
              "0   4728  d    washington post    consumer product safet...          0\n",
              "1   6950  fed report disparity area lend   black   hispa...          1\n",
              "2   4442  dow rise    loss row blue chip stock close mod...          1\n",
              "3   5034  build freeze lift criticize see today   d annu...          0\n",
              "4   1635  evening wrap   supersize vote dozen super tues...          0"
            ]
          },
          "metadata": {
            "tags": []
          },
          "execution_count": 19
        }
      ]
    },
    {
      "cell_type": "markdown",
      "metadata": {
        "id": "k6k74FtHJcKr",
        "colab_type": "text"
      },
      "source": [
        "## Baselines"
      ]
    },
    {
      "cell_type": "markdown",
      "metadata": {
        "id": "8RGo3OsYyQPi",
        "colab_type": "text"
      },
      "source": [
        "### SVM"
      ]
    },
    {
      "cell_type": "code",
      "metadata": {
        "id": "A9sAuY4V-uy4",
        "colab_type": "code",
        "colab": {}
      },
      "source": [
        "\n",
        "texts = data_cleaned['texts'].values\n",
        "labels = data_cleaned['relevance'].values\n",
        "\n",
        "# Linear SVC Model:\n",
        "text_clf_lsvc = Pipeline([('tfidf', TfidfVectorizer()),\n",
        "                     ('clf', LinearSVC()),\n",
        "])\n",
        "\n",
        "# 9-split cross validatioon\n",
        "kfold = StratifiedKFold(n_splits=10, shuffle=True, random_state = 7)\n",
        "\n",
        "# perform matrix\n",
        "cvscores_svm = pd.DataFrame(columns = ['tp', 'fp', 'tn', 'fn', 'accuracy','precision', 'recall', 'f1', 'auc', 'cohen_kappa_score'])\n",
        "\n",
        "for train, test in kfold.split(texts, labels):\n",
        "# Train both models on the moviereviews.tsv training set:\n",
        "  text_clf_lsvc.fit(texts[train], labels[train])\n",
        "  \n",
        "  predictions_svm = text_clf_lsvc.predict(texts[test])\n",
        "  predict = [round(value) for value in predictions_svm]\n",
        "  ck = cohen_kappa_score(labels[test], predict)\n",
        "  f1 = f1_score(labels[test], predict)\n",
        "  auc = roc_auc_score(labels[test], predict)\n",
        "\n",
        "  cm_svm = metrics.confusion_matrix(labels[test], predictions_svm)\n",
        "  tp = cm_svm[1][1]\n",
        "  fp = cm_svm[0][1]\n",
        "  tn = cm_svm[0][0]\n",
        "  fn = cm_svm[1][0]\n",
        "  \n",
        "  cvscores_svm = cvscores_svm.append({'tp': tp, 'fp': fp, 'tn': tn, 'fn': fn, \n",
        "                                    'accuracy': (tp + tn)/(tp + fp + tn + fn),\n",
        "                                    'precision': tp/(tp + fp), \n",
        "                                    'recall': tp/((tp + fn)), \n",
        "                                    'f1': f1,\n",
        "                                    'auc': auc,\n",
        "                                    'cohen_kappa_score': ck\n",
        "                                    }, \n",
        "                                   ignore_index= True)"
      ],
      "execution_count": 0,
      "outputs": []
    },
    {
      "cell_type": "code",
      "metadata": {
        "id": "rCfUQ6pDBORo",
        "colab_type": "code",
        "outputId": "8716b10a-e1fe-417b-e92c-e97601555ace",
        "colab": {
          "base_uri": "https://localhost:8080/",
          "height": 359
        }
      },
      "source": [
        "cvscores_svm"
      ],
      "execution_count": 0,
      "outputs": [
        {
          "output_type": "execute_result",
          "data": {
            "text/html": [
              "<div>\n",
              "<style scoped>\n",
              "    .dataframe tbody tr th:only-of-type {\n",
              "        vertical-align: middle;\n",
              "    }\n",
              "\n",
              "    .dataframe tbody tr th {\n",
              "        vertical-align: top;\n",
              "    }\n",
              "\n",
              "    .dataframe thead th {\n",
              "        text-align: right;\n",
              "    }\n",
              "</style>\n",
              "<table border=\"1\" class=\"dataframe\">\n",
              "  <thead>\n",
              "    <tr style=\"text-align: right;\">\n",
              "      <th></th>\n",
              "      <th>tp</th>\n",
              "      <th>fp</th>\n",
              "      <th>tn</th>\n",
              "      <th>fn</th>\n",
              "      <th>accuracy</th>\n",
              "      <th>precision</th>\n",
              "      <th>recall</th>\n",
              "      <th>f1</th>\n",
              "      <th>auc</th>\n",
              "      <th>cohen_kappa_score</th>\n",
              "    </tr>\n",
              "  </thead>\n",
              "  <tbody>\n",
              "    <tr>\n",
              "      <th>0</th>\n",
              "      <td>302.0</td>\n",
              "      <td>47.0</td>\n",
              "      <td>611.0</td>\n",
              "      <td>124.0</td>\n",
              "      <td>0.842251</td>\n",
              "      <td>0.865330</td>\n",
              "      <td>0.708920</td>\n",
              "      <td>0.779355</td>\n",
              "      <td>0.818746</td>\n",
              "      <td>0.658474</td>\n",
              "    </tr>\n",
              "    <tr>\n",
              "      <th>1</th>\n",
              "      <td>331.0</td>\n",
              "      <td>38.0</td>\n",
              "      <td>619.0</td>\n",
              "      <td>95.0</td>\n",
              "      <td>0.877193</td>\n",
              "      <td>0.897019</td>\n",
              "      <td>0.776995</td>\n",
              "      <td>0.832704</td>\n",
              "      <td>0.859578</td>\n",
              "      <td>0.736480</td>\n",
              "    </tr>\n",
              "    <tr>\n",
              "      <th>2</th>\n",
              "      <td>318.0</td>\n",
              "      <td>37.0</td>\n",
              "      <td>620.0</td>\n",
              "      <td>108.0</td>\n",
              "      <td>0.866113</td>\n",
              "      <td>0.895775</td>\n",
              "      <td>0.746479</td>\n",
              "      <td>0.814341</td>\n",
              "      <td>0.845081</td>\n",
              "      <td>0.710994</td>\n",
              "    </tr>\n",
              "    <tr>\n",
              "      <th>3</th>\n",
              "      <td>300.0</td>\n",
              "      <td>44.0</td>\n",
              "      <td>613.0</td>\n",
              "      <td>126.0</td>\n",
              "      <td>0.843029</td>\n",
              "      <td>0.872093</td>\n",
              "      <td>0.704225</td>\n",
              "      <td>0.779221</td>\n",
              "      <td>0.818627</td>\n",
              "      <td>0.659574</td>\n",
              "    </tr>\n",
              "    <tr>\n",
              "      <th>4</th>\n",
              "      <td>313.0</td>\n",
              "      <td>40.0</td>\n",
              "      <td>617.0</td>\n",
              "      <td>113.0</td>\n",
              "      <td>0.858726</td>\n",
              "      <td>0.886686</td>\n",
              "      <td>0.734742</td>\n",
              "      <td>0.803594</td>\n",
              "      <td>0.836929</td>\n",
              "      <td>0.694790</td>\n",
              "    </tr>\n",
              "    <tr>\n",
              "      <th>5</th>\n",
              "      <td>313.0</td>\n",
              "      <td>42.0</td>\n",
              "      <td>615.0</td>\n",
              "      <td>113.0</td>\n",
              "      <td>0.856879</td>\n",
              "      <td>0.881690</td>\n",
              "      <td>0.734742</td>\n",
              "      <td>0.801536</td>\n",
              "      <td>0.835407</td>\n",
              "      <td>0.691063</td>\n",
              "    </tr>\n",
              "    <tr>\n",
              "      <th>6</th>\n",
              "      <td>332.0</td>\n",
              "      <td>45.0</td>\n",
              "      <td>612.0</td>\n",
              "      <td>94.0</td>\n",
              "      <td>0.871653</td>\n",
              "      <td>0.880637</td>\n",
              "      <td>0.779343</td>\n",
              "      <td>0.826899</td>\n",
              "      <td>0.855425</td>\n",
              "      <td>0.725520</td>\n",
              "    </tr>\n",
              "    <tr>\n",
              "      <th>7</th>\n",
              "      <td>304.0</td>\n",
              "      <td>44.0</td>\n",
              "      <td>613.0</td>\n",
              "      <td>122.0</td>\n",
              "      <td>0.846722</td>\n",
              "      <td>0.873563</td>\n",
              "      <td>0.713615</td>\n",
              "      <td>0.785530</td>\n",
              "      <td>0.823322</td>\n",
              "      <td>0.668151</td>\n",
              "    </tr>\n",
              "    <tr>\n",
              "      <th>8</th>\n",
              "      <td>317.0</td>\n",
              "      <td>48.0</td>\n",
              "      <td>609.0</td>\n",
              "      <td>109.0</td>\n",
              "      <td>0.855032</td>\n",
              "      <td>0.868493</td>\n",
              "      <td>0.744131</td>\n",
              "      <td>0.801517</td>\n",
              "      <td>0.835536</td>\n",
              "      <td>0.688401</td>\n",
              "    </tr>\n",
              "    <tr>\n",
              "      <th>9</th>\n",
              "      <td>313.0</td>\n",
              "      <td>45.0</td>\n",
              "      <td>612.0</td>\n",
              "      <td>113.0</td>\n",
              "      <td>0.854109</td>\n",
              "      <td>0.874302</td>\n",
              "      <td>0.734742</td>\n",
              "      <td>0.798469</td>\n",
              "      <td>0.833124</td>\n",
              "      <td>0.685485</td>\n",
              "    </tr>\n",
              "  </tbody>\n",
              "</table>\n",
              "</div>"
            ],
            "text/plain": [
              "      tp    fp     tn     fn  ...    recall        f1       auc  cohen_kappa_score\n",
              "0  302.0  47.0  611.0  124.0  ...  0.708920  0.779355  0.818746           0.658474\n",
              "1  331.0  38.0  619.0   95.0  ...  0.776995  0.832704  0.859578           0.736480\n",
              "2  318.0  37.0  620.0  108.0  ...  0.746479  0.814341  0.845081           0.710994\n",
              "3  300.0  44.0  613.0  126.0  ...  0.704225  0.779221  0.818627           0.659574\n",
              "4  313.0  40.0  617.0  113.0  ...  0.734742  0.803594  0.836929           0.694790\n",
              "5  313.0  42.0  615.0  113.0  ...  0.734742  0.801536  0.835407           0.691063\n",
              "6  332.0  45.0  612.0   94.0  ...  0.779343  0.826899  0.855425           0.725520\n",
              "7  304.0  44.0  613.0  122.0  ...  0.713615  0.785530  0.823322           0.668151\n",
              "8  317.0  48.0  609.0  109.0  ...  0.744131  0.801517  0.835536           0.688401\n",
              "9  313.0  45.0  612.0  113.0  ...  0.734742  0.798469  0.833124           0.685485\n",
              "\n",
              "[10 rows x 10 columns]"
            ]
          },
          "metadata": {
            "tags": []
          },
          "execution_count": 31
        }
      ]
    },
    {
      "cell_type": "code",
      "metadata": {
        "id": "65IkQ5P4BXEf",
        "colab_type": "code",
        "outputId": "516b8712-ab65-4915-95d0-18ec8aeed3fb",
        "colab": {
          "base_uri": "https://localhost:8080/",
          "height": 204
        }
      },
      "source": [
        "cvscores_svm.mean()"
      ],
      "execution_count": 0,
      "outputs": [
        {
          "output_type": "execute_result",
          "data": {
            "text/plain": [
              "tp                   314.300000\n",
              "fp                    43.000000\n",
              "tn                   614.100000\n",
              "fn                   111.700000\n",
              "accuracy               0.857171\n",
              "precision              0.879559\n",
              "recall                 0.737793\n",
              "f1                     0.802317\n",
              "auc                    0.836178\n",
              "cohen_kappa_score      0.691893\n",
              "dtype: float64"
            ]
          },
          "metadata": {
            "tags": []
          },
          "execution_count": 33
        }
      ]
    },
    {
      "cell_type": "code",
      "metadata": {
        "id": "xwIQOJUqrpVg",
        "colab_type": "code",
        "colab": {}
      },
      "source": [
        "cvscores_svm.to_csv(\"/gdrive/My Drive/svm.csv\")"
      ],
      "execution_count": 0,
      "outputs": []
    },
    {
      "cell_type": "markdown",
      "metadata": {
        "id": "Wl-oNzWXyTzs",
        "colab_type": "text"
      },
      "source": [
        "### XGBoost"
      ]
    },
    {
      "cell_type": "code",
      "metadata": {
        "id": "laG1WyVUDnaB",
        "colab_type": "code",
        "colab": {}
      },
      "source": [
        "texts = data_cleaned['texts'].values\n",
        "labels = data_cleaned['relevance'].values\n",
        "\n",
        "# XGBoost Model:\n",
        "text_clf_xgb = Pipeline([('tfidf', TfidfVectorizer()),\n",
        "                     ('clf', XGBClassifier()),\n",
        "])\n",
        "\n",
        "# 9-split cross validatioon\n",
        "kfold = StratifiedKFold(n_splits=10, shuffle=True, random_state = 7)\n",
        "\n",
        "# perform matrix\n",
        "cvscores_xgb = pd.DataFrame(columns = ['tp', 'fp', 'tn', 'fn', 'accuracy','precision', 'recall', 'f1', 'auc', 'cohen_kappa_score'])\n",
        "\n",
        "for train, test in kfold.split(texts, labels):\n",
        "  text_clf_xgb.fit(texts[train], labels[train])\n",
        "  \n",
        "  predictions_xgb = text_clf_xgb.predict(texts[test])\n",
        "  predict = [round(value) for value in predictions_xgb]\n",
        "  ck = cohen_kappa_score(labels[test], predict)\n",
        "  f1 = f1_score(labels[test], predict)\n",
        "  auc = roc_auc_score(labels[test], predict)\n",
        "\n",
        "  cm_xgb = metrics.confusion_matrix(labels[test], predictions_xgb)\n",
        "  tp = cm_xgb[1][1]\n",
        "  fp = cm_xgb[0][1]\n",
        "  tn = cm_xgb[0][0]\n",
        "  fn = cm_xgb[1][0]\n",
        "  \n",
        "  cvscores_xgb = cvscores_xgb.append({'tp': tp, 'fp': fp, 'tn': tn, 'fn': fn, \n",
        "                                    'accuracy': (tp + tn)/(tp + fp + tn + fn),\n",
        "                                    'precision': tp/(tp + fp), \n",
        "                                    'recall': tp/((tp + fn)), \n",
        "                                     'f1': f1,\n",
        "                                    'auc': auc,\n",
        "                                    'cohen_kappa_score': ck\n",
        "                                    }, \n",
        "                                   ignore_index= True)"
      ],
      "execution_count": 0,
      "outputs": []
    },
    {
      "cell_type": "code",
      "metadata": {
        "id": "xKMF_AcfDoZO",
        "colab_type": "code",
        "outputId": "5fea7f69-22b3-4abe-cbcb-5c3d9f5b3e4c",
        "colab": {
          "base_uri": "https://localhost:8080/",
          "height": 359
        }
      },
      "source": [
        "cvscores_xgb"
      ],
      "execution_count": 0,
      "outputs": [
        {
          "output_type": "execute_result",
          "data": {
            "text/html": [
              "<div>\n",
              "<style scoped>\n",
              "    .dataframe tbody tr th:only-of-type {\n",
              "        vertical-align: middle;\n",
              "    }\n",
              "\n",
              "    .dataframe tbody tr th {\n",
              "        vertical-align: top;\n",
              "    }\n",
              "\n",
              "    .dataframe thead th {\n",
              "        text-align: right;\n",
              "    }\n",
              "</style>\n",
              "<table border=\"1\" class=\"dataframe\">\n",
              "  <thead>\n",
              "    <tr style=\"text-align: right;\">\n",
              "      <th></th>\n",
              "      <th>tp</th>\n",
              "      <th>fp</th>\n",
              "      <th>tn</th>\n",
              "      <th>fn</th>\n",
              "      <th>accuracy</th>\n",
              "      <th>precision</th>\n",
              "      <th>recall</th>\n",
              "      <th>f1</th>\n",
              "      <th>auc</th>\n",
              "      <th>cohen_kappa_score</th>\n",
              "    </tr>\n",
              "  </thead>\n",
              "  <tbody>\n",
              "    <tr>\n",
              "      <th>0</th>\n",
              "      <td>269.0</td>\n",
              "      <td>4.0</td>\n",
              "      <td>654.0</td>\n",
              "      <td>157.0</td>\n",
              "      <td>0.851476</td>\n",
              "      <td>0.985348</td>\n",
              "      <td>0.631455</td>\n",
              "      <td>0.769671</td>\n",
              "      <td>0.812688</td>\n",
              "      <td>0.667649</td>\n",
              "    </tr>\n",
              "    <tr>\n",
              "      <th>1</th>\n",
              "      <td>298.0</td>\n",
              "      <td>2.0</td>\n",
              "      <td>655.0</td>\n",
              "      <td>128.0</td>\n",
              "      <td>0.879963</td>\n",
              "      <td>0.993333</td>\n",
              "      <td>0.699531</td>\n",
              "      <td>0.820937</td>\n",
              "      <td>0.848243</td>\n",
              "      <td>0.734688</td>\n",
              "    </tr>\n",
              "    <tr>\n",
              "      <th>2</th>\n",
              "      <td>284.0</td>\n",
              "      <td>3.0</td>\n",
              "      <td>654.0</td>\n",
              "      <td>142.0</td>\n",
              "      <td>0.866113</td>\n",
              "      <td>0.989547</td>\n",
              "      <td>0.666667</td>\n",
              "      <td>0.796634</td>\n",
              "      <td>0.831050</td>\n",
              "      <td>0.702391</td>\n",
              "    </tr>\n",
              "    <tr>\n",
              "      <th>3</th>\n",
              "      <td>262.0</td>\n",
              "      <td>3.0</td>\n",
              "      <td>654.0</td>\n",
              "      <td>164.0</td>\n",
              "      <td>0.845799</td>\n",
              "      <td>0.988679</td>\n",
              "      <td>0.615023</td>\n",
              "      <td>0.758321</td>\n",
              "      <td>0.805229</td>\n",
              "      <td>0.653903</td>\n",
              "    </tr>\n",
              "    <tr>\n",
              "      <th>4</th>\n",
              "      <td>277.0</td>\n",
              "      <td>3.0</td>\n",
              "      <td>654.0</td>\n",
              "      <td>149.0</td>\n",
              "      <td>0.859649</td>\n",
              "      <td>0.989286</td>\n",
              "      <td>0.650235</td>\n",
              "      <td>0.784703</td>\n",
              "      <td>0.822834</td>\n",
              "      <td>0.687064</td>\n",
              "    </tr>\n",
              "    <tr>\n",
              "      <th>5</th>\n",
              "      <td>268.0</td>\n",
              "      <td>1.0</td>\n",
              "      <td>656.0</td>\n",
              "      <td>158.0</td>\n",
              "      <td>0.853186</td>\n",
              "      <td>0.996283</td>\n",
              "      <td>0.629108</td>\n",
              "      <td>0.771223</td>\n",
              "      <td>0.813793</td>\n",
              "      <td>0.671064</td>\n",
              "    </tr>\n",
              "    <tr>\n",
              "      <th>6</th>\n",
              "      <td>295.0</td>\n",
              "      <td>3.0</td>\n",
              "      <td>654.0</td>\n",
              "      <td>131.0</td>\n",
              "      <td>0.876270</td>\n",
              "      <td>0.989933</td>\n",
              "      <td>0.692488</td>\n",
              "      <td>0.814917</td>\n",
              "      <td>0.843961</td>\n",
              "      <td>0.726286</td>\n",
              "    </tr>\n",
              "    <tr>\n",
              "      <th>7</th>\n",
              "      <td>273.0</td>\n",
              "      <td>5.0</td>\n",
              "      <td>652.0</td>\n",
              "      <td>153.0</td>\n",
              "      <td>0.854109</td>\n",
              "      <td>0.982014</td>\n",
              "      <td>0.640845</td>\n",
              "      <td>0.775568</td>\n",
              "      <td>0.816617</td>\n",
              "      <td>0.674426</td>\n",
              "    </tr>\n",
              "    <tr>\n",
              "      <th>8</th>\n",
              "      <td>285.0</td>\n",
              "      <td>5.0</td>\n",
              "      <td>652.0</td>\n",
              "      <td>141.0</td>\n",
              "      <td>0.865189</td>\n",
              "      <td>0.982759</td>\n",
              "      <td>0.669014</td>\n",
              "      <td>0.796089</td>\n",
              "      <td>0.830702</td>\n",
              "      <td>0.700731</td>\n",
              "    </tr>\n",
              "    <tr>\n",
              "      <th>9</th>\n",
              "      <td>289.0</td>\n",
              "      <td>4.0</td>\n",
              "      <td>653.0</td>\n",
              "      <td>137.0</td>\n",
              "      <td>0.869806</td>\n",
              "      <td>0.986348</td>\n",
              "      <td>0.678404</td>\n",
              "      <td>0.803894</td>\n",
              "      <td>0.836158</td>\n",
              "      <td>0.711359</td>\n",
              "    </tr>\n",
              "  </tbody>\n",
              "</table>\n",
              "</div>"
            ],
            "text/plain": [
              "      tp   fp     tn     fn  ...    recall        f1       auc  cohen_kappa_score\n",
              "0  269.0  4.0  654.0  157.0  ...  0.631455  0.769671  0.812688           0.667649\n",
              "1  298.0  2.0  655.0  128.0  ...  0.699531  0.820937  0.848243           0.734688\n",
              "2  284.0  3.0  654.0  142.0  ...  0.666667  0.796634  0.831050           0.702391\n",
              "3  262.0  3.0  654.0  164.0  ...  0.615023  0.758321  0.805229           0.653903\n",
              "4  277.0  3.0  654.0  149.0  ...  0.650235  0.784703  0.822834           0.687064\n",
              "5  268.0  1.0  656.0  158.0  ...  0.629108  0.771223  0.813793           0.671064\n",
              "6  295.0  3.0  654.0  131.0  ...  0.692488  0.814917  0.843961           0.726286\n",
              "7  273.0  5.0  652.0  153.0  ...  0.640845  0.775568  0.816617           0.674426\n",
              "8  285.0  5.0  652.0  141.0  ...  0.669014  0.796089  0.830702           0.700731\n",
              "9  289.0  4.0  653.0  137.0  ...  0.678404  0.803894  0.836158           0.711359\n",
              "\n",
              "[10 rows x 10 columns]"
            ]
          },
          "metadata": {
            "tags": []
          },
          "execution_count": 25
        }
      ]
    },
    {
      "cell_type": "code",
      "metadata": {
        "id": "IICMk38SDrNr",
        "colab_type": "code",
        "outputId": "8c8850b1-13d0-4941-eb87-1902d3042c19",
        "colab": {
          "base_uri": "https://localhost:8080/",
          "height": 204
        }
      },
      "source": [
        "cvscores_xgb.mean()"
      ],
      "execution_count": 0,
      "outputs": [
        {
          "output_type": "execute_result",
          "data": {
            "text/plain": [
              "tp                   280.000000\n",
              "fp                     3.300000\n",
              "tn                   653.800000\n",
              "fn                   146.000000\n",
              "accuracy               0.862156\n",
              "precision              0.988353\n",
              "recall                 0.657277\n",
              "f1                     0.789196\n",
              "auc                    0.826128\n",
              "cohen_kappa_score      0.692956\n",
              "dtype: float64"
            ]
          },
          "metadata": {
            "tags": []
          },
          "execution_count": 26
        }
      ]
    },
    {
      "cell_type": "markdown",
      "metadata": {
        "id": "KBPEpRCXyath",
        "colab_type": "text"
      },
      "source": [
        "### Logistic Regression"
      ]
    },
    {
      "cell_type": "code",
      "metadata": {
        "id": "jrmk-C3RD1CC",
        "colab_type": "code",
        "colab": {}
      },
      "source": [
        "texts = data_cleaned['texts'].values\n",
        "labels = data_cleaned['relevance'].values\n",
        "\n",
        "# Logistic Regression Model:\n",
        "text_clf_lr = Pipeline([('tfidf', TfidfVectorizer()),\n",
        "                     ('clf', LogisticRegression()),\n",
        "])\n",
        "\n",
        "# 10-split cross validatioon\n",
        "kfold = StratifiedKFold(n_splits=10, shuffle=True, random_state = 7)\n",
        "\n",
        "# perform matrix\n",
        "cvscores_lr = pd.DataFrame(columns = ['tp', 'fp', 'tn', 'fn', 'accuracy','precision', 'recall', 'f1', 'auc', 'cohen_kappa_score'])\n",
        "\n",
        "for train, test in kfold.split(texts, labels):\n",
        "  text_clf_lr.fit(texts[train], labels[train])\n",
        "\n",
        "  predictions_lr = text_clf_lr.predict(texts[test])\n",
        "  predict = [round(value) for value in predictions_lr]\n",
        "  ck = cohen_kappa_score(labels[test], predict)\n",
        "  f1 = f1_score(labels[test], predict)\n",
        "  auc = roc_auc_score(labels[test], predict)\n",
        "\n",
        "  cm_lr = metrics.confusion_matrix(labels[test], predictions_lr)\n",
        "  tp = cm_lr[1][1]\n",
        "  fp = cm_lr[0][1]\n",
        "  tn = cm_lr[0][0]\n",
        "  fn = cm_lr[1][0]\n",
        "  cvscores_lr = cvscores_lr.append({'tp': tp, 'fp': fp, 'tn': tn, 'fn': fn, \n",
        "                                    'accuracy': (tp + tn)/(tp + fp + tn + fn),\n",
        "                                    'precision': tp/(tp + fp), \n",
        "                                    'recall': tp/((tp + fn)), \n",
        "                                     'f1': f1,\n",
        "                                    'auc': auc,\n",
        "                                    'cohen_kappa_score': ck\n",
        "                                    }, \n",
        "                                   ignore_index= True)"
      ],
      "execution_count": 0,
      "outputs": []
    },
    {
      "cell_type": "code",
      "metadata": {
        "id": "dZAgWJ15D2Sb",
        "colab_type": "code",
        "outputId": "61038734-8335-4630-a4de-f3dc5310bfe1",
        "colab": {
          "base_uri": "https://localhost:8080/",
          "height": 359
        }
      },
      "source": [
        "cvscores_lr"
      ],
      "execution_count": 0,
      "outputs": [
        {
          "output_type": "execute_result",
          "data": {
            "text/html": [
              "<div>\n",
              "<style scoped>\n",
              "    .dataframe tbody tr th:only-of-type {\n",
              "        vertical-align: middle;\n",
              "    }\n",
              "\n",
              "    .dataframe tbody tr th {\n",
              "        vertical-align: top;\n",
              "    }\n",
              "\n",
              "    .dataframe thead th {\n",
              "        text-align: right;\n",
              "    }\n",
              "</style>\n",
              "<table border=\"1\" class=\"dataframe\">\n",
              "  <thead>\n",
              "    <tr style=\"text-align: right;\">\n",
              "      <th></th>\n",
              "      <th>tp</th>\n",
              "      <th>fp</th>\n",
              "      <th>tn</th>\n",
              "      <th>fn</th>\n",
              "      <th>accuracy</th>\n",
              "      <th>precision</th>\n",
              "      <th>recall</th>\n",
              "      <th>f1</th>\n",
              "      <th>auc</th>\n",
              "      <th>cohen_kappa_score</th>\n",
              "    </tr>\n",
              "  </thead>\n",
              "  <tbody>\n",
              "    <tr>\n",
              "      <th>0</th>\n",
              "      <td>292.0</td>\n",
              "      <td>19.0</td>\n",
              "      <td>639.0</td>\n",
              "      <td>134.0</td>\n",
              "      <td>0.858856</td>\n",
              "      <td>0.938907</td>\n",
              "      <td>0.685446</td>\n",
              "      <td>0.792402</td>\n",
              "      <td>0.828285</td>\n",
              "      <td>0.689379</td>\n",
              "    </tr>\n",
              "    <tr>\n",
              "      <th>1</th>\n",
              "      <td>314.0</td>\n",
              "      <td>17.0</td>\n",
              "      <td>640.0</td>\n",
              "      <td>112.0</td>\n",
              "      <td>0.880886</td>\n",
              "      <td>0.948640</td>\n",
              "      <td>0.737089</td>\n",
              "      <td>0.829590</td>\n",
              "      <td>0.855607</td>\n",
              "      <td>0.740234</td>\n",
              "    </tr>\n",
              "    <tr>\n",
              "      <th>2</th>\n",
              "      <td>302.0</td>\n",
              "      <td>14.0</td>\n",
              "      <td>643.0</td>\n",
              "      <td>124.0</td>\n",
              "      <td>0.872576</td>\n",
              "      <td>0.955696</td>\n",
              "      <td>0.708920</td>\n",
              "      <td>0.814016</td>\n",
              "      <td>0.843806</td>\n",
              "      <td>0.720309</td>\n",
              "    </tr>\n",
              "    <tr>\n",
              "      <th>3</th>\n",
              "      <td>279.0</td>\n",
              "      <td>10.0</td>\n",
              "      <td>647.0</td>\n",
              "      <td>147.0</td>\n",
              "      <td>0.855032</td>\n",
              "      <td>0.965398</td>\n",
              "      <td>0.654930</td>\n",
              "      <td>0.780420</td>\n",
              "      <td>0.819854</td>\n",
              "      <td>0.678043</td>\n",
              "    </tr>\n",
              "    <tr>\n",
              "      <th>4</th>\n",
              "      <td>296.0</td>\n",
              "      <td>10.0</td>\n",
              "      <td>647.0</td>\n",
              "      <td>130.0</td>\n",
              "      <td>0.870729</td>\n",
              "      <td>0.967320</td>\n",
              "      <td>0.694836</td>\n",
              "      <td>0.808743</td>\n",
              "      <td>0.839807</td>\n",
              "      <td>0.715024</td>\n",
              "    </tr>\n",
              "    <tr>\n",
              "      <th>5</th>\n",
              "      <td>296.0</td>\n",
              "      <td>12.0</td>\n",
              "      <td>645.0</td>\n",
              "      <td>130.0</td>\n",
              "      <td>0.868883</td>\n",
              "      <td>0.961039</td>\n",
              "      <td>0.694836</td>\n",
              "      <td>0.806540</td>\n",
              "      <td>0.838285</td>\n",
              "      <td>0.711203</td>\n",
              "    </tr>\n",
              "    <tr>\n",
              "      <th>6</th>\n",
              "      <td>316.0</td>\n",
              "      <td>15.0</td>\n",
              "      <td>642.0</td>\n",
              "      <td>110.0</td>\n",
              "      <td>0.884580</td>\n",
              "      <td>0.954683</td>\n",
              "      <td>0.741784</td>\n",
              "      <td>0.834875</td>\n",
              "      <td>0.859476</td>\n",
              "      <td>0.748289</td>\n",
              "    </tr>\n",
              "    <tr>\n",
              "      <th>7</th>\n",
              "      <td>293.0</td>\n",
              "      <td>24.0</td>\n",
              "      <td>633.0</td>\n",
              "      <td>133.0</td>\n",
              "      <td>0.855032</td>\n",
              "      <td>0.924290</td>\n",
              "      <td>0.687793</td>\n",
              "      <td>0.788694</td>\n",
              "      <td>0.825632</td>\n",
              "      <td>0.681938</td>\n",
              "    </tr>\n",
              "    <tr>\n",
              "      <th>8</th>\n",
              "      <td>305.0</td>\n",
              "      <td>27.0</td>\n",
              "      <td>630.0</td>\n",
              "      <td>121.0</td>\n",
              "      <td>0.863343</td>\n",
              "      <td>0.918675</td>\n",
              "      <td>0.715962</td>\n",
              "      <td>0.804749</td>\n",
              "      <td>0.837433</td>\n",
              "      <td>0.702102</td>\n",
              "    </tr>\n",
              "    <tr>\n",
              "      <th>9</th>\n",
              "      <td>306.0</td>\n",
              "      <td>11.0</td>\n",
              "      <td>646.0</td>\n",
              "      <td>120.0</td>\n",
              "      <td>0.879040</td>\n",
              "      <td>0.965300</td>\n",
              "      <td>0.718310</td>\n",
              "      <td>0.823688</td>\n",
              "      <td>0.850784</td>\n",
              "      <td>0.734611</td>\n",
              "    </tr>\n",
              "  </tbody>\n",
              "</table>\n",
              "</div>"
            ],
            "text/plain": [
              "      tp    fp     tn     fn  ...    recall        f1       auc  cohen_kappa_score\n",
              "0  292.0  19.0  639.0  134.0  ...  0.685446  0.792402  0.828285           0.689379\n",
              "1  314.0  17.0  640.0  112.0  ...  0.737089  0.829590  0.855607           0.740234\n",
              "2  302.0  14.0  643.0  124.0  ...  0.708920  0.814016  0.843806           0.720309\n",
              "3  279.0  10.0  647.0  147.0  ...  0.654930  0.780420  0.819854           0.678043\n",
              "4  296.0  10.0  647.0  130.0  ...  0.694836  0.808743  0.839807           0.715024\n",
              "5  296.0  12.0  645.0  130.0  ...  0.694836  0.806540  0.838285           0.711203\n",
              "6  316.0  15.0  642.0  110.0  ...  0.741784  0.834875  0.859476           0.748289\n",
              "7  293.0  24.0  633.0  133.0  ...  0.687793  0.788694  0.825632           0.681938\n",
              "8  305.0  27.0  630.0  121.0  ...  0.715962  0.804749  0.837433           0.702102\n",
              "9  306.0  11.0  646.0  120.0  ...  0.718310  0.823688  0.850784           0.734611\n",
              "\n",
              "[10 rows x 10 columns]"
            ]
          },
          "metadata": {
            "tags": []
          },
          "execution_count": 28
        }
      ]
    },
    {
      "cell_type": "code",
      "metadata": {
        "id": "kqEKkj4iD3cd",
        "colab_type": "code",
        "outputId": "eb8e00fd-5485-46ec-835c-d759dc6db798",
        "colab": {
          "base_uri": "https://localhost:8080/",
          "height": 204
        }
      },
      "source": [
        "cvscores_lr.mean()"
      ],
      "execution_count": 0,
      "outputs": [
        {
          "output_type": "execute_result",
          "data": {
            "text/plain": [
              "tp                   299.900000\n",
              "fp                    15.900000\n",
              "tn                   641.200000\n",
              "fn                   126.100000\n",
              "accuracy               0.868896\n",
              "precision              0.949995\n",
              "recall                 0.703991\n",
              "f1                     0.808372\n",
              "auc                    0.839897\n",
              "cohen_kappa_score      0.712113\n",
              "dtype: float64"
            ]
          },
          "metadata": {
            "tags": []
          },
          "execution_count": 29
        }
      ]
    }
  ]
}