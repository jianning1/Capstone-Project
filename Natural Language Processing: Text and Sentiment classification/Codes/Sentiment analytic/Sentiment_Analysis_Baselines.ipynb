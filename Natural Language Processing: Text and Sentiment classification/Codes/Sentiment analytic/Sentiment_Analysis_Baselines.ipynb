{
  "nbformat": 4,
  "nbformat_minor": 0,
  "metadata": {
    "kernelspec": {
      "name": "python3",
      "display_name": "Python 3"
    },
    "language_info": {
      "codemirror_mode": {
        "name": "ipython",
        "version": 3
      },
      "file_extension": ".py",
      "mimetype": "text/x-python",
      "name": "python",
      "nbconvert_exporter": "python",
      "pygments_lexer": "ipython3",
      "version": "3.7.6"
    },
    "colab": {
      "name": "Sentiment Analysis_Baselines.ipynb",
      "provenance": [],
      "collapsed_sections": [],
      "toc_visible": true,
      "machine_shape": "hm"
    },
    "accelerator": "GPU"
  },
  "cells": [
    {
      "cell_type": "markdown",
      "metadata": {
        "id": "iSn7U3RK0P_J",
        "colab_type": "text"
      },
      "source": [
        "# Import Python Libaries"
      ]
    },
    {
      "cell_type": "code",
      "metadata": {
        "id": "2roAI7G-lI-o",
        "colab_type": "code",
        "outputId": "7de8fd89-5772-4b24-9763-d1c7280c0d91",
        "colab": {
          "base_uri": "https://localhost:8080/",
          "height": 1000
        }
      },
      "source": [
        "import pandas as pd\n",
        "import matplotlib.pyplot as plt\n",
        "from matplotlib import rcParams\n",
        "plt.rcParams.update({'figure.autolayout': True, 'font.size':20})\n",
        "import seaborn as sns\n",
        "%matplotlib inline\n",
        "import re\n",
        "import string\n",
        "import spacy \n",
        "import os\n",
        "import sys\n",
        "import numpy as np\n",
        "\n",
        "nlp = spacy.load('en', disable=['ner', 'parser'])\n",
        "import nltk\n",
        "from nltk.stem.snowball import SnowballStemmer\n",
        "from scipy import stats\n",
        "\n",
        "from time import time\n",
        "from collections import defaultdict\n",
        "import gc\n",
        "import io\n",
        "import random\n",
        "\n",
        "from __future__ import print_function, division\n",
        "from builtins import range\n",
        "import os\n",
        "import sys\n",
        "import numpy as np\n",
        "import operator\n",
        "\n",
        "import nltk\n",
        "nltk.download('all')\n",
        "from nltk.corpus import wordnet\n",
        "from nltk.tokenize import word_tokenize\n",
        "\n",
        "\n",
        "import keras\n",
        "from keras.models import Model, Sequential\n",
        "from keras.layers import *\n",
        "from keras.layers import Dense, Embedding, Input\n",
        "from keras.layers import LSTM, Bidirectional, GlobalAveragePooling1D, Dropout, Conv1D, GRU, Layer\n",
        "from keras.preprocessing.text import Tokenizer\n",
        "from keras.preprocessing.sequence import pad_sequences\n",
        "from keras.optimizers import Adam, SGD\n",
        "from sklearn.metrics import roc_auc_score\n",
        "import keras.backend as K\n",
        "from keras.layers import CuDNNLSTM as LSTM\n",
        "from keras.models import load_model\n",
        "from keras.callbacks import EarlyStopping\n",
        "from keras.callbacks import ModelCheckpoint\n",
        "\n",
        "from keras import metrics\n",
        "from tensorflow.python.keras.metrics import Metric\n",
        "from tensorflow.keras.utils import plot_model\n",
        "\n",
        "from sklearn.feature_extraction.text import TfidfVectorizer\n",
        "from sklearn.naive_bayes import MultinomialNB\n",
        "from sklearn.svm import LinearSVC\n",
        "from sklearn import metrics\n",
        "from sklearn.model_selection import train_test_split, StratifiedKFold, KFold\n",
        "from sklearn.utils import shuffle, class_weight\n",
        "from xgboost import XGBClassifier\n",
        "from sklearn.linear_model import LogisticRegression\n",
        "from sklearn.metrics import cohen_kappa_score, roc_auc_score, f1_score, confusion_matrix\n",
        "\n",
        "from sklearn.pipeline import Pipeline\n"
      ],
      "execution_count": 0,
      "outputs": [
        {
          "output_type": "stream",
          "text": [
            "[nltk_data] Downloading collection 'all'\n",
            "[nltk_data]    | \n",
            "[nltk_data]    | Downloading package abc to /root/nltk_data...\n",
            "[nltk_data]    |   Package abc is already up-to-date!\n",
            "[nltk_data]    | Downloading package alpino to /root/nltk_data...\n",
            "[nltk_data]    |   Package alpino is already up-to-date!\n",
            "[nltk_data]    | Downloading package biocreative_ppi to\n",
            "[nltk_data]    |     /root/nltk_data...\n",
            "[nltk_data]    |   Package biocreative_ppi is already up-to-date!\n",
            "[nltk_data]    | Downloading package brown to /root/nltk_data...\n",
            "[nltk_data]    |   Package brown is already up-to-date!\n",
            "[nltk_data]    | Downloading package brown_tei to /root/nltk_data...\n",
            "[nltk_data]    |   Package brown_tei is already up-to-date!\n",
            "[nltk_data]    | Downloading package cess_cat to /root/nltk_data...\n",
            "[nltk_data]    |   Package cess_cat is already up-to-date!\n",
            "[nltk_data]    | Downloading package cess_esp to /root/nltk_data...\n",
            "[nltk_data]    |   Package cess_esp is already up-to-date!\n",
            "[nltk_data]    | Downloading package chat80 to /root/nltk_data...\n",
            "[nltk_data]    |   Package chat80 is already up-to-date!\n",
            "[nltk_data]    | Downloading package city_database to\n",
            "[nltk_data]    |     /root/nltk_data...\n",
            "[nltk_data]    |   Package city_database is already up-to-date!\n",
            "[nltk_data]    | Downloading package cmudict to /root/nltk_data...\n",
            "[nltk_data]    |   Package cmudict is already up-to-date!\n",
            "[nltk_data]    | Downloading package comparative_sentences to\n",
            "[nltk_data]    |     /root/nltk_data...\n",
            "[nltk_data]    |   Package comparative_sentences is already up-to-\n",
            "[nltk_data]    |       date!\n",
            "[nltk_data]    | Downloading package comtrans to /root/nltk_data...\n",
            "[nltk_data]    |   Package comtrans is already up-to-date!\n",
            "[nltk_data]    | Downloading package conll2000 to /root/nltk_data...\n",
            "[nltk_data]    |   Package conll2000 is already up-to-date!\n",
            "[nltk_data]    | Downloading package conll2002 to /root/nltk_data...\n",
            "[nltk_data]    |   Package conll2002 is already up-to-date!\n",
            "[nltk_data]    | Downloading package conll2007 to /root/nltk_data...\n",
            "[nltk_data]    |   Package conll2007 is already up-to-date!\n",
            "[nltk_data]    | Downloading package crubadan to /root/nltk_data...\n",
            "[nltk_data]    |   Package crubadan is already up-to-date!\n",
            "[nltk_data]    | Downloading package dependency_treebank to\n",
            "[nltk_data]    |     /root/nltk_data...\n",
            "[nltk_data]    |   Package dependency_treebank is already up-to-date!\n",
            "[nltk_data]    | Downloading package dolch to /root/nltk_data...\n",
            "[nltk_data]    |   Package dolch is already up-to-date!\n",
            "[nltk_data]    | Downloading package europarl_raw to\n",
            "[nltk_data]    |     /root/nltk_data...\n",
            "[nltk_data]    |   Unzipping corpora/europarl_raw.zip.\n",
            "[nltk_data]    | Downloading package floresta to /root/nltk_data...\n",
            "[nltk_data]    |   Unzipping corpora/floresta.zip.\n",
            "[nltk_data]    | Downloading package framenet_v15 to\n",
            "[nltk_data]    |     /root/nltk_data...\n",
            "[nltk_data]    |   Unzipping corpora/framenet_v15.zip.\n",
            "[nltk_data]    | Downloading package framenet_v17 to\n",
            "[nltk_data]    |     /root/nltk_data...\n",
            "[nltk_data]    |   Unzipping corpora/framenet_v17.zip.\n",
            "[nltk_data]    | Downloading package gazetteers to /root/nltk_data...\n",
            "[nltk_data]    |   Unzipping corpora/gazetteers.zip.\n",
            "[nltk_data]    | Downloading package genesis to /root/nltk_data...\n",
            "[nltk_data]    |   Unzipping corpora/genesis.zip.\n",
            "[nltk_data]    | Downloading package gutenberg to /root/nltk_data...\n",
            "[nltk_data]    |   Unzipping corpora/gutenberg.zip.\n",
            "[nltk_data]    | Downloading package ieer to /root/nltk_data...\n",
            "[nltk_data]    |   Unzipping corpora/ieer.zip.\n",
            "[nltk_data]    | Downloading package inaugural to /root/nltk_data...\n",
            "[nltk_data]    |   Unzipping corpora/inaugural.zip.\n",
            "[nltk_data]    | Downloading package indian to /root/nltk_data...\n",
            "[nltk_data]    |   Unzipping corpora/indian.zip.\n",
            "[nltk_data]    | Downloading package jeita to /root/nltk_data...\n",
            "[nltk_data]    | Downloading package kimmo to /root/nltk_data...\n",
            "[nltk_data]    |   Unzipping corpora/kimmo.zip.\n",
            "[nltk_data]    | Downloading package knbc to /root/nltk_data...\n",
            "[nltk_data]    | Downloading package lin_thesaurus to\n",
            "[nltk_data]    |     /root/nltk_data...\n",
            "[nltk_data]    |   Unzipping corpora/lin_thesaurus.zip.\n",
            "[nltk_data]    | Downloading package mac_morpho to /root/nltk_data...\n",
            "[nltk_data]    |   Unzipping corpora/mac_morpho.zip.\n",
            "[nltk_data]    | Downloading package machado to /root/nltk_data...\n",
            "[nltk_data]    | Downloading package masc_tagged to /root/nltk_data...\n",
            "[nltk_data]    | Downloading package moses_sample to\n",
            "[nltk_data]    |     /root/nltk_data...\n",
            "[nltk_data]    |   Unzipping models/moses_sample.zip.\n",
            "[nltk_data]    | Downloading package movie_reviews to\n",
            "[nltk_data]    |     /root/nltk_data...\n",
            "[nltk_data]    |   Unzipping corpora/movie_reviews.zip.\n",
            "[nltk_data]    | Downloading package names to /root/nltk_data...\n",
            "[nltk_data]    |   Unzipping corpora/names.zip.\n",
            "[nltk_data]    | Downloading package nombank.1.0 to /root/nltk_data...\n",
            "[nltk_data]    | Downloading package nps_chat to /root/nltk_data...\n",
            "[nltk_data]    |   Unzipping corpora/nps_chat.zip.\n",
            "[nltk_data]    | Downloading package omw to /root/nltk_data...\n",
            "[nltk_data]    |   Unzipping corpora/omw.zip.\n",
            "[nltk_data]    | Downloading package opinion_lexicon to\n",
            "[nltk_data]    |     /root/nltk_data...\n",
            "[nltk_data]    |   Unzipping corpora/opinion_lexicon.zip.\n",
            "[nltk_data]    | Downloading package paradigms to /root/nltk_data...\n",
            "[nltk_data]    |   Unzipping corpora/paradigms.zip.\n",
            "[nltk_data]    | Downloading package pil to /root/nltk_data...\n",
            "[nltk_data]    |   Unzipping corpora/pil.zip.\n",
            "[nltk_data]    | Downloading package pl196x to /root/nltk_data...\n",
            "[nltk_data]    |   Unzipping corpora/pl196x.zip.\n",
            "[nltk_data]    | Downloading package ppattach to /root/nltk_data...\n",
            "[nltk_data]    |   Unzipping corpora/ppattach.zip.\n",
            "[nltk_data]    | Downloading package problem_reports to\n",
            "[nltk_data]    |     /root/nltk_data...\n",
            "[nltk_data]    |   Unzipping corpora/problem_reports.zip.\n",
            "[nltk_data]    | Downloading package propbank to /root/nltk_data...\n",
            "[nltk_data]    | Downloading package ptb to /root/nltk_data...\n",
            "[nltk_data]    |   Unzipping corpora/ptb.zip.\n",
            "[nltk_data]    | Downloading package product_reviews_1 to\n",
            "[nltk_data]    |     /root/nltk_data...\n",
            "[nltk_data]    |   Unzipping corpora/product_reviews_1.zip.\n",
            "[nltk_data]    | Downloading package product_reviews_2 to\n",
            "[nltk_data]    |     /root/nltk_data...\n",
            "[nltk_data]    |   Unzipping corpora/product_reviews_2.zip.\n",
            "[nltk_data]    | Downloading package pros_cons to /root/nltk_data...\n",
            "[nltk_data]    |   Unzipping corpora/pros_cons.zip.\n",
            "[nltk_data]    | Downloading package qc to /root/nltk_data...\n",
            "[nltk_data]    |   Unzipping corpora/qc.zip.\n",
            "[nltk_data]    | Downloading package reuters to /root/nltk_data...\n",
            "[nltk_data]    | Downloading package rte to /root/nltk_data...\n",
            "[nltk_data]    |   Unzipping corpora/rte.zip.\n",
            "[nltk_data]    | Downloading package semcor to /root/nltk_data...\n",
            "[nltk_data]    | Downloading package senseval to /root/nltk_data...\n",
            "[nltk_data]    |   Unzipping corpora/senseval.zip.\n",
            "[nltk_data]    | Downloading package sentiwordnet to\n",
            "[nltk_data]    |     /root/nltk_data...\n",
            "[nltk_data]    |   Unzipping corpora/sentiwordnet.zip.\n",
            "[nltk_data]    | Downloading package sentence_polarity to\n",
            "[nltk_data]    |     /root/nltk_data...\n",
            "[nltk_data]    |   Unzipping corpora/sentence_polarity.zip.\n",
            "[nltk_data]    | Downloading package shakespeare to /root/nltk_data...\n",
            "[nltk_data]    |   Unzipping corpora/shakespeare.zip.\n",
            "[nltk_data]    | Downloading package sinica_treebank to\n",
            "[nltk_data]    |     /root/nltk_data...\n",
            "[nltk_data]    |   Unzipping corpora/sinica_treebank.zip.\n",
            "[nltk_data]    | Downloading package smultron to /root/nltk_data...\n",
            "[nltk_data]    |   Unzipping corpora/smultron.zip.\n",
            "[nltk_data]    | Downloading package state_union to /root/nltk_data...\n",
            "[nltk_data]    |   Unzipping corpora/state_union.zip.\n",
            "[nltk_data]    | Downloading package stopwords to /root/nltk_data...\n",
            "[nltk_data]    |   Unzipping corpora/stopwords.zip.\n",
            "[nltk_data]    | Downloading package subjectivity to\n",
            "[nltk_data]    |     /root/nltk_data...\n",
            "[nltk_data]    |   Unzipping corpora/subjectivity.zip.\n",
            "[nltk_data]    | Downloading package swadesh to /root/nltk_data...\n",
            "[nltk_data]    |   Unzipping corpora/swadesh.zip.\n",
            "[nltk_data]    | Downloading package switchboard to /root/nltk_data...\n",
            "[nltk_data]    |   Unzipping corpora/switchboard.zip.\n",
            "[nltk_data]    | Downloading package timit to /root/nltk_data...\n",
            "[nltk_data]    |   Unzipping corpora/timit.zip.\n",
            "[nltk_data]    | Downloading package toolbox to /root/nltk_data...\n",
            "[nltk_data]    |   Unzipping corpora/toolbox.zip.\n",
            "[nltk_data]    | Downloading package treebank to /root/nltk_data...\n",
            "[nltk_data]    |   Unzipping corpora/treebank.zip.\n",
            "[nltk_data]    | Downloading package twitter_samples to\n",
            "[nltk_data]    |     /root/nltk_data...\n",
            "[nltk_data]    |   Unzipping corpora/twitter_samples.zip.\n",
            "[nltk_data]    | Downloading package udhr to /root/nltk_data...\n",
            "[nltk_data]    |   Unzipping corpora/udhr.zip.\n",
            "[nltk_data]    | Downloading package udhr2 to /root/nltk_data...\n",
            "[nltk_data]    |   Unzipping corpora/udhr2.zip.\n",
            "[nltk_data]    | Downloading package unicode_samples to\n",
            "[nltk_data]    |     /root/nltk_data...\n",
            "[nltk_data]    |   Unzipping corpora/unicode_samples.zip.\n",
            "[nltk_data]    | Downloading package universal_treebanks_v20 to\n",
            "[nltk_data]    |     /root/nltk_data...\n",
            "[nltk_data]    | Downloading package verbnet to /root/nltk_data...\n",
            "[nltk_data]    |   Unzipping corpora/verbnet.zip.\n",
            "[nltk_data]    | Downloading package verbnet3 to /root/nltk_data...\n",
            "[nltk_data]    |   Unzipping corpora/verbnet3.zip.\n",
            "[nltk_data]    | Downloading package webtext to /root/nltk_data...\n",
            "[nltk_data]    |   Unzipping corpora/webtext.zip.\n",
            "[nltk_data]    | Downloading package wordnet to /root/nltk_data...\n",
            "[nltk_data]    |   Unzipping corpora/wordnet.zip.\n",
            "[nltk_data]    | Downloading package wordnet_ic to /root/nltk_data...\n",
            "[nltk_data]    |   Unzipping corpora/wordnet_ic.zip.\n",
            "[nltk_data]    | Downloading package words to /root/nltk_data...\n",
            "[nltk_data]    |   Unzipping corpora/words.zip.\n",
            "[nltk_data]    | Downloading package ycoe to /root/nltk_data...\n",
            "[nltk_data]    |   Unzipping corpora/ycoe.zip.\n",
            "[nltk_data]    | Downloading package rslp to /root/nltk_data...\n",
            "[nltk_data]    |   Unzipping stemmers/rslp.zip.\n",
            "[nltk_data]    | Downloading package maxent_treebank_pos_tagger to\n",
            "[nltk_data]    |     /root/nltk_data...\n",
            "[nltk_data]    |   Unzipping taggers/maxent_treebank_pos_tagger.zip.\n",
            "[nltk_data]    | Downloading package universal_tagset to\n",
            "[nltk_data]    |     /root/nltk_data...\n",
            "[nltk_data]    |   Unzipping taggers/universal_tagset.zip.\n",
            "[nltk_data]    | Downloading package maxent_ne_chunker to\n",
            "[nltk_data]    |     /root/nltk_data...\n",
            "[nltk_data]    |   Unzipping chunkers/maxent_ne_chunker.zip.\n",
            "[nltk_data]    | Downloading package punkt to /root/nltk_data...\n",
            "[nltk_data]    |   Unzipping tokenizers/punkt.zip.\n",
            "[nltk_data]    | Downloading package book_grammars to\n",
            "[nltk_data]    |     /root/nltk_data...\n",
            "[nltk_data]    |   Unzipping grammars/book_grammars.zip.\n",
            "[nltk_data]    | Downloading package sample_grammars to\n",
            "[nltk_data]    |     /root/nltk_data...\n",
            "[nltk_data]    |   Unzipping grammars/sample_grammars.zip.\n",
            "[nltk_data]    | Downloading package spanish_grammars to\n",
            "[nltk_data]    |     /root/nltk_data...\n",
            "[nltk_data]    |   Unzipping grammars/spanish_grammars.zip.\n",
            "[nltk_data]    | Downloading package basque_grammars to\n",
            "[nltk_data]    |     /root/nltk_data...\n",
            "[nltk_data]    |   Unzipping grammars/basque_grammars.zip.\n",
            "[nltk_data]    | Downloading package large_grammars to\n",
            "[nltk_data]    |     /root/nltk_data...\n",
            "[nltk_data]    |   Unzipping grammars/large_grammars.zip.\n",
            "[nltk_data]    | Downloading package tagsets to /root/nltk_data...\n",
            "[nltk_data]    |   Unzipping help/tagsets.zip.\n",
            "[nltk_data]    | Downloading package snowball_data to\n",
            "[nltk_data]    |     /root/nltk_data...\n",
            "[nltk_data]    | Downloading package bllip_wsj_no_aux to\n",
            "[nltk_data]    |     /root/nltk_data...\n",
            "[nltk_data]    |   Unzipping models/bllip_wsj_no_aux.zip.\n",
            "[nltk_data]    | Downloading package word2vec_sample to\n",
            "[nltk_data]    |     /root/nltk_data...\n",
            "[nltk_data]    |   Unzipping models/word2vec_sample.zip.\n",
            "[nltk_data]    | Downloading package panlex_swadesh to\n",
            "[nltk_data]    |     /root/nltk_data...\n",
            "[nltk_data]    | Downloading package mte_teip5 to /root/nltk_data...\n",
            "[nltk_data]    |   Unzipping corpora/mte_teip5.zip.\n",
            "[nltk_data]    | Downloading package averaged_perceptron_tagger to\n",
            "[nltk_data]    |     /root/nltk_data...\n",
            "[nltk_data]    |   Unzipping taggers/averaged_perceptron_tagger.zip.\n",
            "[nltk_data]    | Downloading package averaged_perceptron_tagger_ru to\n",
            "[nltk_data]    |     /root/nltk_data...\n",
            "[nltk_data]    |   Unzipping\n",
            "[nltk_data]    |       taggers/averaged_perceptron_tagger_ru.zip.\n",
            "[nltk_data]    | Downloading package perluniprops to\n",
            "[nltk_data]    |     /root/nltk_data...\n",
            "[nltk_data]    |   Unzipping misc/perluniprops.zip.\n",
            "[nltk_data]    | Downloading package nonbreaking_prefixes to\n",
            "[nltk_data]    |     /root/nltk_data...\n",
            "[nltk_data]    |   Unzipping corpora/nonbreaking_prefixes.zip.\n",
            "[nltk_data]    | Downloading package vader_lexicon to\n",
            "[nltk_data]    |     /root/nltk_data...\n",
            "[nltk_data]    | Downloading package porter_test to /root/nltk_data...\n",
            "[nltk_data]    |   Unzipping stemmers/porter_test.zip.\n",
            "[nltk_data]    | Downloading package wmt15_eval to /root/nltk_data...\n",
            "[nltk_data]    |   Unzipping models/wmt15_eval.zip.\n",
            "[nltk_data]    | Downloading package mwa_ppdb to /root/nltk_data...\n",
            "[nltk_data]    |   Unzipping misc/mwa_ppdb.zip.\n",
            "[nltk_data]    | \n",
            "[nltk_data]  Done downloading collection all\n"
          ],
          "name": "stdout"
        },
        {
          "output_type": "stream",
          "text": [
            "Using TensorFlow backend.\n"
          ],
          "name": "stderr"
        }
      ]
    },
    {
      "cell_type": "code",
      "metadata": {
        "id": "4dU6hNcHmjBE",
        "colab_type": "code",
        "colab": {}
      },
      "source": [
        "# install tensorflow 2.0\n",
        "#!pip uninstall tensorflow\n",
        "#!pip install tensorflow-gpu==2.1.0"
      ],
      "execution_count": 0,
      "outputs": []
    },
    {
      "cell_type": "code",
      "metadata": {
        "id": "bIycjFHvlI-r",
        "colab_type": "code",
        "outputId": "140b4467-29e2-4ef1-e14b-601359e3ef1e",
        "colab": {
          "base_uri": "https://localhost:8080/",
          "height": 34
        }
      },
      "source": [
        "import tensorflow as tf\n",
        "print(tf.__version__)"
      ],
      "execution_count": 0,
      "outputs": [
        {
          "output_type": "stream",
          "text": [
            "2.1.0\n"
          ],
          "name": "stdout"
        }
      ]
    },
    {
      "cell_type": "code",
      "metadata": {
        "id": "qWB0eDS_nXLq",
        "colab_type": "code",
        "outputId": "45233a78-63b4-43d8-9a6c-122ebd5f5e81",
        "colab": {
          "base_uri": "https://localhost:8080/",
          "height": 34
        }
      },
      "source": [
        "# check the availability of GPU\n",
        "%tensorflow_version 2.x\n",
        "device_name = tf.test.gpu_device_name()\n",
        "if device_name != '/device:GPU:0':\n",
        "  raise SystemError('GPU device not found')\n",
        "print('Found GPU at: {}'.format(device_name))\n"
      ],
      "execution_count": 0,
      "outputs": [
        {
          "output_type": "stream",
          "text": [
            "Found GPU at: /device:GPU:0\n"
          ],
          "name": "stdout"
        }
      ]
    },
    {
      "cell_type": "code",
      "metadata": {
        "colab_type": "code",
        "outputId": "b0418214-505f-4a4b-86a7-901214e6b918",
        "id": "1fDe2PWlhFZV",
        "colab": {
          "base_uri": "https://localhost:8080/",
          "height": 34
        }
      },
      "source": [
        "# Mount Google Drive (to save the downloaded files)\n",
        "from google.colab import drive\n",
        "drive.mount('/gdrive')"
      ],
      "execution_count": 0,
      "outputs": [
        {
          "output_type": "stream",
          "text": [
            "Drive already mounted at /gdrive; to attempt to forcibly remount, call drive.mount(\"/gdrive\", force_remount=True).\n"
          ],
          "name": "stdout"
        }
      ]
    },
    {
      "cell_type": "markdown",
      "metadata": {
        "id": "vdJvVvxoof-Z",
        "colab_type": "text"
      },
      "source": [
        "### GloVe Pretrained Word Embedding loading"
      ]
    },
    {
      "cell_type": "code",
      "metadata": {
        "id": "6M8v__OplI_g",
        "colab_type": "code",
        "outputId": "89ebf46b-8463-486c-a664-9664e2df370b",
        "colab": {
          "base_uri": "https://localhost:8080/",
          "height": 51
        }
      },
      "source": [
        "# Load GloVe Embeddings\n",
        "print('Loading GloVe Embeddings.')\n",
        "\n",
        "glove_embeddings = {}\n",
        "f = open('/gdrive/My Drive/glove.42B.300d.txt', encoding='utf-8')\n",
        "for line in f:\n",
        "    values = line.split()\n",
        "    word = values[0]\n",
        "    coefs = np.asarray(values[1:], dtype='float32')\n",
        "    glove_embeddings[word] = coefs\n",
        "f.close()\n",
        "\n",
        "print('Found %s word vectors.' % len(glove_embeddings))\n"
      ],
      "execution_count": 0,
      "outputs": [
        {
          "output_type": "stream",
          "text": [
            "Loading GloVe Embeddings.\n",
            "Found 1917495 word vectors.\n"
          ],
          "name": "stdout"
        }
      ]
    },
    {
      "cell_type": "markdown",
      "metadata": {
        "id": "jrCQCmCnZVJN",
        "colab_type": "text"
      },
      "source": [
        "# Import cleaned data"
      ]
    },
    {
      "cell_type": "code",
      "metadata": {
        "id": "sJ2ZfYH80r3t",
        "colab_type": "code",
        "colab": {}
      },
      "source": [
        "data = pd.read_csv('/gdrive/My Drive/cleaned_data.csv')\n",
        "data_cleaned = data[['texts','positivity']][data['relevance']==1]"
      ],
      "execution_count": 0,
      "outputs": []
    },
    {
      "cell_type": "code",
      "metadata": {
        "id": "vHhzDxlcINI2",
        "colab_type": "code",
        "outputId": "4bccfe7c-bc7f-4bb6-a760-8ed099976ca1",
        "colab": {
          "base_uri": "https://localhost:8080/",
          "height": 419
        }
      },
      "source": [
        "data_cleaned"
      ],
      "execution_count": 0,
      "outputs": [
        {
          "output_type": "execute_result",
          "data": {
            "text/html": [
              "<div>\n",
              "<style scoped>\n",
              "    .dataframe tbody tr th:only-of-type {\n",
              "        vertical-align: middle;\n",
              "    }\n",
              "\n",
              "    .dataframe tbody tr th {\n",
              "        vertical-align: top;\n",
              "    }\n",
              "\n",
              "    .dataframe thead th {\n",
              "        text-align: right;\n",
              "    }\n",
              "</style>\n",
              "<table border=\"1\" class=\"dataframe\">\n",
              "  <thead>\n",
              "    <tr style=\"text-align: right;\">\n",
              "      <th></th>\n",
              "      <th>texts</th>\n",
              "      <th>positivity</th>\n",
              "    </tr>\n",
              "  </thead>\n",
              "  <tbody>\n",
              "    <tr>\n",
              "      <th>0</th>\n",
              "      <td>yield cd fall late week new york    yield cert...</td>\n",
              "      <td>3.0</td>\n",
              "    </tr>\n",
              "    <tr>\n",
              "      <th>4</th>\n",
              "      <td>currency trading   dollar remain tight range a...</td>\n",
              "      <td>3.0</td>\n",
              "    </tr>\n",
              "    <tr>\n",
              "      <th>5</th>\n",
              "      <td>stock fall   bofa   alcoa slide stock decline ...</td>\n",
              "      <td>3.0</td>\n",
              "    </tr>\n",
              "    <tr>\n",
              "      <th>9</th>\n",
              "      <td>u s   dollar fall currency   decline soften bo...</td>\n",
              "      <td>4.0</td>\n",
              "    </tr>\n",
              "    <tr>\n",
              "      <th>12</th>\n",
              "      <td>defend deflation author   james b   stewartthe...</td>\n",
              "      <td>4.0</td>\n",
              "    </tr>\n",
              "    <tr>\n",
              "      <th>...</th>\n",
              "      <td>...</td>\n",
              "      <td>...</td>\n",
              "    </tr>\n",
              "    <tr>\n",
              "      <th>7964</th>\n",
              "      <td>housing start grow   raise inflation fear   ec...</td>\n",
              "      <td>7.0</td>\n",
              "    </tr>\n",
              "    <tr>\n",
              "      <th>7965</th>\n",
              "      <td>profit evasive stock mart rally greer   philip...</td>\n",
              "      <td>3.0</td>\n",
              "    </tr>\n",
              "    <tr>\n",
              "      <th>7975</th>\n",
              "      <td>salomon sound wary note economy clinton admini...</td>\n",
              "      <td>8.0</td>\n",
              "    </tr>\n",
              "    <tr>\n",
              "      <th>7978</th>\n",
              "      <td>great terror   massive new history hitler tyra...</td>\n",
              "      <td>5.0</td>\n",
              "    </tr>\n",
              "    <tr>\n",
              "      <th>7986</th>\n",
              "      <td>sawyer see strong economy    year   truce secr...</td>\n",
              "      <td>7.0</td>\n",
              "    </tr>\n",
              "  </tbody>\n",
              "</table>\n",
              "<p>1420 rows × 2 columns</p>\n",
              "</div>"
            ],
            "text/plain": [
              "                                                  texts  positivity\n",
              "0     yield cd fall late week new york    yield cert...         3.0\n",
              "4     currency trading   dollar remain tight range a...         3.0\n",
              "5     stock fall   bofa   alcoa slide stock decline ...         3.0\n",
              "9     u s   dollar fall currency   decline soften bo...         4.0\n",
              "12    defend deflation author   james b   stewartthe...         4.0\n",
              "...                                                 ...         ...\n",
              "7964  housing start grow   raise inflation fear   ec...         7.0\n",
              "7965  profit evasive stock mart rally greer   philip...         3.0\n",
              "7975  salomon sound wary note economy clinton admini...         8.0\n",
              "7978  great terror   massive new history hitler tyra...         5.0\n",
              "7986  sawyer see strong economy    year   truce secr...         7.0\n",
              "\n",
              "[1420 rows x 2 columns]"
            ]
          },
          "metadata": {
            "tags": []
          },
          "execution_count": 9
        }
      ]
    },
    {
      "cell_type": "code",
      "metadata": {
        "id": "tMKKHuxb8qDz",
        "colab_type": "code",
        "outputId": "e0118d46-b0e5-4ff6-9751-a800d292b3f3",
        "colab": {
          "base_uri": "https://localhost:8080/",
          "height": 328
        }
      },
      "source": [
        "data_cleaned.groupby('positivity').count()"
      ],
      "execution_count": 0,
      "outputs": [
        {
          "output_type": "execute_result",
          "data": {
            "text/html": [
              "<div>\n",
              "<style scoped>\n",
              "    .dataframe tbody tr th:only-of-type {\n",
              "        vertical-align: middle;\n",
              "    }\n",
              "\n",
              "    .dataframe tbody tr th {\n",
              "        vertical-align: top;\n",
              "    }\n",
              "\n",
              "    .dataframe thead th {\n",
              "        text-align: right;\n",
              "    }\n",
              "</style>\n",
              "<table border=\"1\" class=\"dataframe\">\n",
              "  <thead>\n",
              "    <tr style=\"text-align: right;\">\n",
              "      <th></th>\n",
              "      <th>texts</th>\n",
              "    </tr>\n",
              "    <tr>\n",
              "      <th>positivity</th>\n",
              "      <th></th>\n",
              "    </tr>\n",
              "  </thead>\n",
              "  <tbody>\n",
              "    <tr>\n",
              "      <th>2.0</th>\n",
              "      <td>35</td>\n",
              "    </tr>\n",
              "    <tr>\n",
              "      <th>3.0</th>\n",
              "      <td>343</td>\n",
              "    </tr>\n",
              "    <tr>\n",
              "      <th>4.0</th>\n",
              "      <td>255</td>\n",
              "    </tr>\n",
              "    <tr>\n",
              "      <th>5.0</th>\n",
              "      <td>205</td>\n",
              "    </tr>\n",
              "    <tr>\n",
              "      <th>6.0</th>\n",
              "      <td>214</td>\n",
              "    </tr>\n",
              "    <tr>\n",
              "      <th>7.0</th>\n",
              "      <td>295</td>\n",
              "    </tr>\n",
              "    <tr>\n",
              "      <th>8.0</th>\n",
              "      <td>71</td>\n",
              "    </tr>\n",
              "    <tr>\n",
              "      <th>9.0</th>\n",
              "      <td>2</td>\n",
              "    </tr>\n",
              "  </tbody>\n",
              "</table>\n",
              "</div>"
            ],
            "text/plain": [
              "            texts\n",
              "positivity       \n",
              "2.0            35\n",
              "3.0           343\n",
              "4.0           255\n",
              "5.0           205\n",
              "6.0           214\n",
              "7.0           295\n",
              "8.0            71\n",
              "9.0             2"
            ]
          },
          "metadata": {
            "tags": []
          },
          "execution_count": 10
        }
      ]
    },
    {
      "cell_type": "markdown",
      "metadata": {
        "id": "EPok0ZsmoJpV",
        "colab_type": "text"
      },
      "source": [
        "# Sentiment Analysis"
      ]
    },
    {
      "cell_type": "markdown",
      "metadata": {
        "id": "4l_zmiTo8PzQ",
        "colab_type": "text"
      },
      "source": [
        "## Data Augmentation"
      ]
    },
    {
      "cell_type": "code",
      "metadata": {
        "id": "7v6qgCvYIuTI",
        "colab_type": "code",
        "colab": {}
      },
      "source": [
        "# use WordNet to find synonyms of each word and oversample the minor class\n",
        "from nltk.corpus import wordnet \n",
        "\n",
        "def get_synonyms(word):\n",
        "\tsynonyms = set()\n",
        "\tfor syn in wordnet.synsets(word): \n",
        "\t\tfor l in syn.lemmas(): \n",
        "\t\t\tsynonym = l.name()\n",
        "\t\t\tsynonym = \"\".join([char for char in synonym if char in ' qwertyuiopasdfghjklzxcvbnm'])\n",
        "\t\t\tsynonyms.add(synonym) \n",
        "\tif word in synonyms:\n",
        "\t\tsynonyms.remove(word)\n",
        "\treturn list(synonyms)"
      ],
      "execution_count": 0,
      "outputs": []
    },
    {
      "cell_type": "code",
      "metadata": {
        "id": "DVXzznCU6eEM",
        "colab_type": "code",
        "colab": {}
      },
      "source": [
        "# use the function in Oversampling\n",
        "def augmentation(wordlist, pos): \n",
        "  new_words = wordlist\n",
        "  for i in range(len(wordlist)):\n",
        "    for random_word in wordlist[wordlist.index[i]]:\n",
        "      try:\n",
        "        synonyms = get_synonyms(random_word)\n",
        "        synonym = random.choice(list(synonyms))\n",
        "        new_words[new_words.index[i]] = [synonym if word == random_word else word for word in new_words[new_words.index[i]]]\n",
        "      except:\n",
        "        pass\n",
        "    s = ' '.join(new_words[new_words.index[i]])\n",
        "    new_words[new_words.index[i]] = s\n",
        "  augmented_sentences = pd.DataFrame(columns=['texts','positivity'])\n",
        "  augmented_sentences['texts'] = new_words\n",
        "  augmented_sentences['positivity']  = pos\n",
        "  return augmented_sentences"
      ],
      "execution_count": 0,
      "outputs": []
    },
    {
      "cell_type": "markdown",
      "metadata": {
        "id": "9b8BCx6rmeri",
        "colab_type": "text"
      },
      "source": [
        "### 20% data augmentation"
      ]
    },
    {
      "cell_type": "code",
      "metadata": {
        "id": "rVk9KhgXmjMD",
        "colab_type": "code",
        "colab": {}
      },
      "source": [
        "data_cleaned_1 = data_cleaned.sample(frac=0.2, replace=False, random_state=17)"
      ],
      "execution_count": 0,
      "outputs": []
    },
    {
      "cell_type": "code",
      "metadata": {
        "id": "e45FJtq_mjD4",
        "colab_type": "code",
        "colab": {}
      },
      "source": [
        "sentence = data_cleaned_1['texts']\n",
        "pos = data_cleaned_1['positivity']\n",
        "word_list = sentence.str.split()\n",
        "\n",
        "random.seed(55)\n",
        "data_1 = data_cleaned.append(augmentation(word_list, pos))"
      ],
      "execution_count": 0,
      "outputs": []
    },
    {
      "cell_type": "code",
      "metadata": {
        "id": "OkTxi8OUmi6P",
        "colab_type": "code",
        "outputId": "39c9784b-51c7-48bb-9462-c1a945f3f789",
        "colab": {
          "base_uri": "https://localhost:8080/",
          "height": 419
        }
      },
      "source": [
        "data_1 = shuffle(data_1)\n",
        "data_1.reset_index()"
      ],
      "execution_count": 0,
      "outputs": [
        {
          "output_type": "execute_result",
          "data": {
            "text/html": [
              "<div>\n",
              "<style scoped>\n",
              "    .dataframe tbody tr th:only-of-type {\n",
              "        vertical-align: middle;\n",
              "    }\n",
              "\n",
              "    .dataframe tbody tr th {\n",
              "        vertical-align: top;\n",
              "    }\n",
              "\n",
              "    .dataframe thead th {\n",
              "        text-align: right;\n",
              "    }\n",
              "</style>\n",
              "<table border=\"1\" class=\"dataframe\">\n",
              "  <thead>\n",
              "    <tr style=\"text-align: right;\">\n",
              "      <th></th>\n",
              "      <th>index</th>\n",
              "      <th>texts</th>\n",
              "      <th>positivity</th>\n",
              "    </tr>\n",
              "  </thead>\n",
              "  <tbody>\n",
              "    <tr>\n",
              "      <th>0</th>\n",
              "      <td>2976</td>\n",
              "      <td>consumer year robust start   income spending g...</td>\n",
              "      <td>6.0</td>\n",
              "    </tr>\n",
              "    <tr>\n",
              "      <th>1</th>\n",
              "      <td>4008</td>\n",
              "      <td>number unproductive   conflict survey illustra...</td>\n",
              "      <td>3.0</td>\n",
              "    </tr>\n",
              "    <tr>\n",
              "      <th>2</th>\n",
              "      <td>4576</td>\n",
              "      <td>baker effort see helpful far reach glance   tr...</td>\n",
              "      <td>5.0</td>\n",
              "    </tr>\n",
              "    <tr>\n",
              "      <th>3</th>\n",
              "      <td>1111</td>\n",
              "      <td>world business   special report   ranking    g...</td>\n",
              "      <td>7.0</td>\n",
              "    </tr>\n",
              "    <tr>\n",
              "      <th>4</th>\n",
              "      <td>7927</td>\n",
              "      <td>china lead recovery   american consumer strugg...</td>\n",
              "      <td>8.0</td>\n",
              "    </tr>\n",
              "    <tr>\n",
              "      <th>...</th>\n",
              "      <td>...</td>\n",
              "      <td>...</td>\n",
              "      <td>...</td>\n",
              "    </tr>\n",
              "    <tr>\n",
              "      <th>1699</th>\n",
              "      <td>240</td>\n",
              "      <td>stock edge high   ignore bad news economy   oi...</td>\n",
              "      <td>3.0</td>\n",
              "    </tr>\n",
              "    <tr>\n",
              "      <th>1700</th>\n",
              "      <td>4854</td>\n",
              "      <td>luxury sale rise despite recession despite per...</td>\n",
              "      <td>4.0</td>\n",
              "    </tr>\n",
              "    <tr>\n",
              "      <th>1701</th>\n",
              "      <td>761</td>\n",
              "      <td>business finance bad recession great depressio...</td>\n",
              "      <td>7.0</td>\n",
              "    </tr>\n",
              "    <tr>\n",
              "      <th>1702</th>\n",
              "      <td>292</td>\n",
              "      <td>u s   jobless claim rise    week   high level ...</td>\n",
              "      <td>3.0</td>\n",
              "    </tr>\n",
              "    <tr>\n",
              "      <th>1703</th>\n",
              "      <td>1001</td>\n",
              "      <td>bond price surge   stock slump job datum    gl...</td>\n",
              "      <td>3.0</td>\n",
              "    </tr>\n",
              "  </tbody>\n",
              "</table>\n",
              "<p>1704 rows × 3 columns</p>\n",
              "</div>"
            ],
            "text/plain": [
              "      index                                              texts  positivity\n",
              "0      2976  consumer year robust start   income spending g...         6.0\n",
              "1      4008  number unproductive   conflict survey illustra...         3.0\n",
              "2      4576  baker effort see helpful far reach glance   tr...         5.0\n",
              "3      1111  world business   special report   ranking    g...         7.0\n",
              "4      7927  china lead recovery   american consumer strugg...         8.0\n",
              "...     ...                                                ...         ...\n",
              "1699    240  stock edge high   ignore bad news economy   oi...         3.0\n",
              "1700   4854  luxury sale rise despite recession despite per...         4.0\n",
              "1701    761  business finance bad recession great depressio...         7.0\n",
              "1702    292  u s   jobless claim rise    week   high level ...         3.0\n",
              "1703   1001  bond price surge   stock slump job datum    gl...         3.0\n",
              "\n",
              "[1704 rows x 3 columns]"
            ]
          },
          "metadata": {
            "tags": []
          },
          "execution_count": 15
        }
      ]
    },
    {
      "cell_type": "code",
      "metadata": {
        "id": "3HQTW2Rpwvmn",
        "colab_type": "code",
        "outputId": "5b5fdf02-d1b2-46ed-f122-c98d39eb218f",
        "colab": {
          "base_uri": "https://localhost:8080/",
          "height": 328
        }
      },
      "source": [
        "data_1.groupby('positivity').count()"
      ],
      "execution_count": 0,
      "outputs": [
        {
          "output_type": "execute_result",
          "data": {
            "text/html": [
              "<div>\n",
              "<style scoped>\n",
              "    .dataframe tbody tr th:only-of-type {\n",
              "        vertical-align: middle;\n",
              "    }\n",
              "\n",
              "    .dataframe tbody tr th {\n",
              "        vertical-align: top;\n",
              "    }\n",
              "\n",
              "    .dataframe thead th {\n",
              "        text-align: right;\n",
              "    }\n",
              "</style>\n",
              "<table border=\"1\" class=\"dataframe\">\n",
              "  <thead>\n",
              "    <tr style=\"text-align: right;\">\n",
              "      <th></th>\n",
              "      <th>texts</th>\n",
              "    </tr>\n",
              "    <tr>\n",
              "      <th>positivity</th>\n",
              "      <th></th>\n",
              "    </tr>\n",
              "  </thead>\n",
              "  <tbody>\n",
              "    <tr>\n",
              "      <th>2.0</th>\n",
              "      <td>41</td>\n",
              "    </tr>\n",
              "    <tr>\n",
              "      <th>3.0</th>\n",
              "      <td>417</td>\n",
              "    </tr>\n",
              "    <tr>\n",
              "      <th>4.0</th>\n",
              "      <td>306</td>\n",
              "    </tr>\n",
              "    <tr>\n",
              "      <th>5.0</th>\n",
              "      <td>239</td>\n",
              "    </tr>\n",
              "    <tr>\n",
              "      <th>6.0</th>\n",
              "      <td>255</td>\n",
              "    </tr>\n",
              "    <tr>\n",
              "      <th>7.0</th>\n",
              "      <td>355</td>\n",
              "    </tr>\n",
              "    <tr>\n",
              "      <th>8.0</th>\n",
              "      <td>88</td>\n",
              "    </tr>\n",
              "    <tr>\n",
              "      <th>9.0</th>\n",
              "      <td>3</td>\n",
              "    </tr>\n",
              "  </tbody>\n",
              "</table>\n",
              "</div>"
            ],
            "text/plain": [
              "            texts\n",
              "positivity       \n",
              "2.0            41\n",
              "3.0           417\n",
              "4.0           306\n",
              "5.0           239\n",
              "6.0           255\n",
              "7.0           355\n",
              "8.0            88\n",
              "9.0             3"
            ]
          },
          "metadata": {
            "tags": []
          },
          "execution_count": 16
        }
      ]
    },
    {
      "cell_type": "markdown",
      "metadata": {
        "id": "ztn84oq3l_7t",
        "colab_type": "text"
      },
      "source": [
        "### 50% data augmentation"
      ]
    },
    {
      "cell_type": "code",
      "metadata": {
        "id": "SUx3e3fqkvW4",
        "colab_type": "code",
        "colab": {}
      },
      "source": [
        "data_cleaned_2 = data_cleaned.sample(frac=0.5, replace=False, random_state=17)"
      ],
      "execution_count": 0,
      "outputs": []
    },
    {
      "cell_type": "code",
      "metadata": {
        "id": "8OsGWA2al6EY",
        "colab_type": "code",
        "colab": {}
      },
      "source": [
        "sentence = data_cleaned_2['texts']\n",
        "pos = data_cleaned_2['positivity']\n",
        "word_list = sentence.str.split()\n",
        "\n",
        "random.seed(55)\n",
        "data_2 = data_cleaned.append(augmentation(word_list, pos))"
      ],
      "execution_count": 0,
      "outputs": []
    },
    {
      "cell_type": "code",
      "metadata": {
        "id": "qDj5p83Ck6ov",
        "colab_type": "code",
        "outputId": "7e2cacde-1636-4fa7-d8f2-d266afda4709",
        "colab": {
          "base_uri": "https://localhost:8080/",
          "height": 419
        }
      },
      "source": [
        "data_2 = shuffle(data_2)\n",
        "data_2.reset_index()"
      ],
      "execution_count": 0,
      "outputs": [
        {
          "output_type": "execute_result",
          "data": {
            "text/html": [
              "<div>\n",
              "<style scoped>\n",
              "    .dataframe tbody tr th:only-of-type {\n",
              "        vertical-align: middle;\n",
              "    }\n",
              "\n",
              "    .dataframe tbody tr th {\n",
              "        vertical-align: top;\n",
              "    }\n",
              "\n",
              "    .dataframe thead th {\n",
              "        text-align: right;\n",
              "    }\n",
              "</style>\n",
              "<table border=\"1\" class=\"dataframe\">\n",
              "  <thead>\n",
              "    <tr style=\"text-align: right;\">\n",
              "      <th></th>\n",
              "      <th>index</th>\n",
              "      <th>texts</th>\n",
              "      <th>positivity</th>\n",
              "    </tr>\n",
              "  </thead>\n",
              "  <tbody>\n",
              "    <tr>\n",
              "      <th>0</th>\n",
              "      <td>105</td>\n",
              "      <td>thriftiness throw societal securitydepartment ...</td>\n",
              "      <td>7.0</td>\n",
              "    </tr>\n",
              "    <tr>\n",
              "      <th>1</th>\n",
              "      <td>2025</td>\n",
              "      <td>risingprices judge leadoff putforward fusillad...</td>\n",
              "      <td>3.0</td>\n",
              "    </tr>\n",
              "    <tr>\n",
              "      <th>2</th>\n",
              "      <td>196</td>\n",
              "      <td>leave    casualty change job market    look lo...</td>\n",
              "      <td>4.0</td>\n",
              "    </tr>\n",
              "    <tr>\n",
              "      <th>3</th>\n",
              "      <td>1453</td>\n",
              "      <td>dollar edge participant await release u s   em...</td>\n",
              "      <td>4.0</td>\n",
              "    </tr>\n",
              "    <tr>\n",
              "      <th>4</th>\n",
              "      <td>4368</td>\n",
              "      <td>trammel money increase realproperty committe r...</td>\n",
              "      <td>3.0</td>\n",
              "    </tr>\n",
              "    <tr>\n",
              "      <th>...</th>\n",
              "      <td>...</td>\n",
              "      <td>...</td>\n",
              "      <td>...</td>\n",
              "    </tr>\n",
              "    <tr>\n",
              "      <th>2125</th>\n",
              "      <td>2742</td>\n",
              "      <td>u s   news   hope turnaround grow dimmer worri...</td>\n",
              "      <td>5.0</td>\n",
              "    </tr>\n",
              "    <tr>\n",
              "      <th>2126</th>\n",
              "      <td>5281</td>\n",
              "      <td>recession hide virtue wait     recession   kno...</td>\n",
              "      <td>5.0</td>\n",
              "    </tr>\n",
              "    <tr>\n",
              "      <th>2127</th>\n",
              "      <td>2848</td>\n",
              "      <td>party divide gop ' cliff ' idea   proposal red...</td>\n",
              "      <td>5.0</td>\n",
              "    </tr>\n",
              "    <tr>\n",
              "      <th>2128</th>\n",
              "      <td>931</td>\n",
              "      <td>industrial rise         stock average ignore f...</td>\n",
              "      <td>6.0</td>\n",
              "    </tr>\n",
              "    <tr>\n",
              "      <th>2129</th>\n",
              "      <td>6549</td>\n",
              "      <td>high dollar value call ' critical trade proble...</td>\n",
              "      <td>3.0</td>\n",
              "    </tr>\n",
              "  </tbody>\n",
              "</table>\n",
              "<p>2130 rows × 3 columns</p>\n",
              "</div>"
            ],
            "text/plain": [
              "      index                                              texts  positivity\n",
              "0       105  thriftiness throw societal securitydepartment ...         7.0\n",
              "1      2025  risingprices judge leadoff putforward fusillad...         3.0\n",
              "2       196  leave    casualty change job market    look lo...         4.0\n",
              "3      1453  dollar edge participant await release u s   em...         4.0\n",
              "4      4368  trammel money increase realproperty committe r...         3.0\n",
              "...     ...                                                ...         ...\n",
              "2125   2742  u s   news   hope turnaround grow dimmer worri...         5.0\n",
              "2126   5281  recession hide virtue wait     recession   kno...         5.0\n",
              "2127   2848  party divide gop ' cliff ' idea   proposal red...         5.0\n",
              "2128    931  industrial rise         stock average ignore f...         6.0\n",
              "2129   6549  high dollar value call ' critical trade proble...         3.0\n",
              "\n",
              "[2130 rows x 3 columns]"
            ]
          },
          "metadata": {
            "tags": []
          },
          "execution_count": 19
        }
      ]
    },
    {
      "cell_type": "markdown",
      "metadata": {
        "id": "GcEHO_FFnPIr",
        "colab_type": "text"
      },
      "source": [
        "### 80% data augmentation"
      ]
    },
    {
      "cell_type": "code",
      "metadata": {
        "id": "akW5Z4WjnOXG",
        "colab_type": "code",
        "colab": {}
      },
      "source": [
        "data_cleaned_3 = data_cleaned.sample(frac=0.8, replace=False, random_state=17)"
      ],
      "execution_count": 0,
      "outputs": []
    },
    {
      "cell_type": "code",
      "metadata": {
        "id": "S_mxPLAxnUKk",
        "colab_type": "code",
        "colab": {}
      },
      "source": [
        "sentence = data_cleaned_3['texts']\n",
        "pos = data_cleaned_3['positivity']\n",
        "word_list = sentence.str.split()\n",
        "\n",
        "random.seed(55)\n",
        "data_3 = data_cleaned.append(augmentation(word_list, pos))"
      ],
      "execution_count": 0,
      "outputs": []
    },
    {
      "cell_type": "code",
      "metadata": {
        "id": "5qJnSFn0nVnn",
        "colab_type": "code",
        "outputId": "71a25b7e-ebaa-4c7b-e721-5a66c3672000",
        "colab": {
          "base_uri": "https://localhost:8080/",
          "height": 419
        }
      },
      "source": [
        "data_3 = shuffle(data_3)\n",
        "data_3.reset_index()"
      ],
      "execution_count": 0,
      "outputs": [
        {
          "output_type": "execute_result",
          "data": {
            "text/html": [
              "<div>\n",
              "<style scoped>\n",
              "    .dataframe tbody tr th:only-of-type {\n",
              "        vertical-align: middle;\n",
              "    }\n",
              "\n",
              "    .dataframe tbody tr th {\n",
              "        vertical-align: top;\n",
              "    }\n",
              "\n",
              "    .dataframe thead th {\n",
              "        text-align: right;\n",
              "    }\n",
              "</style>\n",
              "<table border=\"1\" class=\"dataframe\">\n",
              "  <thead>\n",
              "    <tr style=\"text-align: right;\">\n",
              "      <th></th>\n",
              "      <th>index</th>\n",
              "      <th>texts</th>\n",
              "      <th>positivity</th>\n",
              "    </tr>\n",
              "  </thead>\n",
              "  <tbody>\n",
              "    <tr>\n",
              "      <th>0</th>\n",
              "      <td>6774</td>\n",
              "      <td>commercialise spot inviolable earn young ouseo...</td>\n",
              "      <td>2.0</td>\n",
              "    </tr>\n",
              "    <tr>\n",
              "      <th>1</th>\n",
              "      <td>1083</td>\n",
              "      <td>ahead tape   today market forecast line sandfi...</td>\n",
              "      <td>3.0</td>\n",
              "    </tr>\n",
              "    <tr>\n",
              "      <th>2</th>\n",
              "      <td>3391</td>\n",
              "      <td>new year investor rocky begin new york    stoc...</td>\n",
              "      <td>3.0</td>\n",
              "    </tr>\n",
              "    <tr>\n",
              "      <th>3</th>\n",
              "      <td>1956</td>\n",
              "      <td>credit market spring life    sign confidence w...</td>\n",
              "      <td>7.0</td>\n",
              "    </tr>\n",
              "    <tr>\n",
              "      <th>4</th>\n",
              "      <td>0</td>\n",
              "      <td>generate d declivity tardy hebdomad raw ork ge...</td>\n",
              "      <td>3.0</td>\n",
              "    </tr>\n",
              "    <tr>\n",
              "      <th>...</th>\n",
              "      <td>...</td>\n",
              "      <td>...</td>\n",
              "      <td>...</td>\n",
              "    </tr>\n",
              "    <tr>\n",
              "      <th>2551</th>\n",
              "      <td>784</td>\n",
              "      <td>office vacancy decline year time    year   sur...</td>\n",
              "      <td>5.0</td>\n",
              "    </tr>\n",
              "    <tr>\n",
              "      <th>2552</th>\n",
              "      <td>441</td>\n",
              "      <td>dollar drop wake surge yen   clinton dispute f...</td>\n",
              "      <td>4.0</td>\n",
              "    </tr>\n",
              "    <tr>\n",
              "      <th>2553</th>\n",
              "      <td>941</td>\n",
              "      <td>price gasoline rise pump october u s   gasolin...</td>\n",
              "      <td>3.0</td>\n",
              "    </tr>\n",
              "    <tr>\n",
              "      <th>2554</th>\n",
              "      <td>2529</td>\n",
              "      <td>consumer cost correct pril rockoil boss compon...</td>\n",
              "      <td>5.0</td>\n",
              "    </tr>\n",
              "    <tr>\n",
              "      <th>2555</th>\n",
              "      <td>3611</td>\n",
              "      <td>economicsystem betoken regaining commercialise...</td>\n",
              "      <td>3.0</td>\n",
              "    </tr>\n",
              "  </tbody>\n",
              "</table>\n",
              "<p>2556 rows × 3 columns</p>\n",
              "</div>"
            ],
            "text/plain": [
              "      index                                              texts  positivity\n",
              "0      6774  commercialise spot inviolable earn young ouseo...         2.0\n",
              "1      1083  ahead tape   today market forecast line sandfi...         3.0\n",
              "2      3391  new year investor rocky begin new york    stoc...         3.0\n",
              "3      1956  credit market spring life    sign confidence w...         7.0\n",
              "4         0  generate d declivity tardy hebdomad raw ork ge...         3.0\n",
              "...     ...                                                ...         ...\n",
              "2551    784  office vacancy decline year time    year   sur...         5.0\n",
              "2552    441  dollar drop wake surge yen   clinton dispute f...         4.0\n",
              "2553    941  price gasoline rise pump october u s   gasolin...         3.0\n",
              "2554   2529  consumer cost correct pril rockoil boss compon...         5.0\n",
              "2555   3611  economicsystem betoken regaining commercialise...         3.0\n",
              "\n",
              "[2556 rows x 3 columns]"
            ]
          },
          "metadata": {
            "tags": []
          },
          "execution_count": 22
        }
      ]
    },
    {
      "cell_type": "markdown",
      "metadata": {
        "id": "3TWvLU5_mYrj",
        "colab_type": "text"
      },
      "source": [
        "### 100% data augmentation"
      ]
    },
    {
      "cell_type": "code",
      "metadata": {
        "id": "opCLjWMHIKXz",
        "colab_type": "code",
        "colab": {}
      },
      "source": [
        "sentence = data_cleaned['texts']\n",
        "pos = data_cleaned['positivity']\n",
        "word_list = sentence.str.split()\n",
        "\n",
        "random.seed(55)\n",
        "data_4 = data_cleaned.append(augmentation(word_list, pos))\n"
      ],
      "execution_count": 0,
      "outputs": []
    },
    {
      "cell_type": "code",
      "metadata": {
        "id": "yW2MzttrkvGR",
        "colab_type": "code",
        "outputId": "5c6232e3-547a-4dcb-cb76-b953f27e779c",
        "colab": {
          "base_uri": "https://localhost:8080/",
          "height": 419
        }
      },
      "source": [
        "data_4 = shuffle(data_4)\n",
        "data_4.reset_index()"
      ],
      "execution_count": 0,
      "outputs": [
        {
          "output_type": "execute_result",
          "data": {
            "text/html": [
              "<div>\n",
              "<style scoped>\n",
              "    .dataframe tbody tr th:only-of-type {\n",
              "        vertical-align: middle;\n",
              "    }\n",
              "\n",
              "    .dataframe tbody tr th {\n",
              "        vertical-align: top;\n",
              "    }\n",
              "\n",
              "    .dataframe thead th {\n",
              "        text-align: right;\n",
              "    }\n",
              "</style>\n",
              "<table border=\"1\" class=\"dataframe\">\n",
              "  <thead>\n",
              "    <tr style=\"text-align: right;\">\n",
              "      <th></th>\n",
              "      <th>index</th>\n",
              "      <th>texts</th>\n",
              "      <th>positivity</th>\n",
              "    </tr>\n",
              "  </thead>\n",
              "  <tbody>\n",
              "    <tr>\n",
              "      <th>0</th>\n",
              "      <td>7593</td>\n",
              "      <td>tax cut inflationary     study say     omb stu...</td>\n",
              "      <td>4.0</td>\n",
              "    </tr>\n",
              "    <tr>\n",
              "      <th>1</th>\n",
              "      <td>7378</td>\n",
              "      <td>grade mown assist finance populace debt recapi...</td>\n",
              "      <td>6.0</td>\n",
              "    </tr>\n",
              "    <tr>\n",
              "      <th>2</th>\n",
              "      <td>691</td>\n",
              "      <td>recovery philips electronics stall amid crisis...</td>\n",
              "      <td>7.0</td>\n",
              "    </tr>\n",
              "    <tr>\n",
              "      <th>3</th>\n",
              "      <td>5540</td>\n",
              "      <td>washington post   tuesday   august       lag i...</td>\n",
              "      <td>4.0</td>\n",
              "    </tr>\n",
              "    <tr>\n",
              "      <th>4</th>\n",
              "      <td>3824</td>\n",
              "      <td>potent economical datapoint theme ov regenerat...</td>\n",
              "      <td>7.0</td>\n",
              "    </tr>\n",
              "    <tr>\n",
              "      <th>...</th>\n",
              "      <td>...</td>\n",
              "      <td>...</td>\n",
              "      <td>...</td>\n",
              "    </tr>\n",
              "    <tr>\n",
              "      <th>2835</th>\n",
              "      <td>6915</td>\n",
              "      <td>plump oldhat dismiss ichardixon predict ew ork...</td>\n",
              "      <td>2.0</td>\n",
              "    </tr>\n",
              "    <tr>\n",
              "      <th>2836</th>\n",
              "      <td>7487</td>\n",
              "      <td>onequarter economical ontogeny anatomy rescrip...</td>\n",
              "      <td>6.0</td>\n",
              "    </tr>\n",
              "    <tr>\n",
              "      <th>2837</th>\n",
              "      <td>3045</td>\n",
              "      <td>ilarylinton adjutant better sheer productivene...</td>\n",
              "      <td>7.0</td>\n",
              "    </tr>\n",
              "    <tr>\n",
              "      <th>2838</th>\n",
              "      <td>3636</td>\n",
              "      <td>datum cause bond price rally    purchaser inde...</td>\n",
              "      <td>3.0</td>\n",
              "    </tr>\n",
              "    <tr>\n",
              "      <th>2839</th>\n",
              "      <td>7121</td>\n",
              "      <td>home sale rise    percent   increase large nea...</td>\n",
              "      <td>3.0</td>\n",
              "    </tr>\n",
              "  </tbody>\n",
              "</table>\n",
              "<p>2840 rows × 3 columns</p>\n",
              "</div>"
            ],
            "text/plain": [
              "      index                                              texts  positivity\n",
              "0      7593  tax cut inflationary     study say     omb stu...         4.0\n",
              "1      7378  grade mown assist finance populace debt recapi...         6.0\n",
              "2       691  recovery philips electronics stall amid crisis...         7.0\n",
              "3      5540  washington post   tuesday   august       lag i...         4.0\n",
              "4      3824  potent economical datapoint theme ov regenerat...         7.0\n",
              "...     ...                                                ...         ...\n",
              "2835   6915  plump oldhat dismiss ichardixon predict ew ork...         2.0\n",
              "2836   7487  onequarter economical ontogeny anatomy rescrip...         6.0\n",
              "2837   3045  ilarylinton adjutant better sheer productivene...         7.0\n",
              "2838   3636  datum cause bond price rally    purchaser inde...         3.0\n",
              "2839   7121  home sale rise    percent   increase large nea...         3.0\n",
              "\n",
              "[2840 rows x 3 columns]"
            ]
          },
          "metadata": {
            "tags": []
          },
          "execution_count": 24
        }
      ]
    },
    {
      "cell_type": "markdown",
      "metadata": {
        "id": "D1pLwS7KsNdK",
        "colab_type": "text"
      },
      "source": [
        "### 120% data augmentation"
      ]
    },
    {
      "cell_type": "code",
      "metadata": {
        "id": "Cr90tny1sMrB",
        "colab_type": "code",
        "colab": {}
      },
      "source": [
        "data_cleaned_5 = data_cleaned.sample(frac=0.2, replace=False, random_state=17)"
      ],
      "execution_count": 0,
      "outputs": []
    },
    {
      "cell_type": "code",
      "metadata": {
        "id": "m-gaD-T3seai",
        "colab_type": "code",
        "colab": {}
      },
      "source": [
        "sentence = data_cleaned['texts']\n",
        "pos = data_cleaned['positivity']\n",
        "word_list = sentence.str.split()\n",
        "\n",
        "random.seed(55)\n",
        "data_5 = data_cleaned.append(augmentation(word_list, pos))\n",
        "\n",
        "sentence = data_cleaned_5['texts']\n",
        "pos = data_cleaned_5['positivity']\n",
        "word_list = sentence.str.split()\n",
        "\n",
        "random.seed(74)\n",
        "data_5 = data_5.append(augmentation(word_list, pos))"
      ],
      "execution_count": 0,
      "outputs": []
    },
    {
      "cell_type": "code",
      "metadata": {
        "id": "CfuZFlUJsiuH",
        "colab_type": "code",
        "outputId": "d66af13b-0922-4f6d-e94e-3e81207cd966",
        "colab": {
          "base_uri": "https://localhost:8080/",
          "height": 419
        }
      },
      "source": [
        "data_5 = shuffle(data_5)\n",
        "data_5.reset_index()"
      ],
      "execution_count": 0,
      "outputs": [
        {
          "output_type": "execute_result",
          "data": {
            "text/html": [
              "<div>\n",
              "<style scoped>\n",
              "    .dataframe tbody tr th:only-of-type {\n",
              "        vertical-align: middle;\n",
              "    }\n",
              "\n",
              "    .dataframe tbody tr th {\n",
              "        vertical-align: top;\n",
              "    }\n",
              "\n",
              "    .dataframe thead th {\n",
              "        text-align: right;\n",
              "    }\n",
              "</style>\n",
              "<table border=\"1\" class=\"dataframe\">\n",
              "  <thead>\n",
              "    <tr style=\"text-align: right;\">\n",
              "      <th></th>\n",
              "      <th>index</th>\n",
              "      <th>texts</th>\n",
              "      <th>positivity</th>\n",
              "    </tr>\n",
              "  </thead>\n",
              "  <tbody>\n",
              "    <tr>\n",
              "      <th>0</th>\n",
              "      <td>709</td>\n",
              "      <td>atomicnumber siemens intelligence nutrient sea...</td>\n",
              "      <td>3.0</td>\n",
              "    </tr>\n",
              "    <tr>\n",
              "      <th>1</th>\n",
              "      <td>2071</td>\n",
              "      <td>portrayal saving honorable clock shuddery cloc...</td>\n",
              "      <td>7.0</td>\n",
              "    </tr>\n",
              "    <tr>\n",
              "      <th>2</th>\n",
              "      <td>6035</td>\n",
              "      <td>task creativeactivity meliorate moreorless une...</td>\n",
              "      <td>3.0</td>\n",
              "    </tr>\n",
              "    <tr>\n",
              "      <th>3</th>\n",
              "      <td>150</td>\n",
              "      <td>livingaccommodations headstart addition uly mu...</td>\n",
              "      <td>6.0</td>\n",
              "    </tr>\n",
              "    <tr>\n",
              "      <th>4</th>\n",
              "      <td>2845</td>\n",
              "      <td>dow musterup pullin percentagepoint writer ona...</td>\n",
              "      <td>8.0</td>\n",
              "    </tr>\n",
              "    <tr>\n",
              "      <th>...</th>\n",
              "      <td>...</td>\n",
              "      <td>...</td>\n",
              "      <td>...</td>\n",
              "    </tr>\n",
              "    <tr>\n",
              "      <th>3119</th>\n",
              "      <td>2890</td>\n",
              "      <td>bank warn   st quarter profit miss estimate ch...</td>\n",
              "      <td>3.0</td>\n",
              "    </tr>\n",
              "    <tr>\n",
              "      <th>3120</th>\n",
              "      <td>1595</td>\n",
              "      <td>letter editor   pump adrenalin anemic economy ...</td>\n",
              "      <td>5.0</td>\n",
              "    </tr>\n",
              "    <tr>\n",
              "      <th>3121</th>\n",
              "      <td>6890</td>\n",
              "      <td>unemployment snick anuary unemployment retain ...</td>\n",
              "      <td>7.0</td>\n",
              "    </tr>\n",
              "    <tr>\n",
              "      <th>3122</th>\n",
              "      <td>1976</td>\n",
              "      <td>spicy theme chalkboard yard largeminded passup...</td>\n",
              "      <td>4.0</td>\n",
              "    </tr>\n",
              "    <tr>\n",
              "      <th>3123</th>\n",
              "      <td>2976</td>\n",
              "      <td>consumer class fullbodied protrude income disb...</td>\n",
              "      <td>6.0</td>\n",
              "    </tr>\n",
              "  </tbody>\n",
              "</table>\n",
              "<p>3124 rows × 3 columns</p>\n",
              "</div>"
            ],
            "text/plain": [
              "      index                                              texts  positivity\n",
              "0       709  atomicnumber siemens intelligence nutrient sea...         3.0\n",
              "1      2071  portrayal saving honorable clock shuddery cloc...         7.0\n",
              "2      6035  task creativeactivity meliorate moreorless une...         3.0\n",
              "3       150  livingaccommodations headstart addition uly mu...         6.0\n",
              "4      2845  dow musterup pullin percentagepoint writer ona...         8.0\n",
              "...     ...                                                ...         ...\n",
              "3119   2890  bank warn   st quarter profit miss estimate ch...         3.0\n",
              "3120   1595  letter editor   pump adrenalin anemic economy ...         5.0\n",
              "3121   6890  unemployment snick anuary unemployment retain ...         7.0\n",
              "3122   1976  spicy theme chalkboard yard largeminded passup...         4.0\n",
              "3123   2976  consumer class fullbodied protrude income disb...         6.0\n",
              "\n",
              "[3124 rows x 3 columns]"
            ]
          },
          "metadata": {
            "tags": []
          },
          "execution_count": 27
        }
      ]
    },
    {
      "cell_type": "markdown",
      "metadata": {
        "id": "BE6OOb_BqxGS",
        "colab_type": "text"
      },
      "source": [
        "### 150% data augmentation"
      ]
    },
    {
      "cell_type": "code",
      "metadata": {
        "id": "AR0bna72qs30",
        "colab_type": "code",
        "colab": {}
      },
      "source": [
        "data_cleaned_6 = data_cleaned.sample(frac=0.5, replace=False, random_state=17)"
      ],
      "execution_count": 0,
      "outputs": []
    },
    {
      "cell_type": "code",
      "metadata": {
        "id": "dl2TMD2Pq4eA",
        "colab_type": "code",
        "colab": {}
      },
      "source": [
        "sentence = data_cleaned['texts']\n",
        "pos = data_cleaned['positivity']\n",
        "word_list = sentence.str.split()\n",
        "\n",
        "random.seed(55)\n",
        "data_6 = data_cleaned.append(augmentation(word_list, pos))\n",
        "\n",
        "sentence = data_cleaned_6['texts']\n",
        "pos = data_cleaned_6['positivity']\n",
        "word_list = sentence.str.split()\n",
        "\n",
        "random.seed(74)\n",
        "data_6 = data_6.append(augmentation(word_list, pos))"
      ],
      "execution_count": 0,
      "outputs": []
    },
    {
      "cell_type": "code",
      "metadata": {
        "id": "hz6QL0uhq8lz",
        "colab_type": "code",
        "outputId": "91a8f432-1fd0-4e00-fb47-f0894b9ea3bd",
        "colab": {
          "base_uri": "https://localhost:8080/",
          "height": 419
        }
      },
      "source": [
        "data_6 = shuffle(data_6)\n",
        "data_6.reset_index()"
      ],
      "execution_count": 0,
      "outputs": [
        {
          "output_type": "execute_result",
          "data": {
            "text/html": [
              "<div>\n",
              "<style scoped>\n",
              "    .dataframe tbody tr th:only-of-type {\n",
              "        vertical-align: middle;\n",
              "    }\n",
              "\n",
              "    .dataframe tbody tr th {\n",
              "        vertical-align: top;\n",
              "    }\n",
              "\n",
              "    .dataframe thead th {\n",
              "        text-align: right;\n",
              "    }\n",
              "</style>\n",
              "<table border=\"1\" class=\"dataframe\">\n",
              "  <thead>\n",
              "    <tr style=\"text-align: right;\">\n",
              "      <th></th>\n",
              "      <th>index</th>\n",
              "      <th>texts</th>\n",
              "      <th>positivity</th>\n",
              "    </tr>\n",
              "  </thead>\n",
              "  <tbody>\n",
              "    <tr>\n",
              "      <th>0</th>\n",
              "      <td>3442</td>\n",
              "      <td>learn federalofficial ' deputation carryout ' ...</td>\n",
              "      <td>4.0</td>\n",
              "    </tr>\n",
              "    <tr>\n",
              "      <th>1</th>\n",
              "      <td>3593</td>\n",
              "      <td>dollar skid trader follow lead fall u s   stoc...</td>\n",
              "      <td>3.0</td>\n",
              "    </tr>\n",
              "    <tr>\n",
              "      <th>2</th>\n",
              "      <td>1005</td>\n",
              "      <td>visa nett acclivity drop picking visa raqiatio...</td>\n",
              "      <td>6.0</td>\n",
              "    </tr>\n",
              "    <tr>\n",
              "      <th>3</th>\n",
              "      <td>5867</td>\n",
              "      <td>mob income climbup nosecount authority story p...</td>\n",
              "      <td>7.0</td>\n",
              "    </tr>\n",
              "    <tr>\n",
              "      <th>4</th>\n",
              "      <td>3199</td>\n",
              "      <td>look hamstring putup burp source sudeep reddy...</td>\n",
              "      <td>3.0</td>\n",
              "    </tr>\n",
              "    <tr>\n",
              "      <th>...</th>\n",
              "      <td>...</td>\n",
              "      <td>...</td>\n",
              "      <td>...</td>\n",
              "    </tr>\n",
              "    <tr>\n",
              "      <th>3545</th>\n",
              "      <td>6304</td>\n",
              "      <td>commonplace platter terms gather volume summer...</td>\n",
              "      <td>4.0</td>\n",
              "    </tr>\n",
              "    <tr>\n",
              "      <th>3546</th>\n",
              "      <td>2811</td>\n",
              "      <td>economical soothsayer undercut counton lag ver...</td>\n",
              "      <td>7.0</td>\n",
              "    </tr>\n",
              "    <tr>\n",
              "      <th>3547</th>\n",
              "      <td>6984</td>\n",
              "      <td>tax increase live let tax thing perspective   ...</td>\n",
              "      <td>8.0</td>\n",
              "    </tr>\n",
              "    <tr>\n",
              "      <th>3548</th>\n",
              "      <td>5540</td>\n",
              "      <td>ookeraliaferroashington mail ues ug imprison i...</td>\n",
              "      <td>4.0</td>\n",
              "    </tr>\n",
              "    <tr>\n",
              "      <th>3549</th>\n",
              "      <td>463</td>\n",
              "      <td>sake grade cover descent amid ew attest boring...</td>\n",
              "      <td>4.0</td>\n",
              "    </tr>\n",
              "  </tbody>\n",
              "</table>\n",
              "<p>3550 rows × 3 columns</p>\n",
              "</div>"
            ],
            "text/plain": [
              "      index                                              texts  positivity\n",
              "0      3442  learn federalofficial ' deputation carryout ' ...         4.0\n",
              "1      3593  dollar skid trader follow lead fall u s   stoc...         3.0\n",
              "2      1005  visa nett acclivity drop picking visa raqiatio...         6.0\n",
              "3      5867  mob income climbup nosecount authority story p...         7.0\n",
              "4      3199   look hamstring putup burp source sudeep reddy...         3.0\n",
              "...     ...                                                ...         ...\n",
              "3545   6304  commonplace platter terms gather volume summer...         4.0\n",
              "3546   2811  economical soothsayer undercut counton lag ver...         7.0\n",
              "3547   6984  tax increase live let tax thing perspective   ...         8.0\n",
              "3548   5540  ookeraliaferroashington mail ues ug imprison i...         4.0\n",
              "3549    463  sake grade cover descent amid ew attest boring...         4.0\n",
              "\n",
              "[3550 rows x 3 columns]"
            ]
          },
          "metadata": {
            "tags": []
          },
          "execution_count": 30
        }
      ]
    },
    {
      "cell_type": "markdown",
      "metadata": {
        "id": "KqFN0np7sxUK",
        "colab_type": "text"
      },
      "source": [
        "### 180% data augmentation"
      ]
    },
    {
      "cell_type": "code",
      "metadata": {
        "id": "4OFdjFVcs1oM",
        "colab_type": "code",
        "colab": {}
      },
      "source": [
        "data_cleaned_7 = data_cleaned.sample(frac=0.8, replace=False, random_state=17)"
      ],
      "execution_count": 0,
      "outputs": []
    },
    {
      "cell_type": "code",
      "metadata": {
        "id": "YMVlXm-bs1in",
        "colab_type": "code",
        "colab": {}
      },
      "source": [
        "sentence = data_cleaned['texts']\n",
        "pos = data_cleaned['positivity']\n",
        "word_list = sentence.str.split()\n",
        "\n",
        "random.seed(55)\n",
        "data_7 = data_cleaned.append(augmentation(word_list, pos))\n",
        "\n",
        "sentence = data_cleaned_7['texts']\n",
        "pos = data_cleaned_7['positivity']\n",
        "word_list = sentence.str.split()\n",
        "\n",
        "random.seed(74)\n",
        "data_7 = data_7.append(augmentation(word_list, pos))"
      ],
      "execution_count": 0,
      "outputs": []
    },
    {
      "cell_type": "code",
      "metadata": {
        "id": "llbwQJBEs1aM",
        "colab_type": "code",
        "outputId": "bee1e172-0d99-48dc-8d8c-9c3f556fa27f",
        "colab": {
          "base_uri": "https://localhost:8080/",
          "height": 419
        }
      },
      "source": [
        "data_7 = shuffle(data_7)\n",
        "data_7.reset_index()"
      ],
      "execution_count": 0,
      "outputs": [
        {
          "output_type": "execute_result",
          "data": {
            "text/html": [
              "<div>\n",
              "<style scoped>\n",
              "    .dataframe tbody tr th:only-of-type {\n",
              "        vertical-align: middle;\n",
              "    }\n",
              "\n",
              "    .dataframe tbody tr th {\n",
              "        vertical-align: top;\n",
              "    }\n",
              "\n",
              "    .dataframe thead th {\n",
              "        text-align: right;\n",
              "    }\n",
              "</style>\n",
              "<table border=\"1\" class=\"dataframe\">\n",
              "  <thead>\n",
              "    <tr style=\"text-align: right;\">\n",
              "      <th></th>\n",
              "      <th>index</th>\n",
              "      <th>texts</th>\n",
              "      <th>positivity</th>\n",
              "    </tr>\n",
              "  </thead>\n",
              "  <tbody>\n",
              "    <tr>\n",
              "      <th>0</th>\n",
              "      <td>5789</td>\n",
              "      <td>overdue profit take drive market low   overdue...</td>\n",
              "      <td>3.0</td>\n",
              "    </tr>\n",
              "    <tr>\n",
              "      <th>1</th>\n",
              "      <td>5257</td>\n",
              "      <td>speculate recession pastime politician   carte...</td>\n",
              "      <td>3.0</td>\n",
              "    </tr>\n",
              "    <tr>\n",
              "      <th>2</th>\n",
              "      <td>101</td>\n",
              "      <td>eynesian ontogenesis deduction upshot twelvemo...</td>\n",
              "      <td>3.0</td>\n",
              "    </tr>\n",
              "    <tr>\n",
              "      <th>3</th>\n",
              "      <td>377</td>\n",
              "      <td>longer date treasury issue bear brunt rate cut...</td>\n",
              "      <td>8.0</td>\n",
              "    </tr>\n",
              "    <tr>\n",
              "      <th>4</th>\n",
              "      <td>1359</td>\n",
              "      <td>income uranium sulfur allin puffiness ' sulfur...</td>\n",
              "      <td>7.0</td>\n",
              "    </tr>\n",
              "    <tr>\n",
              "      <th>...</th>\n",
              "      <td>...</td>\n",
              "      <td>...</td>\n",
              "      <td>...</td>\n",
              "    </tr>\n",
              "    <tr>\n",
              "      <th>3971</th>\n",
              "      <td>306</td>\n",
              "      <td>lookout money economicsystem intensify newly o...</td>\n",
              "      <td>6.0</td>\n",
              "    </tr>\n",
              "    <tr>\n",
              "      <th>3972</th>\n",
              "      <td>7487</td>\n",
              "      <td>quarter economic growth figure revise upward  ...</td>\n",
              "      <td>6.0</td>\n",
              "    </tr>\n",
              "    <tr>\n",
              "      <th>3973</th>\n",
              "      <td>313</td>\n",
              "      <td>outlook   fed get box new york    economy cont...</td>\n",
              "      <td>7.0</td>\n",
              "    </tr>\n",
              "    <tr>\n",
              "      <th>3974</th>\n",
              "      <td>1065</td>\n",
              "      <td>sombreness abstract pensionoff architecturalpl...</td>\n",
              "      <td>7.0</td>\n",
              "    </tr>\n",
              "    <tr>\n",
              "      <th>3975</th>\n",
              "      <td>1008</td>\n",
              "      <td>large hedge fund sudden reversal fortune easy ...</td>\n",
              "      <td>4.0</td>\n",
              "    </tr>\n",
              "  </tbody>\n",
              "</table>\n",
              "<p>3976 rows × 3 columns</p>\n",
              "</div>"
            ],
            "text/plain": [
              "      index                                              texts  positivity\n",
              "0      5789  overdue profit take drive market low   overdue...         3.0\n",
              "1      5257  speculate recession pastime politician   carte...         3.0\n",
              "2       101  eynesian ontogenesis deduction upshot twelvemo...         3.0\n",
              "3       377  longer date treasury issue bear brunt rate cut...         8.0\n",
              "4      1359  income uranium sulfur allin puffiness ' sulfur...         7.0\n",
              "...     ...                                                ...         ...\n",
              "3971    306  lookout money economicsystem intensify newly o...         6.0\n",
              "3972   7487  quarter economic growth figure revise upward  ...         6.0\n",
              "3973    313  outlook   fed get box new york    economy cont...         7.0\n",
              "3974   1065  sombreness abstract pensionoff architecturalpl...         7.0\n",
              "3975   1008  large hedge fund sudden reversal fortune easy ...         4.0\n",
              "\n",
              "[3976 rows x 3 columns]"
            ]
          },
          "metadata": {
            "tags": []
          },
          "execution_count": 33
        }
      ]
    },
    {
      "cell_type": "code",
      "metadata": {
        "id": "g1ofR7UKrSc5",
        "colab_type": "code",
        "outputId": "4e84400f-70a8-43e5-b0ff-502609df82aa",
        "colab": {
          "base_uri": "https://localhost:8080/",
          "height": 328
        }
      },
      "source": [
        "dist = data_7[['positivity','texts']].groupby('positivity').count()\n",
        "dist"
      ],
      "execution_count": 0,
      "outputs": [
        {
          "output_type": "execute_result",
          "data": {
            "text/html": [
              "<div>\n",
              "<style scoped>\n",
              "    .dataframe tbody tr th:only-of-type {\n",
              "        vertical-align: middle;\n",
              "    }\n",
              "\n",
              "    .dataframe tbody tr th {\n",
              "        vertical-align: top;\n",
              "    }\n",
              "\n",
              "    .dataframe thead th {\n",
              "        text-align: right;\n",
              "    }\n",
              "</style>\n",
              "<table border=\"1\" class=\"dataframe\">\n",
              "  <thead>\n",
              "    <tr style=\"text-align: right;\">\n",
              "      <th></th>\n",
              "      <th>texts</th>\n",
              "    </tr>\n",
              "    <tr>\n",
              "      <th>positivity</th>\n",
              "      <th></th>\n",
              "    </tr>\n",
              "  </thead>\n",
              "  <tbody>\n",
              "    <tr>\n",
              "      <th>2.0</th>\n",
              "      <td>98</td>\n",
              "    </tr>\n",
              "    <tr>\n",
              "      <th>3.0</th>\n",
              "      <td>959</td>\n",
              "    </tr>\n",
              "    <tr>\n",
              "      <th>4.0</th>\n",
              "      <td>718</td>\n",
              "    </tr>\n",
              "    <tr>\n",
              "      <th>5.0</th>\n",
              "      <td>570</td>\n",
              "    </tr>\n",
              "    <tr>\n",
              "      <th>6.0</th>\n",
              "      <td>596</td>\n",
              "    </tr>\n",
              "    <tr>\n",
              "      <th>7.0</th>\n",
              "      <td>829</td>\n",
              "    </tr>\n",
              "    <tr>\n",
              "      <th>8.0</th>\n",
              "      <td>200</td>\n",
              "    </tr>\n",
              "    <tr>\n",
              "      <th>9.0</th>\n",
              "      <td>6</td>\n",
              "    </tr>\n",
              "  </tbody>\n",
              "</table>\n",
              "</div>"
            ],
            "text/plain": [
              "            texts\n",
              "positivity       \n",
              "2.0            98\n",
              "3.0           959\n",
              "4.0           718\n",
              "5.0           570\n",
              "6.0           596\n",
              "7.0           829\n",
              "8.0           200\n",
              "9.0             6"
            ]
          },
          "metadata": {
            "tags": []
          },
          "execution_count": 34
        }
      ]
    },
    {
      "cell_type": "code",
      "metadata": {
        "id": "Ltiy4igSrLL3",
        "colab_type": "code",
        "outputId": "f37faff8-82bd-4e81-e398-a6df522e55c2",
        "colab": {
          "base_uri": "https://localhost:8080/",
          "height": 330
        }
      },
      "source": [
        "def autopct_generator(limit):\n",
        "    def inner_autopct(pct):\n",
        "        return ('%.1f%%' % pct) if pct > limit else ''\n",
        "    return inner_autopct\n",
        "plt.rcParams.update({'font.size':20})\n",
        "fig1, ax1 = plt.subplots()\n",
        "sizes = dist.values\n",
        "label = [2,3,4,5,6,7,8,9]\n",
        "ax1.pie(sizes, labels=label, autopct = autopct_generator(10), startangle=90)\n",
        "ax1.axis('equal')  \n",
        "\n",
        "plt.show()"
      ],
      "execution_count": 0,
      "outputs": [
        {
          "output_type": "stream",
          "text": [
            "/usr/local/lib/python3.6/dist-packages/ipykernel_launcher.py:9: MatplotlibDeprecationWarning: Non-1D inputs to pie() are currently squeeze()d, but this behavior is deprecated since 3.1 and will be removed in 3.3; pass a 1D array instead.\n",
            "  if __name__ == '__main__':\n"
          ],
          "name": "stderr"
        },
        {
          "output_type": "display_data",
          "data": {
            "image/png": "[encoded data removed]",
            "text/plain": [
              "<Figure size 432x288 with 1 Axes>"
            ]
          },
          "metadata": {
            "tags": []
          }
        }
      ]
    },
    {
      "cell_type": "markdown",
      "metadata": {
        "id": "ZxnJwLCVpRKc",
        "colab_type": "text"
      },
      "source": [
        "### 200% data augmentation"
      ]
    },
    {
      "cell_type": "code",
      "metadata": {
        "id": "EN96mh94pNoK",
        "colab_type": "code",
        "colab": {}
      },
      "source": [
        "sentence = data_cleaned['texts']\n",
        "pos = data_cleaned['positivity']\n",
        "word_list = sentence.str.split()\n",
        "\n",
        "random.seed(55)\n",
        "data_8 = data_cleaned.append(augmentation(word_list, pos))\n",
        "\n",
        "random.seed(74)\n",
        "data_8 = data_8.append(augmentation(word_list, pos))"
      ],
      "execution_count": 0,
      "outputs": []
    },
    {
      "cell_type": "code",
      "metadata": {
        "id": "S4WjD53Wpd0p",
        "colab_type": "code",
        "outputId": "a0028956-28d9-402c-8dc0-7823cc7cf1f6",
        "colab": {
          "base_uri": "https://localhost:8080/",
          "height": 419
        }
      },
      "source": [
        "data_8 = shuffle(data_8)\n",
        "data_8.reset_index()"
      ],
      "execution_count": 0,
      "outputs": [
        {
          "output_type": "execute_result",
          "data": {
            "text/html": [
              "<div>\n",
              "<style scoped>\n",
              "    .dataframe tbody tr th:only-of-type {\n",
              "        vertical-align: middle;\n",
              "    }\n",
              "\n",
              "    .dataframe tbody tr th {\n",
              "        vertical-align: top;\n",
              "    }\n",
              "\n",
              "    .dataframe thead th {\n",
              "        text-align: right;\n",
              "    }\n",
              "</style>\n",
              "<table border=\"1\" class=\"dataframe\">\n",
              "  <thead>\n",
              "    <tr style=\"text-align: right;\">\n",
              "      <th></th>\n",
              "      <th>index</th>\n",
              "      <th>texts</th>\n",
              "      <th>positivity</th>\n",
              "    </tr>\n",
              "  </thead>\n",
              "  <tbody>\n",
              "    <tr>\n",
              "      <th>0</th>\n",
              "      <td>490</td>\n",
              "      <td>ale cant functionary admonish stimulant value ...</td>\n",
              "      <td>4.0</td>\n",
              "    </tr>\n",
              "    <tr>\n",
              "      <th>1</th>\n",
              "      <td>2151</td>\n",
              "      <td>budget surplus certainly fun    last enjoy bud...</td>\n",
              "      <td>5.0</td>\n",
              "    </tr>\n",
              "    <tr>\n",
              "      <th>2</th>\n",
              "      <td>3680</td>\n",
              "      <td>bernanke chipin odern subscribe prey ichaelack...</td>\n",
              "      <td>5.0</td>\n",
              "    </tr>\n",
              "    <tr>\n",
              "      <th>3</th>\n",
              "      <td>2747</td>\n",
              "      <td>nitrogen vitamin  siemens tetraiodothyronine ...</td>\n",
              "      <td>3.0</td>\n",
              "    </tr>\n",
              "    <tr>\n",
              "      <th>4</th>\n",
              "      <td>1901</td>\n",
              "      <td>inadequate chance fallbehind labor usage fallb...</td>\n",
              "      <td>3.0</td>\n",
              "    </tr>\n",
              "    <tr>\n",
              "      <th>...</th>\n",
              "      <td>...</td>\n",
              "      <td>...</td>\n",
              "      <td>...</td>\n",
              "    </tr>\n",
              "    <tr>\n",
              "      <th>4255</th>\n",
              "      <td>2531</td>\n",
              "      <td>angstromunit atomicnumber nosecandy group atom...</td>\n",
              "      <td>4.0</td>\n",
              "    </tr>\n",
              "    <tr>\n",
              "      <th>4256</th>\n",
              "      <td>1937</td>\n",
              "      <td>task grocerystore reopen grocerystore godown d...</td>\n",
              "      <td>3.0</td>\n",
              "    </tr>\n",
              "    <tr>\n",
              "      <th>4257</th>\n",
              "      <td>5866</td>\n",
              "      <td>brand sizeable contempt resolution brand dilig...</td>\n",
              "      <td>3.0</td>\n",
              "    </tr>\n",
              "    <tr>\n",
              "      <th>4258</th>\n",
              "      <td>4163</td>\n",
              "      <td>feed move bolster recovery   central bank lowe...</td>\n",
              "      <td>6.0</td>\n",
              "    </tr>\n",
              "    <tr>\n",
              "      <th>4259</th>\n",
              "      <td>4818</td>\n",
              "      <td>dow comedown investor gloominess acclivity gil...</td>\n",
              "      <td>5.0</td>\n",
              "    </tr>\n",
              "  </tbody>\n",
              "</table>\n",
              "<p>4260 rows × 3 columns</p>\n",
              "</div>"
            ],
            "text/plain": [
              "      index                                              texts  positivity\n",
              "0       490  ale cant functionary admonish stimulant value ...         4.0\n",
              "1      2151  budget surplus certainly fun    last enjoy bud...         5.0\n",
              "2      3680  bernanke chipin odern subscribe prey ichaelack...         5.0\n",
              "3      2747   nitrogen vitamin  siemens tetraiodothyronine ...         3.0\n",
              "4      1901  inadequate chance fallbehind labor usage fallb...         3.0\n",
              "...     ...                                                ...         ...\n",
              "4255   2531  angstromunit atomicnumber nosecandy group atom...         4.0\n",
              "4256   1937  task grocerystore reopen grocerystore godown d...         3.0\n",
              "4257   5866  brand sizeable contempt resolution brand dilig...         3.0\n",
              "4258   4163  feed move bolster recovery   central bank lowe...         6.0\n",
              "4259   4818  dow comedown investor gloominess acclivity gil...         5.0\n",
              "\n",
              "[4260 rows x 3 columns]"
            ]
          },
          "metadata": {
            "tags": []
          },
          "execution_count": 37
        }
      ]
    },
    {
      "cell_type": "markdown",
      "metadata": {
        "id": "sra4SDgE8_t9",
        "colab_type": "text"
      },
      "source": [
        "## Baselines"
      ]
    },
    {
      "cell_type": "code",
      "metadata": {
        "id": "XqmxXc8Qv5cs",
        "colab_type": "code",
        "colab": {}
      },
      "source": [
        "from sklearn.preprocessing import LabelBinarizer\n",
        "def multiclass_roc_auc_score(y_test, y_pred, average=\"weighted\"):\n",
        "  lb = LabelBinarizer()\n",
        "  lb.fit(y_test)\n",
        "  y_test = lb.transform(y_test)\n",
        "  y_pred = lb.transform(y_pred)\n",
        "  return roc_auc_score(y_test, y_pred, multi_class='ovo',average=average)"
      ],
      "execution_count": 0,
      "outputs": []
    },
    {
      "cell_type": "markdown",
      "metadata": {
        "id": "ZWvltmSpVz69",
        "colab_type": "text"
      },
      "source": [
        "##### SVM"
      ]
    },
    {
      "cell_type": "code",
      "metadata": {
        "id": "NIDRQPhw8x2F",
        "colab_type": "code",
        "colab": {}
      },
      "source": [
        "def svm(data_cleaned):\n",
        "  texts = data_cleaned['texts'].values\n",
        "  labels = data_cleaned['positivity'].values\n",
        "\n",
        "  # Linear SVC Model:\n",
        "  text_clf_lsvc = Pipeline([('tfidf', TfidfVectorizer()),\n",
        "                       ('clf', LinearSVC()),\n",
        "  ])\n",
        "\n",
        "  kfold = StratifiedKFold(n_splits=7, shuffle=True, random_state = 7)\n",
        "  \n",
        "  # Performance matrix\n",
        "  scores_svm = pd.DataFrame(columns = ['accuracy','precision', 'recall', 'f1', 'cohen_kappa_score', 'auc'])\n",
        "\n",
        "  for train, test in kfold.split(texts, labels):\n",
        "    \n",
        "    # train model\n",
        "    text_clf_lsvc.fit(texts[train], labels[train])\n",
        "\n",
        "    # predictions on test set\n",
        "    predictions_svm = text_clf_lsvc.predict(texts[test])\n",
        "\n",
        "    # confusion matrix report\n",
        "    report = metrics.classification_report(labels[test], predictions_svm, output_dict=True) \n",
        "    df = pd.DataFrame(report) \n",
        "    print(metrics.classification_report(labels[test], predictions_svm, output_dict=False) )\n",
        "\n",
        "    # cohen kappa score\n",
        "    ck = cohen_kappa_score(labels[test], predictions_svm)  \n",
        "\n",
        "    # auc\n",
        "    auc = multiclass_roc_auc_score(labels[test], predictions_svm)\n",
        "    scores_svm = scores_svm.append({'accuracy': df['accuracy'][0], 'precision': df['weighted avg'][0], \n",
        "                                    'recall': df['weighted avg'][1], 'f1': df['weighted avg'][2], \n",
        "                                    'cohen_kappa_score': ck, 'auc': auc },  ignore_index=True)\n",
        "  return scores_svm\n",
        "  "
      ],
      "execution_count": 0,
      "outputs": []
    },
    {
      "cell_type": "code",
      "metadata": {
        "id": "sgMFMZxOiHgC",
        "colab_type": "code",
        "outputId": "317bb0eb-7448-48ae-f2cc-fd73d30db6a9",
        "colab": {
          "base_uri": "https://localhost:8080/",
          "height": 1000
        }
      },
      "source": [
        "scores_svm_1 = svm(data_1) # 20% data augmentation\n",
        "scores_svm_2 = svm(data_2) # 50% data augmentation\n",
        "scores_svm_3 = svm(data_3) # 80% data augmentation\n",
        "scores_svm_4 = svm(data_4) # 100% data augmentation\n",
        "scores_svm_5 = svm(data_5) # 120% data augmentation\n",
        "scores_svm_6 = svm(data_6) # 150% data augmentation\n",
        "scores_svm_7 = svm(data_7) # 180% data augmentation\n",
        "scores_svm_8 = svm(data_8) # 200% data augmentation"
      ],
      "execution_count": 0,
      "outputs": [
        {
          "output_type": "stream",
          "text": [
            "/usr/local/lib/python3.6/dist-packages/sklearn/model_selection/_split.py:667: UserWarning: The least populated class in y has only 3 members, which is less than n_splits=7.\n",
            "  % (min_groups, self.n_splits)), UserWarning)\n",
            "/usr/local/lib/python3.6/dist-packages/sklearn/metrics/_classification.py:1272: UndefinedMetricWarning: Precision and F-score are ill-defined and being set to 0.0 in labels with no predicted samples. Use `zero_division` parameter to control this behavior.\n",
            "  _warn_prf(average, modifier, msg_start, len(result))\n"
          ],
          "name": "stderr"
        },
        {
          "output_type": "stream",
          "text": [
            "              precision    recall  f1-score   support\n",
            "\n",
            "         2.0       0.00      0.00      0.00         5\n",
            "         3.0       0.37      0.53      0.43        59\n",
            "         4.0       0.19      0.20      0.20        44\n",
            "         5.0       0.06      0.03      0.04        35\n",
            "         6.0       0.14      0.11      0.12        37\n",
            "         7.0       0.34      0.44      0.38        50\n",
            "         8.0       1.00      0.08      0.14        13\n",
            "         9.0       0.00      0.00      0.00         1\n",
            "\n",
            "    accuracy                           0.28       244\n",
            "   macro avg       0.26      0.17      0.16       244\n",
            "weighted avg       0.28      0.28      0.25       244\n",
            "\n"
          ],
          "name": "stdout"
        },
        {
          "output_type": "stream",
          "text": [
            "/usr/local/lib/python3.6/dist-packages/sklearn/metrics/_classification.py:1272: UndefinedMetricWarning: Precision and F-score are ill-defined and being set to 0.0 in labels with no predicted samples. Use `zero_division` parameter to control this behavior.\n",
            "  _warn_prf(average, modifier, msg_start, len(result))\n"
          ],
          "name": "stderr"
        },
        {
          "output_type": "stream",
          "text": [
            "              precision    recall  f1-score   support\n",
            "\n",
            "         2.0       0.00      0.00      0.00         6\n",
            "         3.0       0.34      0.56      0.43        59\n",
            "         4.0       0.28      0.23      0.25        43\n",
            "         5.0       0.38      0.15      0.21        34\n",
            "         6.0       0.09      0.08      0.08        37\n",
            "         7.0       0.24      0.29      0.27        51\n",
            "         8.0       0.00      0.00      0.00        13\n",
            "         9.0       0.00      0.00      0.00         1\n",
            "\n",
            "    accuracy                           0.27       244\n",
            "   macro avg       0.17      0.16      0.16       244\n",
            "weighted avg       0.25      0.27      0.25       244\n",
            "\n"
          ],
          "name": "stdout"
        },
        {
          "output_type": "stream",
          "text": [
            "/usr/local/lib/python3.6/dist-packages/sklearn/metrics/_classification.py:1272: UndefinedMetricWarning: Precision and F-score are ill-defined and being set to 0.0 in labels with no predicted samples. Use `zero_division` parameter to control this behavior.\n",
            "  _warn_prf(average, modifier, msg_start, len(result))\n"
          ],
          "name": "stderr"
        },
        {
          "output_type": "stream",
          "text": [
            "              precision    recall  f1-score   support\n",
            "\n",
            "         2.0       0.00      0.00      0.00         6\n",
            "         3.0       0.34      0.46      0.39        59\n",
            "         4.0       0.22      0.23      0.23        43\n",
            "         5.0       0.09      0.06      0.07        34\n",
            "         6.0       0.38      0.27      0.32        37\n",
            "         7.0       0.31      0.43      0.36        51\n",
            "         8.0       0.00      0.00      0.00        13\n",
            "         9.0       0.00      0.00      0.00         1\n",
            "\n",
            "    accuracy                           0.29       244\n",
            "   macro avg       0.17      0.18      0.17       244\n",
            "weighted avg       0.26      0.29      0.27       244\n",
            "\n"
          ],
          "name": "stdout"
        },
        {
          "output_type": "stream",
          "text": [
            "/usr/local/lib/python3.6/dist-packages/sklearn/metrics/_classification.py:1272: UndefinedMetricWarning: Precision and F-score are ill-defined and being set to 0.0 in labels with no predicted samples. Use `zero_division` parameter to control this behavior.\n",
            "  _warn_prf(average, modifier, msg_start, len(result))\n"
          ],
          "name": "stderr"
        },
        {
          "output_type": "stream",
          "text": [
            "              precision    recall  f1-score   support\n",
            "\n",
            "         2.0       0.00      0.00      0.00         6\n",
            "         3.0       0.32      0.45      0.38        60\n",
            "         4.0       0.25      0.25      0.25        44\n",
            "         5.0       0.25      0.21      0.23        34\n",
            "         6.0       0.23      0.19      0.21        36\n",
            "         7.0       0.34      0.37      0.36        51\n",
            "         8.0       0.00      0.00      0.00        12\n",
            "\n",
            "    accuracy                           0.29       243\n",
            "   macro avg       0.20      0.21      0.20       243\n",
            "weighted avg       0.26      0.29      0.27       243\n",
            "\n"
          ],
          "name": "stdout"
        },
        {
          "output_type": "stream",
          "text": [
            "/usr/local/lib/python3.6/dist-packages/sklearn/metrics/_classification.py:1272: UndefinedMetricWarning: Precision and F-score are ill-defined and being set to 0.0 in labels with no predicted samples. Use `zero_division` parameter to control this behavior.\n",
            "  _warn_prf(average, modifier, msg_start, len(result))\n"
          ],
          "name": "stderr"
        },
        {
          "output_type": "stream",
          "text": [
            "              precision    recall  f1-score   support\n",
            "\n",
            "         2.0       0.00      0.00      0.00         6\n",
            "         3.0       0.37      0.50      0.43        60\n",
            "         4.0       0.20      0.16      0.18        44\n",
            "         5.0       0.17      0.15      0.16        34\n",
            "         6.0       0.21      0.19      0.20        36\n",
            "         7.0       0.35      0.43      0.39        51\n",
            "         8.0       1.00      0.17      0.29        12\n",
            "\n",
            "    accuracy                           0.30       243\n",
            "   macro avg       0.33      0.23      0.23       243\n",
            "weighted avg       0.31      0.30      0.28       243\n",
            "\n"
          ],
          "name": "stdout"
        },
        {
          "output_type": "stream",
          "text": [
            "/usr/local/lib/python3.6/dist-packages/sklearn/metrics/_classification.py:1272: UndefinedMetricWarning: Precision and F-score are ill-defined and being set to 0.0 in labels with no predicted samples. Use `zero_division` parameter to control this behavior.\n",
            "  _warn_prf(average, modifier, msg_start, len(result))\n"
          ],
          "name": "stderr"
        },
        {
          "output_type": "stream",
          "text": [
            "              precision    recall  f1-score   support\n",
            "\n",
            "         2.0       0.00      0.00      0.00         6\n",
            "         3.0       0.28      0.37      0.32        60\n",
            "         4.0       0.24      0.23      0.24        44\n",
            "         5.0       0.17      0.15      0.16        34\n",
            "         6.0       0.28      0.22      0.25        36\n",
            "         7.0       0.36      0.45      0.40        51\n",
            "         8.0       0.00      0.00      0.00        12\n",
            "\n",
            "    accuracy                           0.28       243\n",
            "   macro avg       0.19      0.20      0.19       243\n",
            "weighted avg       0.25      0.28      0.26       243\n",
            "\n"
          ],
          "name": "stdout"
        },
        {
          "output_type": "stream",
          "text": [
            "/usr/local/lib/python3.6/dist-packages/sklearn/metrics/_classification.py:1272: UndefinedMetricWarning: Precision and F-score are ill-defined and being set to 0.0 in labels with no predicted samples. Use `zero_division` parameter to control this behavior.\n",
            "  _warn_prf(average, modifier, msg_start, len(result))\n",
            "/usr/local/lib/python3.6/dist-packages/sklearn/model_selection/_split.py:667: UserWarning: The least populated class in y has only 3 members, which is less than n_splits=7.\n",
            "  % (min_groups, self.n_splits)), UserWarning)\n"
          ],
          "name": "stderr"
        },
        {
          "output_type": "stream",
          "text": [
            "              precision    recall  f1-score   support\n",
            "\n",
            "         2.0       0.00      0.00      0.00         6\n",
            "         3.0       0.35      0.45      0.39        60\n",
            "         4.0       0.27      0.30      0.28        44\n",
            "         5.0       0.17      0.18      0.17        34\n",
            "         6.0       0.14      0.06      0.08        36\n",
            "         7.0       0.27      0.34      0.30        50\n",
            "         8.0       0.00      0.00      0.00        13\n",
            "\n",
            "    accuracy                           0.27       243\n",
            "   macro avg       0.17      0.19      0.17       243\n",
            "weighted avg       0.23      0.27      0.24       243\n",
            "\n"
          ],
          "name": "stdout"
        },
        {
          "output_type": "stream",
          "text": [
            "/usr/local/lib/python3.6/dist-packages/sklearn/metrics/_classification.py:1272: UndefinedMetricWarning: Precision and F-score are ill-defined and being set to 0.0 in labels with no predicted samples. Use `zero_division` parameter to control this behavior.\n",
            "  _warn_prf(average, modifier, msg_start, len(result))\n"
          ],
          "name": "stderr"
        },
        {
          "output_type": "stream",
          "text": [
            "              precision    recall  f1-score   support\n",
            "\n",
            "         2.0       0.00      0.00      0.00         7\n",
            "         3.0       0.39      0.59      0.47        74\n",
            "         4.0       0.33      0.30      0.31        56\n",
            "         5.0       0.19      0.12      0.14        42\n",
            "         6.0       0.31      0.31      0.31        45\n",
            "         7.0       0.42      0.42      0.42        65\n",
            "         8.0       0.33      0.07      0.11        15\n",
            "         9.0       0.00      0.00      0.00         1\n",
            "\n",
            "    accuracy                           0.35       305\n",
            "   macro avg       0.25      0.23      0.22       305\n",
            "weighted avg       0.33      0.35      0.33       305\n",
            "\n"
          ],
          "name": "stdout"
        },
        {
          "output_type": "stream",
          "text": [
            "/usr/local/lib/python3.6/dist-packages/sklearn/metrics/_classification.py:1272: UndefinedMetricWarning: Precision and F-score are ill-defined and being set to 0.0 in labels with no predicted samples. Use `zero_division` parameter to control this behavior.\n",
            "  _warn_prf(average, modifier, msg_start, len(result))\n"
          ],
          "name": "stderr"
        },
        {
          "output_type": "stream",
          "text": [
            "              precision    recall  f1-score   support\n",
            "\n",
            "         2.0       0.00      0.00      0.00         7\n",
            "         3.0       0.34      0.43      0.38        75\n",
            "         4.0       0.18      0.14      0.16        56\n",
            "         5.0       0.25      0.21      0.23        42\n",
            "         6.0       0.24      0.18      0.20        45\n",
            "         7.0       0.39      0.55      0.45        64\n",
            "         8.0       0.20      0.07      0.10        15\n",
            "         9.0       0.00      0.00      0.00         1\n",
            "\n",
            "    accuracy                           0.30       305\n",
            "   macro avg       0.20      0.20      0.19       305\n",
            "weighted avg       0.28      0.30      0.28       305\n",
            "\n"
          ],
          "name": "stdout"
        },
        {
          "output_type": "stream",
          "text": [
            "/usr/local/lib/python3.6/dist-packages/sklearn/metrics/_classification.py:1272: UndefinedMetricWarning: Precision and F-score are ill-defined and being set to 0.0 in labels with no predicted samples. Use `zero_division` parameter to control this behavior.\n",
            "  _warn_prf(average, modifier, msg_start, len(result))\n"
          ],
          "name": "stderr"
        },
        {
          "output_type": "stream",
          "text": [
            "              precision    recall  f1-score   support\n",
            "\n",
            "         2.0       0.00      0.00      0.00         7\n",
            "         3.0       0.35      0.47      0.40        75\n",
            "         4.0       0.36      0.36      0.36        56\n",
            "         5.0       0.25      0.14      0.18        42\n",
            "         6.0       0.33      0.24      0.28        45\n",
            "         7.0       0.35      0.48      0.41        64\n",
            "         8.0       0.50      0.07      0.12        15\n",
            "\n",
            "    accuracy                           0.34       304\n",
            "   macro avg       0.31      0.25      0.25       304\n",
            "weighted avg       0.33      0.34      0.32       304\n",
            "\n"
          ],
          "name": "stdout"
        },
        {
          "output_type": "stream",
          "text": [
            "/usr/local/lib/python3.6/dist-packages/sklearn/metrics/_classification.py:1272: UndefinedMetricWarning: Precision and F-score are ill-defined and being set to 0.0 in labels with no predicted samples. Use `zero_division` parameter to control this behavior.\n",
            "  _warn_prf(average, modifier, msg_start, len(result))\n"
          ],
          "name": "stderr"
        },
        {
          "output_type": "stream",
          "text": [
            "              precision    recall  f1-score   support\n",
            "\n",
            "         2.0       0.00      0.00      0.00         7\n",
            "         3.0       0.32      0.47      0.38        75\n",
            "         4.0       0.26      0.27      0.26        56\n",
            "         5.0       0.26      0.22      0.24        41\n",
            "         6.0       0.44      0.26      0.33        46\n",
            "         7.0       0.34      0.41      0.37        64\n",
            "         8.0       1.00      0.07      0.12        15\n",
            "\n",
            "    accuracy                           0.32       304\n",
            "   macro avg       0.38      0.24      0.24       304\n",
            "weighted avg       0.35      0.32      0.31       304\n",
            "\n"
          ],
          "name": "stdout"
        },
        {
          "output_type": "stream",
          "text": [
            "/usr/local/lib/python3.6/dist-packages/sklearn/metrics/_classification.py:1272: UndefinedMetricWarning: Precision and F-score are ill-defined and being set to 0.0 in labels with no predicted samples. Use `zero_division` parameter to control this behavior.\n",
            "  _warn_prf(average, modifier, msg_start, len(result))\n"
          ],
          "name": "stderr"
        },
        {
          "output_type": "stream",
          "text": [
            "              precision    recall  f1-score   support\n",
            "\n",
            "         2.0       0.00      0.00      0.00         7\n",
            "         3.0       0.43      0.48      0.45        75\n",
            "         4.0       0.28      0.34      0.31        56\n",
            "         5.0       0.30      0.24      0.27        41\n",
            "         6.0       0.16      0.09      0.11        46\n",
            "         7.0       0.30      0.44      0.36        64\n",
            "         8.0       0.00      0.00      0.00        15\n",
            "\n",
            "    accuracy                           0.32       304\n",
            "   macro avg       0.21      0.23      0.21       304\n",
            "weighted avg       0.29      0.32      0.30       304\n",
            "\n"
          ],
          "name": "stdout"
        },
        {
          "output_type": "stream",
          "text": [
            "/usr/local/lib/python3.6/dist-packages/sklearn/metrics/_classification.py:1272: UndefinedMetricWarning: Precision and F-score are ill-defined and being set to 0.0 in labels with no predicted samples. Use `zero_division` parameter to control this behavior.\n",
            "  _warn_prf(average, modifier, msg_start, len(result))\n"
          ],
          "name": "stderr"
        },
        {
          "output_type": "stream",
          "text": [
            "              precision    recall  f1-score   support\n",
            "\n",
            "         2.0       0.00      0.00      0.00         7\n",
            "         3.0       0.39      0.52      0.45        75\n",
            "         4.0       0.26      0.25      0.26        55\n",
            "         5.0       0.15      0.10      0.12        42\n",
            "         6.0       0.38      0.30      0.34        46\n",
            "         7.0       0.39      0.50      0.44        64\n",
            "         8.0       0.50      0.13      0.21        15\n",
            "\n",
            "    accuracy                           0.35       304\n",
            "   macro avg       0.30      0.26      0.26       304\n",
            "weighted avg       0.33      0.35      0.33       304\n",
            "\n"
          ],
          "name": "stdout"
        },
        {
          "output_type": "stream",
          "text": [
            "/usr/local/lib/python3.6/dist-packages/sklearn/metrics/_classification.py:1272: UndefinedMetricWarning: Precision and F-score are ill-defined and being set to 0.0 in labels with no predicted samples. Use `zero_division` parameter to control this behavior.\n",
            "  _warn_prf(average, modifier, msg_start, len(result))\n",
            "/usr/local/lib/python3.6/dist-packages/sklearn/model_selection/_split.py:667: UserWarning: The least populated class in y has only 4 members, which is less than n_splits=7.\n",
            "  % (min_groups, self.n_splits)), UserWarning)\n"
          ],
          "name": "stderr"
        },
        {
          "output_type": "stream",
          "text": [
            "              precision    recall  f1-score   support\n",
            "\n",
            "         2.0       0.00      0.00      0.00         6\n",
            "         3.0       0.35      0.51      0.42        74\n",
            "         4.0       0.28      0.32      0.30        56\n",
            "         5.0       0.20      0.12      0.15        42\n",
            "         6.0       0.26      0.22      0.24        46\n",
            "         7.0       0.33      0.34      0.34        64\n",
            "         8.0       0.00      0.00      0.00        15\n",
            "         9.0       0.00      0.00      0.00         1\n",
            "\n",
            "    accuracy                           0.31       304\n",
            "   macro avg       0.18      0.19      0.18       304\n",
            "weighted avg       0.27      0.31      0.28       304\n",
            "\n"
          ],
          "name": "stdout"
        },
        {
          "output_type": "stream",
          "text": [
            "/usr/local/lib/python3.6/dist-packages/sklearn/metrics/_classification.py:1272: UndefinedMetricWarning: Precision and F-score are ill-defined and being set to 0.0 in labels with no predicted samples. Use `zero_division` parameter to control this behavior.\n",
            "  _warn_prf(average, modifier, msg_start, len(result))\n"
          ],
          "name": "stderr"
        },
        {
          "output_type": "stream",
          "text": [
            "              precision    recall  f1-score   support\n",
            "\n",
            "         2.0       0.00      0.00      0.00         9\n",
            "         3.0       0.36      0.50      0.42        88\n",
            "         4.0       0.31      0.31      0.31        67\n",
            "         5.0       0.29      0.19      0.23        52\n",
            "         6.0       0.23      0.19      0.21        54\n",
            "         7.0       0.39      0.47      0.42        77\n",
            "         8.0       1.00      0.28      0.43        18\n",
            "         9.0       0.00      0.00      0.00         1\n",
            "\n",
            "    accuracy                           0.34       366\n",
            "   macro avg       0.32      0.24      0.25       366\n",
            "weighted avg       0.35      0.34      0.33       366\n",
            "\n"
          ],
          "name": "stdout"
        },
        {
          "output_type": "stream",
          "text": [
            "/usr/local/lib/python3.6/dist-packages/sklearn/metrics/_classification.py:1272: UndefinedMetricWarning: Precision and F-score are ill-defined and being set to 0.0 in labels with no predicted samples. Use `zero_division` parameter to control this behavior.\n",
            "  _warn_prf(average, modifier, msg_start, len(result))\n"
          ],
          "name": "stderr"
        },
        {
          "output_type": "stream",
          "text": [
            "              precision    recall  f1-score   support\n",
            "\n",
            "         2.0       0.00      0.00      0.00         9\n",
            "         3.0       0.33      0.42      0.37        88\n",
            "         4.0       0.28      0.32      0.30        66\n",
            "         5.0       0.33      0.19      0.24        52\n",
            "         6.0       0.35      0.31      0.33        54\n",
            "         7.0       0.27      0.34      0.30        77\n",
            "         8.0       0.33      0.05      0.09        19\n",
            "\n",
            "    accuracy                           0.31       365\n",
            "   macro avg       0.27      0.23      0.23       365\n",
            "weighted avg       0.30      0.31      0.29       365\n",
            "\n"
          ],
          "name": "stdout"
        },
        {
          "output_type": "stream",
          "text": [
            "/usr/local/lib/python3.6/dist-packages/sklearn/metrics/_classification.py:1272: UndefinedMetricWarning: Precision and F-score are ill-defined and being set to 0.0 in labels with no predicted samples. Use `zero_division` parameter to control this behavior.\n",
            "  _warn_prf(average, modifier, msg_start, len(result))\n"
          ],
          "name": "stderr"
        },
        {
          "output_type": "stream",
          "text": [
            "              precision    recall  f1-score   support\n",
            "\n",
            "         2.0       0.00      0.00      0.00         9\n",
            "         3.0       0.34      0.47      0.39        88\n",
            "         4.0       0.27      0.21      0.24        66\n",
            "         5.0       0.29      0.23      0.26        53\n",
            "         6.0       0.30      0.24      0.27        54\n",
            "         7.0       0.34      0.46      0.39        76\n",
            "         8.0       0.50      0.16      0.24        19\n",
            "\n",
            "    accuracy                           0.32       365\n",
            "   macro avg       0.29      0.25      0.26       365\n",
            "weighted avg       0.32      0.32      0.31       365\n",
            "\n"
          ],
          "name": "stdout"
        },
        {
          "output_type": "stream",
          "text": [
            "/usr/local/lib/python3.6/dist-packages/sklearn/metrics/_classification.py:1272: UndefinedMetricWarning: Precision and F-score are ill-defined and being set to 0.0 in labels with no predicted samples. Use `zero_division` parameter to control this behavior.\n",
            "  _warn_prf(average, modifier, msg_start, len(result))\n"
          ],
          "name": "stderr"
        },
        {
          "output_type": "stream",
          "text": [
            "              precision    recall  f1-score   support\n",
            "\n",
            "         2.0       0.00      0.00      0.00         9\n",
            "         3.0       0.36      0.44      0.40        88\n",
            "         4.0       0.32      0.35      0.33        66\n",
            "         5.0       0.27      0.23      0.25        52\n",
            "         6.0       0.31      0.27      0.29        55\n",
            "         7.0       0.42      0.50      0.46        76\n",
            "         8.0       1.00      0.11      0.19        19\n",
            "\n",
            "    accuracy                           0.35       365\n",
            "   macro avg       0.38      0.27      0.27       365\n",
            "weighted avg       0.37      0.35      0.34       365\n",
            "\n"
          ],
          "name": "stdout"
        },
        {
          "output_type": "stream",
          "text": [
            "/usr/local/lib/python3.6/dist-packages/sklearn/metrics/_classification.py:1272: UndefinedMetricWarning: Precision and F-score are ill-defined and being set to 0.0 in labels with no predicted samples. Use `zero_division` parameter to control this behavior.\n",
            "  _warn_prf(average, modifier, msg_start, len(result))\n"
          ],
          "name": "stderr"
        },
        {
          "output_type": "stream",
          "text": [
            "              precision    recall  f1-score   support\n",
            "\n",
            "         2.0       0.00      0.00      0.00         9\n",
            "         3.0       0.41      0.59      0.48        88\n",
            "         4.0       0.37      0.32      0.34        66\n",
            "         5.0       0.26      0.23      0.24        52\n",
            "         6.0       0.37      0.24      0.29        55\n",
            "         7.0       0.36      0.45      0.40        76\n",
            "         8.0       0.67      0.11      0.19        18\n",
            "         9.0       0.00      0.00      0.00         1\n",
            "\n",
            "    accuracy                           0.37       365\n",
            "   macro avg       0.30      0.24      0.24       365\n",
            "weighted avg       0.36      0.37      0.35       365\n",
            "\n"
          ],
          "name": "stdout"
        },
        {
          "output_type": "stream",
          "text": [
            "/usr/local/lib/python3.6/dist-packages/sklearn/metrics/_classification.py:1272: UndefinedMetricWarning: Precision and F-score are ill-defined and being set to 0.0 in labels with no predicted samples. Use `zero_division` parameter to control this behavior.\n",
            "  _warn_prf(average, modifier, msg_start, len(result))\n"
          ],
          "name": "stderr"
        },
        {
          "output_type": "stream",
          "text": [
            "              precision    recall  f1-score   support\n",
            "\n",
            "         2.0       0.00      0.00      0.00         9\n",
            "         3.0       0.36      0.44      0.40        88\n",
            "         4.0       0.27      0.26      0.26        66\n",
            "         5.0       0.32      0.23      0.27        52\n",
            "         6.0       0.39      0.38      0.39        55\n",
            "         7.0       0.34      0.45      0.39        76\n",
            "         8.0       0.33      0.06      0.10        18\n",
            "         9.0       0.00      0.00      0.00         1\n",
            "\n",
            "    accuracy                           0.34       365\n",
            "   macro avg       0.25      0.23      0.23       365\n",
            "weighted avg       0.33      0.34      0.33       365\n",
            "\n"
          ],
          "name": "stdout"
        },
        {
          "output_type": "stream",
          "text": [
            "/usr/local/lib/python3.6/dist-packages/sklearn/metrics/_classification.py:1272: UndefinedMetricWarning: Precision and F-score are ill-defined and being set to 0.0 in labels with no predicted samples. Use `zero_division` parameter to control this behavior.\n",
            "  _warn_prf(average, modifier, msg_start, len(result))\n",
            "/usr/local/lib/python3.6/dist-packages/sklearn/model_selection/_split.py:667: UserWarning: The least populated class in y has only 4 members, which is less than n_splits=7.\n",
            "  % (min_groups, self.n_splits)), UserWarning)\n"
          ],
          "name": "stderr"
        },
        {
          "output_type": "stream",
          "text": [
            "              precision    recall  f1-score   support\n",
            "\n",
            "         2.0       0.00      0.00      0.00         9\n",
            "         3.0       0.38      0.52      0.44        88\n",
            "         4.0       0.26      0.24      0.25        66\n",
            "         5.0       0.29      0.27      0.28        52\n",
            "         6.0       0.19      0.15      0.16        55\n",
            "         7.0       0.38      0.45      0.41        76\n",
            "         8.0       0.50      0.06      0.10        18\n",
            "         9.0       0.00      0.00      0.00         1\n",
            "\n",
            "    accuracy                           0.33       365\n",
            "   macro avg       0.25      0.21      0.21       365\n",
            "weighted avg       0.31      0.33      0.31       365\n",
            "\n"
          ],
          "name": "stdout"
        },
        {
          "output_type": "stream",
          "text": [
            "/usr/local/lib/python3.6/dist-packages/sklearn/metrics/_classification.py:1272: UndefinedMetricWarning: Precision and F-score are ill-defined and being set to 0.0 in labels with no predicted samples. Use `zero_division` parameter to control this behavior.\n",
            "  _warn_prf(average, modifier, msg_start, len(result))\n"
          ],
          "name": "stderr"
        },
        {
          "output_type": "stream",
          "text": [
            "              precision    recall  f1-score   support\n",
            "\n",
            "         2.0       0.00      0.00      0.00        10\n",
            "         3.0       0.38      0.49      0.43        98\n",
            "         4.0       0.29      0.32      0.30        73\n",
            "         5.0       0.30      0.22      0.26        58\n",
            "         6.0       0.40      0.34      0.37        61\n",
            "         7.0       0.38      0.46      0.41        85\n",
            "         8.0       0.33      0.05      0.08        21\n",
            "\n",
            "    accuracy                           0.36       406\n",
            "   macro avg       0.30      0.27      0.27       406\n",
            "weighted avg       0.34      0.36      0.34       406\n",
            "\n"
          ],
          "name": "stdout"
        },
        {
          "output_type": "stream",
          "text": [
            "/usr/local/lib/python3.6/dist-packages/sklearn/metrics/_classification.py:1272: UndefinedMetricWarning: Precision and F-score are ill-defined and being set to 0.0 in labels with no predicted samples. Use `zero_division` parameter to control this behavior.\n",
            "  _warn_prf(average, modifier, msg_start, len(result))\n"
          ],
          "name": "stderr"
        },
        {
          "output_type": "stream",
          "text": [
            "              precision    recall  f1-score   support\n",
            "\n",
            "         2.0       0.00      0.00      0.00        10\n",
            "         3.0       0.32      0.48      0.38        98\n",
            "         4.0       0.28      0.25      0.26        73\n",
            "         5.0       0.22      0.14      0.17        58\n",
            "         6.0       0.40      0.30      0.34        61\n",
            "         7.0       0.43      0.56      0.49        85\n",
            "         8.0       1.00      0.10      0.18        20\n",
            "         9.0       0.00      0.00      0.00         1\n",
            "\n",
            "    accuracy                           0.35       406\n",
            "   macro avg       0.33      0.23      0.23       406\n",
            "weighted avg       0.36      0.35      0.33       406\n",
            "\n"
          ],
          "name": "stdout"
        },
        {
          "output_type": "stream",
          "text": [
            "/usr/local/lib/python3.6/dist-packages/sklearn/metrics/_classification.py:1272: UndefinedMetricWarning: Precision and F-score are ill-defined and being set to 0.0 in labels with no predicted samples. Use `zero_division` parameter to control this behavior.\n",
            "  _warn_prf(average, modifier, msg_start, len(result))\n"
          ],
          "name": "stderr"
        },
        {
          "output_type": "stream",
          "text": [
            "              precision    recall  f1-score   support\n",
            "\n",
            "         2.0       0.00      0.00      0.00        10\n",
            "         3.0       0.36      0.49      0.42        98\n",
            "         4.0       0.37      0.33      0.35        73\n",
            "         5.0       0.37      0.24      0.29        59\n",
            "         6.0       0.26      0.20      0.22        61\n",
            "         7.0       0.33      0.48      0.39        84\n",
            "         8.0       0.50      0.10      0.17        20\n",
            "         9.0       0.00      0.00      0.00         1\n",
            "\n",
            "    accuracy                           0.34       406\n",
            "   macro avg       0.27      0.23      0.23       406\n",
            "weighted avg       0.34      0.34      0.33       406\n",
            "\n"
          ],
          "name": "stdout"
        },
        {
          "output_type": "stream",
          "text": [
            "/usr/local/lib/python3.6/dist-packages/sklearn/metrics/_classification.py:1272: UndefinedMetricWarning: Precision and F-score are ill-defined and being set to 0.0 in labels with no predicted samples. Use `zero_division` parameter to control this behavior.\n",
            "  _warn_prf(average, modifier, msg_start, len(result))\n"
          ],
          "name": "stderr"
        },
        {
          "output_type": "stream",
          "text": [
            "              precision    recall  f1-score   support\n",
            "\n",
            "         2.0       0.00      0.00      0.00        10\n",
            "         3.0       0.38      0.53      0.44        98\n",
            "         4.0       0.29      0.23      0.26        73\n",
            "         5.0       0.18      0.17      0.17        59\n",
            "         6.0       0.20      0.15      0.17        61\n",
            "         7.0       0.37      0.46      0.41        84\n",
            "         8.0       1.00      0.10      0.18        20\n",
            "         9.0       0.00      0.00      0.00         1\n",
            "\n",
            "    accuracy                           0.32       406\n",
            "   macro avg       0.30      0.21      0.20       406\n",
            "weighted avg       0.33      0.32      0.30       406\n",
            "\n"
          ],
          "name": "stdout"
        },
        {
          "output_type": "stream",
          "text": [
            "/usr/local/lib/python3.6/dist-packages/sklearn/metrics/_classification.py:1272: UndefinedMetricWarning: Precision and F-score are ill-defined and being set to 0.0 in labels with no predicted samples. Use `zero_division` parameter to control this behavior.\n",
            "  _warn_prf(average, modifier, msg_start, len(result))\n"
          ],
          "name": "stderr"
        },
        {
          "output_type": "stream",
          "text": [
            "              precision    recall  f1-score   support\n",
            "\n",
            "         2.0       0.00      0.00      0.00        10\n",
            "         3.0       0.36      0.52      0.43        98\n",
            "         4.0       0.24      0.22      0.23        73\n",
            "         5.0       0.30      0.25      0.28        59\n",
            "         6.0       0.30      0.23      0.26        61\n",
            "         7.0       0.33      0.39      0.36        84\n",
            "         8.0       0.00      0.00      0.00        20\n",
            "         9.0       0.00      0.00      0.00         1\n",
            "\n",
            "    accuracy                           0.32       406\n",
            "   macro avg       0.19      0.20      0.19       406\n",
            "weighted avg       0.29      0.32      0.30       406\n",
            "\n",
            "              precision    recall  f1-score   support\n",
            "\n",
            "         2.0       0.00      0.00      0.00        10\n",
            "         3.0       0.36      0.50      0.42        98\n",
            "         4.0       0.33      0.33      0.33        73\n",
            "         5.0       0.31      0.31      0.31        59\n",
            "         6.0       0.27      0.20      0.23        61\n",
            "         7.0       0.37      0.39      0.38        84\n",
            "         8.0       0.20      0.05      0.08        20\n",
            "\n",
            "    accuracy                           0.34       405\n",
            "   macro avg       0.26      0.25      0.25       405\n",
            "weighted avg       0.32      0.34      0.32       405\n",
            "\n",
            "              precision    recall  f1-score   support\n",
            "\n",
            "         2.0       1.00      0.10      0.18        10\n",
            "         3.0       0.37      0.54      0.44        98\n",
            "         4.0       0.31      0.31      0.31        72\n",
            "         5.0       0.33      0.28      0.30        58\n",
            "         6.0       0.31      0.24      0.27        62\n",
            "         7.0       0.40      0.40      0.40        84\n",
            "         8.0       0.71      0.24      0.36        21\n",
            "\n",
            "    accuracy                           0.36       405\n",
            "   macro avg       0.49      0.30      0.32       405\n",
            "weighted avg       0.38      0.36      0.35       405\n",
            "\n"
          ],
          "name": "stdout"
        },
        {
          "output_type": "stream",
          "text": [
            "/usr/local/lib/python3.6/dist-packages/sklearn/model_selection/_split.py:667: UserWarning: The least populated class in y has only 5 members, which is less than n_splits=7.\n",
            "  % (min_groups, self.n_splits)), UserWarning)\n",
            "/usr/local/lib/python3.6/dist-packages/sklearn/metrics/_classification.py:1272: UndefinedMetricWarning: Precision and F-score are ill-defined and being set to 0.0 in labels with no predicted samples. Use `zero_division` parameter to control this behavior.\n",
            "  _warn_prf(average, modifier, msg_start, len(result))\n"
          ],
          "name": "stderr"
        },
        {
          "output_type": "stream",
          "text": [
            "              precision    recall  f1-score   support\n",
            "\n",
            "         2.0       0.00      0.00      0.00        11\n",
            "         3.0       0.38      0.58      0.46       109\n",
            "         4.0       0.41      0.45      0.43        80\n",
            "         5.0       0.31      0.21      0.25        63\n",
            "         6.0       0.28      0.21      0.24        67\n",
            "         7.0       0.42      0.45      0.44        93\n",
            "         8.0       0.33      0.04      0.08        23\n",
            "         9.0       0.00      0.00      0.00         1\n",
            "\n",
            "    accuracy                           0.38       447\n",
            "   macro avg       0.27      0.24      0.24       447\n",
            "weighted avg       0.36      0.38      0.35       447\n",
            "\n"
          ],
          "name": "stdout"
        },
        {
          "output_type": "stream",
          "text": [
            "/usr/local/lib/python3.6/dist-packages/sklearn/metrics/_classification.py:1272: UndefinedMetricWarning: Precision and F-score are ill-defined and being set to 0.0 in labels with no predicted samples. Use `zero_division` parameter to control this behavior.\n",
            "  _warn_prf(average, modifier, msg_start, len(result))\n"
          ],
          "name": "stderr"
        },
        {
          "output_type": "stream",
          "text": [
            "              precision    recall  f1-score   support\n",
            "\n",
            "         2.0       0.00      0.00      0.00        11\n",
            "         3.0       0.40      0.50      0.44       109\n",
            "         4.0       0.34      0.32      0.33        81\n",
            "         5.0       0.46      0.35      0.40        63\n",
            "         6.0       0.26      0.24      0.25        67\n",
            "         7.0       0.40      0.51      0.45        93\n",
            "         8.0       0.60      0.14      0.22        22\n",
            "         9.0       0.00      0.00      0.00         1\n",
            "\n",
            "    accuracy                           0.38       447\n",
            "   macro avg       0.31      0.26      0.26       447\n",
            "weighted avg       0.37      0.38      0.37       447\n",
            "\n",
            "              precision    recall  f1-score   support\n",
            "\n",
            "         2.0       1.00      0.18      0.31        11\n",
            "         3.0       0.36      0.50      0.42       109\n",
            "         4.0       0.34      0.33      0.33        80\n",
            "         5.0       0.29      0.25      0.27        64\n",
            "         6.0       0.29      0.22      0.25        67\n",
            "         7.0       0.42      0.47      0.44        93\n",
            "         8.0       0.86      0.27      0.41        22\n",
            "\n",
            "    accuracy                           0.37       446\n",
            "   macro avg       0.51      0.32      0.35       446\n",
            "weighted avg       0.39      0.37      0.36       446\n",
            "\n"
          ],
          "name": "stdout"
        },
        {
          "output_type": "stream",
          "text": [
            "/usr/local/lib/python3.6/dist-packages/sklearn/metrics/_classification.py:1272: UndefinedMetricWarning: Precision and F-score are ill-defined and being set to 0.0 in labels with no predicted samples. Use `zero_division` parameter to control this behavior.\n",
            "  _warn_prf(average, modifier, msg_start, len(result))\n"
          ],
          "name": "stderr"
        },
        {
          "output_type": "stream",
          "text": [
            "              precision    recall  f1-score   support\n",
            "\n",
            "         2.0       0.00      0.00      0.00        11\n",
            "         3.0       0.42      0.63      0.50       109\n",
            "         4.0       0.32      0.31      0.32        80\n",
            "         5.0       0.31      0.22      0.26        64\n",
            "         6.0       0.35      0.28      0.31        67\n",
            "         7.0       0.47      0.51      0.49        92\n",
            "         8.0       1.00      0.13      0.23        23\n",
            "\n",
            "    accuracy                           0.40       446\n",
            "   macro avg       0.41      0.30      0.30       446\n",
            "weighted avg       0.41      0.40      0.38       446\n",
            "\n"
          ],
          "name": "stdout"
        },
        {
          "output_type": "stream",
          "text": [
            "/usr/local/lib/python3.6/dist-packages/sklearn/metrics/_classification.py:1272: UndefinedMetricWarning: Precision and F-score are ill-defined and being set to 0.0 in labels with no predicted samples. Use `zero_division` parameter to control this behavior.\n",
            "  _warn_prf(average, modifier, msg_start, len(result))\n"
          ],
          "name": "stderr"
        },
        {
          "output_type": "stream",
          "text": [
            "              precision    recall  f1-score   support\n",
            "\n",
            "         2.0       1.00      0.10      0.18        10\n",
            "         3.0       0.40      0.56      0.47       108\n",
            "         4.0       0.38      0.34      0.36        80\n",
            "         5.0       0.26      0.16      0.19        64\n",
            "         6.0       0.37      0.33      0.35        67\n",
            "         7.0       0.42      0.55      0.48        93\n",
            "         8.0       0.67      0.17      0.28        23\n",
            "         9.0       0.00      0.00      0.00         1\n",
            "\n",
            "    accuracy                           0.39       446\n",
            "   macro avg       0.44      0.27      0.29       446\n",
            "weighted avg       0.40      0.39      0.38       446\n",
            "\n"
          ],
          "name": "stdout"
        },
        {
          "output_type": "stream",
          "text": [
            "/usr/local/lib/python3.6/dist-packages/sklearn/metrics/_classification.py:1272: UndefinedMetricWarning: Precision and F-score are ill-defined and being set to 0.0 in labels with no predicted samples. Use `zero_division` parameter to control this behavior.\n",
            "  _warn_prf(average, modifier, msg_start, len(result))\n"
          ],
          "name": "stderr"
        },
        {
          "output_type": "stream",
          "text": [
            "              precision    recall  f1-score   support\n",
            "\n",
            "         2.0       0.00      0.00      0.00        11\n",
            "         3.0       0.38      0.57      0.45       108\n",
            "         4.0       0.28      0.26      0.27        80\n",
            "         5.0       0.28      0.24      0.26        63\n",
            "         6.0       0.29      0.16      0.21        67\n",
            "         7.0       0.35      0.40      0.37        93\n",
            "         8.0       0.25      0.09      0.13        23\n",
            "         9.0       0.00      0.00      0.00         1\n",
            "\n",
            "    accuracy                           0.33       446\n",
            "   macro avg       0.23      0.22      0.21       446\n",
            "weighted avg       0.31      0.33      0.31       446\n",
            "\n"
          ],
          "name": "stdout"
        },
        {
          "output_type": "stream",
          "text": [
            "/usr/local/lib/python3.6/dist-packages/sklearn/metrics/_classification.py:1272: UndefinedMetricWarning: Precision and F-score are ill-defined and being set to 0.0 in labels with no predicted samples. Use `zero_division` parameter to control this behavior.\n",
            "  _warn_prf(average, modifier, msg_start, len(result))\n",
            "/usr/local/lib/python3.6/dist-packages/sklearn/model_selection/_split.py:667: UserWarning: The least populated class in y has only 5 members, which is less than n_splits=7.\n",
            "  % (min_groups, self.n_splits)), UserWarning)\n"
          ],
          "name": "stderr"
        },
        {
          "output_type": "stream",
          "text": [
            "              precision    recall  f1-score   support\n",
            "\n",
            "         2.0       0.00      0.00      0.00        11\n",
            "         3.0       0.43      0.52      0.47       108\n",
            "         4.0       0.28      0.24      0.26        80\n",
            "         5.0       0.31      0.24      0.27        63\n",
            "         6.0       0.25      0.25      0.25        67\n",
            "         7.0       0.36      0.49      0.42        93\n",
            "         8.0       1.00      0.13      0.23        23\n",
            "         9.0       0.00      0.00      0.00         1\n",
            "\n",
            "    accuracy                           0.35       446\n",
            "   macro avg       0.33      0.23      0.24       446\n",
            "weighted avg       0.36      0.35      0.33       446\n",
            "\n"
          ],
          "name": "stdout"
        },
        {
          "output_type": "stream",
          "text": [
            "/usr/local/lib/python3.6/dist-packages/sklearn/metrics/_classification.py:1272: UndefinedMetricWarning: Precision and F-score are ill-defined and being set to 0.0 in labels with no predicted samples. Use `zero_division` parameter to control this behavior.\n",
            "  _warn_prf(average, modifier, msg_start, len(result))\n"
          ],
          "name": "stderr"
        },
        {
          "output_type": "stream",
          "text": [
            "              precision    recall  f1-score   support\n",
            "\n",
            "         2.0       0.00      0.00      0.00        12\n",
            "         3.0       0.43      0.57      0.49       123\n",
            "         4.0       0.41      0.35      0.38        93\n",
            "         5.0       0.34      0.27      0.30        71\n",
            "         6.0       0.38      0.26      0.31        77\n",
            "         7.0       0.39      0.53      0.45       106\n",
            "         8.0       0.55      0.24      0.33        25\n",
            "         9.0       0.00      0.00      0.00         1\n",
            "\n",
            "    accuracy                           0.40       508\n",
            "   macro avg       0.31      0.28      0.28       508\n",
            "weighted avg       0.39      0.40      0.39       508\n",
            "\n"
          ],
          "name": "stdout"
        },
        {
          "output_type": "stream",
          "text": [
            "/usr/local/lib/python3.6/dist-packages/sklearn/metrics/_classification.py:1272: UndefinedMetricWarning: Precision and F-score are ill-defined and being set to 0.0 in labels with no predicted samples. Use `zero_division` parameter to control this behavior.\n",
            "  _warn_prf(average, modifier, msg_start, len(result))\n"
          ],
          "name": "stderr"
        },
        {
          "output_type": "stream",
          "text": [
            "              precision    recall  f1-score   support\n",
            "\n",
            "         2.0       0.00      0.00      0.00        12\n",
            "         3.0       0.43      0.60      0.50       123\n",
            "         4.0       0.35      0.35      0.35        93\n",
            "         5.0       0.33      0.21      0.26        71\n",
            "         6.0       0.33      0.24      0.27        76\n",
            "         7.0       0.46      0.56      0.50       107\n",
            "         8.0       0.67      0.24      0.35        25\n",
            "\n",
            "    accuracy                           0.41       507\n",
            "   macro avg       0.37      0.32      0.32       507\n",
            "weighted avg       0.39      0.41      0.39       507\n",
            "\n",
            "              precision    recall  f1-score   support\n",
            "\n",
            "         2.0       0.00      0.00      0.00        12\n",
            "         3.0       0.43      0.63      0.51       124\n",
            "         4.0       0.45      0.41      0.43        92\n",
            "         5.0       0.45      0.30      0.36        71\n",
            "         6.0       0.42      0.32      0.36        76\n",
            "         7.0       0.48      0.57      0.52       107\n",
            "         8.0       0.86      0.24      0.38        25\n",
            "\n",
            "    accuracy                           0.45       507\n",
            "   macro avg       0.44      0.35      0.36       507\n",
            "weighted avg       0.46      0.45      0.44       507\n",
            "\n"
          ],
          "name": "stdout"
        },
        {
          "output_type": "stream",
          "text": [
            "/usr/local/lib/python3.6/dist-packages/sklearn/metrics/_classification.py:1272: UndefinedMetricWarning: Precision and F-score are ill-defined and being set to 0.0 in labels with no predicted samples. Use `zero_division` parameter to control this behavior.\n",
            "  _warn_prf(average, modifier, msg_start, len(result))\n"
          ],
          "name": "stderr"
        },
        {
          "output_type": "stream",
          "text": [
            "              precision    recall  f1-score   support\n",
            "\n",
            "         2.0       1.00      0.27      0.43        11\n",
            "         3.0       0.46      0.62      0.53       124\n",
            "         4.0       0.37      0.35      0.36        92\n",
            "         5.0       0.40      0.32      0.36        71\n",
            "         6.0       0.34      0.29      0.31        76\n",
            "         7.0       0.45      0.52      0.48       106\n",
            "         8.0       1.00      0.15      0.27        26\n",
            "         9.0       0.00      0.00      0.00         1\n",
            "\n",
            "    accuracy                           0.43       507\n",
            "   macro avg       0.50      0.32      0.34       507\n",
            "weighted avg       0.45      0.43      0.41       507\n",
            "\n"
          ],
          "name": "stdout"
        },
        {
          "output_type": "stream",
          "text": [
            "/usr/local/lib/python3.6/dist-packages/sklearn/metrics/_classification.py:1272: UndefinedMetricWarning: Precision and F-score are ill-defined and being set to 0.0 in labels with no predicted samples. Use `zero_division` parameter to control this behavior.\n",
            "  _warn_prf(average, modifier, msg_start, len(result))\n"
          ],
          "name": "stderr"
        },
        {
          "output_type": "stream",
          "text": [
            "              precision    recall  f1-score   support\n",
            "\n",
            "         2.0       0.50      0.08      0.14        12\n",
            "         3.0       0.42      0.56      0.48       124\n",
            "         4.0       0.38      0.39      0.39        92\n",
            "         5.0       0.31      0.28      0.29        71\n",
            "         6.0       0.43      0.33      0.37        76\n",
            "         7.0       0.44      0.49      0.46       106\n",
            "         8.0       0.86      0.24      0.38        25\n",
            "         9.0       0.00      0.00      0.00         1\n",
            "\n",
            "    accuracy                           0.41       507\n",
            "   macro avg       0.42      0.30      0.31       507\n",
            "weighted avg       0.43      0.41      0.40       507\n",
            "\n"
          ],
          "name": "stdout"
        },
        {
          "output_type": "stream",
          "text": [
            "/usr/local/lib/python3.6/dist-packages/sklearn/metrics/_classification.py:1272: UndefinedMetricWarning: Precision and F-score are ill-defined and being set to 0.0 in labels with no predicted samples. Use `zero_division` parameter to control this behavior.\n",
            "  _warn_prf(average, modifier, msg_start, len(result))\n"
          ],
          "name": "stderr"
        },
        {
          "output_type": "stream",
          "text": [
            "              precision    recall  f1-score   support\n",
            "\n",
            "         2.0       1.00      0.08      0.15        12\n",
            "         3.0       0.41      0.47      0.44       124\n",
            "         4.0       0.36      0.42      0.39        92\n",
            "         5.0       0.31      0.24      0.27        71\n",
            "         6.0       0.30      0.32      0.31        76\n",
            "         7.0       0.39      0.45      0.42       106\n",
            "         8.0       0.75      0.12      0.21        25\n",
            "         9.0       0.00      0.00      0.00         1\n",
            "\n",
            "    accuracy                           0.37       507\n",
            "   macro avg       0.44      0.26      0.27       507\n",
            "weighted avg       0.40      0.37      0.36       507\n",
            "\n"
          ],
          "name": "stdout"
        },
        {
          "output_type": "stream",
          "text": [
            "/usr/local/lib/python3.6/dist-packages/sklearn/metrics/_classification.py:1272: UndefinedMetricWarning: Precision and F-score are ill-defined and being set to 0.0 in labels with no predicted samples. Use `zero_division` parameter to control this behavior.\n",
            "  _warn_prf(average, modifier, msg_start, len(result))\n",
            "/usr/local/lib/python3.6/dist-packages/sklearn/model_selection/_split.py:667: UserWarning: The least populated class in y has only 6 members, which is less than n_splits=7.\n",
            "  % (min_groups, self.n_splits)), UserWarning)\n"
          ],
          "name": "stderr"
        },
        {
          "output_type": "stream",
          "text": [
            "              precision    recall  f1-score   support\n",
            "\n",
            "         2.0       0.00      0.00      0.00        12\n",
            "         3.0       0.41      0.47      0.44       124\n",
            "         4.0       0.47      0.52      0.49        92\n",
            "         5.0       0.35      0.27      0.30        71\n",
            "         6.0       0.40      0.32      0.35        76\n",
            "         7.0       0.41      0.56      0.47       106\n",
            "         8.0       0.80      0.16      0.27        25\n",
            "         9.0       0.00      0.00      0.00         1\n",
            "\n",
            "    accuracy                           0.42       507\n",
            "   macro avg       0.36      0.29      0.29       507\n",
            "weighted avg       0.42      0.42      0.40       507\n",
            "\n",
            "              precision    recall  f1-score   support\n",
            "\n",
            "         2.0       1.00      0.07      0.13        14\n",
            "         3.0       0.48      0.58      0.53       137\n",
            "         4.0       0.41      0.43      0.42       103\n",
            "         5.0       0.47      0.41      0.44        82\n",
            "         6.0       0.47      0.39      0.43        85\n",
            "         7.0       0.50      0.60      0.54       118\n",
            "         8.0       0.88      0.24      0.38        29\n",
            "\n",
            "    accuracy                           0.48       568\n",
            "   macro avg       0.60      0.39      0.41       568\n",
            "weighted avg       0.50      0.48      0.47       568\n",
            "\n"
          ],
          "name": "stdout"
        },
        {
          "output_type": "stream",
          "text": [
            "/usr/local/lib/python3.6/dist-packages/sklearn/metrics/_classification.py:1272: UndefinedMetricWarning: Precision and F-score are ill-defined and being set to 0.0 in labels with no predicted samples. Use `zero_division` parameter to control this behavior.\n",
            "  _warn_prf(average, modifier, msg_start, len(result))\n"
          ],
          "name": "stderr"
        },
        {
          "output_type": "stream",
          "text": [
            "              precision    recall  f1-score   support\n",
            "\n",
            "         2.0       1.00      0.14      0.25        14\n",
            "         3.0       0.48      0.64      0.55       137\n",
            "         4.0       0.46      0.43      0.44       103\n",
            "         5.0       0.45      0.30      0.36        81\n",
            "         6.0       0.43      0.34      0.38        85\n",
            "         7.0       0.51      0.69      0.58       118\n",
            "         8.0       0.62      0.17      0.27        29\n",
            "         9.0       0.00      0.00      0.00         1\n",
            "\n",
            "    accuracy                           0.48       568\n",
            "   macro avg       0.49      0.34      0.35       568\n",
            "weighted avg       0.49      0.48      0.46       568\n",
            "\n"
          ],
          "name": "stdout"
        },
        {
          "output_type": "stream",
          "text": [
            "/usr/local/lib/python3.6/dist-packages/sklearn/metrics/_classification.py:1272: UndefinedMetricWarning: Precision and F-score are ill-defined and being set to 0.0 in labels with no predicted samples. Use `zero_division` parameter to control this behavior.\n",
            "  _warn_prf(average, modifier, msg_start, len(result))\n"
          ],
          "name": "stderr"
        },
        {
          "output_type": "stream",
          "text": [
            "              precision    recall  f1-score   support\n",
            "\n",
            "         2.0       1.00      0.07      0.13        14\n",
            "         3.0       0.41      0.52      0.46       137\n",
            "         4.0       0.45      0.37      0.40       103\n",
            "         5.0       0.46      0.48      0.47        81\n",
            "         6.0       0.37      0.31      0.34        85\n",
            "         7.0       0.45      0.54      0.49       118\n",
            "         8.0       0.83      0.34      0.49        29\n",
            "         9.0       0.00      0.00      0.00         1\n",
            "\n",
            "    accuracy                           0.44       568\n",
            "   macro avg       0.50      0.33      0.35       568\n",
            "weighted avg       0.46      0.44      0.43       568\n",
            "\n"
          ],
          "name": "stdout"
        },
        {
          "output_type": "stream",
          "text": [
            "/usr/local/lib/python3.6/dist-packages/sklearn/metrics/_classification.py:1272: UndefinedMetricWarning: Precision and F-score are ill-defined and being set to 0.0 in labels with no predicted samples. Use `zero_division` parameter to control this behavior.\n",
            "  _warn_prf(average, modifier, msg_start, len(result))\n"
          ],
          "name": "stderr"
        },
        {
          "output_type": "stream",
          "text": [
            "              precision    recall  f1-score   support\n",
            "\n",
            "         2.0       0.00      0.00      0.00        14\n",
            "         3.0       0.46      0.60      0.52       137\n",
            "         4.0       0.38      0.35      0.36       103\n",
            "         5.0       0.40      0.27      0.32        81\n",
            "         6.0       0.35      0.26      0.30        85\n",
            "         7.0       0.41      0.58      0.48       118\n",
            "         8.0       0.73      0.28      0.40        29\n",
            "         9.0       0.00      0.00      0.00         1\n",
            "\n",
            "    accuracy                           0.42       568\n",
            "   macro avg       0.34      0.29      0.30       568\n",
            "weighted avg       0.41      0.42      0.40       568\n",
            "\n"
          ],
          "name": "stdout"
        },
        {
          "output_type": "stream",
          "text": [
            "/usr/local/lib/python3.6/dist-packages/sklearn/metrics/_classification.py:1272: UndefinedMetricWarning: Precision and F-score are ill-defined and being set to 0.0 in labels with no predicted samples. Use `zero_division` parameter to control this behavior.\n",
            "  _warn_prf(average, modifier, msg_start, len(result))\n"
          ],
          "name": "stderr"
        },
        {
          "output_type": "stream",
          "text": [
            "              precision    recall  f1-score   support\n",
            "\n",
            "         2.0       1.00      0.14      0.25        14\n",
            "         3.0       0.46      0.55      0.50       137\n",
            "         4.0       0.40      0.48      0.44       102\n",
            "         5.0       0.31      0.23      0.27        81\n",
            "         6.0       0.47      0.36      0.41        86\n",
            "         7.0       0.47      0.57      0.51       119\n",
            "         8.0       0.75      0.21      0.33        28\n",
            "         9.0       0.00      0.00      0.00         1\n",
            "\n",
            "    accuracy                           0.44       568\n",
            "   macro avg       0.48      0.32      0.34       568\n",
            "weighted avg       0.46      0.44      0.43       568\n",
            "\n"
          ],
          "name": "stdout"
        },
        {
          "output_type": "stream",
          "text": [
            "/usr/local/lib/python3.6/dist-packages/sklearn/metrics/_classification.py:1272: UndefinedMetricWarning: Precision and F-score are ill-defined and being set to 0.0 in labels with no predicted samples. Use `zero_division` parameter to control this behavior.\n",
            "  _warn_prf(average, modifier, msg_start, len(result))\n"
          ],
          "name": "stderr"
        },
        {
          "output_type": "stream",
          "text": [
            "              precision    recall  f1-score   support\n",
            "\n",
            "         2.0       1.00      0.07      0.13        14\n",
            "         3.0       0.49      0.59      0.53       137\n",
            "         4.0       0.43      0.43      0.43       102\n",
            "         5.0       0.35      0.30      0.33        82\n",
            "         6.0       0.52      0.35      0.42        85\n",
            "         7.0       0.42      0.56      0.48       119\n",
            "         8.0       0.73      0.29      0.41        28\n",
            "         9.0       0.00      0.00      0.00         1\n",
            "\n",
            "    accuracy                           0.45       568\n",
            "   macro avg       0.49      0.33      0.34       568\n",
            "weighted avg       0.47      0.45      0.44       568\n",
            "\n"
          ],
          "name": "stdout"
        },
        {
          "output_type": "stream",
          "text": [
            "/usr/local/lib/python3.6/dist-packages/sklearn/metrics/_classification.py:1272: UndefinedMetricWarning: Precision and F-score are ill-defined and being set to 0.0 in labels with no predicted samples. Use `zero_division` parameter to control this behavior.\n",
            "  _warn_prf(average, modifier, msg_start, len(result))\n",
            "/usr/local/lib/python3.6/dist-packages/sklearn/model_selection/_split.py:667: UserWarning: The least populated class in y has only 6 members, which is less than n_splits=7.\n",
            "  % (min_groups, self.n_splits)), UserWarning)\n"
          ],
          "name": "stderr"
        },
        {
          "output_type": "stream",
          "text": [
            "              precision    recall  f1-score   support\n",
            "\n",
            "         2.0       1.00      0.07      0.13        14\n",
            "         3.0       0.50      0.69      0.58       137\n",
            "         4.0       0.49      0.45      0.47       102\n",
            "         5.0       0.45      0.35      0.39        82\n",
            "         6.0       0.42      0.38      0.40        85\n",
            "         7.0       0.49      0.56      0.52       119\n",
            "         8.0       0.83      0.18      0.29        28\n",
            "         9.0       0.00      0.00      0.00         1\n",
            "\n",
            "    accuracy                           0.48       568\n",
            "   macro avg       0.52      0.34      0.35       568\n",
            "weighted avg       0.50      0.48      0.47       568\n",
            "\n"
          ],
          "name": "stdout"
        },
        {
          "output_type": "stream",
          "text": [
            "/usr/local/lib/python3.6/dist-packages/sklearn/metrics/_classification.py:1272: UndefinedMetricWarning: Precision and F-score are ill-defined and being set to 0.0 in labels with no predicted samples. Use `zero_division` parameter to control this behavior.\n",
            "  _warn_prf(average, modifier, msg_start, len(result))\n"
          ],
          "name": "stderr"
        },
        {
          "output_type": "stream",
          "text": [
            "              precision    recall  f1-score   support\n",
            "\n",
            "         2.0       0.00      0.00      0.00        15\n",
            "         3.0       0.32      0.44      0.37       147\n",
            "         4.0       0.27      0.25      0.26       110\n",
            "         5.0       0.23      0.16      0.19        88\n",
            "         6.0       0.19      0.15      0.17        91\n",
            "         7.0       0.30      0.38      0.33       127\n",
            "         8.0       0.25      0.03      0.06        30\n",
            "         9.0       0.00      0.00      0.00         1\n",
            "\n",
            "    accuracy                           0.28       609\n",
            "   macro avg       0.19      0.18      0.17       609\n",
            "weighted avg       0.26      0.28      0.26       609\n",
            "\n"
          ],
          "name": "stdout"
        },
        {
          "output_type": "stream",
          "text": [
            "/usr/local/lib/python3.6/dist-packages/sklearn/metrics/_classification.py:1272: UndefinedMetricWarning: Precision and F-score are ill-defined and being set to 0.0 in labels with no predicted samples. Use `zero_division` parameter to control this behavior.\n",
            "  _warn_prf(average, modifier, msg_start, len(result))\n"
          ],
          "name": "stderr"
        },
        {
          "output_type": "stream",
          "text": [
            "              precision    recall  f1-score   support\n",
            "\n",
            "         2.0       0.00      0.00      0.00        15\n",
            "         3.0       0.33      0.46      0.38       147\n",
            "         4.0       0.26      0.25      0.25       110\n",
            "         5.0       0.19      0.15      0.17        87\n",
            "         6.0       0.27      0.20      0.23        92\n",
            "         7.0       0.29      0.36      0.32       127\n",
            "         8.0       0.40      0.07      0.11        30\n",
            "         9.0       0.00      0.00      0.00         1\n",
            "\n",
            "    accuracy                           0.28       609\n",
            "   macro avg       0.22      0.18      0.18       609\n",
            "weighted avg       0.27      0.28      0.27       609\n",
            "\n"
          ],
          "name": "stdout"
        },
        {
          "output_type": "stream",
          "text": [
            "/usr/local/lib/python3.6/dist-packages/sklearn/metrics/_classification.py:1272: UndefinedMetricWarning: Precision and F-score are ill-defined and being set to 0.0 in labels with no predicted samples. Use `zero_division` parameter to control this behavior.\n",
            "  _warn_prf(average, modifier, msg_start, len(result))\n"
          ],
          "name": "stderr"
        },
        {
          "output_type": "stream",
          "text": [
            "              precision    recall  f1-score   support\n",
            "\n",
            "         2.0       0.00      0.00      0.00        15\n",
            "         3.0       0.34      0.52      0.41       147\n",
            "         4.0       0.24      0.25      0.25       109\n",
            "         5.0       0.23      0.15      0.18        88\n",
            "         6.0       0.28      0.23      0.25        92\n",
            "         7.0       0.33      0.34      0.34       126\n",
            "         8.0       0.30      0.10      0.15        31\n",
            "         9.0       0.00      0.00      0.00         1\n",
            "\n",
            "    accuracy                           0.30       609\n",
            "   macro avg       0.21      0.20      0.20       609\n",
            "weighted avg       0.28      0.30      0.28       609\n",
            "\n"
          ],
          "name": "stdout"
        },
        {
          "output_type": "stream",
          "text": [
            "/usr/local/lib/python3.6/dist-packages/sklearn/metrics/_classification.py:1272: UndefinedMetricWarning: Precision and F-score are ill-defined and being set to 0.0 in labels with no predicted samples. Use `zero_division` parameter to control this behavior.\n",
            "  _warn_prf(average, modifier, msg_start, len(result))\n"
          ],
          "name": "stderr"
        },
        {
          "output_type": "stream",
          "text": [
            "              precision    recall  f1-score   support\n",
            "\n",
            "         2.0       0.00      0.00      0.00        15\n",
            "         3.0       0.35      0.45      0.39       147\n",
            "         4.0       0.26      0.27      0.26       109\n",
            "         5.0       0.26      0.25      0.25        88\n",
            "         6.0       0.18      0.13      0.15        92\n",
            "         7.0       0.26      0.30      0.28       126\n",
            "         8.0       0.29      0.06      0.11        31\n",
            "         9.0       0.00      0.00      0.00         1\n",
            "\n",
            "    accuracy                           0.28       609\n",
            "   macro avg       0.20      0.18      0.18       609\n",
            "weighted avg       0.26      0.28      0.26       609\n",
            "\n"
          ],
          "name": "stdout"
        },
        {
          "output_type": "stream",
          "text": [
            "/usr/local/lib/python3.6/dist-packages/sklearn/metrics/_classification.py:1272: UndefinedMetricWarning: Precision and F-score are ill-defined and being set to 0.0 in labels with no predicted samples. Use `zero_division` parameter to control this behavior.\n",
            "  _warn_prf(average, modifier, msg_start, len(result))\n"
          ],
          "name": "stderr"
        },
        {
          "output_type": "stream",
          "text": [
            "              precision    recall  f1-score   support\n",
            "\n",
            "         2.0       0.00      0.00      0.00        15\n",
            "         3.0       0.28      0.36      0.31       147\n",
            "         4.0       0.24      0.21      0.22       109\n",
            "         5.0       0.22      0.19      0.21        88\n",
            "         6.0       0.24      0.22      0.23        92\n",
            "         7.0       0.29      0.37      0.33       126\n",
            "         8.0       0.50      0.06      0.11        31\n",
            "\n",
            "    accuracy                           0.26       608\n",
            "   macro avg       0.25      0.20      0.20       608\n",
            "weighted avg       0.26      0.26      0.25       608\n",
            "\n"
          ],
          "name": "stdout"
        },
        {
          "output_type": "stream",
          "text": [
            "/usr/local/lib/python3.6/dist-packages/sklearn/metrics/_classification.py:1272: UndefinedMetricWarning: Precision and F-score are ill-defined and being set to 0.0 in labels with no predicted samples. Use `zero_division` parameter to control this behavior.\n",
            "  _warn_prf(average, modifier, msg_start, len(result))\n"
          ],
          "name": "stderr"
        },
        {
          "output_type": "stream",
          "text": [
            "              precision    recall  f1-score   support\n",
            "\n",
            "         2.0       0.00      0.00      0.00        15\n",
            "         3.0       0.27      0.40      0.33       147\n",
            "         4.0       0.26      0.22      0.24       109\n",
            "         5.0       0.20      0.16      0.18        88\n",
            "         6.0       0.22      0.17      0.20        92\n",
            "         7.0       0.28      0.35      0.31       126\n",
            "         8.0       0.00      0.00      0.00        30\n",
            "         9.0       0.00      0.00      0.00         1\n",
            "\n",
            "    accuracy                           0.26       608\n",
            "   macro avg       0.15      0.16      0.16       608\n",
            "weighted avg       0.23      0.26      0.24       608\n",
            "\n",
            "              precision    recall  f1-score   support\n",
            "\n",
            "         2.0       0.00      0.00      0.00        15\n",
            "         3.0       0.30      0.44      0.36       147\n",
            "         4.0       0.28      0.24      0.26       109\n",
            "         5.0       0.28      0.19      0.23        88\n",
            "         6.0       0.27      0.23      0.25        91\n",
            "         7.0       0.33      0.40      0.36       127\n",
            "         8.0       0.50      0.10      0.17        30\n",
            "         9.0       0.00      0.00      0.00         1\n",
            "\n",
            "    accuracy                           0.30       608\n",
            "   macro avg       0.24      0.20      0.20       608\n",
            "weighted avg       0.30      0.30      0.29       608\n",
            "\n"
          ],
          "name": "stdout"
        },
        {
          "output_type": "stream",
          "text": [
            "/usr/local/lib/python3.6/dist-packages/sklearn/metrics/_classification.py:1272: UndefinedMetricWarning: Precision and F-score are ill-defined and being set to 0.0 in labels with no predicted samples. Use `zero_division` parameter to control this behavior.\n",
            "  _warn_prf(average, modifier, msg_start, len(result))\n"
          ],
          "name": "stderr"
        }
      ]
    },
    {
      "cell_type": "code",
      "metadata": {
        "id": "wzB8SY8mh-B3",
        "colab_type": "code",
        "outputId": "eb8d4837-6154-428e-ae8b-596b2791b33e",
        "colab": {
          "base_uri": "https://localhost:8080/",
          "height": 1000
        }
      },
      "source": [
        "print('20% augmentation')\n",
        "print(scores_svm_1.mean())\n",
        "print('\\n50% augmentation')\n",
        "print(scores_svm_2.mean())\n",
        "print('\\n80% augmentation')\n",
        "print(scores_svm_3.mean())\n",
        "print('\\n100% augmentation')\n",
        "print(scores_svm_4.mean())\n",
        "print('\\n120% augmentation')\n",
        "print(scores_svm_5.mean())\n",
        "print('\\n150% augmentation')\n",
        "print(scores_svm_6.mean())\n",
        "print('\\n180% augmentation')\n",
        "print(scores_svm_7.mean())\n",
        "print('\\n200% augmentation')\n",
        "print(scores_svm_8.mean())"
      ],
      "execution_count": 0,
      "outputs": [
        {
          "output_type": "stream",
          "text": [
            "20% augmentation\n",
            "accuracy             0.282869\n",
            "precision            0.262766\n",
            "recall               0.282869\n",
            "f1                   0.261733\n",
            "cohen_kappa_score    0.102516\n",
            "auc                  0.551854\n",
            "dtype: float64\n",
            "\n",
            "50% augmentation\n",
            "accuracy             0.327698\n",
            "precision            0.311460\n",
            "recall               0.327698\n",
            "f1                   0.307715\n",
            "cohen_kappa_score    0.157591\n",
            "auc                  0.578890\n",
            "dtype: float64\n",
            "\n",
            "80% augmentation\n",
            "accuracy             0.337243\n",
            "precision            0.334660\n",
            "recall               0.337243\n",
            "f1                   0.322174\n",
            "cohen_kappa_score    0.173403\n",
            "auc                  0.586252\n",
            "dtype: float64\n",
            "\n",
            "100% augmentation\n",
            "accuracy             0.340499\n",
            "precision            0.336921\n",
            "recall               0.340499\n",
            "f1                   0.323694\n",
            "cohen_kappa_score    0.176649\n",
            "auc                  0.588014\n",
            "dtype: float64\n",
            "\n",
            "120% augmentation\n",
            "accuracy             0.370354\n",
            "precision            0.371740\n",
            "recall               0.370354\n",
            "f1                   0.353711\n",
            "cohen_kappa_score    0.213825\n",
            "auc                  0.606550\n",
            "dtype: float64\n",
            "\n",
            "150% augmentation\n",
            "accuracy             0.412679\n",
            "precision            0.419842\n",
            "recall               0.412679\n",
            "f1                   0.399386\n",
            "cohen_kappa_score    0.267417\n",
            "auc                  0.632954\n",
            "dtype: float64\n",
            "\n",
            "180% augmentation\n",
            "accuracy             0.455483\n",
            "precision            0.471357\n",
            "recall               0.455483\n",
            "f1                   0.442999\n",
            "cohen_kappa_score    0.322641\n",
            "auc                  0.660387\n",
            "dtype: float64\n",
            "\n",
            "200% augmentation\n",
            "accuracy             0.280512\n",
            "precision            0.268100\n",
            "recall               0.280512\n",
            "f1                   0.265482\n",
            "cohen_kappa_score    0.101986\n",
            "auc                  0.550799\n",
            "dtype: float64\n"
          ],
          "name": "stdout"
        }
      ]
    },
    {
      "cell_type": "markdown",
      "metadata": {
        "id": "tlyCB7VYV2Pq",
        "colab_type": "text"
      },
      "source": [
        "##### XGBoost"
      ]
    },
    {
      "cell_type": "code",
      "metadata": {
        "id": "mL39HA2tWAUR",
        "colab_type": "code",
        "colab": {}
      },
      "source": [
        "def xg(data_cleaned):\n",
        "  texts = data_cleaned['texts'].values\n",
        "  labels = data_cleaned['positivity'].values\n",
        "\n",
        "  # XGBoost Model:\n",
        "  text_clf_xg = Pipeline([('tfidf', TfidfVectorizer()),\n",
        "                       ('clf', XGBClassifier()),\n",
        "  ])\n",
        "\n",
        "  kfold = StratifiedKFold(n_splits=7, shuffle=True, random_state = 7)\n",
        "  scores_xg = pd.DataFrame(columns = ['accuracy','precision', 'recall', 'f1', 'cohen_kappa_score','auc'])\n",
        "\n",
        "  for train, test in kfold.split(texts, labels):\n",
        "\n",
        "    # train model\n",
        "    text_clf_xg.fit(texts[train], labels[train])\n",
        "\n",
        "    # predictions on test set\n",
        "    predictions_xg = text_clf_xg.predict(texts[test])\n",
        "    \n",
        "    # confusion matrix report\n",
        "    report = metrics.classification_report(labels[test], predictions_xg, output_dict=True)\n",
        "    df = pd.DataFrame(report)\n",
        "    #cnf_matrix = confusion_matrix(labels[test], predictions_xg)\n",
        "\n",
        "    # cohen kappa score\n",
        "    ck = cohen_kappa_score(labels[test], predictions_xg)\n",
        "\n",
        "    # auc\n",
        "    auc = multiclass_roc_auc_score(labels[test], predictions_xg)   \n",
        "\n",
        "    scores_xg = scores_xg.append({'accuracy': df['accuracy'][0], 'precision': \n",
        "                                  df['weighted avg'][0], 'recall': df['weighted avg'][1], \n",
        "                                  'f1': df['weighted avg'][2], 'cohen_kappa_score': ck, 'auc':auc },  \n",
        "                                 ignore_index=True)\n",
        "  return scores_xg"
      ],
      "execution_count": 0,
      "outputs": []
    },
    {
      "cell_type": "code",
      "metadata": {
        "id": "mucsv4T2Wdbj",
        "colab_type": "code",
        "outputId": "086077ef-f23f-476a-d63e-4b197f3f09a5",
        "colab": {
          "base_uri": "https://localhost:8080/",
          "height": 1000
        }
      },
      "source": [
        "# model performance using 20% to 200% data augmentation (20%, 50%, 80%, 100%, 120%, 150%, 180%, 200%)\n",
        "scores_xg_1 = xg(data_1)\n",
        "scores_xg_2 = xg(data_2)\n",
        "scores_xg_3 = xg(data_3)\n",
        "scores_xg_4 = xg(data_4)\n",
        "scores_xg_5 = xg(data_5)\n",
        "scores_xg_6 = xg(data_6)\n",
        "scores_xg_7 = xg(data_7)\n",
        "scores_xg_8 = xg(data_8)"
      ],
      "execution_count": 0,
      "outputs": [
        {
          "output_type": "stream",
          "text": [
            "/usr/local/lib/python3.6/dist-packages/sklearn/model_selection/_split.py:667: UserWarning: The least populated class in y has only 3 members, which is less than n_splits=7.\n",
            "  % (min_groups, self.n_splits)), UserWarning)\n",
            "/usr/local/lib/python3.6/dist-packages/sklearn/metrics/_classification.py:1272: UndefinedMetricWarning: Precision and F-score are ill-defined and being set to 0.0 in labels with no predicted samples. Use `zero_division` parameter to control this behavior.\n",
            "  _warn_prf(average, modifier, msg_start, len(result))\n",
            "/usr/local/lib/python3.6/dist-packages/sklearn/metrics/_classification.py:1272: UndefinedMetricWarning: Precision and F-score are ill-defined and being set to 0.0 in labels with no predicted samples. Use `zero_division` parameter to control this behavior.\n",
            "  _warn_prf(average, modifier, msg_start, len(result))\n",
            "/usr/local/lib/python3.6/dist-packages/sklearn/metrics/_classification.py:1272: UndefinedMetricWarning: Precision and F-score are ill-defined and being set to 0.0 in labels with no predicted samples. Use `zero_division` parameter to control this behavior.\n",
            "  _warn_prf(average, modifier, msg_start, len(result))\n",
            "/usr/local/lib/python3.6/dist-packages/sklearn/metrics/_classification.py:1272: UndefinedMetricWarning: Precision and F-score are ill-defined and being set to 0.0 in labels with no predicted samples. Use `zero_division` parameter to control this behavior.\n",
            "  _warn_prf(average, modifier, msg_start, len(result))\n",
            "/usr/local/lib/python3.6/dist-packages/sklearn/metrics/_classification.py:1272: UndefinedMetricWarning: Precision and F-score are ill-defined and being set to 0.0 in labels with no predicted samples. Use `zero_division` parameter to control this behavior.\n",
            "  _warn_prf(average, modifier, msg_start, len(result))\n",
            "/usr/local/lib/python3.6/dist-packages/sklearn/metrics/_classification.py:1272: UndefinedMetricWarning: Precision and F-score are ill-defined and being set to 0.0 in labels with no predicted samples. Use `zero_division` parameter to control this behavior.\n",
            "  _warn_prf(average, modifier, msg_start, len(result))\n",
            "/usr/local/lib/python3.6/dist-packages/sklearn/metrics/_classification.py:1272: UndefinedMetricWarning: Precision and F-score are ill-defined and being set to 0.0 in labels with no predicted samples. Use `zero_division` parameter to control this behavior.\n",
            "  _warn_prf(average, modifier, msg_start, len(result))\n",
            "/usr/local/lib/python3.6/dist-packages/sklearn/model_selection/_split.py:667: UserWarning: The least populated class in y has only 3 members, which is less than n_splits=7.\n",
            "  % (min_groups, self.n_splits)), UserWarning)\n",
            "/usr/local/lib/python3.6/dist-packages/sklearn/metrics/_classification.py:1272: UndefinedMetricWarning: Precision and F-score are ill-defined and being set to 0.0 in labels with no predicted samples. Use `zero_division` parameter to control this behavior.\n",
            "  _warn_prf(average, modifier, msg_start, len(result))\n",
            "/usr/local/lib/python3.6/dist-packages/sklearn/metrics/_classification.py:1272: UndefinedMetricWarning: Precision and F-score are ill-defined and being set to 0.0 in labels with no predicted samples. Use `zero_division` parameter to control this behavior.\n",
            "  _warn_prf(average, modifier, msg_start, len(result))\n",
            "/usr/local/lib/python3.6/dist-packages/sklearn/metrics/_classification.py:1272: UndefinedMetricWarning: Precision and F-score are ill-defined and being set to 0.0 in labels with no predicted samples. Use `zero_division` parameter to control this behavior.\n",
            "  _warn_prf(average, modifier, msg_start, len(result))\n",
            "/usr/local/lib/python3.6/dist-packages/sklearn/metrics/_classification.py:1272: UndefinedMetricWarning: Precision and F-score are ill-defined and being set to 0.0 in labels with no predicted samples. Use `zero_division` parameter to control this behavior.\n",
            "  _warn_prf(average, modifier, msg_start, len(result))\n",
            "/usr/local/lib/python3.6/dist-packages/sklearn/metrics/_classification.py:1272: UndefinedMetricWarning: Precision and F-score are ill-defined and being set to 0.0 in labels with no predicted samples. Use `zero_division` parameter to control this behavior.\n",
            "  _warn_prf(average, modifier, msg_start, len(result))\n",
            "/usr/local/lib/python3.6/dist-packages/sklearn/metrics/_classification.py:1272: UndefinedMetricWarning: Precision and F-score are ill-defined and being set to 0.0 in labels with no predicted samples. Use `zero_division` parameter to control this behavior.\n",
            "  _warn_prf(average, modifier, msg_start, len(result))\n",
            "/usr/local/lib/python3.6/dist-packages/sklearn/metrics/_classification.py:1272: UndefinedMetricWarning: Precision and F-score are ill-defined and being set to 0.0 in labels with no predicted samples. Use `zero_division` parameter to control this behavior.\n",
            "  _warn_prf(average, modifier, msg_start, len(result))\n",
            "/usr/local/lib/python3.6/dist-packages/sklearn/model_selection/_split.py:667: UserWarning: The least populated class in y has only 4 members, which is less than n_splits=7.\n",
            "  % (min_groups, self.n_splits)), UserWarning)\n",
            "/usr/local/lib/python3.6/dist-packages/sklearn/metrics/_classification.py:1272: UndefinedMetricWarning: Precision and F-score are ill-defined and being set to 0.0 in labels with no predicted samples. Use `zero_division` parameter to control this behavior.\n",
            "  _warn_prf(average, modifier, msg_start, len(result))\n",
            "/usr/local/lib/python3.6/dist-packages/sklearn/metrics/_classification.py:1272: UndefinedMetricWarning: Precision and F-score are ill-defined and being set to 0.0 in labels with no predicted samples. Use `zero_division` parameter to control this behavior.\n",
            "  _warn_prf(average, modifier, msg_start, len(result))\n",
            "/usr/local/lib/python3.6/dist-packages/sklearn/metrics/_classification.py:1272: UndefinedMetricWarning: Precision and F-score are ill-defined and being set to 0.0 in labels with no predicted samples. Use `zero_division` parameter to control this behavior.\n",
            "  _warn_prf(average, modifier, msg_start, len(result))\n",
            "/usr/local/lib/python3.6/dist-packages/sklearn/metrics/_classification.py:1272: UndefinedMetricWarning: Precision and F-score are ill-defined and being set to 0.0 in labels with no predicted samples. Use `zero_division` parameter to control this behavior.\n",
            "  _warn_prf(average, modifier, msg_start, len(result))\n",
            "/usr/local/lib/python3.6/dist-packages/sklearn/metrics/_classification.py:1272: UndefinedMetricWarning: Precision and F-score are ill-defined and being set to 0.0 in labels with no predicted samples. Use `zero_division` parameter to control this behavior.\n",
            "  _warn_prf(average, modifier, msg_start, len(result))\n",
            "/usr/local/lib/python3.6/dist-packages/sklearn/metrics/_classification.py:1272: UndefinedMetricWarning: Precision and F-score are ill-defined and being set to 0.0 in labels with no predicted samples. Use `zero_division` parameter to control this behavior.\n",
            "  _warn_prf(average, modifier, msg_start, len(result))\n",
            "/usr/local/lib/python3.6/dist-packages/sklearn/model_selection/_split.py:667: UserWarning: The least populated class in y has only 4 members, which is less than n_splits=7.\n",
            "  % (min_groups, self.n_splits)), UserWarning)\n",
            "/usr/local/lib/python3.6/dist-packages/sklearn/metrics/_classification.py:1272: UndefinedMetricWarning: Precision and F-score are ill-defined and being set to 0.0 in labels with no predicted samples. Use `zero_division` parameter to control this behavior.\n",
            "  _warn_prf(average, modifier, msg_start, len(result))\n",
            "/usr/local/lib/python3.6/dist-packages/sklearn/metrics/_classification.py:1272: UndefinedMetricWarning: Precision and F-score are ill-defined and being set to 0.0 in labels with no predicted samples. Use `zero_division` parameter to control this behavior.\n",
            "  _warn_prf(average, modifier, msg_start, len(result))\n",
            "/usr/local/lib/python3.6/dist-packages/sklearn/metrics/_classification.py:1272: UndefinedMetricWarning: Precision and F-score are ill-defined and being set to 0.0 in labels with no predicted samples. Use `zero_division` parameter to control this behavior.\n",
            "  _warn_prf(average, modifier, msg_start, len(result))\n",
            "/usr/local/lib/python3.6/dist-packages/sklearn/metrics/_classification.py:1272: UndefinedMetricWarning: Precision and F-score are ill-defined and being set to 0.0 in labels with no predicted samples. Use `zero_division` parameter to control this behavior.\n",
            "  _warn_prf(average, modifier, msg_start, len(result))\n",
            "/usr/local/lib/python3.6/dist-packages/sklearn/metrics/_classification.py:1272: UndefinedMetricWarning: Precision and F-score are ill-defined and being set to 0.0 in labels with no predicted samples. Use `zero_division` parameter to control this behavior.\n",
            "  _warn_prf(average, modifier, msg_start, len(result))\n",
            "/usr/local/lib/python3.6/dist-packages/sklearn/metrics/_classification.py:1272: UndefinedMetricWarning: Precision and F-score are ill-defined and being set to 0.0 in labels with no predicted samples. Use `zero_division` parameter to control this behavior.\n",
            "  _warn_prf(average, modifier, msg_start, len(result))\n",
            "/usr/local/lib/python3.6/dist-packages/sklearn/model_selection/_split.py:667: UserWarning: The least populated class in y has only 5 members, which is less than n_splits=7.\n",
            "  % (min_groups, self.n_splits)), UserWarning)\n",
            "/usr/local/lib/python3.6/dist-packages/sklearn/metrics/_classification.py:1272: UndefinedMetricWarning: Precision and F-score are ill-defined and being set to 0.0 in labels with no predicted samples. Use `zero_division` parameter to control this behavior.\n",
            "  _warn_prf(average, modifier, msg_start, len(result))\n",
            "/usr/local/lib/python3.6/dist-packages/sklearn/metrics/_classification.py:1272: UndefinedMetricWarning: Precision and F-score are ill-defined and being set to 0.0 in labels with no predicted samples. Use `zero_division` parameter to control this behavior.\n",
            "  _warn_prf(average, modifier, msg_start, len(result))\n",
            "/usr/local/lib/python3.6/dist-packages/sklearn/metrics/_classification.py:1272: UndefinedMetricWarning: Precision and F-score are ill-defined and being set to 0.0 in labels with no predicted samples. Use `zero_division` parameter to control this behavior.\n",
            "  _warn_prf(average, modifier, msg_start, len(result))\n",
            "/usr/local/lib/python3.6/dist-packages/sklearn/metrics/_classification.py:1272: UndefinedMetricWarning: Precision and F-score are ill-defined and being set to 0.0 in labels with no predicted samples. Use `zero_division` parameter to control this behavior.\n",
            "  _warn_prf(average, modifier, msg_start, len(result))\n",
            "/usr/local/lib/python3.6/dist-packages/sklearn/metrics/_classification.py:1272: UndefinedMetricWarning: Precision and F-score are ill-defined and being set to 0.0 in labels with no predicted samples. Use `zero_division` parameter to control this behavior.\n",
            "  _warn_prf(average, modifier, msg_start, len(result))\n",
            "/usr/local/lib/python3.6/dist-packages/sklearn/model_selection/_split.py:667: UserWarning: The least populated class in y has only 5 members, which is less than n_splits=7.\n",
            "  % (min_groups, self.n_splits)), UserWarning)\n",
            "/usr/local/lib/python3.6/dist-packages/sklearn/metrics/_classification.py:1272: UndefinedMetricWarning: Precision and F-score are ill-defined and being set to 0.0 in labels with no predicted samples. Use `zero_division` parameter to control this behavior.\n",
            "  _warn_prf(average, modifier, msg_start, len(result))\n",
            "/usr/local/lib/python3.6/dist-packages/sklearn/metrics/_classification.py:1272: UndefinedMetricWarning: Precision and F-score are ill-defined and being set to 0.0 in labels with no predicted samples. Use `zero_division` parameter to control this behavior.\n",
            "  _warn_prf(average, modifier, msg_start, len(result))\n",
            "/usr/local/lib/python3.6/dist-packages/sklearn/metrics/_classification.py:1272: UndefinedMetricWarning: Precision and F-score are ill-defined and being set to 0.0 in labels with no predicted samples. Use `zero_division` parameter to control this behavior.\n",
            "  _warn_prf(average, modifier, msg_start, len(result))\n",
            "/usr/local/lib/python3.6/dist-packages/sklearn/metrics/_classification.py:1272: UndefinedMetricWarning: Precision and F-score are ill-defined and being set to 0.0 in labels with no predicted samples. Use `zero_division` parameter to control this behavior.\n",
            "  _warn_prf(average, modifier, msg_start, len(result))\n",
            "/usr/local/lib/python3.6/dist-packages/sklearn/model_selection/_split.py:667: UserWarning: The least populated class in y has only 6 members, which is less than n_splits=7.\n",
            "  % (min_groups, self.n_splits)), UserWarning)\n",
            "/usr/local/lib/python3.6/dist-packages/sklearn/metrics/_classification.py:1272: UndefinedMetricWarning: Precision and F-score are ill-defined and being set to 0.0 in labels with no predicted samples. Use `zero_division` parameter to control this behavior.\n",
            "  _warn_prf(average, modifier, msg_start, len(result))\n",
            "/usr/local/lib/python3.6/dist-packages/sklearn/metrics/_classification.py:1272: UndefinedMetricWarning: Precision and F-score are ill-defined and being set to 0.0 in labels with no predicted samples. Use `zero_division` parameter to control this behavior.\n",
            "  _warn_prf(average, modifier, msg_start, len(result))\n",
            "/usr/local/lib/python3.6/dist-packages/sklearn/metrics/_classification.py:1272: UndefinedMetricWarning: Precision and F-score are ill-defined and being set to 0.0 in labels with no predicted samples. Use `zero_division` parameter to control this behavior.\n",
            "  _warn_prf(average, modifier, msg_start, len(result))\n",
            "/usr/local/lib/python3.6/dist-packages/sklearn/metrics/_classification.py:1272: UndefinedMetricWarning: Precision and F-score are ill-defined and being set to 0.0 in labels with no predicted samples. Use `zero_division` parameter to control this behavior.\n",
            "  _warn_prf(average, modifier, msg_start, len(result))\n",
            "/usr/local/lib/python3.6/dist-packages/sklearn/model_selection/_split.py:667: UserWarning: The least populated class in y has only 6 members, which is less than n_splits=7.\n",
            "  % (min_groups, self.n_splits)), UserWarning)\n",
            "/usr/local/lib/python3.6/dist-packages/sklearn/metrics/_classification.py:1272: UndefinedMetricWarning: Precision and F-score are ill-defined and being set to 0.0 in labels with no predicted samples. Use `zero_division` parameter to control this behavior.\n",
            "  _warn_prf(average, modifier, msg_start, len(result))\n",
            "/usr/local/lib/python3.6/dist-packages/sklearn/metrics/_classification.py:1272: UndefinedMetricWarning: Precision and F-score are ill-defined and being set to 0.0 in labels with no predicted samples. Use `zero_division` parameter to control this behavior.\n",
            "  _warn_prf(average, modifier, msg_start, len(result))\n",
            "/usr/local/lib/python3.6/dist-packages/sklearn/metrics/_classification.py:1272: UndefinedMetricWarning: Precision and F-score are ill-defined and being set to 0.0 in labels with no predicted samples. Use `zero_division` parameter to control this behavior.\n",
            "  _warn_prf(average, modifier, msg_start, len(result))\n",
            "/usr/local/lib/python3.6/dist-packages/sklearn/metrics/_classification.py:1272: UndefinedMetricWarning: Precision and F-score are ill-defined and being set to 0.0 in labels with no predicted samples. Use `zero_division` parameter to control this behavior.\n",
            "  _warn_prf(average, modifier, msg_start, len(result))\n",
            "/usr/local/lib/python3.6/dist-packages/sklearn/metrics/_classification.py:1272: UndefinedMetricWarning: Precision and F-score are ill-defined and being set to 0.0 in labels with no predicted samples. Use `zero_division` parameter to control this behavior.\n",
            "  _warn_prf(average, modifier, msg_start, len(result))\n",
            "/usr/local/lib/python3.6/dist-packages/sklearn/metrics/_classification.py:1272: UndefinedMetricWarning: Precision and F-score are ill-defined and being set to 0.0 in labels with no predicted samples. Use `zero_division` parameter to control this behavior.\n",
            "  _warn_prf(average, modifier, msg_start, len(result))\n",
            "/usr/local/lib/python3.6/dist-packages/sklearn/metrics/_classification.py:1272: UndefinedMetricWarning: Precision and F-score are ill-defined and being set to 0.0 in labels with no predicted samples. Use `zero_division` parameter to control this behavior.\n",
            "  _warn_prf(average, modifier, msg_start, len(result))\n"
          ],
          "name": "stderr"
        }
      ]
    },
    {
      "cell_type": "code",
      "metadata": {
        "id": "TGf08ln0WoDI",
        "colab_type": "code",
        "outputId": "4bd97057-fe3e-40d7-8a52-bce5c11d87dc",
        "colab": {
          "base_uri": "https://localhost:8080/",
          "height": 1000
        }
      },
      "source": [
        "print('20% augmentation')\n",
        "print(scores_xg_1.mean())\n",
        "print('\\n50% augmentation')\n",
        "print(scores_xg_2.mean())\n",
        "print('\\n80% augmentation')\n",
        "print(scores_xg_3.mean())\n",
        "print('\\n100% augmentation')\n",
        "print(scores_xg_4.mean())\n",
        "print('\\n120% augmentation')\n",
        "print(scores_xg_5.mean())\n",
        "print('\\n150% augmentation')\n",
        "print(scores_xg_6.mean())\n",
        "print('\\n180% augmentation')\n",
        "print(scores_xg_7.mean())\n",
        "print('\\n200% augmentation')\n",
        "print(scores_xg_8.mean())"
      ],
      "execution_count": 0,
      "outputs": [
        {
          "output_type": "stream",
          "text": [
            "20% augmentation\n",
            "accuracy             0.292824\n",
            "precision            0.261705\n",
            "recall               0.292824\n",
            "f1                   0.253625\n",
            "cohen_kappa_score    0.103635\n",
            "auc                  0.552055\n",
            "dtype: float64\n",
            "\n",
            "50% augmentation\n",
            "accuracy             0.293430\n",
            "precision            0.260763\n",
            "recall               0.293430\n",
            "f1                   0.255242\n",
            "cohen_kappa_score    0.100168\n",
            "auc                  0.549785\n",
            "dtype: float64\n",
            "\n",
            "80% augmentation\n",
            "accuracy             0.298901\n",
            "precision            0.272969\n",
            "recall               0.298901\n",
            "f1                   0.258122\n",
            "cohen_kappa_score    0.109391\n",
            "auc                  0.554366\n",
            "dtype: float64\n",
            "\n",
            "100% augmentation\n",
            "accuracy             0.305980\n",
            "precision            0.287748\n",
            "recall               0.305980\n",
            "f1                   0.262967\n",
            "cohen_kappa_score    0.116630\n",
            "auc                  0.557741\n",
            "dtype: float64\n",
            "\n",
            "120% augmentation\n",
            "accuracy             0.312747\n",
            "precision            0.304801\n",
            "recall               0.312747\n",
            "f1                   0.271273\n",
            "cohen_kappa_score    0.124361\n",
            "auc                  0.561248\n",
            "dtype: float64\n",
            "\n",
            "150% augmentation\n",
            "accuracy             0.357188\n",
            "precision            0.387147\n",
            "recall               0.357188\n",
            "f1                   0.318192\n",
            "cohen_kappa_score    0.179775\n",
            "auc                  0.588195\n",
            "dtype: float64\n",
            "\n",
            "180% augmentation\n",
            "accuracy             0.366952\n",
            "precision            0.412002\n",
            "recall               0.366952\n",
            "f1                   0.326558\n",
            "cohen_kappa_score    0.193185\n",
            "auc                  0.594655\n",
            "dtype: float64\n",
            "\n",
            "200% augmentation\n",
            "accuracy             0.269487\n",
            "precision            0.249046\n",
            "recall               0.269487\n",
            "f1                   0.217125\n",
            "cohen_kappa_score    0.064131\n",
            "auc                  0.531598\n",
            "dtype: float64\n"
          ],
          "name": "stdout"
        }
      ]
    },
    {
      "cell_type": "markdown",
      "metadata": {
        "id": "-9LnRnEmV50x",
        "colab_type": "text"
      },
      "source": [
        "##### Logistic Regression"
      ]
    },
    {
      "cell_type": "code",
      "metadata": {
        "id": "jsixazZCWKVP",
        "colab_type": "code",
        "colab": {}
      },
      "source": [
        "def lr(data_cleaned):\n",
        "  texts = data_cleaned['texts'].values\n",
        "  labels = data_cleaned['positivity'].values\n",
        "\n",
        "  # Logistic Regression Model:\n",
        "  text_clf_lr = Pipeline([('tfidf', TfidfVectorizer()),\n",
        "                       ('clf', LogisticRegression()),\n",
        "  ])\n",
        "\n",
        "  kfold = StratifiedKFold(n_splits=7, shuffle=True, random_state = 7)\n",
        "\n",
        "  # performance matrix\n",
        "  scores_lr = pd.DataFrame(columns = ['accuracy','precision', 'recall', 'f1', 'cohen_kappa_score', 'auc'])\n",
        "\n",
        "  for train, test in kfold.split(texts, labels):\n",
        "    \n",
        "    # train model\n",
        "    text_clf_lr.fit(texts[train], labels[train])\n",
        "    \n",
        "    # predictions on test set\n",
        "    predictions_lr = text_clf_lr.predict(texts[test])\n",
        "    \n",
        "    # confusion matrix report\n",
        "    report = metrics.classification_report(labels[test], predictions_lr, output_dict=True)\n",
        "    df = pd.DataFrame(report)\n",
        "\n",
        "    ck = cohen_kappa_score(labels[test], predictions_lr)\n",
        "\n",
        "    # auc\n",
        "    auc = multiclass_roc_auc_score(labels[test], predictions_lr) \n",
        "\n",
        "    scores_lr = scores_lr.append({'accuracy': df['accuracy'][0], 'precision': df['weighted avg'][0], \n",
        "                                  'recall': df['weighted avg'][1], 'f1': df['weighted avg'][2], \n",
        "                                  'cohen_kappa_score': ck, 'auc': auc },  ignore_index=True)\n",
        "  return scores_lr"
      ],
      "execution_count": 0,
      "outputs": []
    },
    {
      "cell_type": "code",
      "metadata": {
        "id": "4kcQdQeYXMqf",
        "colab_type": "code",
        "outputId": "706c9b96-3c9a-4498-bdff-9ece7418d0b1",
        "colab": {
          "base_uri": "https://localhost:8080/",
          "height": 1000
        }
      },
      "source": [
        "# model performance using 20% to 200% data augmentation (20%, 50%, 80%, 100%, 120%, 150%, 180%, 200%)\n",
        "scores_lr_1 = lr(data_1)\n",
        "scores_lr_2 = lr(data_2)\n",
        "scores_lr_3 = lr(data_3)\n",
        "scores_lr_4 = lr(data_4)\n",
        "scores_lr_5 = lr(data_5)\n",
        "scores_lr_6 = lr(data_6)\n",
        "scores_lr_7 = lr(data_7)\n",
        "scores_lr_8 = lr(data_8)"
      ],
      "execution_count": 0,
      "outputs": [
        {
          "output_type": "stream",
          "text": [
            "/usr/local/lib/python3.6/dist-packages/sklearn/model_selection/_split.py:667: UserWarning: The least populated class in y has only 3 members, which is less than n_splits=7.\n",
            "  % (min_groups, self.n_splits)), UserWarning)\n",
            "/usr/local/lib/python3.6/dist-packages/sklearn/metrics/_classification.py:1272: UndefinedMetricWarning: Precision and F-score are ill-defined and being set to 0.0 in labels with no predicted samples. Use `zero_division` parameter to control this behavior.\n",
            "  _warn_prf(average, modifier, msg_start, len(result))\n",
            "/usr/local/lib/python3.6/dist-packages/sklearn/metrics/_classification.py:1272: UndefinedMetricWarning: Precision and F-score are ill-defined and being set to 0.0 in labels with no predicted samples. Use `zero_division` parameter to control this behavior.\n",
            "  _warn_prf(average, modifier, msg_start, len(result))\n",
            "/usr/local/lib/python3.6/dist-packages/sklearn/metrics/_classification.py:1272: UndefinedMetricWarning: Precision and F-score are ill-defined and being set to 0.0 in labels with no predicted samples. Use `zero_division` parameter to control this behavior.\n",
            "  _warn_prf(average, modifier, msg_start, len(result))\n",
            "/usr/local/lib/python3.6/dist-packages/sklearn/metrics/_classification.py:1272: UndefinedMetricWarning: Precision and F-score are ill-defined and being set to 0.0 in labels with no predicted samples. Use `zero_division` parameter to control this behavior.\n",
            "  _warn_prf(average, modifier, msg_start, len(result))\n",
            "/usr/local/lib/python3.6/dist-packages/sklearn/metrics/_classification.py:1272: UndefinedMetricWarning: Precision and F-score are ill-defined and being set to 0.0 in labels with no predicted samples. Use `zero_division` parameter to control this behavior.\n",
            "  _warn_prf(average, modifier, msg_start, len(result))\n",
            "/usr/local/lib/python3.6/dist-packages/sklearn/metrics/_classification.py:1272: UndefinedMetricWarning: Precision and F-score are ill-defined and being set to 0.0 in labels with no predicted samples. Use `zero_division` parameter to control this behavior.\n",
            "  _warn_prf(average, modifier, msg_start, len(result))\n",
            "/usr/local/lib/python3.6/dist-packages/sklearn/metrics/_classification.py:1272: UndefinedMetricWarning: Precision and F-score are ill-defined and being set to 0.0 in labels with no predicted samples. Use `zero_division` parameter to control this behavior.\n",
            "  _warn_prf(average, modifier, msg_start, len(result))\n",
            "/usr/local/lib/python3.6/dist-packages/sklearn/model_selection/_split.py:667: UserWarning: The least populated class in y has only 3 members, which is less than n_splits=7.\n",
            "  % (min_groups, self.n_splits)), UserWarning)\n",
            "/usr/local/lib/python3.6/dist-packages/sklearn/linear_model/_logistic.py:940: ConvergenceWarning: lbfgs failed to converge (status=1):\n",
            "STOP: TOTAL NO. of ITERATIONS REACHED LIMIT.\n",
            "\n",
            "Increase the number of iterations (max_iter) or scale the data as shown in:\n",
            "    https://scikit-learn.org/stable/modules/preprocessing.html\n",
            "Please also refer to the documentation for alternative solver options:\n",
            "    https://scikit-learn.org/stable/modules/linear_model.html#logistic-regression\n",
            "  extra_warning_msg=_LOGISTIC_SOLVER_CONVERGENCE_MSG)\n",
            "/usr/local/lib/python3.6/dist-packages/sklearn/metrics/_classification.py:1272: UndefinedMetricWarning: Precision and F-score are ill-defined and being set to 0.0 in labels with no predicted samples. Use `zero_division` parameter to control this behavior.\n",
            "  _warn_prf(average, modifier, msg_start, len(result))\n",
            "/usr/local/lib/python3.6/dist-packages/sklearn/linear_model/_logistic.py:940: ConvergenceWarning: lbfgs failed to converge (status=1):\n",
            "STOP: TOTAL NO. of ITERATIONS REACHED LIMIT.\n",
            "\n",
            "Increase the number of iterations (max_iter) or scale the data as shown in:\n",
            "    https://scikit-learn.org/stable/modules/preprocessing.html\n",
            "Please also refer to the documentation for alternative solver options:\n",
            "    https://scikit-learn.org/stable/modules/linear_model.html#logistic-regression\n",
            "  extra_warning_msg=_LOGISTIC_SOLVER_CONVERGENCE_MSG)\n",
            "/usr/local/lib/python3.6/dist-packages/sklearn/metrics/_classification.py:1272: UndefinedMetricWarning: Precision and F-score are ill-defined and being set to 0.0 in labels with no predicted samples. Use `zero_division` parameter to control this behavior.\n",
            "  _warn_prf(average, modifier, msg_start, len(result))\n",
            "/usr/local/lib/python3.6/dist-packages/sklearn/linear_model/_logistic.py:940: ConvergenceWarning: lbfgs failed to converge (status=1):\n",
            "STOP: TOTAL NO. of ITERATIONS REACHED LIMIT.\n",
            "\n",
            "Increase the number of iterations (max_iter) or scale the data as shown in:\n",
            "    https://scikit-learn.org/stable/modules/preprocessing.html\n",
            "Please also refer to the documentation for alternative solver options:\n",
            "    https://scikit-learn.org/stable/modules/linear_model.html#logistic-regression\n",
            "  extra_warning_msg=_LOGISTIC_SOLVER_CONVERGENCE_MSG)\n",
            "/usr/local/lib/python3.6/dist-packages/sklearn/metrics/_classification.py:1272: UndefinedMetricWarning: Precision and F-score are ill-defined and being set to 0.0 in labels with no predicted samples. Use `zero_division` parameter to control this behavior.\n",
            "  _warn_prf(average, modifier, msg_start, len(result))\n",
            "/usr/local/lib/python3.6/dist-packages/sklearn/metrics/_classification.py:1272: UndefinedMetricWarning: Precision and F-score are ill-defined and being set to 0.0 in labels with no predicted samples. Use `zero_division` parameter to control this behavior.\n",
            "  _warn_prf(average, modifier, msg_start, len(result))\n",
            "/usr/local/lib/python3.6/dist-packages/sklearn/linear_model/_logistic.py:940: ConvergenceWarning: lbfgs failed to converge (status=1):\n",
            "STOP: TOTAL NO. of ITERATIONS REACHED LIMIT.\n",
            "\n",
            "Increase the number of iterations (max_iter) or scale the data as shown in:\n",
            "    https://scikit-learn.org/stable/modules/preprocessing.html\n",
            "Please also refer to the documentation for alternative solver options:\n",
            "    https://scikit-learn.org/stable/modules/linear_model.html#logistic-regression\n",
            "  extra_warning_msg=_LOGISTIC_SOLVER_CONVERGENCE_MSG)\n",
            "/usr/local/lib/python3.6/dist-packages/sklearn/metrics/_classification.py:1272: UndefinedMetricWarning: Precision and F-score are ill-defined and being set to 0.0 in labels with no predicted samples. Use `zero_division` parameter to control this behavior.\n",
            "  _warn_prf(average, modifier, msg_start, len(result))\n",
            "/usr/local/lib/python3.6/dist-packages/sklearn/metrics/_classification.py:1272: UndefinedMetricWarning: Precision and F-score are ill-defined and being set to 0.0 in labels with no predicted samples. Use `zero_division` parameter to control this behavior.\n",
            "  _warn_prf(average, modifier, msg_start, len(result))\n",
            "/usr/local/lib/python3.6/dist-packages/sklearn/linear_model/_logistic.py:940: ConvergenceWarning: lbfgs failed to converge (status=1):\n",
            "STOP: TOTAL NO. of ITERATIONS REACHED LIMIT.\n",
            "\n",
            "Increase the number of iterations (max_iter) or scale the data as shown in:\n",
            "    https://scikit-learn.org/stable/modules/preprocessing.html\n",
            "Please also refer to the documentation for alternative solver options:\n",
            "    https://scikit-learn.org/stable/modules/linear_model.html#logistic-regression\n",
            "  extra_warning_msg=_LOGISTIC_SOLVER_CONVERGENCE_MSG)\n",
            "/usr/local/lib/python3.6/dist-packages/sklearn/metrics/_classification.py:1272: UndefinedMetricWarning: Precision and F-score are ill-defined and being set to 0.0 in labels with no predicted samples. Use `zero_division` parameter to control this behavior.\n",
            "  _warn_prf(average, modifier, msg_start, len(result))\n",
            "/usr/local/lib/python3.6/dist-packages/sklearn/model_selection/_split.py:667: UserWarning: The least populated class in y has only 4 members, which is less than n_splits=7.\n",
            "  % (min_groups, self.n_splits)), UserWarning)\n",
            "/usr/local/lib/python3.6/dist-packages/sklearn/linear_model/_logistic.py:940: ConvergenceWarning: lbfgs failed to converge (status=1):\n",
            "STOP: TOTAL NO. of ITERATIONS REACHED LIMIT.\n",
            "\n",
            "Increase the number of iterations (max_iter) or scale the data as shown in:\n",
            "    https://scikit-learn.org/stable/modules/preprocessing.html\n",
            "Please also refer to the documentation for alternative solver options:\n",
            "    https://scikit-learn.org/stable/modules/linear_model.html#logistic-regression\n",
            "  extra_warning_msg=_LOGISTIC_SOLVER_CONVERGENCE_MSG)\n",
            "/usr/local/lib/python3.6/dist-packages/sklearn/metrics/_classification.py:1272: UndefinedMetricWarning: Precision and F-score are ill-defined and being set to 0.0 in labels with no predicted samples. Use `zero_division` parameter to control this behavior.\n",
            "  _warn_prf(average, modifier, msg_start, len(result))\n",
            "/usr/local/lib/python3.6/dist-packages/sklearn/linear_model/_logistic.py:940: ConvergenceWarning: lbfgs failed to converge (status=1):\n",
            "STOP: TOTAL NO. of ITERATIONS REACHED LIMIT.\n",
            "\n",
            "Increase the number of iterations (max_iter) or scale the data as shown in:\n",
            "    https://scikit-learn.org/stable/modules/preprocessing.html\n",
            "Please also refer to the documentation for alternative solver options:\n",
            "    https://scikit-learn.org/stable/modules/linear_model.html#logistic-regression\n",
            "  extra_warning_msg=_LOGISTIC_SOLVER_CONVERGENCE_MSG)\n",
            "/usr/local/lib/python3.6/dist-packages/sklearn/metrics/_classification.py:1272: UndefinedMetricWarning: Precision and F-score are ill-defined and being set to 0.0 in labels with no predicted samples. Use `zero_division` parameter to control this behavior.\n",
            "  _warn_prf(average, modifier, msg_start, len(result))\n",
            "/usr/local/lib/python3.6/dist-packages/sklearn/linear_model/_logistic.py:940: ConvergenceWarning: lbfgs failed to converge (status=1):\n",
            "STOP: TOTAL NO. of ITERATIONS REACHED LIMIT.\n",
            "\n",
            "Increase the number of iterations (max_iter) or scale the data as shown in:\n",
            "    https://scikit-learn.org/stable/modules/preprocessing.html\n",
            "Please also refer to the documentation for alternative solver options:\n",
            "    https://scikit-learn.org/stable/modules/linear_model.html#logistic-regression\n",
            "  extra_warning_msg=_LOGISTIC_SOLVER_CONVERGENCE_MSG)\n",
            "/usr/local/lib/python3.6/dist-packages/sklearn/metrics/_classification.py:1272: UndefinedMetricWarning: Precision and F-score are ill-defined and being set to 0.0 in labels with no predicted samples. Use `zero_division` parameter to control this behavior.\n",
            "  _warn_prf(average, modifier, msg_start, len(result))\n",
            "/usr/local/lib/python3.6/dist-packages/sklearn/linear_model/_logistic.py:940: ConvergenceWarning: lbfgs failed to converge (status=1):\n",
            "STOP: TOTAL NO. of ITERATIONS REACHED LIMIT.\n",
            "\n",
            "Increase the number of iterations (max_iter) or scale the data as shown in:\n",
            "    https://scikit-learn.org/stable/modules/preprocessing.html\n",
            "Please also refer to the documentation for alternative solver options:\n",
            "    https://scikit-learn.org/stable/modules/linear_model.html#logistic-regression\n",
            "  extra_warning_msg=_LOGISTIC_SOLVER_CONVERGENCE_MSG)\n",
            "/usr/local/lib/python3.6/dist-packages/sklearn/metrics/_classification.py:1272: UndefinedMetricWarning: Precision and F-score are ill-defined and being set to 0.0 in labels with no predicted samples. Use `zero_division` parameter to control this behavior.\n",
            "  _warn_prf(average, modifier, msg_start, len(result))\n",
            "/usr/local/lib/python3.6/dist-packages/sklearn/linear_model/_logistic.py:940: ConvergenceWarning: lbfgs failed to converge (status=1):\n",
            "STOP: TOTAL NO. of ITERATIONS REACHED LIMIT.\n",
            "\n",
            "Increase the number of iterations (max_iter) or scale the data as shown in:\n",
            "    https://scikit-learn.org/stable/modules/preprocessing.html\n",
            "Please also refer to the documentation for alternative solver options:\n",
            "    https://scikit-learn.org/stable/modules/linear_model.html#logistic-regression\n",
            "  extra_warning_msg=_LOGISTIC_SOLVER_CONVERGENCE_MSG)\n",
            "/usr/local/lib/python3.6/dist-packages/sklearn/metrics/_classification.py:1272: UndefinedMetricWarning: Precision and F-score are ill-defined and being set to 0.0 in labels with no predicted samples. Use `zero_division` parameter to control this behavior.\n",
            "  _warn_prf(average, modifier, msg_start, len(result))\n",
            "/usr/local/lib/python3.6/dist-packages/sklearn/linear_model/_logistic.py:940: ConvergenceWarning: lbfgs failed to converge (status=1):\n",
            "STOP: TOTAL NO. of ITERATIONS REACHED LIMIT.\n",
            "\n",
            "Increase the number of iterations (max_iter) or scale the data as shown in:\n",
            "    https://scikit-learn.org/stable/modules/preprocessing.html\n",
            "Please also refer to the documentation for alternative solver options:\n",
            "    https://scikit-learn.org/stable/modules/linear_model.html#logistic-regression\n",
            "  extra_warning_msg=_LOGISTIC_SOLVER_CONVERGENCE_MSG)\n",
            "/usr/local/lib/python3.6/dist-packages/sklearn/metrics/_classification.py:1272: UndefinedMetricWarning: Precision and F-score are ill-defined and being set to 0.0 in labels with no predicted samples. Use `zero_division` parameter to control this behavior.\n",
            "  _warn_prf(average, modifier, msg_start, len(result))\n",
            "/usr/local/lib/python3.6/dist-packages/sklearn/linear_model/_logistic.py:940: ConvergenceWarning: lbfgs failed to converge (status=1):\n",
            "STOP: TOTAL NO. of ITERATIONS REACHED LIMIT.\n",
            "\n",
            "Increase the number of iterations (max_iter) or scale the data as shown in:\n",
            "    https://scikit-learn.org/stable/modules/preprocessing.html\n",
            "Please also refer to the documentation for alternative solver options:\n",
            "    https://scikit-learn.org/stable/modules/linear_model.html#logistic-regression\n",
            "  extra_warning_msg=_LOGISTIC_SOLVER_CONVERGENCE_MSG)\n",
            "/usr/local/lib/python3.6/dist-packages/sklearn/metrics/_classification.py:1272: UndefinedMetricWarning: Precision and F-score are ill-defined and being set to 0.0 in labels with no predicted samples. Use `zero_division` parameter to control this behavior.\n",
            "  _warn_prf(average, modifier, msg_start, len(result))\n",
            "/usr/local/lib/python3.6/dist-packages/sklearn/model_selection/_split.py:667: UserWarning: The least populated class in y has only 4 members, which is less than n_splits=7.\n",
            "  % (min_groups, self.n_splits)), UserWarning)\n",
            "/usr/local/lib/python3.6/dist-packages/sklearn/linear_model/_logistic.py:940: ConvergenceWarning: lbfgs failed to converge (status=1):\n",
            "STOP: TOTAL NO. of ITERATIONS REACHED LIMIT.\n",
            "\n",
            "Increase the number of iterations (max_iter) or scale the data as shown in:\n",
            "    https://scikit-learn.org/stable/modules/preprocessing.html\n",
            "Please also refer to the documentation for alternative solver options:\n",
            "    https://scikit-learn.org/stable/modules/linear_model.html#logistic-regression\n",
            "  extra_warning_msg=_LOGISTIC_SOLVER_CONVERGENCE_MSG)\n",
            "/usr/local/lib/python3.6/dist-packages/sklearn/metrics/_classification.py:1272: UndefinedMetricWarning: Precision and F-score are ill-defined and being set to 0.0 in labels with no predicted samples. Use `zero_division` parameter to control this behavior.\n",
            "  _warn_prf(average, modifier, msg_start, len(result))\n",
            "/usr/local/lib/python3.6/dist-packages/sklearn/linear_model/_logistic.py:940: ConvergenceWarning: lbfgs failed to converge (status=1):\n",
            "STOP: TOTAL NO. of ITERATIONS REACHED LIMIT.\n",
            "\n",
            "Increase the number of iterations (max_iter) or scale the data as shown in:\n",
            "    https://scikit-learn.org/stable/modules/preprocessing.html\n",
            "Please also refer to the documentation for alternative solver options:\n",
            "    https://scikit-learn.org/stable/modules/linear_model.html#logistic-regression\n",
            "  extra_warning_msg=_LOGISTIC_SOLVER_CONVERGENCE_MSG)\n",
            "/usr/local/lib/python3.6/dist-packages/sklearn/metrics/_classification.py:1272: UndefinedMetricWarning: Precision and F-score are ill-defined and being set to 0.0 in labels with no predicted samples. Use `zero_division` parameter to control this behavior.\n",
            "  _warn_prf(average, modifier, msg_start, len(result))\n",
            "/usr/local/lib/python3.6/dist-packages/sklearn/linear_model/_logistic.py:940: ConvergenceWarning: lbfgs failed to converge (status=1):\n",
            "STOP: TOTAL NO. of ITERATIONS REACHED LIMIT.\n",
            "\n",
            "Increase the number of iterations (max_iter) or scale the data as shown in:\n",
            "    https://scikit-learn.org/stable/modules/preprocessing.html\n",
            "Please also refer to the documentation for alternative solver options:\n",
            "    https://scikit-learn.org/stable/modules/linear_model.html#logistic-regression\n",
            "  extra_warning_msg=_LOGISTIC_SOLVER_CONVERGENCE_MSG)\n",
            "/usr/local/lib/python3.6/dist-packages/sklearn/metrics/_classification.py:1272: UndefinedMetricWarning: Precision and F-score are ill-defined and being set to 0.0 in labels with no predicted samples. Use `zero_division` parameter to control this behavior.\n",
            "  _warn_prf(average, modifier, msg_start, len(result))\n",
            "/usr/local/lib/python3.6/dist-packages/sklearn/linear_model/_logistic.py:940: ConvergenceWarning: lbfgs failed to converge (status=1):\n",
            "STOP: TOTAL NO. of ITERATIONS REACHED LIMIT.\n",
            "\n",
            "Increase the number of iterations (max_iter) or scale the data as shown in:\n",
            "    https://scikit-learn.org/stable/modules/preprocessing.html\n",
            "Please also refer to the documentation for alternative solver options:\n",
            "    https://scikit-learn.org/stable/modules/linear_model.html#logistic-regression\n",
            "  extra_warning_msg=_LOGISTIC_SOLVER_CONVERGENCE_MSG)\n",
            "/usr/local/lib/python3.6/dist-packages/sklearn/metrics/_classification.py:1272: UndefinedMetricWarning: Precision and F-score are ill-defined and being set to 0.0 in labels with no predicted samples. Use `zero_division` parameter to control this behavior.\n",
            "  _warn_prf(average, modifier, msg_start, len(result))\n",
            "/usr/local/lib/python3.6/dist-packages/sklearn/linear_model/_logistic.py:940: ConvergenceWarning: lbfgs failed to converge (status=1):\n",
            "STOP: TOTAL NO. of ITERATIONS REACHED LIMIT.\n",
            "\n",
            "Increase the number of iterations (max_iter) or scale the data as shown in:\n",
            "    https://scikit-learn.org/stable/modules/preprocessing.html\n",
            "Please also refer to the documentation for alternative solver options:\n",
            "    https://scikit-learn.org/stable/modules/linear_model.html#logistic-regression\n",
            "  extra_warning_msg=_LOGISTIC_SOLVER_CONVERGENCE_MSG)\n",
            "/usr/local/lib/python3.6/dist-packages/sklearn/metrics/_classification.py:1272: UndefinedMetricWarning: Precision and F-score are ill-defined and being set to 0.0 in labels with no predicted samples. Use `zero_division` parameter to control this behavior.\n",
            "  _warn_prf(average, modifier, msg_start, len(result))\n",
            "/usr/local/lib/python3.6/dist-packages/sklearn/linear_model/_logistic.py:940: ConvergenceWarning: lbfgs failed to converge (status=1):\n",
            "STOP: TOTAL NO. of ITERATIONS REACHED LIMIT.\n",
            "\n",
            "Increase the number of iterations (max_iter) or scale the data as shown in:\n",
            "    https://scikit-learn.org/stable/modules/preprocessing.html\n",
            "Please also refer to the documentation for alternative solver options:\n",
            "    https://scikit-learn.org/stable/modules/linear_model.html#logistic-regression\n",
            "  extra_warning_msg=_LOGISTIC_SOLVER_CONVERGENCE_MSG)\n",
            "/usr/local/lib/python3.6/dist-packages/sklearn/metrics/_classification.py:1272: UndefinedMetricWarning: Precision and F-score are ill-defined and being set to 0.0 in labels with no predicted samples. Use `zero_division` parameter to control this behavior.\n",
            "  _warn_prf(average, modifier, msg_start, len(result))\n",
            "/usr/local/lib/python3.6/dist-packages/sklearn/linear_model/_logistic.py:940: ConvergenceWarning: lbfgs failed to converge (status=1):\n",
            "STOP: TOTAL NO. of ITERATIONS REACHED LIMIT.\n",
            "\n",
            "Increase the number of iterations (max_iter) or scale the data as shown in:\n",
            "    https://scikit-learn.org/stable/modules/preprocessing.html\n",
            "Please also refer to the documentation for alternative solver options:\n",
            "    https://scikit-learn.org/stable/modules/linear_model.html#logistic-regression\n",
            "  extra_warning_msg=_LOGISTIC_SOLVER_CONVERGENCE_MSG)\n",
            "/usr/local/lib/python3.6/dist-packages/sklearn/metrics/_classification.py:1272: UndefinedMetricWarning: Precision and F-score are ill-defined and being set to 0.0 in labels with no predicted samples. Use `zero_division` parameter to control this behavior.\n",
            "  _warn_prf(average, modifier, msg_start, len(result))\n",
            "/usr/local/lib/python3.6/dist-packages/sklearn/model_selection/_split.py:667: UserWarning: The least populated class in y has only 5 members, which is less than n_splits=7.\n",
            "  % (min_groups, self.n_splits)), UserWarning)\n",
            "/usr/local/lib/python3.6/dist-packages/sklearn/linear_model/_logistic.py:940: ConvergenceWarning: lbfgs failed to converge (status=1):\n",
            "STOP: TOTAL NO. of ITERATIONS REACHED LIMIT.\n",
            "\n",
            "Increase the number of iterations (max_iter) or scale the data as shown in:\n",
            "    https://scikit-learn.org/stable/modules/preprocessing.html\n",
            "Please also refer to the documentation for alternative solver options:\n",
            "    https://scikit-learn.org/stable/modules/linear_model.html#logistic-regression\n",
            "  extra_warning_msg=_LOGISTIC_SOLVER_CONVERGENCE_MSG)\n",
            "/usr/local/lib/python3.6/dist-packages/sklearn/metrics/_classification.py:1272: UndefinedMetricWarning: Precision and F-score are ill-defined and being set to 0.0 in labels with no predicted samples. Use `zero_division` parameter to control this behavior.\n",
            "  _warn_prf(average, modifier, msg_start, len(result))\n",
            "/usr/local/lib/python3.6/dist-packages/sklearn/linear_model/_logistic.py:940: ConvergenceWarning: lbfgs failed to converge (status=1):\n",
            "STOP: TOTAL NO. of ITERATIONS REACHED LIMIT.\n",
            "\n",
            "Increase the number of iterations (max_iter) or scale the data as shown in:\n",
            "    https://scikit-learn.org/stable/modules/preprocessing.html\n",
            "Please also refer to the documentation for alternative solver options:\n",
            "    https://scikit-learn.org/stable/modules/linear_model.html#logistic-regression\n",
            "  extra_warning_msg=_LOGISTIC_SOLVER_CONVERGENCE_MSG)\n",
            "/usr/local/lib/python3.6/dist-packages/sklearn/metrics/_classification.py:1272: UndefinedMetricWarning: Precision and F-score are ill-defined and being set to 0.0 in labels with no predicted samples. Use `zero_division` parameter to control this behavior.\n",
            "  _warn_prf(average, modifier, msg_start, len(result))\n",
            "/usr/local/lib/python3.6/dist-packages/sklearn/linear_model/_logistic.py:940: ConvergenceWarning: lbfgs failed to converge (status=1):\n",
            "STOP: TOTAL NO. of ITERATIONS REACHED LIMIT.\n",
            "\n",
            "Increase the number of iterations (max_iter) or scale the data as shown in:\n",
            "    https://scikit-learn.org/stable/modules/preprocessing.html\n",
            "Please also refer to the documentation for alternative solver options:\n",
            "    https://scikit-learn.org/stable/modules/linear_model.html#logistic-regression\n",
            "  extra_warning_msg=_LOGISTIC_SOLVER_CONVERGENCE_MSG)\n",
            "/usr/local/lib/python3.6/dist-packages/sklearn/metrics/_classification.py:1272: UndefinedMetricWarning: Precision and F-score are ill-defined and being set to 0.0 in labels with no predicted samples. Use `zero_division` parameter to control this behavior.\n",
            "  _warn_prf(average, modifier, msg_start, len(result))\n",
            "/usr/local/lib/python3.6/dist-packages/sklearn/linear_model/_logistic.py:940: ConvergenceWarning: lbfgs failed to converge (status=1):\n",
            "STOP: TOTAL NO. of ITERATIONS REACHED LIMIT.\n",
            "\n",
            "Increase the number of iterations (max_iter) or scale the data as shown in:\n",
            "    https://scikit-learn.org/stable/modules/preprocessing.html\n",
            "Please also refer to the documentation for alternative solver options:\n",
            "    https://scikit-learn.org/stable/modules/linear_model.html#logistic-regression\n",
            "  extra_warning_msg=_LOGISTIC_SOLVER_CONVERGENCE_MSG)\n",
            "/usr/local/lib/python3.6/dist-packages/sklearn/metrics/_classification.py:1272: UndefinedMetricWarning: Precision and F-score are ill-defined and being set to 0.0 in labels with no predicted samples. Use `zero_division` parameter to control this behavior.\n",
            "  _warn_prf(average, modifier, msg_start, len(result))\n",
            "/usr/local/lib/python3.6/dist-packages/sklearn/linear_model/_logistic.py:940: ConvergenceWarning: lbfgs failed to converge (status=1):\n",
            "STOP: TOTAL NO. of ITERATIONS REACHED LIMIT.\n",
            "\n",
            "Increase the number of iterations (max_iter) or scale the data as shown in:\n",
            "    https://scikit-learn.org/stable/modules/preprocessing.html\n",
            "Please also refer to the documentation for alternative solver options:\n",
            "    https://scikit-learn.org/stable/modules/linear_model.html#logistic-regression\n",
            "  extra_warning_msg=_LOGISTIC_SOLVER_CONVERGENCE_MSG)\n",
            "/usr/local/lib/python3.6/dist-packages/sklearn/metrics/_classification.py:1272: UndefinedMetricWarning: Precision and F-score are ill-defined and being set to 0.0 in labels with no predicted samples. Use `zero_division` parameter to control this behavior.\n",
            "  _warn_prf(average, modifier, msg_start, len(result))\n",
            "/usr/local/lib/python3.6/dist-packages/sklearn/linear_model/_logistic.py:940: ConvergenceWarning: lbfgs failed to converge (status=1):\n",
            "STOP: TOTAL NO. of ITERATIONS REACHED LIMIT.\n",
            "\n",
            "Increase the number of iterations (max_iter) or scale the data as shown in:\n",
            "    https://scikit-learn.org/stable/modules/preprocessing.html\n",
            "Please also refer to the documentation for alternative solver options:\n",
            "    https://scikit-learn.org/stable/modules/linear_model.html#logistic-regression\n",
            "  extra_warning_msg=_LOGISTIC_SOLVER_CONVERGENCE_MSG)\n",
            "/usr/local/lib/python3.6/dist-packages/sklearn/metrics/_classification.py:1272: UndefinedMetricWarning: Precision and F-score are ill-defined and being set to 0.0 in labels with no predicted samples. Use `zero_division` parameter to control this behavior.\n",
            "  _warn_prf(average, modifier, msg_start, len(result))\n",
            "/usr/local/lib/python3.6/dist-packages/sklearn/linear_model/_logistic.py:940: ConvergenceWarning: lbfgs failed to converge (status=1):\n",
            "STOP: TOTAL NO. of ITERATIONS REACHED LIMIT.\n",
            "\n",
            "Increase the number of iterations (max_iter) or scale the data as shown in:\n",
            "    https://scikit-learn.org/stable/modules/preprocessing.html\n",
            "Please also refer to the documentation for alternative solver options:\n",
            "    https://scikit-learn.org/stable/modules/linear_model.html#logistic-regression\n",
            "  extra_warning_msg=_LOGISTIC_SOLVER_CONVERGENCE_MSG)\n",
            "/usr/local/lib/python3.6/dist-packages/sklearn/metrics/_classification.py:1272: UndefinedMetricWarning: Precision and F-score are ill-defined and being set to 0.0 in labels with no predicted samples. Use `zero_division` parameter to control this behavior.\n",
            "  _warn_prf(average, modifier, msg_start, len(result))\n",
            "/usr/local/lib/python3.6/dist-packages/sklearn/model_selection/_split.py:667: UserWarning: The least populated class in y has only 5 members, which is less than n_splits=7.\n",
            "  % (min_groups, self.n_splits)), UserWarning)\n",
            "/usr/local/lib/python3.6/dist-packages/sklearn/linear_model/_logistic.py:940: ConvergenceWarning: lbfgs failed to converge (status=1):\n",
            "STOP: TOTAL NO. of ITERATIONS REACHED LIMIT.\n",
            "\n",
            "Increase the number of iterations (max_iter) or scale the data as shown in:\n",
            "    https://scikit-learn.org/stable/modules/preprocessing.html\n",
            "Please also refer to the documentation for alternative solver options:\n",
            "    https://scikit-learn.org/stable/modules/linear_model.html#logistic-regression\n",
            "  extra_warning_msg=_LOGISTIC_SOLVER_CONVERGENCE_MSG)\n",
            "/usr/local/lib/python3.6/dist-packages/sklearn/metrics/_classification.py:1272: UndefinedMetricWarning: Precision and F-score are ill-defined and being set to 0.0 in labels with no predicted samples. Use `zero_division` parameter to control this behavior.\n",
            "  _warn_prf(average, modifier, msg_start, len(result))\n",
            "/usr/local/lib/python3.6/dist-packages/sklearn/linear_model/_logistic.py:940: ConvergenceWarning: lbfgs failed to converge (status=1):\n",
            "STOP: TOTAL NO. of ITERATIONS REACHED LIMIT.\n",
            "\n",
            "Increase the number of iterations (max_iter) or scale the data as shown in:\n",
            "    https://scikit-learn.org/stable/modules/preprocessing.html\n",
            "Please also refer to the documentation for alternative solver options:\n",
            "    https://scikit-learn.org/stable/modules/linear_model.html#logistic-regression\n",
            "  extra_warning_msg=_LOGISTIC_SOLVER_CONVERGENCE_MSG)\n",
            "/usr/local/lib/python3.6/dist-packages/sklearn/metrics/_classification.py:1272: UndefinedMetricWarning: Precision and F-score are ill-defined and being set to 0.0 in labels with no predicted samples. Use `zero_division` parameter to control this behavior.\n",
            "  _warn_prf(average, modifier, msg_start, len(result))\n",
            "/usr/local/lib/python3.6/dist-packages/sklearn/linear_model/_logistic.py:940: ConvergenceWarning: lbfgs failed to converge (status=1):\n",
            "STOP: TOTAL NO. of ITERATIONS REACHED LIMIT.\n",
            "\n",
            "Increase the number of iterations (max_iter) or scale the data as shown in:\n",
            "    https://scikit-learn.org/stable/modules/preprocessing.html\n",
            "Please also refer to the documentation for alternative solver options:\n",
            "    https://scikit-learn.org/stable/modules/linear_model.html#logistic-regression\n",
            "  extra_warning_msg=_LOGISTIC_SOLVER_CONVERGENCE_MSG)\n",
            "/usr/local/lib/python3.6/dist-packages/sklearn/metrics/_classification.py:1272: UndefinedMetricWarning: Precision and F-score are ill-defined and being set to 0.0 in labels with no predicted samples. Use `zero_division` parameter to control this behavior.\n",
            "  _warn_prf(average, modifier, msg_start, len(result))\n",
            "/usr/local/lib/python3.6/dist-packages/sklearn/linear_model/_logistic.py:940: ConvergenceWarning: lbfgs failed to converge (status=1):\n",
            "STOP: TOTAL NO. of ITERATIONS REACHED LIMIT.\n",
            "\n",
            "Increase the number of iterations (max_iter) or scale the data as shown in:\n",
            "    https://scikit-learn.org/stable/modules/preprocessing.html\n",
            "Please also refer to the documentation for alternative solver options:\n",
            "    https://scikit-learn.org/stable/modules/linear_model.html#logistic-regression\n",
            "  extra_warning_msg=_LOGISTIC_SOLVER_CONVERGENCE_MSG)\n",
            "/usr/local/lib/python3.6/dist-packages/sklearn/metrics/_classification.py:1272: UndefinedMetricWarning: Precision and F-score are ill-defined and being set to 0.0 in labels with no predicted samples. Use `zero_division` parameter to control this behavior.\n",
            "  _warn_prf(average, modifier, msg_start, len(result))\n",
            "/usr/local/lib/python3.6/dist-packages/sklearn/linear_model/_logistic.py:940: ConvergenceWarning: lbfgs failed to converge (status=1):\n",
            "STOP: TOTAL NO. of ITERATIONS REACHED LIMIT.\n",
            "\n",
            "Increase the number of iterations (max_iter) or scale the data as shown in:\n",
            "    https://scikit-learn.org/stable/modules/preprocessing.html\n",
            "Please also refer to the documentation for alternative solver options:\n",
            "    https://scikit-learn.org/stable/modules/linear_model.html#logistic-regression\n",
            "  extra_warning_msg=_LOGISTIC_SOLVER_CONVERGENCE_MSG)\n",
            "/usr/local/lib/python3.6/dist-packages/sklearn/metrics/_classification.py:1272: UndefinedMetricWarning: Precision and F-score are ill-defined and being set to 0.0 in labels with no predicted samples. Use `zero_division` parameter to control this behavior.\n",
            "  _warn_prf(average, modifier, msg_start, len(result))\n",
            "/usr/local/lib/python3.6/dist-packages/sklearn/linear_model/_logistic.py:940: ConvergenceWarning: lbfgs failed to converge (status=1):\n",
            "STOP: TOTAL NO. of ITERATIONS REACHED LIMIT.\n",
            "\n",
            "Increase the number of iterations (max_iter) or scale the data as shown in:\n",
            "    https://scikit-learn.org/stable/modules/preprocessing.html\n",
            "Please also refer to the documentation for alternative solver options:\n",
            "    https://scikit-learn.org/stable/modules/linear_model.html#logistic-regression\n",
            "  extra_warning_msg=_LOGISTIC_SOLVER_CONVERGENCE_MSG)\n",
            "/usr/local/lib/python3.6/dist-packages/sklearn/metrics/_classification.py:1272: UndefinedMetricWarning: Precision and F-score are ill-defined and being set to 0.0 in labels with no predicted samples. Use `zero_division` parameter to control this behavior.\n",
            "  _warn_prf(average, modifier, msg_start, len(result))\n",
            "/usr/local/lib/python3.6/dist-packages/sklearn/linear_model/_logistic.py:940: ConvergenceWarning: lbfgs failed to converge (status=1):\n",
            "STOP: TOTAL NO. of ITERATIONS REACHED LIMIT.\n",
            "\n",
            "Increase the number of iterations (max_iter) or scale the data as shown in:\n",
            "    https://scikit-learn.org/stable/modules/preprocessing.html\n",
            "Please also refer to the documentation for alternative solver options:\n",
            "    https://scikit-learn.org/stable/modules/linear_model.html#logistic-regression\n",
            "  extra_warning_msg=_LOGISTIC_SOLVER_CONVERGENCE_MSG)\n",
            "/usr/local/lib/python3.6/dist-packages/sklearn/metrics/_classification.py:1272: UndefinedMetricWarning: Precision and F-score are ill-defined and being set to 0.0 in labels with no predicted samples. Use `zero_division` parameter to control this behavior.\n",
            "  _warn_prf(average, modifier, msg_start, len(result))\n",
            "/usr/local/lib/python3.6/dist-packages/sklearn/model_selection/_split.py:667: UserWarning: The least populated class in y has only 6 members, which is less than n_splits=7.\n",
            "  % (min_groups, self.n_splits)), UserWarning)\n",
            "/usr/local/lib/python3.6/dist-packages/sklearn/linear_model/_logistic.py:940: ConvergenceWarning: lbfgs failed to converge (status=1):\n",
            "STOP: TOTAL NO. of ITERATIONS REACHED LIMIT.\n",
            "\n",
            "Increase the number of iterations (max_iter) or scale the data as shown in:\n",
            "    https://scikit-learn.org/stable/modules/preprocessing.html\n",
            "Please also refer to the documentation for alternative solver options:\n",
            "    https://scikit-learn.org/stable/modules/linear_model.html#logistic-regression\n",
            "  extra_warning_msg=_LOGISTIC_SOLVER_CONVERGENCE_MSG)\n",
            "/usr/local/lib/python3.6/dist-packages/sklearn/metrics/_classification.py:1272: UndefinedMetricWarning: Precision and F-score are ill-defined and being set to 0.0 in labels with no predicted samples. Use `zero_division` parameter to control this behavior.\n",
            "  _warn_prf(average, modifier, msg_start, len(result))\n",
            "/usr/local/lib/python3.6/dist-packages/sklearn/linear_model/_logistic.py:940: ConvergenceWarning: lbfgs failed to converge (status=1):\n",
            "STOP: TOTAL NO. of ITERATIONS REACHED LIMIT.\n",
            "\n",
            "Increase the number of iterations (max_iter) or scale the data as shown in:\n",
            "    https://scikit-learn.org/stable/modules/preprocessing.html\n",
            "Please also refer to the documentation for alternative solver options:\n",
            "    https://scikit-learn.org/stable/modules/linear_model.html#logistic-regression\n",
            "  extra_warning_msg=_LOGISTIC_SOLVER_CONVERGENCE_MSG)\n",
            "/usr/local/lib/python3.6/dist-packages/sklearn/metrics/_classification.py:1272: UndefinedMetricWarning: Precision and F-score are ill-defined and being set to 0.0 in labels with no predicted samples. Use `zero_division` parameter to control this behavior.\n",
            "  _warn_prf(average, modifier, msg_start, len(result))\n",
            "/usr/local/lib/python3.6/dist-packages/sklearn/linear_model/_logistic.py:940: ConvergenceWarning: lbfgs failed to converge (status=1):\n",
            "STOP: TOTAL NO. of ITERATIONS REACHED LIMIT.\n",
            "\n",
            "Increase the number of iterations (max_iter) or scale the data as shown in:\n",
            "    https://scikit-learn.org/stable/modules/preprocessing.html\n",
            "Please also refer to the documentation for alternative solver options:\n",
            "    https://scikit-learn.org/stable/modules/linear_model.html#logistic-regression\n",
            "  extra_warning_msg=_LOGISTIC_SOLVER_CONVERGENCE_MSG)\n",
            "/usr/local/lib/python3.6/dist-packages/sklearn/metrics/_classification.py:1272: UndefinedMetricWarning: Precision and F-score are ill-defined and being set to 0.0 in labels with no predicted samples. Use `zero_division` parameter to control this behavior.\n",
            "  _warn_prf(average, modifier, msg_start, len(result))\n",
            "/usr/local/lib/python3.6/dist-packages/sklearn/linear_model/_logistic.py:940: ConvergenceWarning: lbfgs failed to converge (status=1):\n",
            "STOP: TOTAL NO. of ITERATIONS REACHED LIMIT.\n",
            "\n",
            "Increase the number of iterations (max_iter) or scale the data as shown in:\n",
            "    https://scikit-learn.org/stable/modules/preprocessing.html\n",
            "Please also refer to the documentation for alternative solver options:\n",
            "    https://scikit-learn.org/stable/modules/linear_model.html#logistic-regression\n",
            "  extra_warning_msg=_LOGISTIC_SOLVER_CONVERGENCE_MSG)\n",
            "/usr/local/lib/python3.6/dist-packages/sklearn/metrics/_classification.py:1272: UndefinedMetricWarning: Precision and F-score are ill-defined and being set to 0.0 in labels with no predicted samples. Use `zero_division` parameter to control this behavior.\n",
            "  _warn_prf(average, modifier, msg_start, len(result))\n",
            "/usr/local/lib/python3.6/dist-packages/sklearn/linear_model/_logistic.py:940: ConvergenceWarning: lbfgs failed to converge (status=1):\n",
            "STOP: TOTAL NO. of ITERATIONS REACHED LIMIT.\n",
            "\n",
            "Increase the number of iterations (max_iter) or scale the data as shown in:\n",
            "    https://scikit-learn.org/stable/modules/preprocessing.html\n",
            "Please also refer to the documentation for alternative solver options:\n",
            "    https://scikit-learn.org/stable/modules/linear_model.html#logistic-regression\n",
            "  extra_warning_msg=_LOGISTIC_SOLVER_CONVERGENCE_MSG)\n",
            "/usr/local/lib/python3.6/dist-packages/sklearn/metrics/_classification.py:1272: UndefinedMetricWarning: Precision and F-score are ill-defined and being set to 0.0 in labels with no predicted samples. Use `zero_division` parameter to control this behavior.\n",
            "  _warn_prf(average, modifier, msg_start, len(result))\n",
            "/usr/local/lib/python3.6/dist-packages/sklearn/linear_model/_logistic.py:940: ConvergenceWarning: lbfgs failed to converge (status=1):\n",
            "STOP: TOTAL NO. of ITERATIONS REACHED LIMIT.\n",
            "\n",
            "Increase the number of iterations (max_iter) or scale the data as shown in:\n",
            "    https://scikit-learn.org/stable/modules/preprocessing.html\n",
            "Please also refer to the documentation for alternative solver options:\n",
            "    https://scikit-learn.org/stable/modules/linear_model.html#logistic-regression\n",
            "  extra_warning_msg=_LOGISTIC_SOLVER_CONVERGENCE_MSG)\n",
            "/usr/local/lib/python3.6/dist-packages/sklearn/metrics/_classification.py:1272: UndefinedMetricWarning: Precision and F-score are ill-defined and being set to 0.0 in labels with no predicted samples. Use `zero_division` parameter to control this behavior.\n",
            "  _warn_prf(average, modifier, msg_start, len(result))\n",
            "/usr/local/lib/python3.6/dist-packages/sklearn/linear_model/_logistic.py:940: ConvergenceWarning: lbfgs failed to converge (status=1):\n",
            "STOP: TOTAL NO. of ITERATIONS REACHED LIMIT.\n",
            "\n",
            "Increase the number of iterations (max_iter) or scale the data as shown in:\n",
            "    https://scikit-learn.org/stable/modules/preprocessing.html\n",
            "Please also refer to the documentation for alternative solver options:\n",
            "    https://scikit-learn.org/stable/modules/linear_model.html#logistic-regression\n",
            "  extra_warning_msg=_LOGISTIC_SOLVER_CONVERGENCE_MSG)\n",
            "/usr/local/lib/python3.6/dist-packages/sklearn/metrics/_classification.py:1272: UndefinedMetricWarning: Precision and F-score are ill-defined and being set to 0.0 in labels with no predicted samples. Use `zero_division` parameter to control this behavior.\n",
            "  _warn_prf(average, modifier, msg_start, len(result))\n",
            "/usr/local/lib/python3.6/dist-packages/sklearn/model_selection/_split.py:667: UserWarning: The least populated class in y has only 6 members, which is less than n_splits=7.\n",
            "  % (min_groups, self.n_splits)), UserWarning)\n",
            "/usr/local/lib/python3.6/dist-packages/sklearn/linear_model/_logistic.py:940: ConvergenceWarning: lbfgs failed to converge (status=1):\n",
            "STOP: TOTAL NO. of ITERATIONS REACHED LIMIT.\n",
            "\n",
            "Increase the number of iterations (max_iter) or scale the data as shown in:\n",
            "    https://scikit-learn.org/stable/modules/preprocessing.html\n",
            "Please also refer to the documentation for alternative solver options:\n",
            "    https://scikit-learn.org/stable/modules/linear_model.html#logistic-regression\n",
            "  extra_warning_msg=_LOGISTIC_SOLVER_CONVERGENCE_MSG)\n",
            "/usr/local/lib/python3.6/dist-packages/sklearn/metrics/_classification.py:1272: UndefinedMetricWarning: Precision and F-score are ill-defined and being set to 0.0 in labels with no predicted samples. Use `zero_division` parameter to control this behavior.\n",
            "  _warn_prf(average, modifier, msg_start, len(result))\n",
            "/usr/local/lib/python3.6/dist-packages/sklearn/linear_model/_logistic.py:940: ConvergenceWarning: lbfgs failed to converge (status=1):\n",
            "STOP: TOTAL NO. of ITERATIONS REACHED LIMIT.\n",
            "\n",
            "Increase the number of iterations (max_iter) or scale the data as shown in:\n",
            "    https://scikit-learn.org/stable/modules/preprocessing.html\n",
            "Please also refer to the documentation for alternative solver options:\n",
            "    https://scikit-learn.org/stable/modules/linear_model.html#logistic-regression\n",
            "  extra_warning_msg=_LOGISTIC_SOLVER_CONVERGENCE_MSG)\n",
            "/usr/local/lib/python3.6/dist-packages/sklearn/metrics/_classification.py:1272: UndefinedMetricWarning: Precision and F-score are ill-defined and being set to 0.0 in labels with no predicted samples. Use `zero_division` parameter to control this behavior.\n",
            "  _warn_prf(average, modifier, msg_start, len(result))\n",
            "/usr/local/lib/python3.6/dist-packages/sklearn/linear_model/_logistic.py:940: ConvergenceWarning: lbfgs failed to converge (status=1):\n",
            "STOP: TOTAL NO. of ITERATIONS REACHED LIMIT.\n",
            "\n",
            "Increase the number of iterations (max_iter) or scale the data as shown in:\n",
            "    https://scikit-learn.org/stable/modules/preprocessing.html\n",
            "Please also refer to the documentation for alternative solver options:\n",
            "    https://scikit-learn.org/stable/modules/linear_model.html#logistic-regression\n",
            "  extra_warning_msg=_LOGISTIC_SOLVER_CONVERGENCE_MSG)\n",
            "/usr/local/lib/python3.6/dist-packages/sklearn/metrics/_classification.py:1272: UndefinedMetricWarning: Precision and F-score are ill-defined and being set to 0.0 in labels with no predicted samples. Use `zero_division` parameter to control this behavior.\n",
            "  _warn_prf(average, modifier, msg_start, len(result))\n",
            "/usr/local/lib/python3.6/dist-packages/sklearn/linear_model/_logistic.py:940: ConvergenceWarning: lbfgs failed to converge (status=1):\n",
            "STOP: TOTAL NO. of ITERATIONS REACHED LIMIT.\n",
            "\n",
            "Increase the number of iterations (max_iter) or scale the data as shown in:\n",
            "    https://scikit-learn.org/stable/modules/preprocessing.html\n",
            "Please also refer to the documentation for alternative solver options:\n",
            "    https://scikit-learn.org/stable/modules/linear_model.html#logistic-regression\n",
            "  extra_warning_msg=_LOGISTIC_SOLVER_CONVERGENCE_MSG)\n",
            "/usr/local/lib/python3.6/dist-packages/sklearn/metrics/_classification.py:1272: UndefinedMetricWarning: Precision and F-score are ill-defined and being set to 0.0 in labels with no predicted samples. Use `zero_division` parameter to control this behavior.\n",
            "  _warn_prf(average, modifier, msg_start, len(result))\n",
            "/usr/local/lib/python3.6/dist-packages/sklearn/linear_model/_logistic.py:940: ConvergenceWarning: lbfgs failed to converge (status=1):\n",
            "STOP: TOTAL NO. of ITERATIONS REACHED LIMIT.\n",
            "\n",
            "Increase the number of iterations (max_iter) or scale the data as shown in:\n",
            "    https://scikit-learn.org/stable/modules/preprocessing.html\n",
            "Please also refer to the documentation for alternative solver options:\n",
            "    https://scikit-learn.org/stable/modules/linear_model.html#logistic-regression\n",
            "  extra_warning_msg=_LOGISTIC_SOLVER_CONVERGENCE_MSG)\n",
            "/usr/local/lib/python3.6/dist-packages/sklearn/metrics/_classification.py:1272: UndefinedMetricWarning: Precision and F-score are ill-defined and being set to 0.0 in labels with no predicted samples. Use `zero_division` parameter to control this behavior.\n",
            "  _warn_prf(average, modifier, msg_start, len(result))\n",
            "/usr/local/lib/python3.6/dist-packages/sklearn/linear_model/_logistic.py:940: ConvergenceWarning: lbfgs failed to converge (status=1):\n",
            "STOP: TOTAL NO. of ITERATIONS REACHED LIMIT.\n",
            "\n",
            "Increase the number of iterations (max_iter) or scale the data as shown in:\n",
            "    https://scikit-learn.org/stable/modules/preprocessing.html\n",
            "Please also refer to the documentation for alternative solver options:\n",
            "    https://scikit-learn.org/stable/modules/linear_model.html#logistic-regression\n",
            "  extra_warning_msg=_LOGISTIC_SOLVER_CONVERGENCE_MSG)\n",
            "/usr/local/lib/python3.6/dist-packages/sklearn/metrics/_classification.py:1272: UndefinedMetricWarning: Precision and F-score are ill-defined and being set to 0.0 in labels with no predicted samples. Use `zero_division` parameter to control this behavior.\n",
            "  _warn_prf(average, modifier, msg_start, len(result))\n",
            "/usr/local/lib/python3.6/dist-packages/sklearn/linear_model/_logistic.py:940: ConvergenceWarning: lbfgs failed to converge (status=1):\n",
            "STOP: TOTAL NO. of ITERATIONS REACHED LIMIT.\n",
            "\n",
            "Increase the number of iterations (max_iter) or scale the data as shown in:\n",
            "    https://scikit-learn.org/stable/modules/preprocessing.html\n",
            "Please also refer to the documentation for alternative solver options:\n",
            "    https://scikit-learn.org/stable/modules/linear_model.html#logistic-regression\n",
            "  extra_warning_msg=_LOGISTIC_SOLVER_CONVERGENCE_MSG)\n",
            "/usr/local/lib/python3.6/dist-packages/sklearn/metrics/_classification.py:1272: UndefinedMetricWarning: Precision and F-score are ill-defined and being set to 0.0 in labels with no predicted samples. Use `zero_division` parameter to control this behavior.\n",
            "  _warn_prf(average, modifier, msg_start, len(result))\n"
          ],
          "name": "stderr"
        }
      ]
    },
    {
      "cell_type": "code",
      "metadata": {
        "id": "SSOKwVxLXN7r",
        "colab_type": "code",
        "outputId": "696dce3d-190b-4d62-fb17-4dd13bcaa78b",
        "colab": {
          "base_uri": "https://localhost:8080/",
          "height": 1000
        }
      },
      "source": [
        "print('20% augmentation')\n",
        "print(scores_lr_1.mean())\n",
        "print('\\n50% augmentation')\n",
        "print(scores_lr_2.mean())\n",
        "print('\\n80% augmentation')\n",
        "print(scores_lr_3.mean())\n",
        "print('\\n100% augmentation')\n",
        "print(scores_lr_4.mean())\n",
        "print('\\n120% augmentation')\n",
        "print(scores_lr_5.mean())\n",
        "print('\\n150% augmentation')\n",
        "print(scores_lr_6.mean())\n",
        "print('\\n180% augmentation')\n",
        "print(scores_lr_7.mean())\n",
        "print('\\n200% augmentation')\n",
        "print(scores_lr_8.mean())"
      ],
      "execution_count": 0,
      "outputs": [
        {
          "output_type": "stream",
          "text": [
            "20% augmentation\n",
            "accuracy             0.312789\n",
            "precision            0.279192\n",
            "recall               0.312789\n",
            "f1                   0.255554\n",
            "cohen_kappa_score    0.119206\n",
            "auc                  0.559192\n",
            "dtype: float64\n",
            "\n",
            "50% augmentation\n",
            "accuracy             0.324407\n",
            "precision            0.287521\n",
            "recall               0.324407\n",
            "f1                   0.265791\n",
            "cohen_kappa_score    0.132561\n",
            "auc                  0.565877\n",
            "dtype: float64\n",
            "\n",
            "80% augmentation\n",
            "accuracy             0.316513\n",
            "precision            0.300673\n",
            "recall               0.316513\n",
            "f1                   0.262825\n",
            "cohen_kappa_score    0.126807\n",
            "auc                  0.562876\n",
            "dtype: float64\n",
            "\n",
            "100% augmentation\n",
            "accuracy             0.322543\n",
            "precision            0.290624\n",
            "recall               0.322543\n",
            "f1                   0.264581\n",
            "cohen_kappa_score    0.133677\n",
            "auc                  0.566355\n",
            "dtype: float64\n",
            "\n",
            "120% augmentation\n",
            "accuracy             0.342189\n",
            "precision            0.311295\n",
            "recall               0.342189\n",
            "f1                   0.287298\n",
            "cohen_kappa_score    0.159309\n",
            "auc                  0.579034\n",
            "dtype: float64\n",
            "\n",
            "150% augmentation\n",
            "accuracy             0.366206\n",
            "precision            0.357705\n",
            "recall               0.366206\n",
            "f1                   0.315713\n",
            "cohen_kappa_score    0.189845\n",
            "auc                  0.593930\n",
            "dtype: float64\n",
            "\n",
            "180% augmentation\n",
            "accuracy             0.384306\n",
            "precision            0.368861\n",
            "recall               0.384306\n",
            "f1                   0.333716\n",
            "cohen_kappa_score    0.216147\n",
            "auc                  0.607117\n",
            "dtype: float64\n",
            "\n",
            "200% augmentation\n",
            "accuracy             0.272768\n",
            "precision            0.234973\n",
            "recall               0.272768\n",
            "f1                   0.230563\n",
            "cohen_kappa_score    0.074548\n",
            "auc                  0.537057\n",
            "dtype: float64\n"
          ],
          "name": "stdout"
        }
      ]
    }
  ]
}