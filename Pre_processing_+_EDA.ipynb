{
  "nbformat": 4,
  "nbformat_minor": 0,
  "metadata": {
    "kernelspec": {
      "name": "python3",
      "display_name": "Python 3"
    },
    "language_info": {
      "codemirror_mode": {
        "name": "ipython",
        "version": 3
      },
      "file_extension": ".py",
      "mimetype": "text/x-python",
      "name": "python",
      "nbconvert_exporter": "python",
      "pygments_lexer": "ipython3",
      "version": "3.7.6"
    },
    "colab": {
      "name": "Pre-processing + EDA.ipynb",
      "provenance": [],
      "collapsed_sections": [],
      "toc_visible": true,
      "machine_shape": "hm",
      "include_colab_link": true
    },
    "accelerator": "GPU"
  },
  "cells": [
    {
      "cell_type": "markdown",
      "metadata": {
        "id": "view-in-github",
        "colab_type": "text"
      },
      "source": [
        "<a href=\"https://colab.research.google.com/github/jianning1/Capstone-Project/blob/master/Pre_processing_%2B_EDA.ipynb\" target=\"_parent\"><img src=\"https://colab.research.google.com/assets/colab-badge.svg\" alt=\"Open In Colab\"/></a>"
      ]
    },
    {
      "cell_type": "markdown",
      "metadata": {
        "id": "iSn7U3RK0P_J",
        "colab_type": "text"
      },
      "source": [
        "# Import Python Libaries"
      ]
    },
    {
      "cell_type": "code",
      "metadata": {
        "id": "2roAI7G-lI-o",
        "colab_type": "code",
        "outputId": "015e3e46-ef74-4aaa-d0f7-3c1821b3bb4c",
        "colab": {
          "base_uri": "https://localhost:8080/",
          "height": 1000
        }
      },
      "source": [
        "import pandas as pd\n",
        "import matplotlib.pyplot as plt\n",
        "import seaborn as sns\n",
        "%matplotlib inline\n",
        "import re\n",
        "import string\n",
        "import spacy \n",
        "import os\n",
        "import sys\n",
        "import numpy as np\n",
        "\n",
        "nlp = spacy.load('en', disable=['ner', 'parser'])\n",
        "import nltk\n",
        "from nltk.stem.snowball import SnowballStemmer\n",
        "from scipy import stats\n",
        "\n",
        "from time import time\n",
        "from collections import defaultdict\n",
        "import gc\n",
        "import io\n",
        "import random\n",
        "\n",
        "from __future__ import print_function, division\n",
        "from builtins import range\n",
        "import os\n",
        "import sys\n",
        "import numpy as np\n",
        "import operator\n",
        "\n",
        "import nltk\n",
        "nltk.download('all')\n",
        "from nltk.corpus import wordnet\n",
        "from nltk.tokenize import word_tokenize\n",
        "\n",
        "\n",
        "import keras\n",
        "from keras.models import Model, Sequential\n",
        "from keras.layers import Dense, Embedding, Input\n",
        "from keras.layers import LSTM, Bidirectional, GlobalMaxPooling1D, Dropout, Conv1D, GRU, Layer\n",
        "from keras.preprocessing.text import Tokenizer\n",
        "from keras.preprocessing.sequence import pad_sequences\n",
        "from keras.optimizers import Adam, SGD\n",
        "from sklearn.metrics import roc_auc_score\n",
        "import keras.backend as K\n",
        "from keras.layers import CuDNNLSTM as LSTM\n",
        "from keras.models import load_model\n",
        "from keras.callbacks import EarlyStopping\n",
        "from keras.callbacks import ModelCheckpoint\n",
        "\n",
        "from keras import metrics\n",
        "from tensorflow.python.keras.metrics import Metric\n",
        "\n",
        "\n",
        "from sklearn.feature_extraction.text import TfidfVectorizer\n",
        "from sklearn.naive_bayes import MultinomialNB\n",
        "from sklearn.svm import LinearSVC\n",
        "from sklearn import metrics\n",
        "from sklearn.model_selection import train_test_split, StratifiedKFold, KFold\n",
        "from sklearn.utils import shuffle\n",
        "\n",
        "from imblearn.over_sampling import RandomOverSampler\n",
        "from imblearn.pipeline import Pipeline\n",
        "\n"
      ],
      "execution_count": 0,
      "outputs": [
        {
          "output_type": "stream",
          "text": [
            "/usr/local/lib/python3.6/dist-packages/statsmodels/tools/_testing.py:19: FutureWarning: pandas.util.testing is deprecated. Use the functions in the public API at pandas.testing instead.\n",
            "  import pandas.util.testing as tm\n"
          ],
          "name": "stderr"
        },
        {
          "output_type": "stream",
          "text": [
            "[nltk_data] Downloading collection 'all'\n",
            "[nltk_data]    | \n",
            "[nltk_data]    | Downloading package abc to /root/nltk_data...\n",
            "[nltk_data]    |   Package abc is already up-to-date!\n",
            "[nltk_data]    | Downloading package alpino to /root/nltk_data...\n",
            "[nltk_data]    |   Package alpino is already up-to-date!\n",
            "[nltk_data]    | Downloading package biocreative_ppi to\n",
            "[nltk_data]    |     /root/nltk_data...\n",
            "[nltk_data]    |   Package biocreative_ppi is already up-to-date!\n",
            "[nltk_data]    | Downloading package brown to /root/nltk_data...\n",
            "[nltk_data]    |   Package brown is already up-to-date!\n",
            "[nltk_data]    | Downloading package brown_tei to /root/nltk_data...\n",
            "[nltk_data]    |   Package brown_tei is already up-to-date!\n",
            "[nltk_data]    | Downloading package cess_cat to /root/nltk_data...\n",
            "[nltk_data]    |   Package cess_cat is already up-to-date!\n",
            "[nltk_data]    | Downloading package cess_esp to /root/nltk_data...\n",
            "[nltk_data]    |   Package cess_esp is already up-to-date!\n",
            "[nltk_data]    | Downloading package chat80 to /root/nltk_data...\n",
            "[nltk_data]    |   Package chat80 is already up-to-date!\n",
            "[nltk_data]    | Downloading package city_database to\n",
            "[nltk_data]    |     /root/nltk_data...\n",
            "[nltk_data]    |   Package city_database is already up-to-date!\n",
            "[nltk_data]    | Downloading package cmudict to /root/nltk_data...\n",
            "[nltk_data]    |   Package cmudict is already up-to-date!\n",
            "[nltk_data]    | Downloading package comparative_sentences to\n",
            "[nltk_data]    |     /root/nltk_data...\n",
            "[nltk_data]    |   Package comparative_sentences is already up-to-\n",
            "[nltk_data]    |       date!\n",
            "[nltk_data]    | Downloading package comtrans to /root/nltk_data...\n",
            "[nltk_data]    |   Package comtrans is already up-to-date!\n",
            "[nltk_data]    | Downloading package conll2000 to /root/nltk_data...\n",
            "[nltk_data]    |   Package conll2000 is already up-to-date!\n",
            "[nltk_data]    | Downloading package conll2002 to /root/nltk_data...\n",
            "[nltk_data]    |   Package conll2002 is already up-to-date!\n",
            "[nltk_data]    | Downloading package conll2007 to /root/nltk_data...\n",
            "[nltk_data]    |   Package conll2007 is already up-to-date!\n",
            "[nltk_data]    | Downloading package crubadan to /root/nltk_data...\n",
            "[nltk_data]    |   Package crubadan is already up-to-date!\n",
            "[nltk_data]    | Downloading package dependency_treebank to\n",
            "[nltk_data]    |     /root/nltk_data...\n",
            "[nltk_data]    |   Package dependency_treebank is already up-to-date!\n",
            "[nltk_data]    | Downloading package dolch to /root/nltk_data...\n",
            "[nltk_data]    |   Package dolch is already up-to-date!\n",
            "[nltk_data]    | Downloading package europarl_raw to\n",
            "[nltk_data]    |     /root/nltk_data...\n",
            "[nltk_data]    |   Package europarl_raw is already up-to-date!\n",
            "[nltk_data]    | Downloading package floresta to /root/nltk_data...\n",
            "[nltk_data]    |   Package floresta is already up-to-date!\n",
            "[nltk_data]    | Downloading package framenet_v15 to\n",
            "[nltk_data]    |     /root/nltk_data...\n",
            "[nltk_data]    |   Package framenet_v15 is already up-to-date!\n",
            "[nltk_data]    | Downloading package framenet_v17 to\n",
            "[nltk_data]    |     /root/nltk_data...\n",
            "[nltk_data]    |   Package framenet_v17 is already up-to-date!\n",
            "[nltk_data]    | Downloading package gazetteers to /root/nltk_data...\n",
            "[nltk_data]    |   Package gazetteers is already up-to-date!\n",
            "[nltk_data]    | Downloading package genesis to /root/nltk_data...\n",
            "[nltk_data]    |   Package genesis is already up-to-date!\n",
            "[nltk_data]    | Downloading package gutenberg to /root/nltk_data...\n",
            "[nltk_data]    |   Package gutenberg is already up-to-date!\n",
            "[nltk_data]    | Downloading package ieer to /root/nltk_data...\n",
            "[nltk_data]    |   Package ieer is already up-to-date!\n",
            "[nltk_data]    | Downloading package inaugural to /root/nltk_data...\n",
            "[nltk_data]    |   Package inaugural is already up-to-date!\n",
            "[nltk_data]    | Downloading package indian to /root/nltk_data...\n",
            "[nltk_data]    |   Package indian is already up-to-date!\n",
            "[nltk_data]    | Downloading package jeita to /root/nltk_data...\n",
            "[nltk_data]    |   Package jeita is already up-to-date!\n",
            "[nltk_data]    | Downloading package kimmo to /root/nltk_data...\n",
            "[nltk_data]    |   Package kimmo is already up-to-date!\n",
            "[nltk_data]    | Downloading package knbc to /root/nltk_data...\n",
            "[nltk_data]    |   Package knbc is already up-to-date!\n",
            "[nltk_data]    | Downloading package lin_thesaurus to\n",
            "[nltk_data]    |     /root/nltk_data...\n",
            "[nltk_data]    |   Package lin_thesaurus is already up-to-date!\n",
            "[nltk_data]    | Downloading package mac_morpho to /root/nltk_data...\n",
            "[nltk_data]    |   Package mac_morpho is already up-to-date!\n",
            "[nltk_data]    | Downloading package machado to /root/nltk_data...\n",
            "[nltk_data]    |   Package machado is already up-to-date!\n",
            "[nltk_data]    | Downloading package masc_tagged to /root/nltk_data...\n",
            "[nltk_data]    |   Package masc_tagged is already up-to-date!\n",
            "[nltk_data]    | Downloading package moses_sample to\n",
            "[nltk_data]    |     /root/nltk_data...\n",
            "[nltk_data]    |   Package moses_sample is already up-to-date!\n",
            "[nltk_data]    | Downloading package movie_reviews to\n",
            "[nltk_data]    |     /root/nltk_data...\n",
            "[nltk_data]    |   Package movie_reviews is already up-to-date!\n",
            "[nltk_data]    | Downloading package names to /root/nltk_data...\n",
            "[nltk_data]    |   Package names is already up-to-date!\n",
            "[nltk_data]    | Downloading package nombank.1.0 to /root/nltk_data...\n",
            "[nltk_data]    |   Package nombank.1.0 is already up-to-date!\n",
            "[nltk_data]    | Downloading package nps_chat to /root/nltk_data...\n",
            "[nltk_data]    |   Package nps_chat is already up-to-date!\n",
            "[nltk_data]    | Downloading package omw to /root/nltk_data...\n",
            "[nltk_data]    |   Package omw is already up-to-date!\n",
            "[nltk_data]    | Downloading package opinion_lexicon to\n",
            "[nltk_data]    |     /root/nltk_data...\n",
            "[nltk_data]    |   Package opinion_lexicon is already up-to-date!\n",
            "[nltk_data]    | Downloading package paradigms to /root/nltk_data...\n",
            "[nltk_data]    |   Package paradigms is already up-to-date!\n",
            "[nltk_data]    | Downloading package pil to /root/nltk_data...\n",
            "[nltk_data]    |   Package pil is already up-to-date!\n",
            "[nltk_data]    | Downloading package pl196x to /root/nltk_data...\n",
            "[nltk_data]    |   Package pl196x is already up-to-date!\n",
            "[nltk_data]    | Downloading package ppattach to /root/nltk_data...\n",
            "[nltk_data]    |   Package ppattach is already up-to-date!\n",
            "[nltk_data]    | Downloading package problem_reports to\n",
            "[nltk_data]    |     /root/nltk_data...\n",
            "[nltk_data]    |   Package problem_reports is already up-to-date!\n",
            "[nltk_data]    | Downloading package propbank to /root/nltk_data...\n",
            "[nltk_data]    |   Package propbank is already up-to-date!\n",
            "[nltk_data]    | Downloading package ptb to /root/nltk_data...\n",
            "[nltk_data]    |   Package ptb is already up-to-date!\n",
            "[nltk_data]    | Downloading package product_reviews_1 to\n",
            "[nltk_data]    |     /root/nltk_data...\n",
            "[nltk_data]    |   Package product_reviews_1 is already up-to-date!\n",
            "[nltk_data]    | Downloading package product_reviews_2 to\n",
            "[nltk_data]    |     /root/nltk_data...\n",
            "[nltk_data]    |   Package product_reviews_2 is already up-to-date!\n",
            "[nltk_data]    | Downloading package pros_cons to /root/nltk_data...\n",
            "[nltk_data]    |   Package pros_cons is already up-to-date!\n",
            "[nltk_data]    | Downloading package qc to /root/nltk_data...\n",
            "[nltk_data]    |   Package qc is already up-to-date!\n",
            "[nltk_data]    | Downloading package reuters to /root/nltk_data...\n",
            "[nltk_data]    |   Package reuters is already up-to-date!\n",
            "[nltk_data]    | Downloading package rte to /root/nltk_data...\n",
            "[nltk_data]    |   Package rte is already up-to-date!\n",
            "[nltk_data]    | Downloading package semcor to /root/nltk_data...\n",
            "[nltk_data]    |   Package semcor is already up-to-date!\n",
            "[nltk_data]    | Downloading package senseval to /root/nltk_data...\n",
            "[nltk_data]    |   Package senseval is already up-to-date!\n",
            "[nltk_data]    | Downloading package sentiwordnet to\n",
            "[nltk_data]    |     /root/nltk_data...\n",
            "[nltk_data]    |   Package sentiwordnet is already up-to-date!\n",
            "[nltk_data]    | Downloading package sentence_polarity to\n",
            "[nltk_data]    |     /root/nltk_data...\n",
            "[nltk_data]    |   Package sentence_polarity is already up-to-date!\n",
            "[nltk_data]    | Downloading package shakespeare to /root/nltk_data...\n",
            "[nltk_data]    |   Package shakespeare is already up-to-date!\n",
            "[nltk_data]    | Downloading package sinica_treebank to\n",
            "[nltk_data]    |     /root/nltk_data...\n",
            "[nltk_data]    |   Package sinica_treebank is already up-to-date!\n",
            "[nltk_data]    | Downloading package smultron to /root/nltk_data...\n",
            "[nltk_data]    |   Package smultron is already up-to-date!\n",
            "[nltk_data]    | Downloading package state_union to /root/nltk_data...\n",
            "[nltk_data]    |   Package state_union is already up-to-date!\n",
            "[nltk_data]    | Downloading package stopwords to /root/nltk_data...\n",
            "[nltk_data]    |   Package stopwords is already up-to-date!\n",
            "[nltk_data]    | Downloading package subjectivity to\n",
            "[nltk_data]    |     /root/nltk_data...\n",
            "[nltk_data]    |   Package subjectivity is already up-to-date!\n",
            "[nltk_data]    | Downloading package swadesh to /root/nltk_data...\n",
            "[nltk_data]    |   Package swadesh is already up-to-date!\n",
            "[nltk_data]    | Downloading package switchboard to /root/nltk_data...\n",
            "[nltk_data]    |   Package switchboard is already up-to-date!\n",
            "[nltk_data]    | Downloading package timit to /root/nltk_data...\n",
            "[nltk_data]    |   Package timit is already up-to-date!\n",
            "[nltk_data]    | Downloading package toolbox to /root/nltk_data...\n",
            "[nltk_data]    |   Package toolbox is already up-to-date!\n",
            "[nltk_data]    | Downloading package treebank to /root/nltk_data...\n",
            "[nltk_data]    |   Package treebank is already up-to-date!\n",
            "[nltk_data]    | Downloading package twitter_samples to\n",
            "[nltk_data]    |     /root/nltk_data...\n",
            "[nltk_data]    |   Package twitter_samples is already up-to-date!\n",
            "[nltk_data]    | Downloading package udhr to /root/nltk_data...\n",
            "[nltk_data]    |   Package udhr is already up-to-date!\n",
            "[nltk_data]    | Downloading package udhr2 to /root/nltk_data...\n",
            "[nltk_data]    |   Package udhr2 is already up-to-date!\n",
            "[nltk_data]    | Downloading package unicode_samples to\n",
            "[nltk_data]    |     /root/nltk_data...\n",
            "[nltk_data]    |   Package unicode_samples is already up-to-date!\n",
            "[nltk_data]    | Downloading package universal_treebanks_v20 to\n",
            "[nltk_data]    |     /root/nltk_data...\n",
            "[nltk_data]    |   Package universal_treebanks_v20 is already up-to-\n",
            "[nltk_data]    |       date!\n",
            "[nltk_data]    | Downloading package verbnet to /root/nltk_data...\n",
            "[nltk_data]    |   Package verbnet is already up-to-date!\n",
            "[nltk_data]    | Downloading package verbnet3 to /root/nltk_data...\n",
            "[nltk_data]    |   Package verbnet3 is already up-to-date!\n",
            "[nltk_data]    | Downloading package webtext to /root/nltk_data...\n",
            "[nltk_data]    |   Package webtext is already up-to-date!\n",
            "[nltk_data]    | Downloading package wordnet to /root/nltk_data...\n",
            "[nltk_data]    |   Package wordnet is already up-to-date!\n",
            "[nltk_data]    | Downloading package wordnet_ic to /root/nltk_data...\n",
            "[nltk_data]    |   Package wordnet_ic is already up-to-date!\n",
            "[nltk_data]    | Downloading package words to /root/nltk_data...\n",
            "[nltk_data]    |   Package words is already up-to-date!\n",
            "[nltk_data]    | Downloading package ycoe to /root/nltk_data...\n",
            "[nltk_data]    |   Package ycoe is already up-to-date!\n",
            "[nltk_data]    | Downloading package rslp to /root/nltk_data...\n",
            "[nltk_data]    |   Package rslp is already up-to-date!\n",
            "[nltk_data]    | Downloading package maxent_treebank_pos_tagger to\n",
            "[nltk_data]    |     /root/nltk_data...\n",
            "[nltk_data]    |   Package maxent_treebank_pos_tagger is already up-\n",
            "[nltk_data]    |       to-date!\n",
            "[nltk_data]    | Downloading package universal_tagset to\n",
            "[nltk_data]    |     /root/nltk_data...\n",
            "[nltk_data]    |   Package universal_tagset is already up-to-date!\n",
            "[nltk_data]    | Downloading package maxent_ne_chunker to\n",
            "[nltk_data]    |     /root/nltk_data...\n",
            "[nltk_data]    |   Package maxent_ne_chunker is already up-to-date!\n",
            "[nltk_data]    | Downloading package punkt to /root/nltk_data...\n",
            "[nltk_data]    |   Package punkt is already up-to-date!\n",
            "[nltk_data]    | Downloading package book_grammars to\n",
            "[nltk_data]    |     /root/nltk_data...\n",
            "[nltk_data]    |   Package book_grammars is already up-to-date!\n",
            "[nltk_data]    | Downloading package sample_grammars to\n",
            "[nltk_data]    |     /root/nltk_data...\n",
            "[nltk_data]    |   Package sample_grammars is already up-to-date!\n",
            "[nltk_data]    | Downloading package spanish_grammars to\n",
            "[nltk_data]    |     /root/nltk_data...\n",
            "[nltk_data]    |   Package spanish_grammars is already up-to-date!\n",
            "[nltk_data]    | Downloading package basque_grammars to\n",
            "[nltk_data]    |     /root/nltk_data...\n",
            "[nltk_data]    |   Package basque_grammars is already up-to-date!\n",
            "[nltk_data]    | Downloading package large_grammars to\n",
            "[nltk_data]    |     /root/nltk_data...\n",
            "[nltk_data]    |   Package large_grammars is already up-to-date!\n",
            "[nltk_data]    | Downloading package tagsets to /root/nltk_data...\n",
            "[nltk_data]    |   Package tagsets is already up-to-date!\n",
            "[nltk_data]    | Downloading package snowball_data to\n",
            "[nltk_data]    |     /root/nltk_data...\n",
            "[nltk_data]    |   Package snowball_data is already up-to-date!\n",
            "[nltk_data]    | Downloading package bllip_wsj_no_aux to\n",
            "[nltk_data]    |     /root/nltk_data...\n",
            "[nltk_data]    |   Package bllip_wsj_no_aux is already up-to-date!\n",
            "[nltk_data]    | Downloading package word2vec_sample to\n",
            "[nltk_data]    |     /root/nltk_data...\n",
            "[nltk_data]    |   Package word2vec_sample is already up-to-date!\n",
            "[nltk_data]    | Downloading package panlex_swadesh to\n",
            "[nltk_data]    |     /root/nltk_data...\n",
            "[nltk_data]    |   Package panlex_swadesh is already up-to-date!\n",
            "[nltk_data]    | Downloading package mte_teip5 to /root/nltk_data...\n",
            "[nltk_data]    |   Package mte_teip5 is already up-to-date!\n",
            "[nltk_data]    | Downloading package averaged_perceptron_tagger to\n",
            "[nltk_data]    |     /root/nltk_data...\n",
            "[nltk_data]    |   Package averaged_perceptron_tagger is already up-\n",
            "[nltk_data]    |       to-date!\n",
            "[nltk_data]    | Downloading package averaged_perceptron_tagger_ru to\n",
            "[nltk_data]    |     /root/nltk_data...\n",
            "[nltk_data]    |   Package averaged_perceptron_tagger_ru is already\n",
            "[nltk_data]    |       up-to-date!\n",
            "[nltk_data]    | Downloading package perluniprops to\n",
            "[nltk_data]    |     /root/nltk_data...\n",
            "[nltk_data]    |   Package perluniprops is already up-to-date!\n",
            "[nltk_data]    | Downloading package nonbreaking_prefixes to\n",
            "[nltk_data]    |     /root/nltk_data...\n",
            "[nltk_data]    |   Package nonbreaking_prefixes is already up-to-date!\n",
            "[nltk_data]    | Downloading package vader_lexicon to\n",
            "[nltk_data]    |     /root/nltk_data...\n",
            "[nltk_data]    |   Package vader_lexicon is already up-to-date!\n",
            "[nltk_data]    | Downloading package porter_test to /root/nltk_data...\n",
            "[nltk_data]    |   Package porter_test is already up-to-date!\n",
            "[nltk_data]    | Downloading package wmt15_eval to /root/nltk_data...\n",
            "[nltk_data]    |   Package wmt15_eval is already up-to-date!\n",
            "[nltk_data]    | Downloading package mwa_ppdb to /root/nltk_data...\n",
            "[nltk_data]    |   Package mwa_ppdb is already up-to-date!\n",
            "[nltk_data]    | \n",
            "[nltk_data]  Done downloading collection all\n"
          ],
          "name": "stdout"
        },
        {
          "output_type": "stream",
          "text": [
            "Using TensorFlow backend.\n",
            "/usr/local/lib/python3.6/dist-packages/sklearn/externals/six.py:31: FutureWarning: The module is deprecated in version 0.21 and will be removed in version 0.23 since we've dropped support for Python 2.7. Please rely on the official version of six (https://pypi.org/project/six/).\n",
            "  \"(https://pypi.org/project/six/).\", FutureWarning)\n",
            "/usr/local/lib/python3.6/dist-packages/sklearn/utils/deprecation.py:144: FutureWarning: The sklearn.neighbors.base module is  deprecated in version 0.22 and will be removed in version 0.24. The corresponding classes / functions should instead be imported from sklearn.neighbors. Anything that cannot be imported from sklearn.neighbors is now part of the private API.\n",
            "  warnings.warn(message, FutureWarning)\n"
          ],
          "name": "stderr"
        }
      ]
    },
    {
      "cell_type": "code",
      "metadata": {
        "id": "4dU6hNcHmjBE",
        "colab_type": "code",
        "outputId": "bc9d8980-760c-42aa-cc78-4ceb49f50071",
        "colab": {
          "base_uri": "https://localhost:8080/",
          "height": 1000
        }
      },
      "source": [
        "# install tensorflow 2.0\n",
        "!pip uninstall tensorflow\n",
        "!pip install tensorflow-gpu==2.1.0"
      ],
      "execution_count": 0,
      "outputs": [
        {
          "output_type": "stream",
          "text": [
            "Uninstalling tensorflow-2.2.0rc2:\n",
            "  Would remove:\n",
            "    /usr/local/bin/estimator_ckpt_converter\n",
            "    /usr/local/bin/saved_model_cli\n",
            "    /usr/local/bin/tensorboard\n",
            "    /usr/local/bin/tf_upgrade_v2\n",
            "    /usr/local/bin/tflite_convert\n",
            "    /usr/local/bin/toco\n",
            "    /usr/local/bin/toco_from_protos\n",
            "    /usr/local/lib/python3.6/dist-packages/tensorflow-2.2.0rc2.dist-info/*\n",
            "    /usr/local/lib/python3.6/dist-packages/tensorflow/*\n",
            "Proceed (y/n)? y\n",
            "  Successfully uninstalled tensorflow-2.2.0rc2\n",
            "Collecting tensorflow-gpu==2.1.0\n",
            "\u001b[?25l  Downloading https://files.pythonhosted.org/packages/0a/93/c7bca39b23aae45cd2e85ad3871c81eccc63b9c5276e926511e2e5b0879d/tensorflow_gpu-2.1.0-cp36-cp36m-manylinux2010_x86_64.whl (421.8MB)\n",
            "\u001b[K     |████████████████████████████████| 421.8MB 32kB/s \n",
            "\u001b[?25hRequirement already satisfied: keras-applications>=1.0.8 in /usr/local/lib/python3.6/dist-packages (from tensorflow-gpu==2.1.0) (1.0.8)\n",
            "Requirement already satisfied: termcolor>=1.1.0 in /usr/local/lib/python3.6/dist-packages (from tensorflow-gpu==2.1.0) (1.1.0)\n",
            "Requirement already satisfied: wrapt>=1.11.1 in /usr/local/lib/python3.6/dist-packages (from tensorflow-gpu==2.1.0) (1.12.1)\n",
            "Requirement already satisfied: scipy==1.4.1; python_version >= \"3\" in /usr/local/lib/python3.6/dist-packages (from tensorflow-gpu==2.1.0) (1.4.1)\n",
            "Requirement already satisfied: keras-preprocessing>=1.1.0 in /usr/local/lib/python3.6/dist-packages (from tensorflow-gpu==2.1.0) (1.1.0)\n",
            "Requirement already satisfied: numpy<2.0,>=1.16.0 in /usr/local/lib/python3.6/dist-packages (from tensorflow-gpu==2.1.0) (1.18.2)\n",
            "Requirement already satisfied: opt-einsum>=2.3.2 in /usr/local/lib/python3.6/dist-packages (from tensorflow-gpu==2.1.0) (3.2.0)\n",
            "Requirement already satisfied: six>=1.12.0 in /usr/local/lib/python3.6/dist-packages (from tensorflow-gpu==2.1.0) (1.12.0)\n",
            "Requirement already satisfied: protobuf>=3.8.0 in /usr/local/lib/python3.6/dist-packages (from tensorflow-gpu==2.1.0) (3.10.0)\n",
            "Requirement already satisfied: google-pasta>=0.1.6 in /usr/local/lib/python3.6/dist-packages (from tensorflow-gpu==2.1.0) (0.2.0)\n",
            "Requirement already satisfied: wheel>=0.26; python_version >= \"3\" in /usr/local/lib/python3.6/dist-packages (from tensorflow-gpu==2.1.0) (0.34.2)\n",
            "Requirement already satisfied: astor>=0.6.0 in /usr/local/lib/python3.6/dist-packages (from tensorflow-gpu==2.1.0) (0.8.1)\n",
            "Collecting tensorflow-estimator<2.2.0,>=2.1.0rc0\n",
            "\u001b[?25l  Downloading https://files.pythonhosted.org/packages/18/90/b77c328a1304437ab1310b463e533fa7689f4bfc41549593056d812fab8e/tensorflow_estimator-2.1.0-py2.py3-none-any.whl (448kB)\n",
            "\u001b[K     |████████████████████████████████| 450kB 50.2MB/s \n",
            "\u001b[?25hRequirement already satisfied: absl-py>=0.7.0 in /usr/local/lib/python3.6/dist-packages (from tensorflow-gpu==2.1.0) (0.9.0)\n",
            "Collecting tensorboard<2.2.0,>=2.1.0\n",
            "\u001b[?25l  Downloading https://files.pythonhosted.org/packages/d9/41/bbf49b61370e4f4d245d4c6051dfb6db80cec672605c91b1652ac8cc3d38/tensorboard-2.1.1-py3-none-any.whl (3.8MB)\n",
            "\u001b[K     |████████████████████████████████| 3.9MB 64.5MB/s \n",
            "\u001b[?25hCollecting gast==0.2.2\n",
            "  Downloading https://files.pythonhosted.org/packages/4e/35/11749bf99b2d4e3cceb4d55ca22590b0d7c2c62b9de38ac4a4a7f4687421/gast-0.2.2.tar.gz\n",
            "Requirement already satisfied: grpcio>=1.8.6 in /usr/local/lib/python3.6/dist-packages (from tensorflow-gpu==2.1.0) (1.27.2)\n",
            "Requirement already satisfied: h5py in /usr/local/lib/python3.6/dist-packages (from keras-applications>=1.0.8->tensorflow-gpu==2.1.0) (2.10.0)\n",
            "Requirement already satisfied: setuptools in /usr/local/lib/python3.6/dist-packages (from protobuf>=3.8.0->tensorflow-gpu==2.1.0) (46.0.0)\n",
            "Requirement already satisfied: google-auth<2,>=1.6.3 in /usr/local/lib/python3.6/dist-packages (from tensorboard<2.2.0,>=2.1.0->tensorflow-gpu==2.1.0) (1.7.2)\n",
            "Requirement already satisfied: requests<3,>=2.21.0 in /usr/local/lib/python3.6/dist-packages (from tensorboard<2.2.0,>=2.1.0->tensorflow-gpu==2.1.0) (2.21.0)\n",
            "Requirement already satisfied: markdown>=2.6.8 in /usr/local/lib/python3.6/dist-packages (from tensorboard<2.2.0,>=2.1.0->tensorflow-gpu==2.1.0) (3.2.1)\n",
            "Requirement already satisfied: werkzeug>=0.11.15 in /usr/local/lib/python3.6/dist-packages (from tensorboard<2.2.0,>=2.1.0->tensorflow-gpu==2.1.0) (1.0.1)\n",
            "Requirement already satisfied: google-auth-oauthlib<0.5,>=0.4.1 in /usr/local/lib/python3.6/dist-packages (from tensorboard<2.2.0,>=2.1.0->tensorflow-gpu==2.1.0) (0.4.1)\n",
            "Requirement already satisfied: cachetools<3.2,>=2.0.0 in /usr/local/lib/python3.6/dist-packages (from google-auth<2,>=1.6.3->tensorboard<2.2.0,>=2.1.0->tensorflow-gpu==2.1.0) (3.1.1)\n",
            "Requirement already satisfied: rsa<4.1,>=3.1.4 in /usr/local/lib/python3.6/dist-packages (from google-auth<2,>=1.6.3->tensorboard<2.2.0,>=2.1.0->tensorflow-gpu==2.1.0) (4.0)\n",
            "Requirement already satisfied: pyasn1-modules>=0.2.1 in /usr/local/lib/python3.6/dist-packages (from google-auth<2,>=1.6.3->tensorboard<2.2.0,>=2.1.0->tensorflow-gpu==2.1.0) (0.2.8)\n",
            "Requirement already satisfied: urllib3<1.25,>=1.21.1 in /usr/local/lib/python3.6/dist-packages (from requests<3,>=2.21.0->tensorboard<2.2.0,>=2.1.0->tensorflow-gpu==2.1.0) (1.24.3)\n",
            "Requirement already satisfied: chardet<3.1.0,>=3.0.2 in /usr/local/lib/python3.6/dist-packages (from requests<3,>=2.21.0->tensorboard<2.2.0,>=2.1.0->tensorflow-gpu==2.1.0) (3.0.4)\n",
            "Requirement already satisfied: certifi>=2017.4.17 in /usr/local/lib/python3.6/dist-packages (from requests<3,>=2.21.0->tensorboard<2.2.0,>=2.1.0->tensorflow-gpu==2.1.0) (2019.11.28)\n",
            "Requirement already satisfied: idna<2.9,>=2.5 in /usr/local/lib/python3.6/dist-packages (from requests<3,>=2.21.0->tensorboard<2.2.0,>=2.1.0->tensorflow-gpu==2.1.0) (2.8)\n",
            "Requirement already satisfied: requests-oauthlib>=0.7.0 in /usr/local/lib/python3.6/dist-packages (from google-auth-oauthlib<0.5,>=0.4.1->tensorboard<2.2.0,>=2.1.0->tensorflow-gpu==2.1.0) (1.3.0)\n",
            "Requirement already satisfied: pyasn1>=0.1.3 in /usr/local/lib/python3.6/dist-packages (from rsa<4.1,>=3.1.4->google-auth<2,>=1.6.3->tensorboard<2.2.0,>=2.1.0->tensorflow-gpu==2.1.0) (0.4.8)\n",
            "Requirement already satisfied: oauthlib>=3.0.0 in /usr/local/lib/python3.6/dist-packages (from requests-oauthlib>=0.7.0->google-auth-oauthlib<0.5,>=0.4.1->tensorboard<2.2.0,>=2.1.0->tensorflow-gpu==2.1.0) (3.1.0)\n",
            "Building wheels for collected packages: gast\n",
            "  Building wheel for gast (setup.py) ... \u001b[?25l\u001b[?25hdone\n",
            "  Created wheel for gast: filename=gast-0.2.2-cp36-none-any.whl size=7540 sha256=3dfefc7e89c717e17b54c497e51c0c08ae17e2fc81b43c67c7bd0739b81294aa\n",
            "  Stored in directory: /root/.cache/pip/wheels/5c/2e/7e/a1d4d4fcebe6c381f378ce7743a3ced3699feb89bcfbdadadd\n",
            "Successfully built gast\n",
            "Installing collected packages: tensorflow-estimator, tensorboard, gast, tensorflow-gpu\n",
            "  Found existing installation: tensorflow-estimator 2.2.0rc0\n",
            "    Uninstalling tensorflow-estimator-2.2.0rc0:\n",
            "      Successfully uninstalled tensorflow-estimator-2.2.0rc0\n",
            "  Found existing installation: tensorboard 2.2.0\n",
            "    Uninstalling tensorboard-2.2.0:\n",
            "      Successfully uninstalled tensorboard-2.2.0\n",
            "  Found existing installation: gast 0.3.3\n",
            "    Uninstalling gast-0.3.3:\n",
            "      Successfully uninstalled gast-0.3.3\n",
            "Successfully installed gast-0.2.2 tensorboard-2.1.1 tensorflow-estimator-2.1.0 tensorflow-gpu-2.1.0\n"
          ],
          "name": "stdout"
        },
        {
          "output_type": "display_data",
          "data": {
            "application/vnd.colab-display-data+json": {
              "pip_warning": {
                "packages": [
                  "gast",
                  "tensorboard",
                  "tensorflow"
                ]
              }
            }
          },
          "metadata": {
            "tags": []
          }
        }
      ]
    },
    {
      "cell_type": "code",
      "metadata": {
        "id": "bIycjFHvlI-r",
        "colab_type": "code",
        "outputId": "dfaa2e1b-b0f6-4ed5-d029-460f89592115",
        "colab": {
          "base_uri": "https://localhost:8080/",
          "height": 34
        }
      },
      "source": [
        "import tensorflow as tf\n",
        "print(tf.__version__)"
      ],
      "execution_count": 0,
      "outputs": [
        {
          "output_type": "stream",
          "text": [
            "2.1.0\n"
          ],
          "name": "stdout"
        }
      ]
    },
    {
      "cell_type": "code",
      "metadata": {
        "id": "qWB0eDS_nXLq",
        "colab_type": "code",
        "outputId": "5966a158-d9ee-4fe6-f156-cfa6c3964d7c",
        "colab": {
          "base_uri": "https://localhost:8080/",
          "height": 34
        }
      },
      "source": [
        "# check the availability of GPU\n",
        "%tensorflow_version 2.x\n",
        "device_name = tf.test.gpu_device_name()\n",
        "if device_name != '/device:GPU:0':\n",
        "  raise SystemError('GPU device not found')\n",
        "print('Found GPU at: {}'.format(device_name))\n"
      ],
      "execution_count": 0,
      "outputs": [
        {
          "output_type": "stream",
          "text": [
            "Found GPU at: /device:GPU:0\n"
          ],
          "name": "stdout"
        }
      ]
    },
    {
      "cell_type": "markdown",
      "metadata": {
        "id": "qJT9K3vBlI-n",
        "colab_type": "text"
      },
      "source": [
        "# Import and slice data"
      ]
    },
    {
      "cell_type": "code",
      "metadata": {
        "id": "Jm7v2wBRnlMT",
        "colab_type": "code",
        "outputId": "9eda7ed5-244c-4635-807a-12d68f2821e7",
        "colab": {
          "base_uri": "https://localhost:8080/",
          "height": 34
        }
      },
      "source": [
        "# Mount Google Drive (to save the downloaded files)\n",
        "from google.colab import drive\n",
        "drive.mount('/gdrive')"
      ],
      "execution_count": 0,
      "outputs": [
        {
          "output_type": "stream",
          "text": [
            "Drive already mounted at /gdrive; to attempt to forcibly remount, call drive.mount(\"/gdrive\", force_remount=True).\n"
          ],
          "name": "stdout"
        }
      ]
    },
    {
      "cell_type": "code",
      "metadata": {
        "id": "9DuTmB3PlI-z",
        "colab_type": "code",
        "colab": {}
      },
      "source": [
        "# read CSV file\n",
        "mydata = pd.read_csv('/gdrive/My Drive/Full-Economic-News-DFE.csv', encoding = \"ISO-8859-1\")"
      ],
      "execution_count": 0,
      "outputs": []
    },
    {
      "cell_type": "code",
      "metadata": {
        "id": "hnQSbMFQlI-5",
        "colab_type": "code",
        "outputId": "6eefc49e-44c7-49b6-d66d-848b2d7233be",
        "colab": {
          "base_uri": "https://localhost:8080/",
          "height": 204
        }
      },
      "source": [
        "data = mydata[['_unit_id','positivity', 'relevance', 'date','headline', 'text']]\n",
        "\n",
        "data.head()"
      ],
      "execution_count": 0,
      "outputs": [
        {
          "output_type": "execute_result",
          "data": {
            "text/html": [
              "<div>\n",
              "<style scoped>\n",
              "    .dataframe tbody tr th:only-of-type {\n",
              "        vertical-align: middle;\n",
              "    }\n",
              "\n",
              "    .dataframe tbody tr th {\n",
              "        vertical-align: top;\n",
              "    }\n",
              "\n",
              "    .dataframe thead th {\n",
              "        text-align: right;\n",
              "    }\n",
              "</style>\n",
              "<table border=\"1\" class=\"dataframe\">\n",
              "  <thead>\n",
              "    <tr style=\"text-align: right;\">\n",
              "      <th></th>\n",
              "      <th>_unit_id</th>\n",
              "      <th>positivity</th>\n",
              "      <th>relevance</th>\n",
              "      <th>date</th>\n",
              "      <th>headline</th>\n",
              "      <th>text</th>\n",
              "    </tr>\n",
              "  </thead>\n",
              "  <tbody>\n",
              "    <tr>\n",
              "      <th>0</th>\n",
              "      <td>842613455</td>\n",
              "      <td>3.0</td>\n",
              "      <td>yes</td>\n",
              "      <td>8/14/91</td>\n",
              "      <td>Yields on CDs Fell in the Latest Week</td>\n",
              "      <td>NEW YORK -- Yields on most certificates of dep...</td>\n",
              "    </tr>\n",
              "    <tr>\n",
              "      <th>1</th>\n",
              "      <td>842613456</td>\n",
              "      <td>NaN</td>\n",
              "      <td>no</td>\n",
              "      <td>8/21/07</td>\n",
              "      <td>The Morning Brief: White House Seeks to Limit ...</td>\n",
              "      <td>The Wall Street Journal Online&lt;/br&gt;&lt;/br&gt;The Mo...</td>\n",
              "    </tr>\n",
              "    <tr>\n",
              "      <th>2</th>\n",
              "      <td>842613457</td>\n",
              "      <td>NaN</td>\n",
              "      <td>no</td>\n",
              "      <td>11/14/91</td>\n",
              "      <td>Banking Bill Negotiators Set Compromise --- Pl...</td>\n",
              "      <td>WASHINGTON -- In an effort to achieve banking ...</td>\n",
              "    </tr>\n",
              "    <tr>\n",
              "      <th>3</th>\n",
              "      <td>842613458</td>\n",
              "      <td>NaN</td>\n",
              "      <td>no</td>\n",
              "      <td>6/16/86</td>\n",
              "      <td>Manager's Journal: Sniffing Out Drug Abusers I...</td>\n",
              "      <td>The statistics on the enormous costs of employ...</td>\n",
              "    </tr>\n",
              "    <tr>\n",
              "      <th>4</th>\n",
              "      <td>842613459</td>\n",
              "      <td>3.0</td>\n",
              "      <td>yes</td>\n",
              "      <td>10/4/02</td>\n",
              "      <td>Currency Trading: Dollar Remains in Tight Rang...</td>\n",
              "      <td>NEW YORK -- Indecision marked the dollar's ton...</td>\n",
              "    </tr>\n",
              "  </tbody>\n",
              "</table>\n",
              "</div>"
            ],
            "text/plain": [
              "    _unit_id  ...                                               text\n",
              "0  842613455  ...  NEW YORK -- Yields on most certificates of dep...\n",
              "1  842613456  ...  The Wall Street Journal Online</br></br>The Mo...\n",
              "2  842613457  ...  WASHINGTON -- In an effort to achieve banking ...\n",
              "3  842613458  ...  The statistics on the enormous costs of employ...\n",
              "4  842613459  ...  NEW YORK -- Indecision marked the dollar's ton...\n",
              "\n",
              "[5 rows x 6 columns]"
            ]
          },
          "metadata": {
            "tags": []
          },
          "execution_count": 6
        }
      ]
    },
    {
      "cell_type": "markdown",
      "metadata": {
        "id": "AciFzQH80VWC",
        "colab_type": "text"
      },
      "source": [
        "# Data Description"
      ]
    },
    {
      "cell_type": "code",
      "metadata": {
        "id": "UFL0X94j0ajV",
        "colab_type": "code",
        "outputId": "a99ec39a-67ec-49d9-ec4c-c6039ab885fa",
        "colab": {
          "base_uri": "https://localhost:8080/",
          "height": 173
        }
      },
      "source": [
        "# distribution of news relevance\n",
        "dist = data[['_unit_id','relevance']].groupby('relevance').count()\n",
        "dist"
      ],
      "execution_count": 0,
      "outputs": [
        {
          "output_type": "execute_result",
          "data": {
            "text/html": [
              "<div>\n",
              "<style scoped>\n",
              "    .dataframe tbody tr th:only-of-type {\n",
              "        vertical-align: middle;\n",
              "    }\n",
              "\n",
              "    .dataframe tbody tr th {\n",
              "        vertical-align: top;\n",
              "    }\n",
              "\n",
              "    .dataframe thead th {\n",
              "        text-align: right;\n",
              "    }\n",
              "</style>\n",
              "<table border=\"1\" class=\"dataframe\">\n",
              "  <thead>\n",
              "    <tr style=\"text-align: right;\">\n",
              "      <th></th>\n",
              "      <th>_unit_id</th>\n",
              "    </tr>\n",
              "    <tr>\n",
              "      <th>relevance</th>\n",
              "      <th></th>\n",
              "    </tr>\n",
              "  </thead>\n",
              "  <tbody>\n",
              "    <tr>\n",
              "      <th>no</th>\n",
              "      <td>6571</td>\n",
              "    </tr>\n",
              "    <tr>\n",
              "      <th>not sure</th>\n",
              "      <td>9</td>\n",
              "    </tr>\n",
              "    <tr>\n",
              "      <th>yes</th>\n",
              "      <td>1420</td>\n",
              "    </tr>\n",
              "  </tbody>\n",
              "</table>\n",
              "</div>"
            ],
            "text/plain": [
              "           _unit_id\n",
              "relevance          \n",
              "no             6571\n",
              "not sure          9\n",
              "yes            1420"
            ]
          },
          "metadata": {
            "tags": []
          },
          "execution_count": 7
        }
      ]
    },
    {
      "cell_type": "code",
      "metadata": {
        "id": "Ffhvadj40dOt",
        "colab_type": "code",
        "outputId": "862806fc-0185-4d56-fde6-c08d1db09822",
        "colab": {
          "base_uri": "https://localhost:8080/",
          "height": 302
        }
      },
      "source": [
        "# pie chart of distribution of news relevance\n",
        "fig1, ax1 = plt.subplots()\n",
        "sizes = dist.values\n",
        "label = dist.index.tolist()\n",
        "\n",
        "ax1.pie(sizes, labels=label, autopct='%1.1f%%',\n",
        "        shadow=True, startangle=90)\n",
        "ax1.axis('equal')    \n",
        "plt.show()"
      ],
      "execution_count": 0,
      "outputs": [
        {
          "output_type": "stream",
          "text": [
            "/usr/local/lib/python3.6/dist-packages/ipykernel_launcher.py:6: MatplotlibDeprecationWarning: Non-1D inputs to pie() are currently squeeze()d, but this behavior is deprecated since 3.1 and will be removed in 3.3; pass a 1D array instead.\n",
            "  \n"
          ],
          "name": "stderr"
        },
        {
          "output_type": "display_data",
          "data": {
            "image/png": "[encoded data removed]",
            "text/plain": [
              "<Figure size 432x288 with 1 Axes>"
            ]
          },
          "metadata": {
            "tags": []
          }
        }
      ]
    },
    {
      "cell_type": "code",
      "metadata": {
        "id": "Cq5uXhBg0ex1",
        "colab_type": "code",
        "outputId": "a5708027-e5ac-49e7-903c-a25655a6823f",
        "colab": {
          "base_uri": "https://localhost:8080/",
          "height": 328
        }
      },
      "source": [
        "# distribution of positivity of news that relevant to US economy\n",
        "dist = data[data['positivity']!=0][['positivity','_unit_id']].groupby('positivity').count()\n",
        "dist"
      ],
      "execution_count": 0,
      "outputs": [
        {
          "output_type": "execute_result",
          "data": {
            "text/html": [
              "<div>\n",
              "<style scoped>\n",
              "    .dataframe tbody tr th:only-of-type {\n",
              "        vertical-align: middle;\n",
              "    }\n",
              "\n",
              "    .dataframe tbody tr th {\n",
              "        vertical-align: top;\n",
              "    }\n",
              "\n",
              "    .dataframe thead th {\n",
              "        text-align: right;\n",
              "    }\n",
              "</style>\n",
              "<table border=\"1\" class=\"dataframe\">\n",
              "  <thead>\n",
              "    <tr style=\"text-align: right;\">\n",
              "      <th></th>\n",
              "      <th>_unit_id</th>\n",
              "    </tr>\n",
              "    <tr>\n",
              "      <th>positivity</th>\n",
              "      <th></th>\n",
              "    </tr>\n",
              "  </thead>\n",
              "  <tbody>\n",
              "    <tr>\n",
              "      <th>2.0</th>\n",
              "      <td>35</td>\n",
              "    </tr>\n",
              "    <tr>\n",
              "      <th>3.0</th>\n",
              "      <td>343</td>\n",
              "    </tr>\n",
              "    <tr>\n",
              "      <th>4.0</th>\n",
              "      <td>255</td>\n",
              "    </tr>\n",
              "    <tr>\n",
              "      <th>5.0</th>\n",
              "      <td>205</td>\n",
              "    </tr>\n",
              "    <tr>\n",
              "      <th>6.0</th>\n",
              "      <td>214</td>\n",
              "    </tr>\n",
              "    <tr>\n",
              "      <th>7.0</th>\n",
              "      <td>295</td>\n",
              "    </tr>\n",
              "    <tr>\n",
              "      <th>8.0</th>\n",
              "      <td>71</td>\n",
              "    </tr>\n",
              "    <tr>\n",
              "      <th>9.0</th>\n",
              "      <td>2</td>\n",
              "    </tr>\n",
              "  </tbody>\n",
              "</table>\n",
              "</div>"
            ],
            "text/plain": [
              "            _unit_id\n",
              "positivity          \n",
              "2.0               35\n",
              "3.0              343\n",
              "4.0              255\n",
              "5.0              205\n",
              "6.0              214\n",
              "7.0              295\n",
              "8.0               71\n",
              "9.0                2"
            ]
          },
          "metadata": {
            "tags": []
          },
          "execution_count": 24
        }
      ]
    },
    {
      "cell_type": "code",
      "metadata": {
        "id": "BK2LG9wi0gTZ",
        "colab_type": "code",
        "outputId": "e1c44edf-f055-4f6f-e085-10fec76f8c12",
        "colab": {
          "base_uri": "https://localhost:8080/",
          "height": 310
        }
      },
      "source": [
        "# pie chart of the distribution of positivity of US economy relevant news\n",
        "fig1, ax1 = plt.subplots()\n",
        "sizes = dist.values\n",
        "label = dist.index.tolist()\n",
        "\n",
        "ax1.pie(sizes, labels=label, autopct='%1.0f%%',\n",
        "        shadow=True, startangle=90)\n",
        "ax1.axis('equal')  \n",
        "plt.show()"
      ],
      "execution_count": 0,
      "outputs": [
        {
          "output_type": "stream",
          "text": [
            "/usr/local/lib/python3.6/dist-packages/ipykernel_launcher.py:6: MatplotlibDeprecationWarning: Non-1D inputs to pie() are currently squeeze()d, but this behavior is deprecated since 3.1 and will be removed in 3.3; pass a 1D array instead.\n",
            "  \n"
          ],
          "name": "stderr"
        },
        {
          "output_type": "display_data",
          "data": {
            "image/png": "[encoded data removed]",
            "text/plain": [
              "<Figure size 432x288 with 1 Axes>"
            ]
          },
          "metadata": {
            "tags": []
          }
        }
      ]
    },
    {
      "cell_type": "markdown",
      "metadata": {
        "id": "sPWfpnU8lcMV",
        "colab_type": "text"
      },
      "source": [
        "# Pre-processing"
      ]
    },
    {
      "cell_type": "markdown",
      "metadata": {
        "id": "YUEjVqRtmAO6",
        "colab_type": "text"
      },
      "source": [
        "## Check missing values"
      ]
    },
    {
      "cell_type": "code",
      "metadata": {
        "id": "C37v1DrWl_sb",
        "colab_type": "code",
        "outputId": "02a5243f-dd7a-4cda-a464-64d8c2fcc38c",
        "colab": {
          "base_uri": "https://localhost:8080/",
          "height": 34
        }
      },
      "source": [
        "# no missing values in 'relevance'\n",
        "sum(data['relevance'].isnull())"
      ],
      "execution_count": 0,
      "outputs": [
        {
          "output_type": "execute_result",
          "data": {
            "text/plain": [
              "0"
            ]
          },
          "metadata": {
            "tags": []
          },
          "execution_count": 8
        }
      ]
    },
    {
      "cell_type": "code",
      "metadata": {
        "id": "oPRKE-zlmNNa",
        "colab_type": "code",
        "outputId": "4005470b-2beb-4eb6-aa8b-2808d460689c",
        "colab": {
          "base_uri": "https://localhost:8080/",
          "height": 34
        }
      },
      "source": [
        "# no missing values in 'positivity'\n",
        "sum(data[data['relevance']=='yes']['positivity'].isnull())"
      ],
      "execution_count": 0,
      "outputs": [
        {
          "output_type": "execute_result",
          "data": {
            "text/plain": [
              "0"
            ]
          },
          "metadata": {
            "tags": []
          },
          "execution_count": 9
        }
      ]
    },
    {
      "cell_type": "markdown",
      "metadata": {
        "id": "eAHkKWw0lI_P",
        "colab_type": "text"
      },
      "source": [
        "## Remove ambiguious data"
      ]
    },
    {
      "cell_type": "code",
      "metadata": {
        "id": "4V4mDbOAlI_Q",
        "colab_type": "code",
        "colab": {}
      },
      "source": [
        "# remove observations that are 'not sure' whether relevant to US economy\n",
        "data = data[data.relevance != 'not sure']\n",
        "\n",
        "# covert boolean type 'yes/no' to '1/0'\n",
        "data.relevance = data.relevance.map(dict(yes=1, no=0))\n",
        "\n",
        "# new feature 'texts' to include 'headline' and 'text' features\n",
        "data['texts'] = data['headline'] + (' ') + data['text']"
      ],
      "execution_count": 0,
      "outputs": []
    },
    {
      "cell_type": "markdown",
      "metadata": {
        "id": "WRzfEfWJlI_f",
        "colab_type": "text"
      },
      "source": [
        "## Check Embeddings Coverage \n",
        "Self-defined funtion to check the proportion of words and texts covered by selected pre-trained word vectors"
      ]
    },
    {
      "cell_type": "code",
      "metadata": {
        "id": "gdLVf2HQoj80",
        "colab_type": "code",
        "colab": {}
      },
      "source": [
        "import operator\n",
        "\n",
        "# split each sentences into a list of words\n",
        "# return a dictionary of vocabulary with frequency \n",
        "def build_vocab(X):\n",
        "    \n",
        "    news = X.apply(lambda s: s.split()).values      \n",
        "    vocab = {}\n",
        "    \n",
        "    for n in news:\n",
        "        for word in n:\n",
        "            try:\n",
        "                vocab[word] += 1\n",
        "            except KeyError:\n",
        "                vocab[word] = 1                \n",
        "    return vocab\n",
        "\n",
        "# go through each word and check whether the word is in pre-trained word vectors\n",
        "# return a list of uncovered vocabulary, unique words coverage and overall texts coverage.\n",
        "def check_embeddings_coverage(X, embeddings):\n",
        "    \n",
        "    vocab = build_vocab(X)    \n",
        "    \n",
        "    covered = {}\n",
        "    oov = {}    \n",
        "    n_covered = 0\n",
        "    n_oov = 0\n",
        "    \n",
        "    for word in vocab:\n",
        "        try:\n",
        "            covered[word] = embeddings[word]\n",
        "            n_covered += vocab[word]\n",
        "        except:\n",
        "            oov[word] = vocab[word]\n",
        "            n_oov += vocab[word]\n",
        "            \n",
        "    vocab_coverage = len(covered) / len(vocab)\n",
        "    text_coverage = (n_covered / (n_covered + n_oov))\n",
        "    \n",
        "    sorted_oov = sorted(oov.items(), key=operator.itemgetter(1))[::-1]\n",
        "    return sorted_oov, vocab_coverage, text_coverage"
      ],
      "execution_count": 0,
      "outputs": []
    },
    {
      "cell_type": "markdown",
      "metadata": {
        "id": "vdJvVvxoof-Z",
        "colab_type": "text"
      },
      "source": [
        "### GloVe Pretrained Word Embedding loading"
      ]
    },
    {
      "cell_type": "code",
      "metadata": {
        "id": "6M8v__OplI_g",
        "colab_type": "code",
        "outputId": "d7865615-9e7e-430f-a136-e4abff15a896",
        "colab": {
          "base_uri": "https://localhost:8080/",
          "height": 51
        }
      },
      "source": [
        "# Load GloVe Embeddings\n",
        "print('Loading GloVe Embeddings.')\n",
        "\n",
        "glove_embeddings = {}\n",
        "f = open('/gdrive/My Drive/glove.42B.300d.txt', encoding='utf-8')\n",
        "for line in f:\n",
        "    values = line.split()\n",
        "    word = values[0]\n",
        "    coefs = np.asarray(values[1:], dtype='float32')\n",
        "    glove_embeddings[word] = coefs\n",
        "f.close()\n",
        "\n",
        "print('Found %s word vectors.' % len(glove_embeddings))\n"
      ],
      "execution_count": 0,
      "outputs": [
        {
          "output_type": "stream",
          "text": [
            "Loading GloVe Embeddings.\n",
            "Found 1917495 word vectors.\n"
          ],
          "name": "stdout"
        }
      ]
    },
    {
      "cell_type": "markdown",
      "metadata": {
        "id": "TbIJI9F5nmSC",
        "colab_type": "text"
      },
      "source": [
        "### GloVe words and texts coverage"
      ]
    },
    {
      "cell_type": "code",
      "metadata": {
        "id": "Dn9oZl56lI_k",
        "colab_type": "code",
        "outputId": "4388e43b-9ff0-43b9-8331-2f5dbe87a010",
        "colab": {
          "base_uri": "https://localhost:8080/",
          "height": 34
        }
      },
      "source": [
        "texts_glove_oov, texts_glove_vocab_coverage, texts_glove_text_coverage = check_embeddings_coverage(data['texts'], glove_embeddings)\n",
        "print('GloVe Embeddings cover {:.2%} of vocabulary and {:.2%} of text in texts'.format(texts_glove_vocab_coverage, texts_glove_text_coverage))"
      ],
      "execution_count": 0,
      "outputs": [
        {
          "output_type": "stream",
          "text": [
            "GloVe Embeddings cover 23.86% of vocabulary and 75.26% of text in texts\n"
          ],
          "name": "stdout"
        }
      ]
    },
    {
      "cell_type": "markdown",
      "metadata": {
        "id": "cW44I9FBc9zo",
        "colab_type": "text"
      },
      "source": [
        "### Fasttext Pretrained Word Embedding loading"
      ]
    },
    {
      "cell_type": "code",
      "metadata": {
        "id": "5tYMwrpTc5yF",
        "colab_type": "code",
        "outputId": "79952949-f60a-4562-be3a-67a5c0532e23",
        "colab": {
          "base_uri": "https://localhost:8080/",
          "height": 34
        }
      },
      "source": [
        "fin = io.open('/gdrive/My Drive/wiki-news-300d-1M-subword.vec', 'r', encoding='utf-8', newline='\\n', errors='ignore')\n",
        "n, d = map(int, fin.readline().split())\n",
        "fasttext_embeddings = {}\n",
        "for line in fin:\n",
        "    tokens = line.rstrip().split(' ')\n",
        "    fasttext_embeddings[tokens[0]] = map(float, tokens[1:])\n",
        "fin.close()\n",
        "\n",
        "print('Found %s word vectors.' % len(fasttext_embeddings))"
      ],
      "execution_count": 0,
      "outputs": [
        {
          "output_type": "stream",
          "text": [
            "Found 999994 word vectors.\n"
          ],
          "name": "stdout"
        }
      ]
    },
    {
      "cell_type": "markdown",
      "metadata": {
        "id": "9eHftBCUfF_9",
        "colab_type": "text"
      },
      "source": [
        "### Fasttext words and texts coverage"
      ]
    },
    {
      "cell_type": "code",
      "metadata": {
        "id": "SedR7SpEdEp-",
        "colab_type": "code",
        "outputId": "26dc58fb-c309-46c1-ed45-5ea13ebda427",
        "colab": {
          "base_uri": "https://localhost:8080/",
          "height": 34
        }
      },
      "source": [
        "texts_fasttext_oov, texts_fasttext_vocab_coverage, texts_fasttext_text_coverage = check_embeddings_coverage(data['texts'], fasttext_embeddings)\n",
        "print('Fasttext Embeddings cover {:.2%} of vocabulary and {:.2%} of text in texts'.format(texts_fasttext_vocab_coverage, texts_fasttext_text_coverage))"
      ],
      "execution_count": 0,
      "outputs": [
        {
          "output_type": "stream",
          "text": [
            "Fasttext Embeddings cover 36.14% of vocabulary and 87.82% of text in texts\n"
          ],
          "name": "stdout"
        }
      ]
    },
    {
      "cell_type": "markdown",
      "metadata": {
        "id": "aEtOv0walI_s",
        "colab_type": "text"
      },
      "source": [
        "## Remove url and html"
      ]
    },
    {
      "cell_type": "code",
      "metadata": {
        "id": "xfOQin0rlI_t",
        "colab_type": "code",
        "colab": {}
      },
      "source": [
        "# function to remove url\n",
        "def rm_url(contents):\n",
        "    url = re.compile(r'https?://\\S+|www\\.\\S+')\n",
        "    return url.sub(r'',contents)\n",
        "\n",
        "# function to remove html\n",
        "def rm_html(contents):\n",
        "    html=re.compile(r'<.*?>')\n",
        "    return html.sub(r'',contents)"
      ],
      "execution_count": 0,
      "outputs": []
    },
    {
      "cell_type": "code",
      "metadata": {
        "id": "kg_ZGyoHlI_v",
        "colab_type": "code",
        "colab": {}
      },
      "source": [
        "data['texts'] = data['texts'].apply(rm_url)\n",
        "data['texts'] = data['texts'].apply(rm_html)"
      ],
      "execution_count": 0,
      "outputs": []
    },
    {
      "cell_type": "code",
      "metadata": {
        "id": "jQSEz8xSe_ka",
        "colab_type": "code",
        "outputId": "c982a87c-fda1-4f41-93a1-fecc52988f8f",
        "colab": {
          "base_uri": "https://localhost:8080/",
          "height": 51
        }
      },
      "source": [
        "# GloVe words and texts coverage check\n",
        "texts_glove_oov, texts_glove_vocab_coverage, texts_glove_text_coverage = check_embeddings_coverage(data['texts'], glove_embeddings)\n",
        "print('GloVe Embeddings cover {:.2%} of vocabulary and {:.2%} of text in texts'.format(texts_glove_vocab_coverage, texts_glove_text_coverage))\n",
        "\n",
        "# Fasttext words and texts coverage check\n",
        "texts_fasttext_oov, texts_fasttext_vocab_coverage, texts_fasttext_text_coverage = check_embeddings_coverage(data['texts'], fasttext_embeddings)\n",
        "print('Fasttext Embeddings cover {:.2%} of vocabulary and {:.2%} of text in texts'.format(texts_fasttext_vocab_coverage, texts_fasttext_text_coverage))"
      ],
      "execution_count": 0,
      "outputs": [
        {
          "output_type": "stream",
          "text": [
            "GloVe Embeddings cover 23.96% of vocabulary and 75.27% of text in texts\n",
            "Fasttext Embeddings cover 36.70% of vocabulary and 88.01% of text in texts\n"
          ],
          "name": "stdout"
        }
      ]
    },
    {
      "cell_type": "code",
      "metadata": {
        "id": "LYIfKxdnF3qf",
        "colab_type": "code",
        "outputId": "0f4c9a2d-08be-45e7-9d9b-c4e1250fec20",
        "colab": {
          "base_uri": "https://localhost:8080/",
          "height": 204
        }
      },
      "source": [
        "data.head(5)"
      ],
      "execution_count": 0,
      "outputs": [
        {
          "output_type": "execute_result",
          "data": {
            "text/html": [
              "<div>\n",
              "<style scoped>\n",
              "    .dataframe tbody tr th:only-of-type {\n",
              "        vertical-align: middle;\n",
              "    }\n",
              "\n",
              "    .dataframe tbody tr th {\n",
              "        vertical-align: top;\n",
              "    }\n",
              "\n",
              "    .dataframe thead th {\n",
              "        text-align: right;\n",
              "    }\n",
              "</style>\n",
              "<table border=\"1\" class=\"dataframe\">\n",
              "  <thead>\n",
              "    <tr style=\"text-align: right;\">\n",
              "      <th></th>\n",
              "      <th>_unit_id</th>\n",
              "      <th>positivity</th>\n",
              "      <th>relevance</th>\n",
              "      <th>date</th>\n",
              "      <th>headline</th>\n",
              "      <th>text</th>\n",
              "      <th>texts</th>\n",
              "    </tr>\n",
              "  </thead>\n",
              "  <tbody>\n",
              "    <tr>\n",
              "      <th>0</th>\n",
              "      <td>842613455</td>\n",
              "      <td>3.0</td>\n",
              "      <td>1</td>\n",
              "      <td>8/14/91</td>\n",
              "      <td>Yields on CDs Fell in the Latest Week</td>\n",
              "      <td>NEW YORK -- Yields on most certificates of dep...</td>\n",
              "      <td>Yields on CDs Fell in the Latest Week NEW YORK...</td>\n",
              "    </tr>\n",
              "    <tr>\n",
              "      <th>1</th>\n",
              "      <td>842613456</td>\n",
              "      <td>NaN</td>\n",
              "      <td>0</td>\n",
              "      <td>8/21/07</td>\n",
              "      <td>The Morning Brief: White House Seeks to Limit ...</td>\n",
              "      <td>The Wall Street Journal Online&lt;/br&gt;&lt;/br&gt;The Mo...</td>\n",
              "      <td>The Morning Brief: White House Seeks to Limit ...</td>\n",
              "    </tr>\n",
              "    <tr>\n",
              "      <th>2</th>\n",
              "      <td>842613457</td>\n",
              "      <td>NaN</td>\n",
              "      <td>0</td>\n",
              "      <td>11/14/91</td>\n",
              "      <td>Banking Bill Negotiators Set Compromise --- Pl...</td>\n",
              "      <td>WASHINGTON -- In an effort to achieve banking ...</td>\n",
              "      <td>Banking Bill Negotiators Set Compromise --- Pl...</td>\n",
              "    </tr>\n",
              "    <tr>\n",
              "      <th>3</th>\n",
              "      <td>842613458</td>\n",
              "      <td>NaN</td>\n",
              "      <td>0</td>\n",
              "      <td>6/16/86</td>\n",
              "      <td>Manager's Journal: Sniffing Out Drug Abusers I...</td>\n",
              "      <td>The statistics on the enormous costs of employ...</td>\n",
              "      <td>Manager's Journal: Sniffing Out Drug Abusers I...</td>\n",
              "    </tr>\n",
              "    <tr>\n",
              "      <th>4</th>\n",
              "      <td>842613459</td>\n",
              "      <td>3.0</td>\n",
              "      <td>1</td>\n",
              "      <td>10/4/02</td>\n",
              "      <td>Currency Trading: Dollar Remains in Tight Rang...</td>\n",
              "      <td>NEW YORK -- Indecision marked the dollar's ton...</td>\n",
              "      <td>Currency Trading: Dollar Remains in Tight Rang...</td>\n",
              "    </tr>\n",
              "  </tbody>\n",
              "</table>\n",
              "</div>"
            ],
            "text/plain": [
              "    _unit_id  ...                                              texts\n",
              "0  842613455  ...  Yields on CDs Fell in the Latest Week NEW YORK...\n",
              "1  842613456  ...  The Morning Brief: White House Seeks to Limit ...\n",
              "2  842613457  ...  Banking Bill Negotiators Set Compromise --- Pl...\n",
              "3  842613458  ...  Manager's Journal: Sniffing Out Drug Abusers I...\n",
              "4  842613459  ...  Currency Trading: Dollar Remains in Tight Rang...\n",
              "\n",
              "[5 rows x 7 columns]"
            ]
          },
          "metadata": {
            "tags": []
          },
          "execution_count": 14
        }
      ]
    },
    {
      "cell_type": "markdown",
      "metadata": {
        "id": "L7atHONEpFR3",
        "colab_type": "text"
      },
      "source": [
        "## Remove non-alphabet characters and lower case"
      ]
    },
    {
      "cell_type": "code",
      "metadata": {
        "id": "5O7roIl9lI_x",
        "colab_type": "code",
        "colab": {}
      },
      "source": [
        "data['texts'] = [re.sub(\"[^A-Za-z ']+\", ' ', str(line)).lower() for line in data['texts']]"
      ],
      "execution_count": 0,
      "outputs": []
    },
    {
      "cell_type": "code",
      "metadata": {
        "id": "Z4dQd6jkfrUc",
        "colab_type": "code",
        "outputId": "ac3801df-8497-40ee-80ea-12530d8ef62f",
        "colab": {
          "base_uri": "https://localhost:8080/",
          "height": 51
        }
      },
      "source": [
        "# GloVe words and texts coverage check\n",
        "texts_glove_oov, texts_glove_vocab_coverage, texts_glove_text_coverage = check_embeddings_coverage(data['texts'], glove_embeddings)\n",
        "print('GloVe Embeddings cover {:.2%} of vocabulary and {:.2%} of text in texts'.format(texts_glove_vocab_coverage, texts_glove_text_coverage))\n",
        "\n",
        "# Fasttext words and texts coverage check\n",
        "texts_fasttext_oov, texts_fasttext_vocab_coverage, texts_fasttext_text_coverage = check_embeddings_coverage(data['texts'], fasttext_embeddings)\n",
        "print('Fasttext Embeddings cover {:.2%} of vocabulary and {:.2%} of text in texts'.format(texts_fasttext_vocab_coverage, texts_fasttext_text_coverage))"
      ],
      "execution_count": 0,
      "outputs": [
        {
          "output_type": "stream",
          "text": [
            "GloVe Embeddings cover 83.24% of vocabulary and 98.70% of text in texts\n",
            "Fasttext Embeddings cover 70.46% of vocabulary and 97.69% of text in texts\n"
          ],
          "name": "stdout"
        }
      ]
    },
    {
      "cell_type": "code",
      "metadata": {
        "id": "GvXZwbNJF7it",
        "colab_type": "code",
        "outputId": "f78fce89-deea-4a70-aae7-36aa9a83fec1",
        "colab": {
          "base_uri": "https://localhost:8080/",
          "height": 204
        }
      },
      "source": [
        "data.head(5)"
      ],
      "execution_count": 0,
      "outputs": [
        {
          "output_type": "execute_result",
          "data": {
            "text/html": [
              "<div>\n",
              "<style scoped>\n",
              "    .dataframe tbody tr th:only-of-type {\n",
              "        vertical-align: middle;\n",
              "    }\n",
              "\n",
              "    .dataframe tbody tr th {\n",
              "        vertical-align: top;\n",
              "    }\n",
              "\n",
              "    .dataframe thead th {\n",
              "        text-align: right;\n",
              "    }\n",
              "</style>\n",
              "<table border=\"1\" class=\"dataframe\">\n",
              "  <thead>\n",
              "    <tr style=\"text-align: right;\">\n",
              "      <th></th>\n",
              "      <th>_unit_id</th>\n",
              "      <th>positivity</th>\n",
              "      <th>relevance</th>\n",
              "      <th>date</th>\n",
              "      <th>headline</th>\n",
              "      <th>text</th>\n",
              "      <th>texts</th>\n",
              "    </tr>\n",
              "  </thead>\n",
              "  <tbody>\n",
              "    <tr>\n",
              "      <th>0</th>\n",
              "      <td>842613455</td>\n",
              "      <td>3.0</td>\n",
              "      <td>1</td>\n",
              "      <td>8/14/91</td>\n",
              "      <td>Yields on CDs Fell in the Latest Week</td>\n",
              "      <td>NEW YORK -- Yields on most certificates of dep...</td>\n",
              "      <td>yields on cds fell in the latest week new york...</td>\n",
              "    </tr>\n",
              "    <tr>\n",
              "      <th>1</th>\n",
              "      <td>842613456</td>\n",
              "      <td>NaN</td>\n",
              "      <td>0</td>\n",
              "      <td>8/21/07</td>\n",
              "      <td>The Morning Brief: White House Seeks to Limit ...</td>\n",
              "      <td>The Wall Street Journal Online&lt;/br&gt;&lt;/br&gt;The Mo...</td>\n",
              "      <td>the morning brief  white house seeks to limit ...</td>\n",
              "    </tr>\n",
              "    <tr>\n",
              "      <th>2</th>\n",
              "      <td>842613457</td>\n",
              "      <td>NaN</td>\n",
              "      <td>0</td>\n",
              "      <td>11/14/91</td>\n",
              "      <td>Banking Bill Negotiators Set Compromise --- Pl...</td>\n",
              "      <td>WASHINGTON -- In an effort to achieve banking ...</td>\n",
              "      <td>banking bill negotiators set compromise   plan...</td>\n",
              "    </tr>\n",
              "    <tr>\n",
              "      <th>3</th>\n",
              "      <td>842613458</td>\n",
              "      <td>NaN</td>\n",
              "      <td>0</td>\n",
              "      <td>6/16/86</td>\n",
              "      <td>Manager's Journal: Sniffing Out Drug Abusers I...</td>\n",
              "      <td>The statistics on the enormous costs of employ...</td>\n",
              "      <td>manager's journal  sniffing out drug abusers i...</td>\n",
              "    </tr>\n",
              "    <tr>\n",
              "      <th>4</th>\n",
              "      <td>842613459</td>\n",
              "      <td>3.0</td>\n",
              "      <td>1</td>\n",
              "      <td>10/4/02</td>\n",
              "      <td>Currency Trading: Dollar Remains in Tight Rang...</td>\n",
              "      <td>NEW YORK -- Indecision marked the dollar's ton...</td>\n",
              "      <td>currency trading  dollar remains in tight rang...</td>\n",
              "    </tr>\n",
              "  </tbody>\n",
              "</table>\n",
              "</div>"
            ],
            "text/plain": [
              "    _unit_id  ...                                              texts\n",
              "0  842613455  ...  yields on cds fell in the latest week new york...\n",
              "1  842613456  ...  the morning brief  white house seeks to limit ...\n",
              "2  842613457  ...  banking bill negotiators set compromise   plan...\n",
              "3  842613458  ...  manager's journal  sniffing out drug abusers i...\n",
              "4  842613459  ...  currency trading  dollar remains in tight rang...\n",
              "\n",
              "[5 rows x 7 columns]"
            ]
          },
          "metadata": {
            "tags": []
          },
          "execution_count": 17
        }
      ]
    },
    {
      "cell_type": "code",
      "metadata": {
        "id": "zlD3eP_7f975",
        "colab_type": "code",
        "outputId": "52c25ccb-6f6a-448f-f1b1-ae248e223fec",
        "colab": {
          "base_uri": "https://localhost:8080/",
          "height": 34
        }
      },
      "source": [
        "# This is to delete variables and release memory if needed\n",
        " del fasttext_embeddings, texts_glove_oov, texts_glove_vocab_coverage, texts_glove_text_coverage, texts_fasttext_oov, texts_fasttext_vocab_coverage, texts_fasttext_text_coverage\n",
        " gc.collect()"
      ],
      "execution_count": 0,
      "outputs": [
        {
          "output_type": "execute_result",
          "data": {
            "text/plain": [
              "11"
            ]
          },
          "metadata": {
            "tags": []
          },
          "execution_count": 18
        }
      ]
    },
    {
      "cell_type": "markdown",
      "metadata": {
        "id": "oTwDtlxK4AKr",
        "colab_type": "text"
      },
      "source": [
        "## Lemmatization and Stopwords removal"
      ]
    },
    {
      "cell_type": "code",
      "metadata": {
        "id": "1d9UGHMh3_Eg",
        "colab_type": "code",
        "outputId": "f50c5c2a-6b34-44d7-8159-083f98809aa8",
        "colab": {
          "base_uri": "https://localhost:8080/",
          "height": 34
        }
      },
      "source": [
        "def cleaning(doc):\n",
        "    # Lemmatizes and removes stopwords\n",
        "    txt = [token.lemma_ for token in doc if not token.is_stop]  \n",
        "    # if a sentence is only one or two words long,\n",
        "    # the benefit for the training is very small\n",
        "    if len(txt) > 2:\n",
        "        return ' '.join(txt)\n",
        "\n",
        "t = time()\n",
        "\n",
        "data['texts'] = [cleaning(doc) for doc in nlp.pipe(data['texts'], batch_size=5000, n_threads=-1)]\n",
        "\n",
        "print('Time to clean up everything: {} mins'.format(round((time() - t) / 60, 2)))"
      ],
      "execution_count": 0,
      "outputs": [
        {
          "output_type": "stream",
          "text": [
            "Time to clean up everything: 1.02 mins\n"
          ],
          "name": "stdout"
        }
      ]
    },
    {
      "cell_type": "code",
      "metadata": {
        "id": "MNPAR5s6YSoM",
        "colab_type": "code",
        "outputId": "71023100-a673-4cd4-b282-023fdcf42e04",
        "colab": {
          "base_uri": "https://localhost:8080/",
          "height": 51
        }
      },
      "source": [
        "# GloVe words and texts coverage check\n",
        "texts_glove_oov, texts_glove_vocab_coverage, texts_glove_text_coverage = check_embeddings_coverage(data['texts'], glove_embeddings)\n",
        "print('GloVe Embeddings cover {:.2%} of vocabulary and {:.2%} of text in texts'.format(texts_glove_vocab_coverage, texts_glove_text_coverage))\n",
        "\n",
        "# Fasttext words and texts coverage check\n",
        "texts_fasttext_oov, texts_fasttext_vocab_coverage, texts_fasttext_text_coverage = check_embeddings_coverage(data['texts'], fasttext_embeddings)\n",
        "print('Fasttext Embeddings cover {:.2%} of vocabulary and {:.2%} of text in texts'.format(texts_fasttext_vocab_coverage, texts_fasttext_text_coverage))"
      ],
      "execution_count": 0,
      "outputs": [
        {
          "output_type": "stream",
          "text": [
            "GloVe Embeddings cover 86.54% of vocabulary and 99.48% of text in texts\n",
            "Fasttext Embeddings cover 69.39% of vocabulary and 98.02% of text in texts\n"
          ],
          "name": "stdout"
        }
      ]
    },
    {
      "cell_type": "code",
      "metadata": {
        "id": "tnNOIQJUYcQH",
        "colab_type": "code",
        "outputId": "99392776-4ef8-4621-8d0e-e00fc21e4e9a",
        "colab": {
          "base_uri": "https://localhost:8080/",
          "height": 204
        }
      },
      "source": [
        "data.head(5)"
      ],
      "execution_count": 0,
      "outputs": [
        {
          "output_type": "execute_result",
          "data": {
            "text/html": [
              "<div>\n",
              "<style scoped>\n",
              "    .dataframe tbody tr th:only-of-type {\n",
              "        vertical-align: middle;\n",
              "    }\n",
              "\n",
              "    .dataframe tbody tr th {\n",
              "        vertical-align: top;\n",
              "    }\n",
              "\n",
              "    .dataframe thead th {\n",
              "        text-align: right;\n",
              "    }\n",
              "</style>\n",
              "<table border=\"1\" class=\"dataframe\">\n",
              "  <thead>\n",
              "    <tr style=\"text-align: right;\">\n",
              "      <th></th>\n",
              "      <th>_unit_id</th>\n",
              "      <th>positivity</th>\n",
              "      <th>relevance</th>\n",
              "      <th>date</th>\n",
              "      <th>headline</th>\n",
              "      <th>text</th>\n",
              "      <th>texts</th>\n",
              "    </tr>\n",
              "  </thead>\n",
              "  <tbody>\n",
              "    <tr>\n",
              "      <th>0</th>\n",
              "      <td>842613455</td>\n",
              "      <td>3.0</td>\n",
              "      <td>1</td>\n",
              "      <td>8/14/91</td>\n",
              "      <td>Yields on CDs Fell in the Latest Week</td>\n",
              "      <td>NEW YORK -- Yields on most certificates of dep...</td>\n",
              "      <td>yield cd fall late week new york    yield cert...</td>\n",
              "    </tr>\n",
              "    <tr>\n",
              "      <th>1</th>\n",
              "      <td>842613456</td>\n",
              "      <td>NaN</td>\n",
              "      <td>0</td>\n",
              "      <td>8/21/07</td>\n",
              "      <td>The Morning Brief: White House Seeks to Limit ...</td>\n",
              "      <td>The Wall Street Journal Online&lt;/br&gt;&lt;/br&gt;The Mo...</td>\n",
              "      <td>morning brief   white house seek limit child i...</td>\n",
              "    </tr>\n",
              "    <tr>\n",
              "      <th>2</th>\n",
              "      <td>842613457</td>\n",
              "      <td>NaN</td>\n",
              "      <td>0</td>\n",
              "      <td>11/14/91</td>\n",
              "      <td>Banking Bill Negotiators Set Compromise --- Pl...</td>\n",
              "      <td>WASHINGTON -- In an effort to achieve banking ...</td>\n",
              "      <td>banking bill negotiator set compromise    plan...</td>\n",
              "    </tr>\n",
              "    <tr>\n",
              "      <th>3</th>\n",
              "      <td>842613458</td>\n",
              "      <td>NaN</td>\n",
              "      <td>0</td>\n",
              "      <td>6/16/86</td>\n",
              "      <td>Manager's Journal: Sniffing Out Drug Abusers I...</td>\n",
              "      <td>The statistics on the enormous costs of employ...</td>\n",
              "      <td>manager journal   sniff drug abuser quick fix ...</td>\n",
              "    </tr>\n",
              "    <tr>\n",
              "      <th>4</th>\n",
              "      <td>842613459</td>\n",
              "      <td>3.0</td>\n",
              "      <td>1</td>\n",
              "      <td>10/4/02</td>\n",
              "      <td>Currency Trading: Dollar Remains in Tight Rang...</td>\n",
              "      <td>NEW YORK -- Indecision marked the dollar's ton...</td>\n",
              "      <td>currency trading   dollar remain tight range a...</td>\n",
              "    </tr>\n",
              "  </tbody>\n",
              "</table>\n",
              "</div>"
            ],
            "text/plain": [
              "    _unit_id  ...                                              texts\n",
              "0  842613455  ...  yield cd fall late week new york    yield cert...\n",
              "1  842613456  ...  morning brief   white house seek limit child i...\n",
              "2  842613457  ...  banking bill negotiator set compromise    plan...\n",
              "3  842613458  ...  manager journal   sniff drug abuser quick fix ...\n",
              "4  842613459  ...  currency trading   dollar remain tight range a...\n",
              "\n",
              "[5 rows x 7 columns]"
            ]
          },
          "metadata": {
            "tags": []
          },
          "execution_count": 48
        }
      ]
    },
    {
      "cell_type": "code",
      "metadata": {
        "id": "cuuDD3z-h-tn",
        "colab_type": "code",
        "outputId": "70dcc416-cb1a-429a-d6ba-c8cf0a013265",
        "colab": {
          "base_uri": "https://localhost:8080/",
          "height": 34
        }
      },
      "source": [
        "# This is to delete variables and release memory if needed\n",
        "del fasttext_embeddings, texts_glove_oov, texts_glove_vocab_coverage, texts_glove_text_coverage, texts_fasttext_oov, texts_fasttext_vocab_coverage, texts_fasttext_text_coverage\n",
        "gc.collect()"
      ],
      "execution_count": 0,
      "outputs": [
        {
          "output_type": "execute_result",
          "data": {
            "text/plain": [
              "0"
            ]
          },
          "metadata": {
            "tags": []
          },
          "execution_count": 49
        }
      ]
    },
    {
      "cell_type": "markdown",
      "metadata": {
        "id": "o_KM6U45YW10",
        "colab_type": "text"
      },
      "source": [
        "## Stemming"
      ]
    },
    {
      "cell_type": "code",
      "metadata": {
        "id": "RPzNZ5gaYoHJ",
        "colab_type": "code",
        "colab": {}
      },
      "source": [
        "#from nltk.stem import PorterStemmer\n",
        "#stemmer = PorterStemmer()"
      ],
      "execution_count": 0,
      "outputs": []
    },
    {
      "cell_type": "code",
      "metadata": {
        "id": "uZBhl3s3ZRjv",
        "colab_type": "code",
        "colab": {}
      },
      "source": [
        "#from nltk.stem import SnowballStemmer\n",
        "#stemmer = SnowballStemmer(language='english')"
      ],
      "execution_count": 0,
      "outputs": []
    },
    {
      "cell_type": "code",
      "metadata": {
        "id": "JM2aaB5La-Dp",
        "colab_type": "code",
        "colab": {}
      },
      "source": [
        "#data['texts1'] = [[stemmer.stem(x) for x in line.split()] for line in data['texts']]\n"
      ],
      "execution_count": 0,
      "outputs": []
    },
    {
      "cell_type": "code",
      "metadata": {
        "id": "lGVOeUt-i1wJ",
        "colab_type": "code",
        "outputId": "20bd723e-f29c-4c70-fa3f-a9dc787c1e8f",
        "colab": {
          "base_uri": "https://localhost:8080/",
          "height": 102
        }
      },
      "source": [
        "#d = data['texts1']\n",
        "#for i in range(len(d)):\n",
        "#  d[d.index[i]]= ' '.join(d[d.index[i]])\n",
        "#data['texts1'] = d"
      ],
      "execution_count": 0,
      "outputs": [
        {
          "output_type": "stream",
          "text": [
            "/usr/local/lib/python3.6/dist-packages/ipykernel_launcher.py:3: SettingWithCopyWarning: \n",
            "A value is trying to be set on a copy of a slice from a DataFrame\n",
            "\n",
            "See the caveats in the documentation: https://pandas.pydata.org/pandas-docs/stable/user_guide/indexing.html#returning-a-view-versus-a-copy\n",
            "  This is separate from the ipykernel package so we can avoid doing imports until\n"
          ],
          "name": "stderr"
        }
      ]
    },
    {
      "cell_type": "code",
      "metadata": {
        "id": "kqigXoTBb4hv",
        "colab_type": "code",
        "outputId": "1209b61e-980f-430a-bda1-b034caae4d41",
        "colab": {
          "base_uri": "https://localhost:8080/",
          "height": 51
        }
      },
      "source": [
        "# GloVe words and texts coverage check\n",
        "#texts_glove_oov, texts_glove_vocab_coverage, texts_glove_text_coverage = check_embeddings_coverage(data['texts1'], glove_embeddings)\n",
        "#print('GloVe Embeddings cover {:.2%} of vocabulary and {:.2%} of text in texts'.format(texts_glove_vocab_coverage, texts_glove_text_coverage))\n",
        "\n",
        "# Fasttext words and texts coverage check\n",
        "#texts_fasttext_oov, texts_fasttext_vocab_coverage, texts_fasttext_text_coverage = check_embeddings_coverage(data['texts1'], fasttext_embeddings)\n",
        "#print('Fasttext Embeddings cover {:.2%} of vocabulary and {:.2%} of text in texts'.format(texts_fasttext_vocab_coverage, texts_fasttext_text_coverage))"
      ],
      "execution_count": 0,
      "outputs": [
        {
          "output_type": "stream",
          "text": [
            "GloVe Embeddings cover 72.04% of vocabulary and 96.59% of text in texts\n",
            "Fasttext Embeddings cover 47.32% of vocabulary and 83.12% of text in texts\n"
          ],
          "name": "stdout"
        }
      ]
    },
    {
      "cell_type": "markdown",
      "metadata": {
        "id": "GpxMscttoQhp",
        "colab_type": "text"
      },
      "source": [
        "Either run before or after lemmatization, vocabulary coverage dropped to 70%, therefore, do not include stemming"
      ]
    },
    {
      "cell_type": "code",
      "metadata": {
        "id": "rAN_0xvVlT21",
        "colab_type": "code",
        "colab": {}
      },
      "source": [
        "data = data[['_unit_id', 'positivity', 'relevance', 'date', 'texts']]"
      ],
      "execution_count": 0,
      "outputs": []
    },
    {
      "cell_type": "markdown",
      "metadata": {
        "id": "C8dl9yqUhMow",
        "colab_type": "text"
      },
      "source": [
        "# Export Cleaned data"
      ]
    },
    {
      "cell_type": "code",
      "metadata": {
        "id": "wLBmJKq_hP_u",
        "colab_type": "code",
        "colab": {}
      },
      "source": [
        "from google.colab import files\n",
        "data.to_csv('/gdrive/My Drive/cleaned_data.csv') "
      ],
      "execution_count": 0,
      "outputs": []
    },
    {
      "cell_type": "code",
      "metadata": {
        "id": "sJ2ZfYH80r3t",
        "colab_type": "code",
        "colab": {}
      },
      "source": [
        "# import cleaned data\n",
        "data = pd.read_csv('/gdrive/My Drive/cleaned_data.csv')"
      ],
      "execution_count": 0,
      "outputs": []
    },
    {
      "cell_type": "code",
      "metadata": {
        "id": "5aoqEWVq01Yx",
        "colab_type": "code",
        "outputId": "e969ecc5-0f2a-4d08-dc1b-3a90d5e28757",
        "colab": {
          "base_uri": "https://localhost:8080/",
          "height": 204
        }
      },
      "source": [
        "data.head(5)"
      ],
      "execution_count": 0,
      "outputs": [
        {
          "output_type": "execute_result",
          "data": {
            "text/html": [
              "<div>\n",
              "<style scoped>\n",
              "    .dataframe tbody tr th:only-of-type {\n",
              "        vertical-align: middle;\n",
              "    }\n",
              "\n",
              "    .dataframe tbody tr th {\n",
              "        vertical-align: top;\n",
              "    }\n",
              "\n",
              "    .dataframe thead th {\n",
              "        text-align: right;\n",
              "    }\n",
              "</style>\n",
              "<table border=\"1\" class=\"dataframe\">\n",
              "  <thead>\n",
              "    <tr style=\"text-align: right;\">\n",
              "      <th></th>\n",
              "      <th>Unnamed: 0</th>\n",
              "      <th>_unit_id</th>\n",
              "      <th>positivity</th>\n",
              "      <th>relevance</th>\n",
              "      <th>date</th>\n",
              "      <th>texts</th>\n",
              "    </tr>\n",
              "  </thead>\n",
              "  <tbody>\n",
              "    <tr>\n",
              "      <th>0</th>\n",
              "      <td>0</td>\n",
              "      <td>842613455</td>\n",
              "      <td>3.0</td>\n",
              "      <td>1</td>\n",
              "      <td>8/14/91</td>\n",
              "      <td>yield cd fall late week new york    yield cert...</td>\n",
              "    </tr>\n",
              "    <tr>\n",
              "      <th>1</th>\n",
              "      <td>1</td>\n",
              "      <td>842613456</td>\n",
              "      <td>NaN</td>\n",
              "      <td>0</td>\n",
              "      <td>8/21/07</td>\n",
              "      <td>morning brief   white house seek limit child i...</td>\n",
              "    </tr>\n",
              "    <tr>\n",
              "      <th>2</th>\n",
              "      <td>2</td>\n",
              "      <td>842613457</td>\n",
              "      <td>NaN</td>\n",
              "      <td>0</td>\n",
              "      <td>11/14/91</td>\n",
              "      <td>banking bill negotiator set compromise    plan...</td>\n",
              "    </tr>\n",
              "    <tr>\n",
              "      <th>3</th>\n",
              "      <td>3</td>\n",
              "      <td>842613458</td>\n",
              "      <td>NaN</td>\n",
              "      <td>0</td>\n",
              "      <td>6/16/86</td>\n",
              "      <td>manager journal   sniff drug abuser quick fix ...</td>\n",
              "    </tr>\n",
              "    <tr>\n",
              "      <th>4</th>\n",
              "      <td>4</td>\n",
              "      <td>842613459</td>\n",
              "      <td>3.0</td>\n",
              "      <td>1</td>\n",
              "      <td>10/4/02</td>\n",
              "      <td>currency trading   dollar remain tight range a...</td>\n",
              "    </tr>\n",
              "  </tbody>\n",
              "</table>\n",
              "</div>"
            ],
            "text/plain": [
              "   Unnamed: 0  ...                                              texts\n",
              "0           0  ...  yield cd fall late week new york    yield cert...\n",
              "1           1  ...  morning brief   white house seek limit child i...\n",
              "2           2  ...  banking bill negotiator set compromise    plan...\n",
              "3           3  ...  manager journal   sniff drug abuser quick fix ...\n",
              "4           4  ...  currency trading   dollar remain tight range a...\n",
              "\n",
              "[5 rows x 6 columns]"
            ]
          },
          "metadata": {
            "tags": []
          },
          "execution_count": 5
        }
      ]
    },
    {
      "cell_type": "markdown",
      "metadata": {
        "id": "AieF0NgWyj28",
        "colab_type": "text"
      },
      "source": [
        "# Exploratory Data Analysis"
      ]
    },
    {
      "cell_type": "markdown",
      "metadata": {
        "id": "tk4nAMlxz9KI",
        "colab_type": "text"
      },
      "source": [
        "##Length and word counts of texts"
      ]
    },
    {
      "cell_type": "code",
      "metadata": {
        "id": "RYdWH6oJynKN",
        "colab_type": "code",
        "outputId": "5ecdcebb-618b-4c0d-867e-064f234eaba9",
        "colab": {
          "base_uri": "https://localhost:8080/",
          "height": 34
        }
      },
      "source": [
        "# length of headline and text for all news\n",
        "texts_len_r = data['texts'].str.len()\n",
        "# number of words in headline for irrelevant news\n",
        "texts_word_counts_r = data['texts'].str.split().str.len()\n",
        "\n",
        "print('Total texts has {} to {} characters, {} to {} words.'.format(texts_len_r.min(),\n",
        "                                                                    texts_len_r.max(),\n",
        "                                                                    texts_word_counts_r.min(),\n",
        "                                                                    texts_word_counts_r.max()))"
      ],
      "execution_count": 0,
      "outputs": [
        {
          "output_type": "stream",
          "text": [
            "Total texts has 83 to 3379 characters, 10 to 432 words.\n"
          ],
          "name": "stdout"
        }
      ]
    },
    {
      "cell_type": "code",
      "metadata": {
        "id": "2kZ6CuDi0CmT",
        "colab_type": "code",
        "outputId": "86030503-7e3f-4dca-a345-53bf8b8632f3",
        "colab": {
          "base_uri": "https://localhost:8080/",
          "height": 312
        }
      },
      "source": [
        "fig, axes = plt.subplots(1, 2, figsize=(12, 4))\n",
        "sns.distplot(texts_len_r, ax = axes[0], fit=stats.norm, norm_hist=True)\n",
        "axes[0].set_title('length of headline and text')\n",
        "\n",
        "sns.distplot(texts_word_counts_r, ax = axes[1], fit=stats.norm, norm_hist=True)\n",
        "axes[1].set_title('number of words in headline and text')"
      ],
      "execution_count": 0,
      "outputs": [
        {
          "output_type": "execute_result",
          "data": {
            "text/plain": [
              "Text(0.5, 1.0, 'number of words in headline and text')"
            ]
          },
          "metadata": {
            "tags": []
          },
          "execution_count": 66
        },
        {
          "output_type": "display_data",
          "data": {
            "image/png": "[encoded data removed]",
            "text/plain": [
              "<Figure size 864x288 with 2 Axes>"
            ]
          },
          "metadata": {
            "tags": []
          }
        }
      ]
    },
    {
      "cell_type": "markdown",
      "metadata": {
        "id": "Oi2FUW7O0HwP",
        "colab_type": "text"
      },
      "source": [
        "## Ngrams"
      ]
    },
    {
      "cell_type": "code",
      "metadata": {
        "id": "AfAaA3yx0HJ7",
        "colab_type": "code",
        "colab": {}
      },
      "source": [
        "def generate_ngrams(text, n_gram=1):\n",
        "    token = [token for token in text.lower().split(' ') if token != '']\n",
        "    ngrams = zip(*[token[i:] for i in range(n_gram)])\n",
        "    return [' '.join(ngram) for ngram in ngrams]\n",
        "\n",
        "N = 10\n",
        "\n",
        "#r = data # all data\n",
        "#r = data[data['relevance']==1] # for text classification, relevant news\n",
        "#r = data[data['relevance']==0] # for text classification, irrelevant news\n",
        "r = data[data['positivity']==9] # for sentiment analysis, positivity = 2-9\n",
        "\n",
        "# Unigrams\n",
        "texts_unigrams = defaultdict(int)\n",
        "\n",
        "for text in r['texts']:\n",
        "    for word in generate_ngrams(text):\n",
        "        texts_unigrams[word] += 1\n",
        "        \n",
        "texts_unigrams = pd.DataFrame(sorted(texts_unigrams.items(), key=lambda x: x[1])[::-1])\n",
        "\n",
        "# Bigrams\n",
        "texts_bigrams = defaultdict(int)\n",
        "\n",
        "for text in r['texts']:\n",
        "    for word in generate_ngrams(text, n_gram=2):\n",
        "        texts_bigrams[word] += 1\n",
        "        \n",
        "texts_bigrams = pd.DataFrame(sorted(texts_bigrams.items(), key=lambda x: x[1])[::-1])\n",
        "\n",
        "# Trigrams\n",
        "texts_trigrams = defaultdict(int)\n",
        "\n",
        "for text in r['texts']:\n",
        "    for word in generate_ngrams(text, n_gram=3):\n",
        "        texts_trigrams[word] += 1\n",
        "        \n",
        "texts_trigrams = pd.DataFrame(sorted(texts_trigrams.items(), key=lambda x: x[1])[::-1])"
      ],
      "execution_count": 0,
      "outputs": []
    },
    {
      "cell_type": "code",
      "metadata": {
        "id": "H08ygAhe0LjL",
        "colab_type": "code",
        "outputId": "9c2882c1-b268-4ac5-f053-da620cc90e17",
        "colab": {
          "base_uri": "https://localhost:8080/",
          "height": 342
        }
      },
      "source": [
        "# Plot Ngrams\n",
        "fig, axes = plt.subplots(ncols=3, figsize=(36, 8), dpi=50)\n",
        "\n",
        "sns.barplot(y=texts_unigrams[0].values[:N], x=texts_unigrams[1].values[:N], ax=axes[0], color='red')\n",
        "sns.barplot(y=texts_bigrams[0].values[:N], x=texts_bigrams[1].values[:N], ax=axes[1], color='green')\n",
        "sns.barplot(y=texts_trigrams[0].values[:N], x=texts_trigrams[1].values[:N], ax=axes[2], color='blue')\n",
        "\n",
        "for i in range(3):\n",
        "    axes[i].spines['right'].set_visible(False)\n",
        "    axes[i].set_xlabel('')\n",
        "    axes[i].set_ylabel('')\n",
        "    axes[i].tick_params(axis='x', labelsize=13)\n",
        "    axes[i].tick_params(axis='y', labelsize=13)"
      ],
      "execution_count": 0,
      "outputs": [
        {
          "output_type": "display_data",
          "data": {
            "image/png": "[encoded data removed]",
            "text/plain": [
              "<Figure size 1800x400 with 3 Axes>"
            ]
          },
          "metadata": {
            "tags": []
          }
        }
      ]
    }
  ]
}